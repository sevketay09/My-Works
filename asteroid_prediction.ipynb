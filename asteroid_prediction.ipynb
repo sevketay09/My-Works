{
  "nbformat": 4,
  "nbformat_minor": 0,
  "metadata": {
    "colab": {
      "name": "asteroid_prediction.ipynb",
      "provenance": [],
      "collapsed_sections": []
    },
    "kernelspec": {
      "name": "python3",
      "display_name": "Python 3"
    },
    "accelerator": "GPU"
  },
  "cells": [
    {
      "cell_type": "code",
      "metadata": {
        "id": "8JfzJK0M1mrW"
      },
      "source": [
        "!mkdir -p drive\n",
        "!google-drive-ocamlfuse drive"
      ],
      "execution_count": null,
      "outputs": []
    },
    {
      "cell_type": "code",
      "metadata": {
        "id": "p59eCFWd4CId"
      },
      "source": [
        "import sys\n",
        "sys.path.insert(0,'drive/Colab')"
      ],
      "execution_count": null,
      "outputs": []
    },
    {
      "cell_type": "code",
      "metadata": {
        "id": "6rt2oZA-4HMF"
      },
      "source": [
        "from google.colab import files"
      ],
      "execution_count": null,
      "outputs": []
    },
    {
      "cell_type": "code",
      "metadata": {
        "id": "Mgp1D6ZWSV9h",
        "outputId": "ae97d034-48a2-4f03-9168-ad8f7dfebf38",
        "colab": {
          "resources": {
            "http://localhost:8080/nbextensions/google.colab/files.js": {
              "data": "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",
              "ok": true,
              "headers": [
                [
                  "content-type",
                  "application/javascript"
                ]
              ],
              "status": 200,
              "status_text": ""
            }
          },
          "base_uri": "https://localhost:8080/",
          "height": 74
        }
      },
      "source": [
        "uploaded = files.upload()"
      ],
      "execution_count": null,
      "outputs": [
        {
          "output_type": "display_data",
          "data": {
            "text/html": [
              "\n",
              "     <input type=\"file\" id=\"files-f0e69a4c-6627-4fb0-a646-6aad18c2260a\" name=\"files[]\" multiple disabled />\n",
              "     <output id=\"result-f0e69a4c-6627-4fb0-a646-6aad18c2260a\">\n",
              "      Upload widget is only available when the cell has been executed in the\n",
              "      current browser session. Please rerun this cell to enable.\n",
              "      </output>\n",
              "      <script src=\"/nbextensions/google.colab/files.js\"></script> "
            ],
            "text/plain": [
              "<IPython.core.display.HTML object>"
            ]
          },
          "metadata": {
            "tags": []
          }
        },
        {
          "output_type": "stream",
          "text": [
            "Saving Asteroid.csv to Asteroid.csv\n"
          ],
          "name": "stdout"
        }
      ]
    },
    {
      "cell_type": "code",
      "metadata": {
        "id": "9yrrvwnofGlZ",
        "outputId": "963ba3a8-b2f5-4de4-97e8-9cc9db35686a",
        "colab": {
          "base_uri": "https://localhost:8080/",
          "height": 34
        }
      },
      "source": [
        "for fn in uploaded.keys():\n",
        "  print('User uploaded file \"{name}\" with length {length} bytes'.format(\n",
        "      name=fn, length=len(uploaded[fn])))"
      ],
      "execution_count": null,
      "outputs": [
        {
          "output_type": "stream",
          "text": [
            "User uploaded file \"Asteroid.csv\" with length 170117548 bytes\n"
          ],
          "name": "stdout"
        }
      ]
    },
    {
      "cell_type": "markdown",
      "metadata": {
        "id": "WdiHunnqLG37"
      },
      "source": [
        "# ***Amaç:*** Bir asteroitin çapını, o asteroit hakkında verilen diğer verilerden elde etmek, bir başka deyişle, hedef log (çap) ile regresyonun denetlenmesi."
      ]
    },
    {
      "cell_type": "markdown",
      "metadata": {
        "id": "u80PhEVRLNs8"
      },
      "source": [
        "**Test sırasında kullanılan ölçüm R2 puanı olacaktır.(metrik)**"
      ]
    },
    {
      "cell_type": "markdown",
      "metadata": {
        "id": "GoTD5VfQLqnq"
      },
      "source": [
        "# **Adım 1:** Verileri temizleme ve hazırlama\n",
        "\n",
        "a. Nan çapı olan örnekleri temizledim.\n",
        "\n",
        "b. Özellikleri yarıdan fazla nan değeri ile düşürdüm.\n",
        "\n",
        "c. Dataframe'in bir çok nan değeri vardı, bunları karşılık gelen özelliğin ortalama değeri ile değiştirmeyi seçtim.\n",
        "\n",
        "# **Adım 2:** Verilerin tren testi ile bölünmesi ve test veri çerçevesi kullanılarak normalleştirilmesi (standart).\n",
        "\n",
        "# **Adım 3:** Farklı regresyon algoritmalarını denemek (Doğrusal Regresyon, Elastik Ağ, Karar Ağacı, Rastgele Orman, XGBoost, SVM, Yapay Sinir Ağı) ve en iyisini seçmek.\n"
      ]
    },
    {
      "cell_type": "markdown",
      "metadata": {
        "id": "vW_B-O_kLW0C"
      },
      "source": [
        "\n",
        "\n",
        "# **Modüller:** numpy, pandalar, matplotlib, seaborn, scikit-learn, xgboost, keras."
      ]
    },
    {
      "cell_type": "markdown",
      "metadata": {
        "id": "h1GCyaQHNa4i"
      },
      "source": [
        "# **I.Bölüm:** Verilerin ithal edilmesi, keşfedilmesi ve temizlenmesi"
      ]
    },
    {
      "cell_type": "code",
      "metadata": {
        "id": "mis_OFpsJ7bj",
        "outputId": "47ea2af7-92cf-42fd-e9ad-1674f91617c7",
        "colab": {
          "base_uri": "https://localhost:8080/",
          "height": 255
        }
      },
      "source": [
        "import io\n",
        "import pandas as pd\n",
        "import numpy as np\n",
        "import matplotlib.pyplot as plt\n",
        "from random import seed \n",
        "seed(42)\n",
        "df = pd.read_csv('Asteroid.csv',nrows=30000)\n",
        "print(df)"
      ],
      "execution_count": null,
      "outputs": [
        {
          "output_type": "stream",
          "text": [
            "                           full_name         a         e  ...  neo  pha      moid\n",
            "0                            1 Ceres  2.769165  0.076009  ...    N    N  1.594780\n",
            "1                           2 Pallas  2.772466  0.230337  ...    N    N  1.233240\n",
            "2                             3 Juno  2.669150  0.256942  ...    N    N  1.034540\n",
            "3                            4 Vesta  2.361418  0.088721  ...    N    N  1.139480\n",
            "4                          5 Astraea  2.574249  0.191095  ...    N    N  1.095890\n",
            "...                              ...       ...       ...  ...  ...  ...       ...\n",
            "29995              29996 (2000 AQ97)  1.921198  0.053971  ...    N    N  0.869993\n",
            "29996             29997 (2000 AE127)  2.334437  0.227032  ...    N    N  0.812942\n",
            "29997             29998 (2000 AG137)  2.138893  0.117819  ...    N    N  0.874022\n",
            "29998             29999 (2000 AT137)  2.637737  0.139574  ...    N    N  1.283730\n",
            "29999   30000 Camenzind (2000 AB138)  2.267328  0.079972  ...    N    N  1.080930\n",
            "\n",
            "[30000 rows x 27 columns]\n"
          ],
          "name": "stdout"
        }
      ]
    },
    {
      "cell_type": "code",
      "metadata": {
        "id": "yp6072eANost",
        "outputId": "debabf04-aa87-47e1-fe5e-9188d43c1ed5",
        "colab": {
          "base_uri": "https://localhost:8080/",
          "height": 258
        }
      },
      "source": [
        "df.head()"
      ],
      "execution_count": null,
      "outputs": [
        {
          "output_type": "execute_result",
          "data": {
            "text/html": [
              "<div>\n",
              "<style scoped>\n",
              "    .dataframe tbody tr th:only-of-type {\n",
              "        vertical-align: middle;\n",
              "    }\n",
              "\n",
              "    .dataframe tbody tr th {\n",
              "        vertical-align: top;\n",
              "    }\n",
              "\n",
              "    .dataframe thead th {\n",
              "        text-align: right;\n",
              "    }\n",
              "</style>\n",
              "<table border=\"1\" class=\"dataframe\">\n",
              "  <thead>\n",
              "    <tr style=\"text-align: right;\">\n",
              "      <th></th>\n",
              "      <th>full_name</th>\n",
              "      <th>a</th>\n",
              "      <th>e</th>\n",
              "      <th>G</th>\n",
              "      <th>i</th>\n",
              "      <th>om</th>\n",
              "      <th>w</th>\n",
              "      <th>q</th>\n",
              "      <th>ad</th>\n",
              "      <th>per_y</th>\n",
              "      <th>data_arc</th>\n",
              "      <th>condition_code</th>\n",
              "      <th>n_obs_used</th>\n",
              "      <th>H</th>\n",
              "      <th>diameter</th>\n",
              "      <th>extent</th>\n",
              "      <th>albedo</th>\n",
              "      <th>rot_per</th>\n",
              "      <th>GM</th>\n",
              "      <th>BV</th>\n",
              "      <th>UB</th>\n",
              "      <th>IR</th>\n",
              "      <th>spec_B</th>\n",
              "      <th>spec_T</th>\n",
              "      <th>neo</th>\n",
              "      <th>pha</th>\n",
              "      <th>moid</th>\n",
              "    </tr>\n",
              "  </thead>\n",
              "  <tbody>\n",
              "    <tr>\n",
              "      <th>0</th>\n",
              "      <td>1 Ceres</td>\n",
              "      <td>2.769165</td>\n",
              "      <td>0.076009</td>\n",
              "      <td>0.12</td>\n",
              "      <td>10.594067</td>\n",
              "      <td>80.305532</td>\n",
              "      <td>73.597694</td>\n",
              "      <td>2.558684</td>\n",
              "      <td>2.979647</td>\n",
              "      <td>4.608202</td>\n",
              "      <td>8822</td>\n",
              "      <td>0</td>\n",
              "      <td>1002</td>\n",
              "      <td>3.34</td>\n",
              "      <td>939.4</td>\n",
              "      <td>964.4 x 964.2 x 891.8</td>\n",
              "      <td>0.0900</td>\n",
              "      <td>9.074170</td>\n",
              "      <td>62.6284</td>\n",
              "      <td>0.713</td>\n",
              "      <td>0.426</td>\n",
              "      <td>NaN</td>\n",
              "      <td>C</td>\n",
              "      <td>G</td>\n",
              "      <td>N</td>\n",
              "      <td>N</td>\n",
              "      <td>1.59478</td>\n",
              "    </tr>\n",
              "    <tr>\n",
              "      <th>1</th>\n",
              "      <td>2 Pallas</td>\n",
              "      <td>2.772466</td>\n",
              "      <td>0.230337</td>\n",
              "      <td>0.11</td>\n",
              "      <td>34.836234</td>\n",
              "      <td>173.080063</td>\n",
              "      <td>310.048857</td>\n",
              "      <td>2.133865</td>\n",
              "      <td>3.411067</td>\n",
              "      <td>4.616444</td>\n",
              "      <td>72318</td>\n",
              "      <td>0</td>\n",
              "      <td>8490</td>\n",
              "      <td>4.13</td>\n",
              "      <td>545</td>\n",
              "      <td>582x556x500</td>\n",
              "      <td>0.1010</td>\n",
              "      <td>7.813200</td>\n",
              "      <td>14.3000</td>\n",
              "      <td>0.635</td>\n",
              "      <td>0.284</td>\n",
              "      <td>NaN</td>\n",
              "      <td>B</td>\n",
              "      <td>B</td>\n",
              "      <td>N</td>\n",
              "      <td>N</td>\n",
              "      <td>1.23324</td>\n",
              "    </tr>\n",
              "    <tr>\n",
              "      <th>2</th>\n",
              "      <td>3 Juno</td>\n",
              "      <td>2.669150</td>\n",
              "      <td>0.256942</td>\n",
              "      <td>0.32</td>\n",
              "      <td>12.988919</td>\n",
              "      <td>169.852760</td>\n",
              "      <td>248.138626</td>\n",
              "      <td>1.983332</td>\n",
              "      <td>3.354967</td>\n",
              "      <td>4.360814</td>\n",
              "      <td>72684</td>\n",
              "      <td>0</td>\n",
              "      <td>7104</td>\n",
              "      <td>5.33</td>\n",
              "      <td>246.596</td>\n",
              "      <td>NaN</td>\n",
              "      <td>0.2140</td>\n",
              "      <td>7.210000</td>\n",
              "      <td>NaN</td>\n",
              "      <td>0.824</td>\n",
              "      <td>0.433</td>\n",
              "      <td>NaN</td>\n",
              "      <td>Sk</td>\n",
              "      <td>S</td>\n",
              "      <td>N</td>\n",
              "      <td>N</td>\n",
              "      <td>1.03454</td>\n",
              "    </tr>\n",
              "    <tr>\n",
              "      <th>3</th>\n",
              "      <td>4 Vesta</td>\n",
              "      <td>2.361418</td>\n",
              "      <td>0.088721</td>\n",
              "      <td>0.32</td>\n",
              "      <td>7.141771</td>\n",
              "      <td>103.810804</td>\n",
              "      <td>150.728541</td>\n",
              "      <td>2.151909</td>\n",
              "      <td>2.570926</td>\n",
              "      <td>3.628837</td>\n",
              "      <td>24288</td>\n",
              "      <td>0</td>\n",
              "      <td>9325</td>\n",
              "      <td>3.20</td>\n",
              "      <td>525.4</td>\n",
              "      <td>572.6 x 557.2 x 446.4</td>\n",
              "      <td>0.4228</td>\n",
              "      <td>5.342128</td>\n",
              "      <td>17.8000</td>\n",
              "      <td>0.782</td>\n",
              "      <td>0.492</td>\n",
              "      <td>NaN</td>\n",
              "      <td>V</td>\n",
              "      <td>V</td>\n",
              "      <td>N</td>\n",
              "      <td>N</td>\n",
              "      <td>1.13948</td>\n",
              "    </tr>\n",
              "    <tr>\n",
              "      <th>4</th>\n",
              "      <td>5 Astraea</td>\n",
              "      <td>2.574249</td>\n",
              "      <td>0.191095</td>\n",
              "      <td>NaN</td>\n",
              "      <td>5.366988</td>\n",
              "      <td>141.576604</td>\n",
              "      <td>358.687608</td>\n",
              "      <td>2.082324</td>\n",
              "      <td>3.066174</td>\n",
              "      <td>4.130323</td>\n",
              "      <td>63431</td>\n",
              "      <td>0</td>\n",
              "      <td>2861</td>\n",
              "      <td>6.85</td>\n",
              "      <td>106.699</td>\n",
              "      <td>NaN</td>\n",
              "      <td>0.2740</td>\n",
              "      <td>16.806000</td>\n",
              "      <td>NaN</td>\n",
              "      <td>0.826</td>\n",
              "      <td>0.411</td>\n",
              "      <td>NaN</td>\n",
              "      <td>S</td>\n",
              "      <td>S</td>\n",
              "      <td>N</td>\n",
              "      <td>N</td>\n",
              "      <td>1.09589</td>\n",
              "    </tr>\n",
              "  </tbody>\n",
              "</table>\n",
              "</div>"
            ],
            "text/plain": [
              "        full_name         a         e     G  ...  spec_T  neo  pha     moid\n",
              "0         1 Ceres  2.769165  0.076009  0.12  ...       G    N    N  1.59478\n",
              "1        2 Pallas  2.772466  0.230337  0.11  ...       B    N    N  1.23324\n",
              "2          3 Juno  2.669150  0.256942  0.32  ...       S    N    N  1.03454\n",
              "3         4 Vesta  2.361418  0.088721  0.32  ...       V    N    N  1.13948\n",
              "4       5 Astraea  2.574249  0.191095   NaN  ...       S    N    N  1.09589\n",
              "\n",
              "[5 rows x 27 columns]"
            ]
          },
          "metadata": {
            "tags": []
          },
          "execution_count": 8
        }
      ]
    },
    {
      "cell_type": "markdown",
      "metadata": {
        "id": "Wq6NmtqgN2Jh"
      },
      "source": [
        "**NaN değerleri kontrolü**"
      ]
    },
    {
      "cell_type": "code",
      "metadata": {
        "id": "1GWqBtrQNsgl",
        "outputId": "2d6110f2-d1c1-497b-ddee-a1d20147f0af",
        "colab": {
          "base_uri": "https://localhost:8080/",
          "height": 476
        }
      },
      "source": [
        "for column in df.columns:\n",
        "    print(column, df[column].isna().sum()/df.shape[0]) #NAN değerlerinin kesirini döndürür."
      ],
      "execution_count": null,
      "outputs": [
        {
          "output_type": "stream",
          "text": [
            "full_name 0.0\n",
            "a 0.0\n",
            "e 0.0\n",
            "G 0.9961666666666666\n",
            "i 0.0\n",
            "om 0.0\n",
            "w 0.0\n",
            "q 0.0\n",
            "ad 0.0\n",
            "per_y 0.0\n",
            "data_arc 0.0\n",
            "condition_code 0.0\n",
            "n_obs_used 0.0\n",
            "H 0.0\n",
            "diameter 0.2462\n",
            "extent 0.9995\n",
            "albedo 0.2468\n",
            "rot_per 0.7246333333333334\n",
            "GM 0.9996\n",
            "BV 0.9660666666666666\n",
            "UB 0.9674666666666667\n",
            "IR 1.0\n",
            "spec_B 0.9515333333333333\n",
            "spec_T 0.9674666666666667\n",
            "neo 0.0\n",
            "pha 0.0\n",
            "moid 0.0\n"
          ],
          "name": "stdout"
        }
      ]
    },
    {
      "cell_type": "markdown",
      "metadata": {
        "id": "KeumHqe8OH_k"
      },
      "source": [
        "**Bir sonraki şey, ne tür verilerle uğraştığımızı anlamak.**"
      ]
    },
    {
      "cell_type": "code",
      "metadata": {
        "id": "SQyZhYx8ODJ9",
        "outputId": "e4e1290d-ced0-4e44-9db1-45359cf465bd",
        "colab": {
          "base_uri": "https://localhost:8080/",
          "height": 510
        }
      },
      "source": [
        "for column in df.columns:\n",
        "    print(column, df[column].unique()[:5])"
      ],
      "execution_count": null,
      "outputs": [
        {
          "output_type": "stream",
          "text": [
            "full_name ['     1 Ceres' '     2 Pallas' '     3 Juno' '     4 Vesta'\n",
            " '     5 Astraea']\n",
            "a [2.76916515 2.77246592 2.66914952 2.3614179  2.57424892]\n",
            "e [0.07600903 0.23033682 0.25694232 0.08872146 0.19109452]\n",
            "G [0.12 0.11 0.32  nan 0.24]\n",
            "i [10.59406704 34.83623442 12.98891913  7.14177081  5.36698794]\n",
            "om [ 80.30553157 173.08006275 169.85275981 103.81080443 141.57660421]\n",
            "w [ 73.59769412 310.04885743 248.13862618 150.72854129 358.68760779]\n",
            "q [2.5586836  2.13386493 1.98333205 2.15190945 2.08232406]\n",
            "ad [2.97964671 3.41106691 3.35496699 2.57092634 3.06617378]\n",
            "per_y [4.6082018  4.61644353 4.36081392 3.62883714 4.13032295]\n",
            "data_arc [ 8822 72318 72684 24288 63431]\n",
            "condition_code [0 2 1 4 3]\n",
            "n_obs_used [1002 8490 7104 9325 2861]\n",
            "H [3.34 4.13 5.33 3.2  6.85]\n",
            "diameter ['939.4' '545' '246.596' '525.4' '106.699']\n",
            "extent ['964.4 x 964.2 x 891.8' '582x556x500' nan '572.6 x 557.2 x 446.4'\n",
            " '279 x 232 x 189']\n",
            "albedo [0.09   0.101  0.214  0.4228 0.274 ]\n",
            "rot_per [ 9.07417     7.8132      7.21        5.34212766 16.806     ]\n",
            "GM [62.6284 14.3        nan 17.8     7.    ]\n",
            "BV [0.713 0.635 0.824 0.782 0.826]\n",
            "UB [0.426 0.284 0.433 0.492 0.411]\n",
            "IR [nan]\n",
            "spec_B ['C' 'B' 'Sk' 'V' 'S']\n",
            "spec_T ['G' 'B' 'S' 'V' 'C']\n",
            "neo ['N' 'Y']\n",
            "pha ['N' 'Y']\n",
            "moid [1.59478 1.23324 1.03454 1.13948 1.09589]\n"
          ],
          "name": "stdout"
        }
      ]
    },
    {
      "cell_type": "markdown",
      "metadata": {
        "id": "WaSQe1tiO1uY"
      },
      "source": [
        "### * 'çap' özelliğini string türünde sayısal veriye dönüştüreceğim. Bu bazı çaplar için hatalar verdi, çünkü bunlar bozuktu, bu yüzden bozuk çapları nan olarak ayarlamak için \"errors = 'coerce'\" argümanını ekledim. \n",
        "\n",
        "* İşe yaramayacağını düşündüğüm özellikleri drop ediyorum. Mesela Astroid isimleri gibi.\n",
        "\n",
        "\n"
      ]
    },
    {
      "cell_type": "code",
      "metadata": {
        "id": "6ec1tNMvhJol"
      },
      "source": [
        "df['diameter']=pd.to_numeric(df['diameter'],errors='coerce') #sayısala dönüştürme, hataları NaN olarak ayarlama\n",
        "dropindexes = df['diameter'][df['diameter'].isnull()].index #Çap özelliğinde değeri NaN olanları drop ediyorum\n",
        "dropped_df = df.loc[dropindexes] #drop ettiğim satırları ileride kullanma ihtimalime karşı kaydediyorum.\n",
        "df = df.drop(dropindexes, axis=0) # Verimin son hali\n"
      ],
      "execution_count": null,
      "outputs": []
    },
    {
      "cell_type": "code",
      "metadata": {
        "id": "ae-qe36xhOzN"
      },
      "source": [
        "fazlaNa = df.columns[df.isna().sum()/df.shape[0] > 0.5]\n",
        "df = df.drop(fazlaNa,axis=1)\n",
        "df = df.drop(['condition_code','full_name'],axis=1)\n",
        "df = df.drop(['neo','pha'],axis=1) #Gereksiz özellikleri drop ediyorum."
      ],
      "execution_count": null,
      "outputs": []
    },
    {
      "cell_type": "code",
      "metadata": {
        "id": "Tv2zYLH5hU48",
        "outputId": "332299e5-ca3d-4ddc-c741-7bc65acdd600",
        "colab": {
          "base_uri": "https://localhost:8080/",
          "height": 204
        }
      },
      "source": [
        "\n",
        "df.head()"
      ],
      "execution_count": null,
      "outputs": [
        {
          "output_type": "execute_result",
          "data": {
            "text/html": [
              "<div>\n",
              "<style scoped>\n",
              "    .dataframe tbody tr th:only-of-type {\n",
              "        vertical-align: middle;\n",
              "    }\n",
              "\n",
              "    .dataframe tbody tr th {\n",
              "        vertical-align: top;\n",
              "    }\n",
              "\n",
              "    .dataframe thead th {\n",
              "        text-align: right;\n",
              "    }\n",
              "</style>\n",
              "<table border=\"1\" class=\"dataframe\">\n",
              "  <thead>\n",
              "    <tr style=\"text-align: right;\">\n",
              "      <th></th>\n",
              "      <th>a</th>\n",
              "      <th>e</th>\n",
              "      <th>i</th>\n",
              "      <th>om</th>\n",
              "      <th>w</th>\n",
              "      <th>q</th>\n",
              "      <th>ad</th>\n",
              "      <th>per_y</th>\n",
              "      <th>data_arc</th>\n",
              "      <th>n_obs_used</th>\n",
              "      <th>H</th>\n",
              "      <th>diameter</th>\n",
              "      <th>albedo</th>\n",
              "      <th>moid</th>\n",
              "    </tr>\n",
              "  </thead>\n",
              "  <tbody>\n",
              "    <tr>\n",
              "      <th>0</th>\n",
              "      <td>2.769165</td>\n",
              "      <td>0.076009</td>\n",
              "      <td>10.594067</td>\n",
              "      <td>80.305532</td>\n",
              "      <td>73.597694</td>\n",
              "      <td>2.558684</td>\n",
              "      <td>2.979647</td>\n",
              "      <td>4.608202</td>\n",
              "      <td>8822</td>\n",
              "      <td>1002</td>\n",
              "      <td>3.34</td>\n",
              "      <td>939.400</td>\n",
              "      <td>0.0900</td>\n",
              "      <td>1.59478</td>\n",
              "    </tr>\n",
              "    <tr>\n",
              "      <th>1</th>\n",
              "      <td>2.772466</td>\n",
              "      <td>0.230337</td>\n",
              "      <td>34.836234</td>\n",
              "      <td>173.080063</td>\n",
              "      <td>310.048857</td>\n",
              "      <td>2.133865</td>\n",
              "      <td>3.411067</td>\n",
              "      <td>4.616444</td>\n",
              "      <td>72318</td>\n",
              "      <td>8490</td>\n",
              "      <td>4.13</td>\n",
              "      <td>545.000</td>\n",
              "      <td>0.1010</td>\n",
              "      <td>1.23324</td>\n",
              "    </tr>\n",
              "    <tr>\n",
              "      <th>2</th>\n",
              "      <td>2.669150</td>\n",
              "      <td>0.256942</td>\n",
              "      <td>12.988919</td>\n",
              "      <td>169.852760</td>\n",
              "      <td>248.138626</td>\n",
              "      <td>1.983332</td>\n",
              "      <td>3.354967</td>\n",
              "      <td>4.360814</td>\n",
              "      <td>72684</td>\n",
              "      <td>7104</td>\n",
              "      <td>5.33</td>\n",
              "      <td>246.596</td>\n",
              "      <td>0.2140</td>\n",
              "      <td>1.03454</td>\n",
              "    </tr>\n",
              "    <tr>\n",
              "      <th>3</th>\n",
              "      <td>2.361418</td>\n",
              "      <td>0.088721</td>\n",
              "      <td>7.141771</td>\n",
              "      <td>103.810804</td>\n",
              "      <td>150.728541</td>\n",
              "      <td>2.151909</td>\n",
              "      <td>2.570926</td>\n",
              "      <td>3.628837</td>\n",
              "      <td>24288</td>\n",
              "      <td>9325</td>\n",
              "      <td>3.20</td>\n",
              "      <td>525.400</td>\n",
              "      <td>0.4228</td>\n",
              "      <td>1.13948</td>\n",
              "    </tr>\n",
              "    <tr>\n",
              "      <th>4</th>\n",
              "      <td>2.574249</td>\n",
              "      <td>0.191095</td>\n",
              "      <td>5.366988</td>\n",
              "      <td>141.576604</td>\n",
              "      <td>358.687608</td>\n",
              "      <td>2.082324</td>\n",
              "      <td>3.066174</td>\n",
              "      <td>4.130323</td>\n",
              "      <td>63431</td>\n",
              "      <td>2861</td>\n",
              "      <td>6.85</td>\n",
              "      <td>106.699</td>\n",
              "      <td>0.2740</td>\n",
              "      <td>1.09589</td>\n",
              "    </tr>\n",
              "  </tbody>\n",
              "</table>\n",
              "</div>"
            ],
            "text/plain": [
              "          a         e          i          om  ...     H  diameter  albedo     moid\n",
              "0  2.769165  0.076009  10.594067   80.305532  ...  3.34   939.400  0.0900  1.59478\n",
              "1  2.772466  0.230337  34.836234  173.080063  ...  4.13   545.000  0.1010  1.23324\n",
              "2  2.669150  0.256942  12.988919  169.852760  ...  5.33   246.596  0.2140  1.03454\n",
              "3  2.361418  0.088721   7.141771  103.810804  ...  3.20   525.400  0.4228  1.13948\n",
              "4  2.574249  0.191095   5.366988  141.576604  ...  6.85   106.699  0.2740  1.09589\n",
              "\n",
              "[5 rows x 14 columns]"
            ]
          },
          "metadata": {
            "tags": []
          },
          "execution_count": 13
        }
      ]
    },
    {
      "cell_type": "code",
      "metadata": {
        "id": "-0d1vWbjjES6"
      },
      "source": [
        "df = df.fillna(df.mean()) #eksikliklik olan sütunları ,değerlerin ortalaması ile doldurdum.\n"
      ],
      "execution_count": null,
      "outputs": []
    },
    {
      "cell_type": "markdown",
      "metadata": {
        "id": "RdrHeR6okrEW"
      },
      "source": [
        "#df.mean #\n",
        "Metot panda serisi bir nesneye uygulanırsa, metot dataframe'deki tüm gözlemlerin ortalama değeri olan bir skaler değeri döndürür. Yöntem bir pandaların veri çerçevesi nesnesine uygulanırsa, yöntem belirtilen eksen üzerindeki değerlerin ortalamasını içeren bir panda serisi nesnesini döndürür."
      ]
    },
    {
      "cell_type": "code",
      "metadata": {
        "id": "9I2wdcV4jHzb",
        "outputId": "4aaccd09-1c92-4d89-9bfd-70caa2fa5f6d",
        "colab": {
          "base_uri": "https://localhost:8080/",
          "height": 204
        }
      },
      "source": [
        "df.head()"
      ],
      "execution_count": null,
      "outputs": [
        {
          "output_type": "execute_result",
          "data": {
            "text/html": [
              "<div>\n",
              "<style scoped>\n",
              "    .dataframe tbody tr th:only-of-type {\n",
              "        vertical-align: middle;\n",
              "    }\n",
              "\n",
              "    .dataframe tbody tr th {\n",
              "        vertical-align: top;\n",
              "    }\n",
              "\n",
              "    .dataframe thead th {\n",
              "        text-align: right;\n",
              "    }\n",
              "</style>\n",
              "<table border=\"1\" class=\"dataframe\">\n",
              "  <thead>\n",
              "    <tr style=\"text-align: right;\">\n",
              "      <th></th>\n",
              "      <th>a</th>\n",
              "      <th>e</th>\n",
              "      <th>i</th>\n",
              "      <th>om</th>\n",
              "      <th>w</th>\n",
              "      <th>q</th>\n",
              "      <th>ad</th>\n",
              "      <th>per_y</th>\n",
              "      <th>data_arc</th>\n",
              "      <th>n_obs_used</th>\n",
              "      <th>H</th>\n",
              "      <th>diameter</th>\n",
              "      <th>albedo</th>\n",
              "      <th>moid</th>\n",
              "    </tr>\n",
              "  </thead>\n",
              "  <tbody>\n",
              "    <tr>\n",
              "      <th>0</th>\n",
              "      <td>2.769165</td>\n",
              "      <td>0.076009</td>\n",
              "      <td>10.594067</td>\n",
              "      <td>80.305532</td>\n",
              "      <td>73.597694</td>\n",
              "      <td>2.558684</td>\n",
              "      <td>2.979647</td>\n",
              "      <td>4.608202</td>\n",
              "      <td>8822</td>\n",
              "      <td>1002</td>\n",
              "      <td>3.34</td>\n",
              "      <td>939.400</td>\n",
              "      <td>0.0900</td>\n",
              "      <td>1.59478</td>\n",
              "    </tr>\n",
              "    <tr>\n",
              "      <th>1</th>\n",
              "      <td>2.772466</td>\n",
              "      <td>0.230337</td>\n",
              "      <td>34.836234</td>\n",
              "      <td>173.080063</td>\n",
              "      <td>310.048857</td>\n",
              "      <td>2.133865</td>\n",
              "      <td>3.411067</td>\n",
              "      <td>4.616444</td>\n",
              "      <td>72318</td>\n",
              "      <td>8490</td>\n",
              "      <td>4.13</td>\n",
              "      <td>545.000</td>\n",
              "      <td>0.1010</td>\n",
              "      <td>1.23324</td>\n",
              "    </tr>\n",
              "    <tr>\n",
              "      <th>2</th>\n",
              "      <td>2.669150</td>\n",
              "      <td>0.256942</td>\n",
              "      <td>12.988919</td>\n",
              "      <td>169.852760</td>\n",
              "      <td>248.138626</td>\n",
              "      <td>1.983332</td>\n",
              "      <td>3.354967</td>\n",
              "      <td>4.360814</td>\n",
              "      <td>72684</td>\n",
              "      <td>7104</td>\n",
              "      <td>5.33</td>\n",
              "      <td>246.596</td>\n",
              "      <td>0.2140</td>\n",
              "      <td>1.03454</td>\n",
              "    </tr>\n",
              "    <tr>\n",
              "      <th>3</th>\n",
              "      <td>2.361418</td>\n",
              "      <td>0.088721</td>\n",
              "      <td>7.141771</td>\n",
              "      <td>103.810804</td>\n",
              "      <td>150.728541</td>\n",
              "      <td>2.151909</td>\n",
              "      <td>2.570926</td>\n",
              "      <td>3.628837</td>\n",
              "      <td>24288</td>\n",
              "      <td>9325</td>\n",
              "      <td>3.20</td>\n",
              "      <td>525.400</td>\n",
              "      <td>0.4228</td>\n",
              "      <td>1.13948</td>\n",
              "    </tr>\n",
              "    <tr>\n",
              "      <th>4</th>\n",
              "      <td>2.574249</td>\n",
              "      <td>0.191095</td>\n",
              "      <td>5.366988</td>\n",
              "      <td>141.576604</td>\n",
              "      <td>358.687608</td>\n",
              "      <td>2.082324</td>\n",
              "      <td>3.066174</td>\n",
              "      <td>4.130323</td>\n",
              "      <td>63431</td>\n",
              "      <td>2861</td>\n",
              "      <td>6.85</td>\n",
              "      <td>106.699</td>\n",
              "      <td>0.2740</td>\n",
              "      <td>1.09589</td>\n",
              "    </tr>\n",
              "  </tbody>\n",
              "</table>\n",
              "</div>"
            ],
            "text/plain": [
              "          a         e          i          om  ...     H  diameter  albedo     moid\n",
              "0  2.769165  0.076009  10.594067   80.305532  ...  3.34   939.400  0.0900  1.59478\n",
              "1  2.772466  0.230337  34.836234  173.080063  ...  4.13   545.000  0.1010  1.23324\n",
              "2  2.669150  0.256942  12.988919  169.852760  ...  5.33   246.596  0.2140  1.03454\n",
              "3  2.361418  0.088721   7.141771  103.810804  ...  3.20   525.400  0.4228  1.13948\n",
              "4  2.574249  0.191095   5.366988  141.576604  ...  6.85   106.699  0.2740  1.09589\n",
              "\n",
              "[5 rows x 14 columns]"
            ]
          },
          "metadata": {
            "tags": []
          },
          "execution_count": 15
        }
      ]
    },
    {
      "cell_type": "code",
      "metadata": {
        "id": "LoynrF_ijJf0",
        "outputId": "790cd58e-428e-4caf-95c9-b7db4fcaf9a9",
        "colab": {
          "base_uri": "https://localhost:8080/",
          "height": 34
        }
      },
      "source": [
        "df.isna().values.any() #Kalan NaN değeri var mı kontrol etmek için"
      ],
      "execution_count": null,
      "outputs": [
        {
          "output_type": "execute_result",
          "data": {
            "text/plain": [
              "False"
            ]
          },
          "metadata": {
            "tags": []
          },
          "execution_count": 16
        }
      ]
    },
    {
      "cell_type": "markdown",
      "metadata": {
        "id": "evrMCtIQlkCa"
      },
      "source": [
        "Nasa'nın kendi Asteroid Tahmincisi web sitesi H değerini ve log kullanıyor"
      ]
    },
    {
      "cell_type": "code",
      "metadata": {
        "id": "krYaCBoKlE3v"
      },
      "source": [
        "df = df.drop(['albedo','H'],axis = 1)"
      ],
      "execution_count": null,
      "outputs": []
    },
    {
      "cell_type": "code",
      "metadata": {
        "id": "jzwJkMzqlw0L"
      },
      "source": [
        "df['diameter']= df['diameter'].apply(np.log)\n",
        "for column in df.columns.drop(['diameter']):\n",
        "    df['log('+column+')']=df[column].apply(np.log)\n",
        "df = df.dropna(axis=1)"
      ],
      "execution_count": null,
      "outputs": []
    },
    {
      "cell_type": "code",
      "metadata": {
        "id": "L_P0vp0RnDB0",
        "outputId": "635127d2-01bb-4177-d812-e44cd9bc6ac9",
        "colab": {
          "base_uri": "https://localhost:8080/",
          "height": 425
        }
      },
      "source": [
        "#NA / null değerleri hariç sütunların ikili korelasyonunu hesaplayın.\n",
        "\n",
        "df.corr()['diameter'].abs().sort_values(ascending=False)"
      ],
      "execution_count": null,
      "outputs": [
        {
          "output_type": "execute_result",
          "data": {
            "text/plain": [
              "diameter           1.000000\n",
              "log(per_y)         0.622497\n",
              "log(a)             0.622497\n",
              "log(ad)            0.605441\n",
              "data_arc           0.583459\n",
              "log(q)             0.533683\n",
              "n_obs_used         0.526710\n",
              "log(data_arc)      0.522696\n",
              "log(moid)          0.504905\n",
              "a                  0.500553\n",
              "log(n_obs_used)    0.483892\n",
              "moid               0.477567\n",
              "ad                 0.476470\n",
              "q                  0.473422\n",
              "per_y              0.316803\n",
              "i                  0.255413\n",
              "log(i)             0.211454\n",
              "log(e)             0.059763\n",
              "e                  0.055441\n",
              "w                  0.004292\n",
              "log(w)             0.004283\n",
              "log(om)            0.002104\n",
              "om                 0.001198\n",
              "Name: diameter, dtype: float64"
            ]
          },
          "metadata": {
            "tags": []
          },
          "execution_count": 19
        }
      ]
    },
    {
      "cell_type": "markdown",
      "metadata": {
        "id": "XiZDW8Ac3O3-"
      },
      "source": [
        "# **II. Bölüm:** Veri setini eğitim ve test setlerine bölmek ve regresyonlarımız için normalleştirme"
      ]
    },
    {
      "cell_type": "code",
      "metadata": {
        "id": "yAmSH-qLne5j"
      },
      "source": [
        "from sklearn.model_selection import train_test_split\n",
        "predictors = df.drop('diameter',axis=1) \n",
        "target = df['diameter']\n",
        "X_train,X_test,Y_train,Y_test = train_test_split(predictors,target,test_size=0.20,random_state=42) # %20 test seti %80 eğitim seti yapıyorum."
      ],
      "execution_count": null,
      "outputs": []
    },
    {
      "cell_type": "code",
      "metadata": {
        "id": "UA5kY0iQ3cNW",
        "outputId": "a74fd787-3be3-40a0-a1dd-fde513c627ca",
        "colab": {
          "base_uri": "https://localhost:8080/",
          "height": 224
        }
      },
      "source": [
        "X_train.head()"
      ],
      "execution_count": null,
      "outputs": [
        {
          "output_type": "execute_result",
          "data": {
            "text/html": [
              "<div>\n",
              "<style scoped>\n",
              "    .dataframe tbody tr th:only-of-type {\n",
              "        vertical-align: middle;\n",
              "    }\n",
              "\n",
              "    .dataframe tbody tr th {\n",
              "        vertical-align: top;\n",
              "    }\n",
              "\n",
              "    .dataframe thead th {\n",
              "        text-align: right;\n",
              "    }\n",
              "</style>\n",
              "<table border=\"1\" class=\"dataframe\">\n",
              "  <thead>\n",
              "    <tr style=\"text-align: right;\">\n",
              "      <th></th>\n",
              "      <th>a</th>\n",
              "      <th>e</th>\n",
              "      <th>i</th>\n",
              "      <th>om</th>\n",
              "      <th>w</th>\n",
              "      <th>q</th>\n",
              "      <th>ad</th>\n",
              "      <th>per_y</th>\n",
              "      <th>data_arc</th>\n",
              "      <th>n_obs_used</th>\n",
              "      <th>moid</th>\n",
              "      <th>log(a)</th>\n",
              "      <th>log(e)</th>\n",
              "      <th>log(i)</th>\n",
              "      <th>log(om)</th>\n",
              "      <th>log(w)</th>\n",
              "      <th>log(q)</th>\n",
              "      <th>log(ad)</th>\n",
              "      <th>log(per_y)</th>\n",
              "      <th>log(data_arc)</th>\n",
              "      <th>log(n_obs_used)</th>\n",
              "      <th>log(moid)</th>\n",
              "    </tr>\n",
              "  </thead>\n",
              "  <tbody>\n",
              "    <tr>\n",
              "      <th>16613</th>\n",
              "      <td>3.062184</td>\n",
              "      <td>0.042087</td>\n",
              "      <td>3.550925</td>\n",
              "      <td>43.434362</td>\n",
              "      <td>136.814822</td>\n",
              "      <td>2.933305</td>\n",
              "      <td>3.191062</td>\n",
              "      <td>5.358646</td>\n",
              "      <td>9542</td>\n",
              "      <td>1626</td>\n",
              "      <td>1.937100</td>\n",
              "      <td>1.119128</td>\n",
              "      <td>-3.168016</td>\n",
              "      <td>1.267208</td>\n",
              "      <td>3.771251</td>\n",
              "      <td>4.918628</td>\n",
              "      <td>1.076130</td>\n",
              "      <td>1.160354</td>\n",
              "      <td>1.678711</td>\n",
              "      <td>9.163458</td>\n",
              "      <td>7.393878</td>\n",
              "      <td>0.661192</td>\n",
              "    </tr>\n",
              "    <tr>\n",
              "      <th>16014</th>\n",
              "      <td>3.142085</td>\n",
              "      <td>0.135951</td>\n",
              "      <td>1.948769</td>\n",
              "      <td>73.770416</td>\n",
              "      <td>186.571290</td>\n",
              "      <td>2.714915</td>\n",
              "      <td>3.569255</td>\n",
              "      <td>5.569741</td>\n",
              "      <td>9884</td>\n",
              "      <td>1425</td>\n",
              "      <td>1.699210</td>\n",
              "      <td>1.144886</td>\n",
              "      <td>-1.995460</td>\n",
              "      <td>0.667198</td>\n",
              "      <td>4.300958</td>\n",
              "      <td>5.228813</td>\n",
              "      <td>0.998761</td>\n",
              "      <td>1.272357</td>\n",
              "      <td>1.717349</td>\n",
              "      <td>9.198673</td>\n",
              "      <td>7.261927</td>\n",
              "      <td>0.530163</td>\n",
              "    </tr>\n",
              "    <tr>\n",
              "      <th>25744</th>\n",
              "      <td>3.020886</td>\n",
              "      <td>0.033215</td>\n",
              "      <td>11.425086</td>\n",
              "      <td>205.866217</td>\n",
              "      <td>160.642165</td>\n",
              "      <td>2.920547</td>\n",
              "      <td>3.121225</td>\n",
              "      <td>5.250608</td>\n",
              "      <td>11674</td>\n",
              "      <td>1640</td>\n",
              "      <td>1.922040</td>\n",
              "      <td>1.105550</td>\n",
              "      <td>-3.404752</td>\n",
              "      <td>2.435811</td>\n",
              "      <td>5.327227</td>\n",
              "      <td>5.079179</td>\n",
              "      <td>1.071771</td>\n",
              "      <td>1.138225</td>\n",
              "      <td>1.658344</td>\n",
              "      <td>9.365119</td>\n",
              "      <td>7.402452</td>\n",
              "      <td>0.653387</td>\n",
              "    </tr>\n",
              "    <tr>\n",
              "      <th>17648</th>\n",
              "      <td>2.611925</td>\n",
              "      <td>0.178348</td>\n",
              "      <td>15.504828</td>\n",
              "      <td>215.288742</td>\n",
              "      <td>68.848243</td>\n",
              "      <td>2.146095</td>\n",
              "      <td>3.077756</td>\n",
              "      <td>4.221330</td>\n",
              "      <td>10105</td>\n",
              "      <td>1109</td>\n",
              "      <td>1.184260</td>\n",
              "      <td>0.960088</td>\n",
              "      <td>-1.724021</td>\n",
              "      <td>2.741151</td>\n",
              "      <td>5.371980</td>\n",
              "      <td>4.231905</td>\n",
              "      <td>0.763650</td>\n",
              "      <td>1.124201</td>\n",
              "      <td>1.440150</td>\n",
              "      <td>9.220786</td>\n",
              "      <td>7.011214</td>\n",
              "      <td>0.169118</td>\n",
              "    </tr>\n",
              "    <tr>\n",
              "      <th>4612</th>\n",
              "      <td>2.663696</td>\n",
              "      <td>0.302920</td>\n",
              "      <td>6.652923</td>\n",
              "      <td>144.965850</td>\n",
              "      <td>255.255668</td>\n",
              "      <td>1.856808</td>\n",
              "      <td>3.470584</td>\n",
              "      <td>4.347456</td>\n",
              "      <td>32853</td>\n",
              "      <td>2617</td>\n",
              "      <td>0.877342</td>\n",
              "      <td>0.979715</td>\n",
              "      <td>-1.194285</td>\n",
              "      <td>1.895056</td>\n",
              "      <td>4.976498</td>\n",
              "      <td>5.542266</td>\n",
              "      <td>0.618859</td>\n",
              "      <td>1.244323</td>\n",
              "      <td>1.469591</td>\n",
              "      <td>10.399798</td>\n",
              "      <td>7.869784</td>\n",
              "      <td>-0.130858</td>\n",
              "    </tr>\n",
              "  </tbody>\n",
              "</table>\n",
              "</div>"
            ],
            "text/plain": [
              "              a         e          i  ...  log(data_arc)  log(n_obs_used)  log(moid)\n",
              "16613  3.062184  0.042087   3.550925  ...       9.163458         7.393878   0.661192\n",
              "16014  3.142085  0.135951   1.948769  ...       9.198673         7.261927   0.530163\n",
              "25744  3.020886  0.033215  11.425086  ...       9.365119         7.402452   0.653387\n",
              "17648  2.611925  0.178348  15.504828  ...       9.220786         7.011214   0.169118\n",
              "4612   2.663696  0.302920   6.652923  ...      10.399798         7.869784  -0.130858\n",
              "\n",
              "[5 rows x 22 columns]"
            ]
          },
          "metadata": {
            "tags": []
          },
          "execution_count": 21
        }
      ]
    },
    {
      "cell_type": "markdown",
      "metadata": {
        "id": "f8j1l-cH4w7H"
      },
      "source": [
        "**Normalizasyon sebebi ; Bir özelliğin,diğerlerinden daha büyük sıralamasına sahip bir varyansı varsa , nesnel işleme hükmedebilir ve tahmin edicinin beklendiği gibi diğer özelliklerden öğrenememesini sağlayabilir.**"
      ]
    },
    {
      "cell_type": "code",
      "metadata": {
        "id": "VqWfFdDp3q8i"
      },
      "source": [
        "from sklearn import preprocessing\n",
        "\n",
        "std_scaler = preprocessing.StandardScaler().fit(X_train)\n",
        "\n",
        "def scaler(X):\n",
        "    x_norm_arr= std_scaler.fit_transform(X) #fit_transform diyerek normalleştiriyorum.\n",
        "    return pd.DataFrame(x_norm_arr, columns=X.columns, index = X.index)\n",
        "\n",
        "X_train_norm = scaler(X_train)\n",
        "X_test_norm = scaler(X_test)\n",
        "\n",
        "def inverse_scaler(X):\n",
        "    x_norm_arr= std_scaler.inverse_transform(X)\n",
        "    return pd.DataFrame(x_norm_arr, columns=X.columns, index = X.index)"
      ],
      "execution_count": null,
      "outputs": []
    },
    {
      "cell_type": "markdown",
      "metadata": {
        "id": "SOoz-gaX5NTU"
      },
      "source": [
        "# **III.Bölüm :** Farklı regresyonlar ile R2 puanlarını incelemek.\n",
        "\n",
        "**r2 score**:  Belirleme katsayısı olarak bilinir. Regresyon hattına sığdırılan verinin ne kadar yakın olduğuna dair istatistiksel bir ölçüdür.\n"
      ]
    },
    {
      "cell_type": "code",
      "metadata": {
        "id": "qlAuQHk84d2g",
        "outputId": "fcefeb96-2a67-4140-dcfa-94e066300a2a",
        "colab": {
          "base_uri": "https://localhost:8080/",
          "height": 51
        }
      },
      "source": [
        "from sklearn.metrics import r2_score\n",
        "import seaborn as sns\n",
        "\n",
        "def plot(prediction):\n",
        "    fig, (ax1, ax2) = plt.subplots(1, 2,figsize=(20,7)) \n",
        "    sns.distplot(Y_test.values,label='test değerleri', ax=ax1)\n",
        "    sns.distplot(prediction ,label='tahminler', ax=ax1)\n",
        "    ax1.set_xlabel('Dağılım')\n",
        "    ax2.scatter(Y_test,prediction, c='orange',label='tahminler')\n",
        "    ax2.plot(Y_test,Y_test,c='blue',label='y=x')\n",
        "    ax2.set_xlabel('test değerleri')\n",
        "    ax2.set_ylabel('tahmini $\\log(yarıçap)$')\n",
        "    ax1.legend()\n",
        "    ax2.legend()\n",
        "    ax2.axis('scaled') \n",
        "def score(prediction): #score fonksiyonu\n",
        "    score = r2_score(prediction,Y_test)\n",
        "    return score\n",
        "def announce(score): #score sonucunu gösterme fonksiyonu\n",
        "    print('Bu regresyon kullanılarak elde edilen R ^ 2 puanı:', round(score,3))\n",
        "algorithms = []\n",
        "scores = []"
      ],
      "execution_count": null,
      "outputs": [
        {
          "output_type": "stream",
          "text": [
            "/usr/local/lib/python3.6/dist-packages/statsmodels/tools/_testing.py:19: FutureWarning: pandas.util.testing is deprecated. Use the functions in the public API at pandas.testing instead.\n",
            "  import pandas.util.testing as tm\n"
          ],
          "name": "stderr"
        }
      ]
    },
    {
      "cell_type": "markdown",
      "metadata": {
        "id": "sGTmzkow6n6q"
      },
      "source": [
        "# **Linear Regression**\n",
        "\n",
        "İlk olarak, regresyon, bağımsız değişken (ler) in bağımlı bir değişken üzerindeki etkisinin gücünü belirlemek için kullanılabilir. Tipik sorular, doz ve etki, satış ve pazarlama harcamaları veya yaş ve gelir arasındaki ilişkinin gücüdür.\n",
        "\n",
        "İkincisi, değişikliklerin etkilerini veya etkisini tahmin etmek için kullanılabilir. Yani, regresyon analizi, bir veya daha fazla bağımsız değişkende bir değişiklikle bağımlı değişkenin ne kadar değiştiğini anlamamıza yardımcı olur. Tipik bir soru, “pazarlama için harcanan her 1000 dolar için ne kadar ek satış geliri elde edeceğim?”.\n",
        "\n",
        "Üçüncüsü, regresyon analizi eğilimleri ve gelecekteki değerleri öngörmektedir. Regresyon analizi, nokta tahminlerini almak için kullanılabilir. Tipik bir soru, “altın fiyatı 6 ayda ne olacak?” Şeklindedir.\n",
        "\n",
        "y=b0+b1*x\n",
        "b0=constant(bias) ,b0 line'ın y eksenini kestiği nokta\n",
        "b1=coeff(katsayım) ,b1'de line'ın eğimi"
      ]
    },
    {
      "cell_type": "code",
      "metadata": {
        "id": "hd1AZzns6R_0",
        "outputId": "1476d0c6-5b41-4e50-f670-78fe31879363",
        "colab": {
          "base_uri": "https://localhost:8080/",
          "height": 51
        }
      },
      "source": [
        "# Modelin oluşturulması\n",
        "from sklearn.linear_model import LinearRegression\n",
        "lr = LinearRegression()\n",
        "\n",
        "# Modelimi fit ediyorum.\n",
        "lr.fit(X_train,Y_train)\n",
        "\n",
        "# Tahminleme(predict)\n",
        "Y_pred_lr = lr.predict(X_test)\n",
        "print(Y_pred_lr) #tahmin edilen değerleri yazdırıyorum.\n",
        "\n",
        "#Skor\n",
        "score_lr = score(Y_pred_lr)\n",
        "announce(score_lr) #announce fonksiyonunu yukarda yazmıştık. \n",
        "\n",
        "algorithms = []\n",
        "scores = []\n",
        "algorithms.append('LR') # sonucun ismini algoritmalar listeme yüklüyorum.\n",
        "scores.append(score_lr) # sonucun değerini skorlar listeme ekliyorum.\n"
      ],
      "execution_count": null,
      "outputs": [
        {
          "output_type": "stream",
          "text": [
            "[2.3138739  2.08334094 2.18674327 ... 1.54204931 1.58684028 1.50123234]\n",
            "Bu regresyon kullanılarak elde edilen R ^ 2 puanı: 0.763\n"
          ],
          "name": "stdout"
        }
      ]
    },
    {
      "cell_type": "code",
      "metadata": {
        "id": "AeRxAVr_hTe4",
        "outputId": "17011864-656a-456c-a566-9867ed981c56",
        "colab": {
          "base_uri": "https://localhost:8080/",
          "height": 34
        }
      },
      "source": [
        "from sklearn.metrics import mean_squared_error\n",
        "from math import sqrt\n",
        "sqrt(mean_squared_error(Y_test, Y_pred_lr))\n",
        "\n"
      ],
      "execution_count": null,
      "outputs": [
        {
          "output_type": "execute_result",
          "data": {
            "text/plain": [
              "0.3532609798762887"
            ]
          },
          "metadata": {
            "tags": []
          },
          "execution_count": 25
        }
      ]
    },
    {
      "cell_type": "code",
      "metadata": {
        "id": "QAVRrf219oUO",
        "outputId": "a3f649a9-0f11-433b-81b8-c844e49c4985",
        "colab": {
          "base_uri": "https://localhost:8080/",
          "height": 443
        }
      },
      "source": [
        "plot(Y_pred_lr) #grafiğe döküyorum"
      ],
      "execution_count": null,
      "outputs": [
        {
          "output_type": "display_data",
          "data": {
            "image/png": "[encoded data removed]",
            "text/plain": [
              "<Figure size 1440x504 with 2 Axes>"
            ]
          },
          "metadata": {
            "tags": [],
            "needs_background": "light"
          }
        }
      ]
    },
    {
      "cell_type": "markdown",
      "metadata": {
        "id": "21DZlUxb9gfT"
      },
      "source": [
        "# **k-Nearest Neighbours regression**\n",
        "\n",
        "K'ye en yakın komşular, mevcut tüm vakaları depolayan ve benzerlik ölçüsüne (örneğin, mesafe işlevleri) dayanarak sayısal hedefi öngören basit bir algoritmadır. KNN, 1970'lerin başında parametrik olmayan bir teknik olarak, istatistiksel tahmin ve örüntü tanıma işlemlerinde kullanılmıştır.\n",
        "\n",
        "1)K değerini seç\n",
        "2)K en yakın data noktaları bul\n",
        "3)K en yakın komşu arasında hangi classtan kaç tane var hesapla\n",
        "4)Test ettiğimiz point yada data hangi classa ait tespit et.\n",
        "\n",
        "!!! KNN' de normalize etmek önemli çünkü mesela y değerleri çok küçük olursa x değerlerine göre ;bir şey değişmemiş oluyor. O yüzden normalize edeceğiz tüm değerleri."
      ]
    },
    {
      "cell_type": "code",
      "metadata": {
        "id": "_GIYnsmi9CXr",
        "outputId": "3fdf39af-31db-46e1-fd29-c3caa7d8d8b1",
        "colab": {
          "base_uri": "https://localhost:8080/",
          "height": 51
        }
      },
      "source": [
        "from sklearn.neighbors import KNeighborsRegressor\n",
        "\n",
        "\n",
        "neigh = KNeighborsRegressor(n_neighbors=3)\n",
        "\n",
        "# Modelimi fit ediyorum yani eğitiyorum.\n",
        "neigh.fit(X_train_norm,Y_train)\n",
        "\n",
        "# Tahminleme\n",
        "Y_pred_neigh = neigh.predict(X_test_norm)\n",
        "print(Y_pred_neigh)\n",
        "\n",
        "#Skor\n",
        "score_neigh=score(Y_pred_neigh)\n",
        "announce(score_neigh)\n",
        "\n",
        "algorithms.append('k-NN')\n",
        "scores.append(score_neigh)"
      ],
      "execution_count": null,
      "outputs": [
        {
          "output_type": "stream",
          "text": [
            "[1.85470898 1.67146784 2.5821907  ... 1.32838207 1.09569109 1.59675968]\n",
            "Bu regresyon kullanılarak elde edilen R ^ 2 puanı: 0.744\n"
          ],
          "name": "stdout"
        }
      ]
    },
    {
      "cell_type": "code",
      "metadata": {
        "id": "ZKKw62WWxV19",
        "outputId": "8f6e691d-bf0e-4fe7-97d3-0e3570c065fb",
        "colab": {
          "base_uri": "https://localhost:8080/",
          "height": 34
        }
      },
      "source": [
        "sqrt(mean_squared_error(Y_test, Y_pred_neigh))"
      ],
      "execution_count": null,
      "outputs": [
        {
          "output_type": "execute_result",
          "data": {
            "text/plain": [
              "0.3673281819837405"
            ]
          },
          "metadata": {
            "tags": []
          },
          "execution_count": 28
        }
      ]
    },
    {
      "cell_type": "code",
      "metadata": {
        "id": "IvzKX5sJ_Ec5",
        "outputId": "f8070eb2-74eb-4ad6-8338-0f53fdd30884",
        "colab": {
          "base_uri": "https://localhost:8080/",
          "height": 443
        }
      },
      "source": [
        "plot(Y_pred_neigh)"
      ],
      "execution_count": null,
      "outputs": [
        {
          "output_type": "display_data",
          "data": {
            "image/png": "[encoded data removed]",
            "text/plain": [
              "<Figure size 1440x504 with 2 Axes>"
            ]
          },
          "metadata": {
            "tags": [],
            "needs_background": "light"
          }
        }
      ]
    },
    {
      "cell_type": "markdown",
      "metadata": {
        "id": "8BuM1BbdAMIq"
      },
      "source": [
        "# **Decision Tree regression**\n",
        "\n",
        "Karar ağacı, bir ağaç yapısı şeklinde regresyon veya sınıflandırma modelleri oluşturur. Bir veri kümesini daha küçük ve daha küçük alt gruplara ayırırken, aynı zamanda ilişkili bir karar ağacı kademeli olarak geliştirilir. Sonuç, karar düğümleri ve yaprak düğümleri olan bir ağaçtır."
      ]
    },
    {
      "cell_type": "code",
      "metadata": {
        "id": "tpPKx-edALfe",
        "outputId": "297c9bdb-c3dd-4dff-c532-af7df5345f87",
        "colab": {
          "base_uri": "https://localhost:8080/",
          "height": 34
        }
      },
      "source": [
        "from sklearn import tree\n",
        "decTree = tree.DecisionTreeRegressor()\n",
        "\n",
        "#Eğitim\n",
        "decTree = decTree.fit(X_train_norm,Y_train)\n",
        "\n",
        "#Tahminleme\n",
        "Y_pred_tree = decTree.predict(X_test_norm)\n",
        "\n",
        "#Skor\n",
        "score_tree = score(Y_pred_tree)\n",
        "announce(score_tree)\n",
        "\n",
        "algorithms.append('DTree')\n",
        "scores.append(score_tree)"
      ],
      "execution_count": null,
      "outputs": [
        {
          "output_type": "stream",
          "text": [
            "Bu regresyon kullanılarak elde edilen R ^ 2 puanı: 0.585\n"
          ],
          "name": "stdout"
        }
      ]
    },
    {
      "cell_type": "code",
      "metadata": {
        "id": "NScEGZk6xdZ4",
        "outputId": "771af792-cab1-4b68-e721-fe1e201c0d01",
        "colab": {
          "base_uri": "https://localhost:8080/",
          "height": 34
        }
      },
      "source": [
        "sqrt(mean_squared_error(Y_test, Y_pred_tree))"
      ],
      "execution_count": null,
      "outputs": [
        {
          "output_type": "execute_result",
          "data": {
            "text/plain": [
              "0.5025647259366783"
            ]
          },
          "metadata": {
            "tags": []
          },
          "execution_count": 33
        }
      ]
    },
    {
      "cell_type": "code",
      "metadata": {
        "id": "mPjPdR-U_NvR",
        "outputId": "ad3c1336-42ba-40a0-a0a8-0c78c4ad912f",
        "colab": {
          "base_uri": "https://localhost:8080/",
          "height": 443
        }
      },
      "source": [
        "plot(Y_pred_tree)"
      ],
      "execution_count": null,
      "outputs": [
        {
          "output_type": "display_data",
          "data": {
            "image/png": "[encoded data removed]",
            "text/plain": [
              "<Figure size 1440x504 with 2 Axes>"
            ]
          },
          "metadata": {
            "tags": [],
            "needs_background": "light"
          }
        }
      ]
    },
    {
      "cell_type": "markdown",
      "metadata": {
        "id": "mDF3gw3nA_Cs"
      },
      "source": [
        "# **Random Forest regression**\n",
        "\n",
        "Topluluklar, performansı iyileştirmek için kullanılan bir böl ve ele geçir yaklaşımıdır. Topluluk yöntemlerinin arkasındaki ana ilke, bir grup “zayıf öğrenci” nin “güçlü bir öğrenci” oluşturmak için bir araya gelmesidir. Aşağıdaki şekil (buradan alınmıştır) bir örnek teşkil etmektedir. Her bir sınıflandırıcı, bireysel olarak “zayıf bir öğrenci” iken, bir araya getirilen tüm sınıflandırıcılar “güçlü bir öğrenicidir”."
      ]
    },
    {
      "cell_type": "code",
      "metadata": {
        "id": "QA866QVvA8SY",
        "outputId": "907b1058-e25f-41e1-b0de-6d604d55d2b7",
        "colab": {
          "base_uri": "https://localhost:8080/",
          "height": 34
        }
      },
      "source": [
        "from sklearn.ensemble import RandomForestRegressor\n",
        "forest = RandomForestRegressor(max_depth=32, n_estimators=50)\n",
        "\n",
        " \n",
        "forest.fit(X_train_norm,np.ravel(Y_train))\n",
        "\n",
        "\n",
        "Y_pred_forest = forest.predict(X_test_norm)\n",
        "\n",
        "\n",
        "score_forest = score(Y_pred_forest)\n",
        "announce(score_forest)\n",
        "\n",
        "algorithms.append('RForest')\n",
        "scores.append(score_forest)"
      ],
      "execution_count": null,
      "outputs": [
        {
          "output_type": "stream",
          "text": [
            "Bu regresyon kullanılarak elde edilen R ^ 2 puanı: 0.756\n"
          ],
          "name": "stdout"
        }
      ]
    },
    {
      "cell_type": "code",
      "metadata": {
        "id": "HexrHE4qCIU0",
        "outputId": "eb5bce24-45dd-4460-9b96-14c6dbc847f1",
        "colab": {
          "base_uri": "https://localhost:8080/",
          "height": 443
        }
      },
      "source": [
        "plot(Y_pred_forest)"
      ],
      "execution_count": null,
      "outputs": [
        {
          "output_type": "display_data",
          "data": {
            "image/png": "[encoded data removed]",
            "text/plain": [
              "<Figure size 1440x504 with 2 Axes>"
            ]
          },
          "metadata": {
            "tags": [],
            "needs_background": "light"
          }
        }
      ]
    },
    {
      "cell_type": "markdown",
      "metadata": {
        "id": "U2SN7upbCmlD"
      },
      "source": [
        "Support Vector Machine regression\n",
        "\n",
        "“Support Vector Machine” (SVM) hem sınıflandırma hem de regresyon zorlukları için kullanılabilecek denetimli bir makine öğrenme algoritmasıdır. Ancak, çoğunlukla sınıflandırma problemlerinde kullanılır. Bu algoritmada, her bir veri öğesini n-boyutlu uzayda (n'nin sahip olduğu özelliklerin sayısıdır) bir nokta olarak çiziyoruz, her özelliğin değeri belirli bir koordinatın değeri. Ardından, iki sınıfı çok iyi ayıran hiper düzlemi bularak sınıflandırma yapıyoruz."
      ]
    },
    {
      "cell_type": "code",
      "metadata": {
        "id": "VdfJxcmPCdN1",
        "outputId": "9bf7a69b-8075-4d69-9446-e53506c2e0af",
        "colab": {
          "base_uri": "https://localhost:8080/",
          "height": 34
        }
      },
      "source": [
        "from sklearn import svm\n",
        "svmreg = svm.SVR()\n",
        "\n",
        "\n",
        "svmreg.fit(X_train_norm,np.ravel(Y_train))\n",
        "\n",
        "\n",
        "Y_pred_svm = svmreg.predict(X_test_norm)\n",
        "\n",
        "\n",
        "score_svm = score(Y_pred_svm)\n",
        "announce(score_svm)\n",
        "\n",
        "algorithms.append('SVM')\n",
        "scores.append(score_svm)"
      ],
      "execution_count": null,
      "outputs": [
        {
          "output_type": "stream",
          "text": [
            "Bu regresyon kullanılarak elde edilen R ^ 2 puanı: 0.761\n"
          ],
          "name": "stdout"
        }
      ]
    },
    {
      "cell_type": "code",
      "metadata": {
        "id": "C51M3BLFDPmF",
        "outputId": "491cdd90-7591-4b94-ffc7-3c603e5594a9",
        "colab": {
          "base_uri": "https://localhost:8080/",
          "height": 443
        }
      },
      "source": [
        "plot(Y_pred_svm)"
      ],
      "execution_count": null,
      "outputs": [
        {
          "output_type": "display_data",
          "data": {
            "image/png": "[encoded data removed]",
            "text/plain": [
              "<Figure size 1440x504 with 2 Axes>"
            ]
          },
          "metadata": {
            "tags": [],
            "needs_background": "light"
          }
        }
      ]
    },
    {
      "cell_type": "code",
      "metadata": {
        "id": "FIu66D3hFgey",
        "outputId": "3cb3e1b4-103f-4b47-940f-5caafbeb28b7",
        "colab": {
          "base_uri": "https://localhost:8080/",
          "height": 34
        }
      },
      "source": [
        "!pip install -q keras\n",
        "import keras"
      ],
      "execution_count": null,
      "outputs": [
        {
          "output_type": "stream",
          "text": [
            "Using TensorFlow backend.\n"
          ],
          "name": "stderr"
        }
      ]
    },
    {
      "cell_type": "markdown",
      "metadata": {
        "id": "ZEMJhH4RDx0b"
      },
      "source": [
        "**Neural Network regression**"
      ]
    },
    {
      "cell_type": "code",
      "metadata": {
        "id": "7FUqyKxrDZro",
        "cellView": "code"
      },
      "source": [
        "from keras import optimizers\n",
        "from keras.models import Sequential\n",
        "from keras.layers import Dense, Dropout, BatchNormalization\n",
        "from keras.optimizers import Adam\n",
        "\n",
        "Adam(lr=0.05) #learning rate öğrenme hızıdır.\n",
        "model = Sequential() # nodeli oluşturmak için bir giriştir bu. (İntialize)\n",
        "# Dense,layerlarımızı inşa etmek(build)için kullanılır. \n",
        "#24 Çıkış düğümü\n",
        "model.add(Dense(24,activation='tanh',input_dim=X_train_norm.shape[1])) #tanh = relu (aktivasyon fonksiyonu) ,\n",
        "model.add(Dense(12,activation='relu'))\n",
        "model.add(Dense(1))\n",
        "\n",
        "model.compile(loss='mean_squared_error',optimizer='adam') \n",
        "\n",
        "\n",
        "#Modelimi eğitiyorum\n",
        "model.fit(X_train_norm,Y_train,epochs=100,batch_size=256,verbose=False)\n",
        "\n",
        "#Tahminleme\n",
        "\n",
        "Y_pred_nn = model.predict(X_test_norm)\n",
        "\n",
        "#Skor\n",
        "score_nn = score(Y_pred_nn)\n",
        "announce(score_nn)\n",
        "\n",
        "algorithms.append('NNet')\n",
        "scores.append(score_nn)"
      ],
      "execution_count": null,
      "outputs": []
    },
    {
      "cell_type": "code",
      "metadata": {
        "id": "0v7P3mvlEEGp"
      },
      "source": [
        "plot(Y_pred_nn)"
      ],
      "execution_count": null,
      "outputs": []
    },
    {
      "cell_type": "markdown",
      "metadata": {
        "id": "rsw7dfN7HdIr"
      },
      "source": [
        "# **XGBoost regression**\n",
        "\n",
        "Boosting, bir topluluk prensibi üzerinde çalışan sıralı bir tekniktir. Bir dizi zayıf öğreniciyi birleştirir ve gelişmiş tahmin doğruluğu sunar. Herhangi bir anda t, önceki anlık t-1'in sonuçlarına göre model sonuçları tartılır. Doğru öngörülen sonuçlara daha düşük ağırlık verilir ve yanlış sınıflandırılanlara daha yüksek ağırlık verilir. Zayıf bir öğrencinin rastgele tahminden biraz daha iyi olduğunu unutmayın. Örneğin, tahminleri% 50'den biraz daha iyi olan bir karar ağacı. "
      ]
    },
    {
      "cell_type": "code",
      "metadata": {
        "id": "r3SFLub5HY-N",
        "outputId": "84abd474-999a-4cbc-ef4e-e3097039d042",
        "colab": {
          "base_uri": "https://localhost:8080/",
          "height": 88
        }
      },
      "source": [
        "import xgboost as xgb \n",
        "xgReg = xgb.XGBRegressor(objective ='reg:squarederror', colsample_bytree = 0.3, \n",
        "                         learning_rate = 0.08 ,\n",
        "                max_depth = 4, n_estimators = 500)\n",
        "\n",
        "xgReg.fit(X_train_norm,Y_train)\n",
        "\n",
        "\n",
        "Y_pred_xgb = xgReg.predict(X_test_norm)\n",
        "\n",
        "\n",
        "score_xgb = score(Y_pred_xgb)\n",
        "announce(score_xgb)\n",
        "\n",
        "algorithms.append('XGB')\n",
        "scores.append(score_xgb)"
      ],
      "execution_count": null,
      "outputs": [
        {
          "output_type": "stream",
          "text": [
            "/usr/local/lib/python3.6/dist-packages/xgboost/core.py:587: FutureWarning: Series.base is deprecated and will be removed in a future version\n",
            "  if getattr(data, 'base', None) is not None and \\\n"
          ],
          "name": "stderr"
        },
        {
          "output_type": "stream",
          "text": [
            "Bu regresyon kullanılarak elde edilen R ^ 2 puanı: 0.845\n"
          ],
          "name": "stdout"
        }
      ]
    },
    {
      "cell_type": "code",
      "metadata": {
        "id": "F_ISJpnEIDYd",
        "outputId": "15f406cc-c5cf-4514-a3d3-8528aa6a847a",
        "colab": {
          "base_uri": "https://localhost:8080/",
          "height": 463
        }
      },
      "source": [
        "plot(Y_pred_xgb)"
      ],
      "execution_count": null,
      "outputs": [
        {
          "output_type": "display_data",
          "data": {
            "image/png": "[encoded data removed]",
            "text/plain": [
              "<Figure size 1440x504 with 2 Axes>"
            ]
          },
          "metadata": {
            "tags": []
          }
        }
      ]
    },
    {
      "cell_type": "markdown",
      "metadata": {
        "id": "huI9n7nTIXD9"
      },
      "source": [
        "# **ALGORİTMALARIN KARŞILAŞTIRILMASI**"
      ]
    },
    {
      "cell_type": "code",
      "metadata": {
        "id": "jTskFHn7IHy9",
        "outputId": "fabd97b5-28d5-4947-e86a-dbf80446766c",
        "colab": {
          "base_uri": "https://localhost:8080/",
          "height": 282
        }
      },
      "source": [
        "sns.barplot(algorithms,scores)"
      ],
      "execution_count": null,
      "outputs": [
        {
          "output_type": "execute_result",
          "data": {
            "text/plain": [
              "<matplotlib.axes._subplots.AxesSubplot at 0x7fb4b4138f60>"
            ]
          },
          "metadata": {
            "tags": []
          },
          "execution_count": 64
        },
        {
          "output_type": "display_data",
          "data": {
            "image/png": "[encoded data removed]",
            "text/plain": [
              "<Figure size 432x288 with 1 Axes>"
            ]
          },
          "metadata": {
            "tags": []
          }
        }
      ]
    }
  ]
}