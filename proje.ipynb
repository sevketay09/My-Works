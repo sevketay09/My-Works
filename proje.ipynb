{
  "nbformat": 4,
  "nbformat_minor": 0,
  "metadata": {
    "colab": {
      "name": "proje.ipynb",
      "provenance": [],
      "collapsed_sections": [],
      "toc_visible": true
    },
    "kernelspec": {
      "name": "python3",
      "display_name": "Python 3"
    },
    "accelerator": "GPU"
  },
  "cells": [
    {
      "cell_type": "code",
      "metadata": {
        "id": "XexnjZ9Dh7MS"
      },
      "source": [
        "import os"
      ],
      "execution_count": null,
      "outputs": []
    },
    {
      "cell_type": "code",
      "metadata": {
        "id": "XLaCZ8Tci2ru",
        "colab": {
          "base_uri": "https://localhost:8080/",
          "height": 35
        },
        "outputId": "1cf3ab21-5630-4ef7-9a80-4e55d9cb6f9c"
      },
      "source": [
        "os.getcwd()"
      ],
      "execution_count": null,
      "outputs": [
        {
          "output_type": "execute_result",
          "data": {
            "application/vnd.google.colaboratory.intrinsic+json": {
              "type": "string"
            },
            "text/plain": [
              "'/content'"
            ]
          },
          "metadata": {
            "tags": []
          },
          "execution_count": 3
        }
      ]
    },
    {
      "cell_type": "code",
      "metadata": {
        "id": "4gCxUR2CjOhm",
        "colab": {
          "base_uri": "https://localhost:8080/",
          "height": 224
        },
        "outputId": "ff8937dc-40f3-42ac-93cc-5fccc8c5064b"
      },
      "source": [
        "!apt-get install -y -qq software-properties-common python-software-properties module-init-tools\n",
        "!add-apt-repository -y ppa:alessandro-strada/ppa 2>&1 > /dev/null\n",
        "!apt-get update -qq 2>&1 > /dev/null\n",
        "!apt-get -y install -qq google-drive-ocamlfuse fuse\n",
        "from google.colab import auth\n",
        "auth.authenticate_user()\n",
        "from oauth2client.client import GoogleCredentials\n",
        "creds = GoogleCredentials.get_application_default()\n",
        "import getpass\n",
        "!google-drive-ocamlfuse -headless -id={creds.client_id} -secret={creds.client_secret} < /dev/null 2>&1 | grep URL\n",
        "vcode = getpass.getpass()\n",
        "!echo {vcode} | google-drive-ocamlfuse -headless -id={creds.client_id} -secret={creds.client_secret}"
      ],
      "execution_count": null,
      "outputs": [
        {
          "output_type": "stream",
          "text": [
            "E: Package 'python-software-properties' has no installation candidate\n",
            "Selecting previously unselected package google-drive-ocamlfuse.\n",
            "(Reading database ... 144619 files and directories currently installed.)\n",
            "Preparing to unpack .../google-drive-ocamlfuse_0.7.22-0ubuntu3~ubuntu18.04.1_amd64.deb ...\n",
            "Unpacking google-drive-ocamlfuse (0.7.22-0ubuntu3~ubuntu18.04.1) ...\n",
            "Setting up google-drive-ocamlfuse (0.7.22-0ubuntu3~ubuntu18.04.1) ...\n",
            "Processing triggers for man-db (2.8.3-2ubuntu0.1) ...\n",
            "Please, open the following URL in a web browser: https://accounts.google.com/o/oauth2/auth?client_id=32555940559.apps.googleusercontent.com&redirect_uri=urn%3Aietf%3Awg%3Aoauth%3A2.0%3Aoob&scope=https%3A%2F%2Fwww.googleapis.com%2Fauth%2Fdrive&response_type=code&access_type=offline&approval_prompt=force\n",
            "··········\n",
            "Please, open the following URL in a web browser: https://accounts.google.com/o/oauth2/auth?client_id=32555940559.apps.googleusercontent.com&redirect_uri=urn%3Aietf%3Awg%3Aoauth%3A2.0%3Aoob&scope=https%3A%2F%2Fwww.googleapis.com%2Fauth%2Fdrive&response_type=code&access_type=offline&approval_prompt=force\n",
            "Please enter the verification code: Access token retrieved correctly.\n"
          ],
          "name": "stdout"
        }
      ]
    },
    {
      "cell_type": "code",
      "metadata": {
        "id": "3gWqLORCjknN"
      },
      "source": [
        "!mkdir -p drive\n",
        "!google-drive-ocamlfuse drive -o nonempty"
      ],
      "execution_count": null,
      "outputs": []
    },
    {
      "cell_type": "code",
      "metadata": {
        "id": "cv6AMgqikABe"
      },
      "source": [
        "import sys\n",
        "sys.path.insert(0,'drive/My Drive/proje')"
      ],
      "execution_count": null,
      "outputs": []
    },
    {
      "cell_type": "code",
      "metadata": {
        "id": "N4L3KQ2zkNCI"
      },
      "source": [
        "from google.colab import files"
      ],
      "execution_count": null,
      "outputs": []
    },
    {
      "cell_type": "code",
      "metadata": {
        "id": "UI0MHT2ukQDI",
        "colab": {
          "resources": {
            "http://localhost:8080/nbextensions/google.colab/files.js": {
              "data": "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",
              "ok": true,
              "headers": [
                [
                  "content-type",
                  "application/javascript"
                ]
              ],
              "status": 200,
              "status_text": ""
            }
          },
          "base_uri": "https://localhost:8080/",
          "height": 72
        },
        "outputId": "0659b74e-810c-43c6-9c61-9abf52626d0b"
      },
      "source": [
        "uploaded = files.upload()"
      ],
      "execution_count": null,
      "outputs": [
        {
          "output_type": "display_data",
          "data": {
            "text/html": [
              "\n",
              "     <input type=\"file\" id=\"files-5104516a-f298-4dc4-8140-370f7a2c2238\" name=\"files[]\" multiple disabled\n",
              "        style=\"border:none\" />\n",
              "     <output id=\"result-5104516a-f298-4dc4-8140-370f7a2c2238\">\n",
              "      Upload widget is only available when the cell has been executed in the\n",
              "      current browser session. Please rerun this cell to enable.\n",
              "      </output>\n",
              "      <script src=\"/nbextensions/google.colab/files.js\"></script> "
            ],
            "text/plain": [
              "<IPython.core.display.HTML object>"
            ]
          },
          "metadata": {
            "tags": []
          }
        },
        {
          "output_type": "stream",
          "text": [
            "Saving GameData.csv to GameData.csv\n"
          ],
          "name": "stdout"
        }
      ]
    },
    {
      "cell_type": "code",
      "metadata": {
        "id": "gkSD0APWkSfO",
        "colab": {
          "base_uri": "https://localhost:8080/",
          "height": 34
        },
        "outputId": "115cfe02-2d68-4953-e8f5-3fdf9775c520"
      },
      "source": [
        "for fn in uploaded.keys():\n",
        "  print('User uploaded file \"{name}\" with length {length} bytes'.format(\n",
        "      name=fn, length=len(uploaded[fn])))"
      ],
      "execution_count": null,
      "outputs": [
        {
          "output_type": "stream",
          "text": [
            "User uploaded file \"GameData.csv\" with length 10315779 bytes\n"
          ],
          "name": "stdout"
        }
      ]
    },
    {
      "cell_type": "code",
      "metadata": {
        "id": "TXteS7kbkhcx",
        "colab": {
          "base_uri": "https://localhost:8080/",
          "height": 224
        },
        "outputId": "c7ca20bc-a997-47d9-ee00-6c30569e1391"
      },
      "source": [
        "import io\n",
        "import pandas as pd\n",
        "import numpy as np\n",
        "data = pd.read_csv(io.StringIO(uploaded['GameData.csv'].decode('utf-8')))\n",
        "data.head()"
      ],
      "execution_count": null,
      "outputs": [
        {
          "output_type": "execute_result",
          "data": {
            "text/html": [
              "<div>\n",
              "<style scoped>\n",
              "    .dataframe tbody tr th:only-of-type {\n",
              "        vertical-align: middle;\n",
              "    }\n",
              "\n",
              "    .dataframe tbody tr th {\n",
              "        vertical-align: top;\n",
              "    }\n",
              "\n",
              "    .dataframe thead th {\n",
              "        text-align: right;\n",
              "    }\n",
              "</style>\n",
              "<table border=\"1\" class=\"dataframe\">\n",
              "  <thead>\n",
              "    <tr style=\"text-align: right;\">\n",
              "      <th></th>\n",
              "      <th>user_id</th>\n",
              "      <th>is_limited_ad_tracking</th>\n",
              "      <th>ucgun_ard_arda_event</th>\n",
              "      <th>has_app_exception</th>\n",
              "      <th>app_removed_by_user</th>\n",
              "      <th>avg_daily_event</th>\n",
              "      <th>device_category</th>\n",
              "      <th>mobile_brand_name</th>\n",
              "      <th>operating_system</th>\n",
              "      <th>max_appInfo_install_source</th>\n",
              "      <th>max_operating_system_version</th>\n",
              "      <th>country_max_event</th>\n",
              "      <th>os_updated_by_user</th>\n",
              "      <th>app_updated_by_user</th>\n",
              "      <th>tutorial_end_by_user</th>\n",
              "      <th>game_intro_completed_by_user</th>\n",
              "      <th>avg_daily_session_start</th>\n",
              "      <th>avg_daily_level_up</th>\n",
              "      <th>avg_daily_login</th>\n",
              "      <th>avg_daily_adCampaignWatchComplete</th>\n",
              "      <th>avg_daily_workerUpgradeMethodExpensiveProduct</th>\n",
              "      <th>avg_daily_workerUpgradeAmount</th>\n",
              "      <th>avg_daily_workerUpgradeMethodLowestCost</th>\n",
              "      <th>avg_daily_rocketAdWatchComplete</th>\n",
              "      <th>avg_daily_error</th>\n",
              "      <th>avg_daily_unlockedWorker</th>\n",
              "      <th>avg_daily_earningRateBoost</th>\n",
              "      <th>avg_daily_rocketAdAppear</th>\n",
              "      <th>avg_daily_ufoAdWatchComplete</th>\n",
              "      <th>avg_daily_unlockedFactory</th>\n",
              "      <th>avg_daily_productScreenClick</th>\n",
              "      <th>avg_daily_ad_reward</th>\n",
              "      <th>avg_daily_workerUpgradeUpgradeMultiplierMax</th>\n",
              "      <th>avg_worker_session</th>\n",
              "      <th>avg_factory_session</th>\n",
              "      <th>avg_transporter_session</th>\n",
              "      <th>avg_baseStation_session</th>\n",
              "      <th>avg_RewardedVideo_session</th>\n",
              "      <th>avg_upgradeAmount_session</th>\n",
              "      <th>avg_totalElapsedTime_session</th>\n",
              "      <th>avg_earningRateValue_session</th>\n",
              "      <th>avg_freeride_session</th>\n",
              "      <th>avg_uengagement_time_msec_session</th>\n",
              "      <th>avg_sengagement_time_msec_session</th>\n",
              "      <th>avg_reward_value_session</th>\n",
              "      <th>avg_maxupgradeMultiplierValue_session</th>\n",
              "      <th>avg_x1upgradeMultiplierValue_session</th>\n",
              "      <th>avg_x10upgradeMultiplierValue_session</th>\n",
              "      <th>avg_x50upgradeMultiplierValue_session</th>\n",
              "      <th>avg_OpenactiveAdCampaignAmount_session</th>\n",
              "      <th>avg_ExitactiveAdCampaignAmount_session</th>\n",
              "      <th>avg_StartactiveAdCampaignAmount_session</th>\n",
              "      <th>avg_NoncompleteactiveAdCampaignAmount_session</th>\n",
              "      <th>avg_CompleteactiveAdCampaignAmount_session</th>\n",
              "      <th>avg_error_session</th>\n",
              "      <th>avg_level_up_session</th>\n",
              "      <th>avg_unlockedWorker_session</th>\n",
              "      <th>avg_AD_CAMPAIGN_X2_CASH_session</th>\n",
              "      <th>avg_IDLE_CASH_AD_session</th>\n",
              "      <th>avg_ROCKET_AD_session</th>\n",
              "      <th>avg_UFO_AD_session</th>\n",
              "    </tr>\n",
              "  </thead>\n",
              "  <tbody>\n",
              "    <tr>\n",
              "      <th>0</th>\n",
              "      <td>73318AACA7074CAB946B87B264B989CF</td>\n",
              "      <td>No</td>\n",
              "      <td>False</td>\n",
              "      <td>False</td>\n",
              "      <td>False</td>\n",
              "      <td>28.000000</td>\n",
              "      <td>mobile</td>\n",
              "      <td>Apple</td>\n",
              "      <td>IOS</td>\n",
              "      <td>iTunes</td>\n",
              "      <td>13.4.1</td>\n",
              "      <td>Norway</td>\n",
              "      <td>False</td>\n",
              "      <td>False</td>\n",
              "      <td>False</td>\n",
              "      <td>False</td>\n",
              "      <td>1.00</td>\n",
              "      <td>2.000000</td>\n",
              "      <td>1.00</td>\n",
              "      <td>1.00</td>\n",
              "      <td>0.0</td>\n",
              "      <td>0.000000</td>\n",
              "      <td>0.0</td>\n",
              "      <td>0.0</td>\n",
              "      <td>1.0</td>\n",
              "      <td>1.00</td>\n",
              "      <td>0.000000</td>\n",
              "      <td>0.000000</td>\n",
              "      <td>0.0</td>\n",
              "      <td>1.0</td>\n",
              "      <td>0.0</td>\n",
              "      <td>0.0</td>\n",
              "      <td>0.0</td>\n",
              "      <td>0.000000</td>\n",
              "      <td>1.000000</td>\n",
              "      <td>1.000000</td>\n",
              "      <td>0.000000</td>\n",
              "      <td>0.000000</td>\n",
              "      <td>0.000000</td>\n",
              "      <td>0.000000</td>\n",
              "      <td>0.000000</td>\n",
              "      <td>0.0</td>\n",
              "      <td>6.134100e+04</td>\n",
              "      <td>0.000000</td>\n",
              "      <td>0.0</td>\n",
              "      <td>0.000000</td>\n",
              "      <td>0.000000</td>\n",
              "      <td>0.000000</td>\n",
              "      <td>0.000000</td>\n",
              "      <td>0.0</td>\n",
              "      <td>1.000000</td>\n",
              "      <td>0.0</td>\n",
              "      <td>0.0</td>\n",
              "      <td>0.0</td>\n",
              "      <td>1.000000</td>\n",
              "      <td>2.000000</td>\n",
              "      <td>1.0000</td>\n",
              "      <td>0.000000</td>\n",
              "      <td>0.000000</td>\n",
              "      <td>0.000000</td>\n",
              "      <td>0.0</td>\n",
              "    </tr>\n",
              "    <tr>\n",
              "      <th>1</th>\n",
              "      <td>E5E2A7BA7ABC4783ABC11B47376D9514</td>\n",
              "      <td>No</td>\n",
              "      <td>True</td>\n",
              "      <td>False</td>\n",
              "      <td>False</td>\n",
              "      <td>793.750000</td>\n",
              "      <td>mobile</td>\n",
              "      <td>Apple</td>\n",
              "      <td>IOS</td>\n",
              "      <td>iTunes</td>\n",
              "      <td>12.4.8</td>\n",
              "      <td>Iran</td>\n",
              "      <td>False</td>\n",
              "      <td>False</td>\n",
              "      <td>True</td>\n",
              "      <td>True</td>\n",
              "      <td>4.25</td>\n",
              "      <td>154.000000</td>\n",
              "      <td>3.25</td>\n",
              "      <td>1.75</td>\n",
              "      <td>0.0</td>\n",
              "      <td>59.500000</td>\n",
              "      <td>12.0</td>\n",
              "      <td>4.0</td>\n",
              "      <td>1.0</td>\n",
              "      <td>4.25</td>\n",
              "      <td>15.500000</td>\n",
              "      <td>9.750000</td>\n",
              "      <td>0.0</td>\n",
              "      <td>1.0</td>\n",
              "      <td>1.5</td>\n",
              "      <td>0.0</td>\n",
              "      <td>92.5</td>\n",
              "      <td>14.000000</td>\n",
              "      <td>8.058824</td>\n",
              "      <td>13.235294</td>\n",
              "      <td>0.941176</td>\n",
              "      <td>0.941176</td>\n",
              "      <td>490.117647</td>\n",
              "      <td>114.882353</td>\n",
              "      <td>156.236075</td>\n",
              "      <td>0.0</td>\n",
              "      <td>5.890805e+05</td>\n",
              "      <td>0.000000</td>\n",
              "      <td>0.0</td>\n",
              "      <td>316.176471</td>\n",
              "      <td>10.411765</td>\n",
              "      <td>4.882353</td>\n",
              "      <td>2.294118</td>\n",
              "      <td>0.0</td>\n",
              "      <td>0.058824</td>\n",
              "      <td>0.0</td>\n",
              "      <td>0.0</td>\n",
              "      <td>0.0</td>\n",
              "      <td>0.058824</td>\n",
              "      <td>36.235294</td>\n",
              "      <td>1.0000</td>\n",
              "      <td>0.352941</td>\n",
              "      <td>0.117647</td>\n",
              "      <td>0.470588</td>\n",
              "      <td>0.0</td>\n",
              "    </tr>\n",
              "    <tr>\n",
              "      <th>2</th>\n",
              "      <td>40302B5040174012940444304038A1B9</td>\n",
              "      <td>No</td>\n",
              "      <td>False</td>\n",
              "      <td>False</td>\n",
              "      <td>False</td>\n",
              "      <td>103.000000</td>\n",
              "      <td>mobile</td>\n",
              "      <td>Apple</td>\n",
              "      <td>IOS</td>\n",
              "      <td>iTunes</td>\n",
              "      <td>13.6</td>\n",
              "      <td>Serbia</td>\n",
              "      <td>False</td>\n",
              "      <td>False</td>\n",
              "      <td>False</td>\n",
              "      <td>False</td>\n",
              "      <td>2.00</td>\n",
              "      <td>19.000000</td>\n",
              "      <td>2.00</td>\n",
              "      <td>0.00</td>\n",
              "      <td>0.0</td>\n",
              "      <td>7.000000</td>\n",
              "      <td>0.0</td>\n",
              "      <td>0.0</td>\n",
              "      <td>0.0</td>\n",
              "      <td>1.00</td>\n",
              "      <td>2.000000</td>\n",
              "      <td>1.000000</td>\n",
              "      <td>0.0</td>\n",
              "      <td>0.0</td>\n",
              "      <td>0.0</td>\n",
              "      <td>0.0</td>\n",
              "      <td>7.0</td>\n",
              "      <td>0.437500</td>\n",
              "      <td>0.187500</td>\n",
              "      <td>0.437500</td>\n",
              "      <td>0.125000</td>\n",
              "      <td>0.000000</td>\n",
              "      <td>5.750000</td>\n",
              "      <td>2.187500</td>\n",
              "      <td>5.962976</td>\n",
              "      <td>0.0</td>\n",
              "      <td>1.410162e+04</td>\n",
              "      <td>0.000000</td>\n",
              "      <td>0.0</td>\n",
              "      <td>5.750000</td>\n",
              "      <td>0.000000</td>\n",
              "      <td>0.000000</td>\n",
              "      <td>0.000000</td>\n",
              "      <td>0.0</td>\n",
              "      <td>0.000000</td>\n",
              "      <td>0.0</td>\n",
              "      <td>0.0</td>\n",
              "      <td>0.0</td>\n",
              "      <td>0.000000</td>\n",
              "      <td>1.187500</td>\n",
              "      <td>0.0625</td>\n",
              "      <td>0.000000</td>\n",
              "      <td>0.000000</td>\n",
              "      <td>0.000000</td>\n",
              "      <td>0.0</td>\n",
              "    </tr>\n",
              "    <tr>\n",
              "      <th>3</th>\n",
              "      <td>cc6a65d1f8b8bc48bb29eee0791fe182</td>\n",
              "      <td>No</td>\n",
              "      <td>True</td>\n",
              "      <td>False</td>\n",
              "      <td>False</td>\n",
              "      <td>281.333333</td>\n",
              "      <td>mobile</td>\n",
              "      <td>Samsung</td>\n",
              "      <td>ANDROID</td>\n",
              "      <td>com.android.vending</td>\n",
              "      <td>9</td>\n",
              "      <td>United States</td>\n",
              "      <td>False</td>\n",
              "      <td>False</td>\n",
              "      <td>True</td>\n",
              "      <td>False</td>\n",
              "      <td>1.00</td>\n",
              "      <td>41.333333</td>\n",
              "      <td>1.00</td>\n",
              "      <td>1.00</td>\n",
              "      <td>0.0</td>\n",
              "      <td>16.333333</td>\n",
              "      <td>9.0</td>\n",
              "      <td>6.0</td>\n",
              "      <td>1.0</td>\n",
              "      <td>2.00</td>\n",
              "      <td>12.333333</td>\n",
              "      <td>16.333333</td>\n",
              "      <td>0.0</td>\n",
              "      <td>1.0</td>\n",
              "      <td>0.0</td>\n",
              "      <td>6.0</td>\n",
              "      <td>0.0</td>\n",
              "      <td>16.333333</td>\n",
              "      <td>11.666667</td>\n",
              "      <td>12.333333</td>\n",
              "      <td>1.000000</td>\n",
              "      <td>2.000000</td>\n",
              "      <td>484.666667</td>\n",
              "      <td>234.333333</td>\n",
              "      <td>175.968473</td>\n",
              "      <td>5.0</td>\n",
              "      <td>6.572923e+05</td>\n",
              "      <td>376739.666667</td>\n",
              "      <td>2.0</td>\n",
              "      <td>0.000000</td>\n",
              "      <td>24.666667</td>\n",
              "      <td>32.666667</td>\n",
              "      <td>2.666667</td>\n",
              "      <td>0.0</td>\n",
              "      <td>0.333333</td>\n",
              "      <td>0.0</td>\n",
              "      <td>0.0</td>\n",
              "      <td>0.0</td>\n",
              "      <td>0.333333</td>\n",
              "      <td>41.333333</td>\n",
              "      <td>2.0000</td>\n",
              "      <td>0.000000</td>\n",
              "      <td>0.000000</td>\n",
              "      <td>2.000000</td>\n",
              "      <td>0.0</td>\n",
              "    </tr>\n",
              "    <tr>\n",
              "      <th>4</th>\n",
              "      <td>c18a958719e52568eccf88156791c999</td>\n",
              "      <td>No</td>\n",
              "      <td>False</td>\n",
              "      <td>False</td>\n",
              "      <td>True</td>\n",
              "      <td>711.000000</td>\n",
              "      <td>mobile</td>\n",
              "      <td>Samsung</td>\n",
              "      <td>ANDROID</td>\n",
              "      <td>com.android.vending</td>\n",
              "      <td>10</td>\n",
              "      <td>United States</td>\n",
              "      <td>False</td>\n",
              "      <td>False</td>\n",
              "      <td>True</td>\n",
              "      <td>True</td>\n",
              "      <td>1.00</td>\n",
              "      <td>30.000000</td>\n",
              "      <td>1.00</td>\n",
              "      <td>1.00</td>\n",
              "      <td>0.0</td>\n",
              "      <td>16.000000</td>\n",
              "      <td>11.0</td>\n",
              "      <td>1.0</td>\n",
              "      <td>1.0</td>\n",
              "      <td>4.00</td>\n",
              "      <td>11.000000</td>\n",
              "      <td>10.000000</td>\n",
              "      <td>1.0</td>\n",
              "      <td>1.0</td>\n",
              "      <td>1.0</td>\n",
              "      <td>2.0</td>\n",
              "      <td>0.0</td>\n",
              "      <td>16.000000</td>\n",
              "      <td>7.000000</td>\n",
              "      <td>6.000000</td>\n",
              "      <td>1.000000</td>\n",
              "      <td>2.000000</td>\n",
              "      <td>434.000000</td>\n",
              "      <td>66.000000</td>\n",
              "      <td>73.615406</td>\n",
              "      <td>5.0</td>\n",
              "      <td>1.611844e+06</td>\n",
              "      <td>699530.000000</td>\n",
              "      <td>2.0</td>\n",
              "      <td>0.000000</td>\n",
              "      <td>434.000000</td>\n",
              "      <td>0.000000</td>\n",
              "      <td>0.000000</td>\n",
              "      <td>0.0</td>\n",
              "      <td>1.000000</td>\n",
              "      <td>0.0</td>\n",
              "      <td>0.0</td>\n",
              "      <td>0.0</td>\n",
              "      <td>1.000000</td>\n",
              "      <td>30.000000</td>\n",
              "      <td>4.0000</td>\n",
              "      <td>0.000000</td>\n",
              "      <td>0.000000</td>\n",
              "      <td>1.000000</td>\n",
              "      <td>1.0</td>\n",
              "    </tr>\n",
              "  </tbody>\n",
              "</table>\n",
              "</div>"
            ],
            "text/plain": [
              "                            user_id  ... avg_UFO_AD_session\n",
              "0  73318AACA7074CAB946B87B264B989CF  ...                0.0\n",
              "1  E5E2A7BA7ABC4783ABC11B47376D9514  ...                0.0\n",
              "2  40302B5040174012940444304038A1B9  ...                0.0\n",
              "3  cc6a65d1f8b8bc48bb29eee0791fe182  ...                0.0\n",
              "4  c18a958719e52568eccf88156791c999  ...                1.0\n",
              "\n",
              "[5 rows x 61 columns]"
            ]
          },
          "metadata": {
            "tags": []
          },
          "execution_count": 9
        }
      ]
    },
    {
      "cell_type": "code",
      "metadata": {
        "id": "Bf-h4rfpkhfO",
        "colab": {
          "base_uri": "https://localhost:8080/",
          "height": 1000
        },
        "outputId": "b4bb66c9-96d4-4290-d092-631ba20672e5"
      },
      "source": [
        "data.info()"
      ],
      "execution_count": null,
      "outputs": [
        {
          "output_type": "stream",
          "text": [
            "<class 'pandas.core.frame.DataFrame'>\n",
            "RangeIndex: 25548 entries, 0 to 25547\n",
            "Data columns (total 61 columns):\n",
            " #   Column                                         Non-Null Count  Dtype  \n",
            "---  ------                                         --------------  -----  \n",
            " 0   user_id                                        25548 non-null  object \n",
            " 1   is_limited_ad_tracking                         25548 non-null  object \n",
            " 2   ucgun_ard_arda_event                           25548 non-null  bool   \n",
            " 3   has_app_exception                              25548 non-null  bool   \n",
            " 4   app_removed_by_user                            25548 non-null  bool   \n",
            " 5   avg_daily_event                                25548 non-null  float64\n",
            " 6   device_category                                25548 non-null  object \n",
            " 7   mobile_brand_name                              25548 non-null  object \n",
            " 8   operating_system                               25548 non-null  object \n",
            " 9   max_appInfo_install_source                     25548 non-null  object \n",
            " 10  max_operating_system_version                   25548 non-null  object \n",
            " 11  country_max_event                              25548 non-null  object \n",
            " 12  os_updated_by_user                             25548 non-null  bool   \n",
            " 13  app_updated_by_user                            25548 non-null  bool   \n",
            " 14  tutorial_end_by_user                           25548 non-null  bool   \n",
            " 15  game_intro_completed_by_user                   25548 non-null  bool   \n",
            " 16  avg_daily_session_start                        25548 non-null  float64\n",
            " 17  avg_daily_level_up                             25548 non-null  float64\n",
            " 18  avg_daily_login                                25548 non-null  float64\n",
            " 19  avg_daily_adCampaignWatchComplete              25548 non-null  float64\n",
            " 20  avg_daily_workerUpgradeMethodExpensiveProduct  25548 non-null  float64\n",
            " 21  avg_daily_workerUpgradeAmount                  25548 non-null  float64\n",
            " 22  avg_daily_workerUpgradeMethodLowestCost        25548 non-null  float64\n",
            " 23  avg_daily_rocketAdWatchComplete                25548 non-null  float64\n",
            " 24  avg_daily_error                                25548 non-null  float64\n",
            " 25  avg_daily_unlockedWorker                       25548 non-null  float64\n",
            " 26  avg_daily_earningRateBoost                     25548 non-null  float64\n",
            " 27  avg_daily_rocketAdAppear                       25548 non-null  float64\n",
            " 28  avg_daily_ufoAdWatchComplete                   25548 non-null  float64\n",
            " 29  avg_daily_unlockedFactory                      25548 non-null  float64\n",
            " 30  avg_daily_productScreenClick                   25548 non-null  float64\n",
            " 31  avg_daily_ad_reward                            25548 non-null  float64\n",
            " 32  avg_daily_workerUpgradeUpgradeMultiplierMax    25548 non-null  float64\n",
            " 33  avg_worker_session                             25548 non-null  float64\n",
            " 34  avg_factory_session                            25548 non-null  float64\n",
            " 35  avg_transporter_session                        25548 non-null  float64\n",
            " 36  avg_baseStation_session                        25548 non-null  float64\n",
            " 37  avg_RewardedVideo_session                      25548 non-null  float64\n",
            " 38  avg_upgradeAmount_session                      25548 non-null  float64\n",
            " 39  avg_totalElapsedTime_session                   25548 non-null  float64\n",
            " 40  avg_earningRateValue_session                   25548 non-null  float64\n",
            " 41  avg_freeride_session                           25548 non-null  float64\n",
            " 42  avg_uengagement_time_msec_session              25548 non-null  float64\n",
            " 43  avg_sengagement_time_msec_session              25548 non-null  float64\n",
            " 44  avg_reward_value_session                       25548 non-null  float64\n",
            " 45  avg_maxupgradeMultiplierValue_session          25548 non-null  float64\n",
            " 46  avg_x1upgradeMultiplierValue_session           25548 non-null  float64\n",
            " 47  avg_x10upgradeMultiplierValue_session          25548 non-null  float64\n",
            " 48  avg_x50upgradeMultiplierValue_session          25548 non-null  float64\n",
            " 49  avg_OpenactiveAdCampaignAmount_session         25548 non-null  float64\n",
            " 50  avg_ExitactiveAdCampaignAmount_session         25548 non-null  float64\n",
            " 51  avg_StartactiveAdCampaignAmount_session        25548 non-null  float64\n",
            " 52  avg_NoncompleteactiveAdCampaignAmount_session  25548 non-null  float64\n",
            " 53  avg_CompleteactiveAdCampaignAmount_session     25548 non-null  float64\n",
            " 54  avg_error_session                              25548 non-null  float64\n",
            " 55  avg_level_up_session                           25548 non-null  float64\n",
            " 56  avg_unlockedWorker_session                     25548 non-null  float64\n",
            " 57  avg_AD_CAMPAIGN_X2_CASH_session                25548 non-null  float64\n",
            " 58  avg_IDLE_CASH_AD_session                       25548 non-null  float64\n",
            " 59  avg_ROCKET_AD_session                          25548 non-null  float64\n",
            " 60  avg_UFO_AD_session                             25548 non-null  float64\n",
            "dtypes: bool(7), float64(46), object(8)\n",
            "memory usage: 10.7+ MB\n"
          ],
          "name": "stdout"
        }
      ]
    },
    {
      "cell_type": "code",
      "metadata": {
        "id": "xTLuJneOmitM",
        "colab": {
          "base_uri": "https://localhost:8080/",
          "height": 69
        },
        "outputId": "c2fd75b2-5191-4291-8ac9-7623e8d20fbd"
      },
      "source": [
        "data[data.isnull().any(axis = 1)]"
      ],
      "execution_count": null,
      "outputs": [
        {
          "output_type": "execute_result",
          "data": {
            "text/html": [
              "<div>\n",
              "<style scoped>\n",
              "    .dataframe tbody tr th:only-of-type {\n",
              "        vertical-align: middle;\n",
              "    }\n",
              "\n",
              "    .dataframe tbody tr th {\n",
              "        vertical-align: top;\n",
              "    }\n",
              "\n",
              "    .dataframe thead th {\n",
              "        text-align: right;\n",
              "    }\n",
              "</style>\n",
              "<table border=\"1\" class=\"dataframe\">\n",
              "  <thead>\n",
              "    <tr style=\"text-align: right;\">\n",
              "      <th></th>\n",
              "      <th>user_id</th>\n",
              "      <th>is_limited_ad_tracking</th>\n",
              "      <th>ucgun_ard_arda_event</th>\n",
              "      <th>has_app_exception</th>\n",
              "      <th>app_removed_by_user</th>\n",
              "      <th>avg_daily_event</th>\n",
              "      <th>device_category</th>\n",
              "      <th>mobile_brand_name</th>\n",
              "      <th>operating_system</th>\n",
              "      <th>max_appInfo_install_source</th>\n",
              "      <th>max_operating_system_version</th>\n",
              "      <th>country_max_event</th>\n",
              "      <th>os_updated_by_user</th>\n",
              "      <th>app_updated_by_user</th>\n",
              "      <th>tutorial_end_by_user</th>\n",
              "      <th>game_intro_completed_by_user</th>\n",
              "      <th>avg_daily_session_start</th>\n",
              "      <th>avg_daily_level_up</th>\n",
              "      <th>avg_daily_login</th>\n",
              "      <th>avg_daily_adCampaignWatchComplete</th>\n",
              "      <th>avg_daily_workerUpgradeMethodExpensiveProduct</th>\n",
              "      <th>avg_daily_workerUpgradeAmount</th>\n",
              "      <th>avg_daily_workerUpgradeMethodLowestCost</th>\n",
              "      <th>avg_daily_rocketAdWatchComplete</th>\n",
              "      <th>avg_daily_error</th>\n",
              "      <th>avg_daily_unlockedWorker</th>\n",
              "      <th>avg_daily_earningRateBoost</th>\n",
              "      <th>avg_daily_rocketAdAppear</th>\n",
              "      <th>avg_daily_ufoAdWatchComplete</th>\n",
              "      <th>avg_daily_unlockedFactory</th>\n",
              "      <th>avg_daily_productScreenClick</th>\n",
              "      <th>avg_daily_ad_reward</th>\n",
              "      <th>avg_daily_workerUpgradeUpgradeMultiplierMax</th>\n",
              "      <th>avg_worker_session</th>\n",
              "      <th>avg_factory_session</th>\n",
              "      <th>avg_transporter_session</th>\n",
              "      <th>avg_baseStation_session</th>\n",
              "      <th>avg_RewardedVideo_session</th>\n",
              "      <th>avg_upgradeAmount_session</th>\n",
              "      <th>avg_totalElapsedTime_session</th>\n",
              "      <th>avg_earningRateValue_session</th>\n",
              "      <th>avg_freeride_session</th>\n",
              "      <th>avg_uengagement_time_msec_session</th>\n",
              "      <th>avg_sengagement_time_msec_session</th>\n",
              "      <th>avg_reward_value_session</th>\n",
              "      <th>avg_maxupgradeMultiplierValue_session</th>\n",
              "      <th>avg_x1upgradeMultiplierValue_session</th>\n",
              "      <th>avg_x10upgradeMultiplierValue_session</th>\n",
              "      <th>avg_x50upgradeMultiplierValue_session</th>\n",
              "      <th>avg_OpenactiveAdCampaignAmount_session</th>\n",
              "      <th>avg_ExitactiveAdCampaignAmount_session</th>\n",
              "      <th>avg_StartactiveAdCampaignAmount_session</th>\n",
              "      <th>avg_NoncompleteactiveAdCampaignAmount_session</th>\n",
              "      <th>avg_CompleteactiveAdCampaignAmount_session</th>\n",
              "      <th>avg_error_session</th>\n",
              "      <th>avg_level_up_session</th>\n",
              "      <th>avg_unlockedWorker_session</th>\n",
              "      <th>avg_AD_CAMPAIGN_X2_CASH_session</th>\n",
              "      <th>avg_IDLE_CASH_AD_session</th>\n",
              "      <th>avg_ROCKET_AD_session</th>\n",
              "      <th>avg_UFO_AD_session</th>\n",
              "    </tr>\n",
              "  </thead>\n",
              "  <tbody>\n",
              "  </tbody>\n",
              "</table>\n",
              "</div>"
            ],
            "text/plain": [
              "Empty DataFrame\n",
              "Columns: [user_id, is_limited_ad_tracking, ucgun_ard_arda_event, has_app_exception, app_removed_by_user, avg_daily_event, device_category, mobile_brand_name, operating_system, max_appInfo_install_source, max_operating_system_version, country_max_event, os_updated_by_user, app_updated_by_user, tutorial_end_by_user, game_intro_completed_by_user, avg_daily_session_start, avg_daily_level_up, avg_daily_login, avg_daily_adCampaignWatchComplete, avg_daily_workerUpgradeMethodExpensiveProduct, avg_daily_workerUpgradeAmount, avg_daily_workerUpgradeMethodLowestCost, avg_daily_rocketAdWatchComplete, avg_daily_error, avg_daily_unlockedWorker, avg_daily_earningRateBoost, avg_daily_rocketAdAppear, avg_daily_ufoAdWatchComplete, avg_daily_unlockedFactory, avg_daily_productScreenClick, avg_daily_ad_reward, avg_daily_workerUpgradeUpgradeMultiplierMax, avg_worker_session, avg_factory_session, avg_transporter_session, avg_baseStation_session, avg_RewardedVideo_session, avg_upgradeAmount_session, avg_totalElapsedTime_session, avg_earningRateValue_session, avg_freeride_session, avg_uengagement_time_msec_session, avg_sengagement_time_msec_session, avg_reward_value_session, avg_maxupgradeMultiplierValue_session, avg_x1upgradeMultiplierValue_session, avg_x10upgradeMultiplierValue_session, avg_x50upgradeMultiplierValue_session, avg_OpenactiveAdCampaignAmount_session, avg_ExitactiveAdCampaignAmount_session, avg_StartactiveAdCampaignAmount_session, avg_NoncompleteactiveAdCampaignAmount_session, avg_CompleteactiveAdCampaignAmount_session, avg_error_session, avg_level_up_session, avg_unlockedWorker_session, avg_AD_CAMPAIGN_X2_CASH_session, avg_IDLE_CASH_AD_session, avg_ROCKET_AD_session, avg_UFO_AD_session]\n",
              "Index: []"
            ]
          },
          "metadata": {
            "tags": []
          },
          "execution_count": 165
        }
      ]
    },
    {
      "cell_type": "code",
      "metadata": {
        "id": "OFxF_e_gmno6"
      },
      "source": [
        "data = data.drop([\"user_id\"], axis = 1) # ilk adımda ikisini çıkarıyorum."
      ],
      "execution_count": null,
      "outputs": []
    },
    {
      "cell_type": "code",
      "metadata": {
        "id": "iRPuWX-enTwJ",
        "colab": {
          "base_uri": "https://localhost:8080/",
          "height": 224
        },
        "outputId": "47fb2ecc-26b7-40ee-a181-c982cc9288b6"
      },
      "source": [
        "data.head(5)"
      ],
      "execution_count": null,
      "outputs": [
        {
          "output_type": "execute_result",
          "data": {
            "text/html": [
              "<div>\n",
              "<style scoped>\n",
              "    .dataframe tbody tr th:only-of-type {\n",
              "        vertical-align: middle;\n",
              "    }\n",
              "\n",
              "    .dataframe tbody tr th {\n",
              "        vertical-align: top;\n",
              "    }\n",
              "\n",
              "    .dataframe thead th {\n",
              "        text-align: right;\n",
              "    }\n",
              "</style>\n",
              "<table border=\"1\" class=\"dataframe\">\n",
              "  <thead>\n",
              "    <tr style=\"text-align: right;\">\n",
              "      <th></th>\n",
              "      <th>is_limited_ad_tracking</th>\n",
              "      <th>ucgun_ard_arda_event</th>\n",
              "      <th>has_app_exception</th>\n",
              "      <th>app_removed_by_user</th>\n",
              "      <th>avg_daily_event</th>\n",
              "      <th>device_category</th>\n",
              "      <th>mobile_brand_name</th>\n",
              "      <th>operating_system</th>\n",
              "      <th>max_appInfo_install_source</th>\n",
              "      <th>max_operating_system_version</th>\n",
              "      <th>country_max_event</th>\n",
              "      <th>os_updated_by_user</th>\n",
              "      <th>app_updated_by_user</th>\n",
              "      <th>tutorial_end_by_user</th>\n",
              "      <th>game_intro_completed_by_user</th>\n",
              "      <th>avg_daily_session_start</th>\n",
              "      <th>avg_daily_level_up</th>\n",
              "      <th>avg_daily_login</th>\n",
              "      <th>avg_daily_adCampaignWatchComplete</th>\n",
              "      <th>avg_daily_workerUpgradeMethodExpensiveProduct</th>\n",
              "      <th>avg_daily_workerUpgradeAmount</th>\n",
              "      <th>avg_daily_workerUpgradeMethodLowestCost</th>\n",
              "      <th>avg_daily_rocketAdWatchComplete</th>\n",
              "      <th>avg_daily_error</th>\n",
              "      <th>avg_daily_unlockedWorker</th>\n",
              "      <th>avg_daily_earningRateBoost</th>\n",
              "      <th>avg_daily_rocketAdAppear</th>\n",
              "      <th>avg_daily_ufoAdWatchComplete</th>\n",
              "      <th>avg_daily_unlockedFactory</th>\n",
              "      <th>avg_daily_productScreenClick</th>\n",
              "      <th>avg_daily_ad_reward</th>\n",
              "      <th>avg_daily_workerUpgradeUpgradeMultiplierMax</th>\n",
              "      <th>avg_worker_session</th>\n",
              "      <th>avg_factory_session</th>\n",
              "      <th>avg_transporter_session</th>\n",
              "      <th>avg_baseStation_session</th>\n",
              "      <th>avg_RewardedVideo_session</th>\n",
              "      <th>avg_upgradeAmount_session</th>\n",
              "      <th>avg_totalElapsedTime_session</th>\n",
              "      <th>avg_earningRateValue_session</th>\n",
              "      <th>avg_freeride_session</th>\n",
              "      <th>avg_uengagement_time_msec_session</th>\n",
              "      <th>avg_sengagement_time_msec_session</th>\n",
              "      <th>avg_reward_value_session</th>\n",
              "      <th>avg_maxupgradeMultiplierValue_session</th>\n",
              "      <th>avg_x1upgradeMultiplierValue_session</th>\n",
              "      <th>avg_x10upgradeMultiplierValue_session</th>\n",
              "      <th>avg_x50upgradeMultiplierValue_session</th>\n",
              "      <th>avg_OpenactiveAdCampaignAmount_session</th>\n",
              "      <th>avg_ExitactiveAdCampaignAmount_session</th>\n",
              "      <th>avg_StartactiveAdCampaignAmount_session</th>\n",
              "      <th>avg_NoncompleteactiveAdCampaignAmount_session</th>\n",
              "      <th>avg_CompleteactiveAdCampaignAmount_session</th>\n",
              "      <th>avg_error_session</th>\n",
              "      <th>avg_level_up_session</th>\n",
              "      <th>avg_unlockedWorker_session</th>\n",
              "      <th>avg_AD_CAMPAIGN_X2_CASH_session</th>\n",
              "      <th>avg_IDLE_CASH_AD_session</th>\n",
              "      <th>avg_ROCKET_AD_session</th>\n",
              "      <th>avg_UFO_AD_session</th>\n",
              "    </tr>\n",
              "  </thead>\n",
              "  <tbody>\n",
              "    <tr>\n",
              "      <th>0</th>\n",
              "      <td>No</td>\n",
              "      <td>False</td>\n",
              "      <td>False</td>\n",
              "      <td>False</td>\n",
              "      <td>28.000000</td>\n",
              "      <td>mobile</td>\n",
              "      <td>Apple</td>\n",
              "      <td>IOS</td>\n",
              "      <td>iTunes</td>\n",
              "      <td>13.4.1</td>\n",
              "      <td>Norway</td>\n",
              "      <td>False</td>\n",
              "      <td>False</td>\n",
              "      <td>False</td>\n",
              "      <td>False</td>\n",
              "      <td>1.00</td>\n",
              "      <td>2.000000</td>\n",
              "      <td>1.00</td>\n",
              "      <td>1.00</td>\n",
              "      <td>0.0</td>\n",
              "      <td>0.000000</td>\n",
              "      <td>0.0</td>\n",
              "      <td>0.0</td>\n",
              "      <td>1.0</td>\n",
              "      <td>1.00</td>\n",
              "      <td>0.000000</td>\n",
              "      <td>0.000000</td>\n",
              "      <td>0.0</td>\n",
              "      <td>1.0</td>\n",
              "      <td>0.0</td>\n",
              "      <td>0.0</td>\n",
              "      <td>0.0</td>\n",
              "      <td>0.000000</td>\n",
              "      <td>1.000000</td>\n",
              "      <td>1.000000</td>\n",
              "      <td>0.000000</td>\n",
              "      <td>0.000000</td>\n",
              "      <td>0.000000</td>\n",
              "      <td>0.000000</td>\n",
              "      <td>0.000000</td>\n",
              "      <td>0.0</td>\n",
              "      <td>6.134100e+04</td>\n",
              "      <td>0.000000</td>\n",
              "      <td>0.0</td>\n",
              "      <td>0.000000</td>\n",
              "      <td>0.000000</td>\n",
              "      <td>0.000000</td>\n",
              "      <td>0.000000</td>\n",
              "      <td>0.0</td>\n",
              "      <td>1.000000</td>\n",
              "      <td>0.0</td>\n",
              "      <td>0.0</td>\n",
              "      <td>0.0</td>\n",
              "      <td>1.000000</td>\n",
              "      <td>2.000000</td>\n",
              "      <td>1.0000</td>\n",
              "      <td>0.000000</td>\n",
              "      <td>0.000000</td>\n",
              "      <td>0.000000</td>\n",
              "      <td>0.0</td>\n",
              "    </tr>\n",
              "    <tr>\n",
              "      <th>1</th>\n",
              "      <td>No</td>\n",
              "      <td>True</td>\n",
              "      <td>False</td>\n",
              "      <td>False</td>\n",
              "      <td>793.750000</td>\n",
              "      <td>mobile</td>\n",
              "      <td>Apple</td>\n",
              "      <td>IOS</td>\n",
              "      <td>iTunes</td>\n",
              "      <td>12.4.8</td>\n",
              "      <td>Iran</td>\n",
              "      <td>False</td>\n",
              "      <td>False</td>\n",
              "      <td>True</td>\n",
              "      <td>True</td>\n",
              "      <td>4.25</td>\n",
              "      <td>154.000000</td>\n",
              "      <td>3.25</td>\n",
              "      <td>1.75</td>\n",
              "      <td>0.0</td>\n",
              "      <td>59.500000</td>\n",
              "      <td>12.0</td>\n",
              "      <td>4.0</td>\n",
              "      <td>1.0</td>\n",
              "      <td>4.25</td>\n",
              "      <td>15.500000</td>\n",
              "      <td>9.750000</td>\n",
              "      <td>0.0</td>\n",
              "      <td>1.0</td>\n",
              "      <td>1.5</td>\n",
              "      <td>0.0</td>\n",
              "      <td>92.5</td>\n",
              "      <td>14.000000</td>\n",
              "      <td>8.058824</td>\n",
              "      <td>13.235294</td>\n",
              "      <td>0.941176</td>\n",
              "      <td>0.941176</td>\n",
              "      <td>490.117647</td>\n",
              "      <td>114.882353</td>\n",
              "      <td>156.236075</td>\n",
              "      <td>0.0</td>\n",
              "      <td>5.890805e+05</td>\n",
              "      <td>0.000000</td>\n",
              "      <td>0.0</td>\n",
              "      <td>316.176471</td>\n",
              "      <td>10.411765</td>\n",
              "      <td>4.882353</td>\n",
              "      <td>2.294118</td>\n",
              "      <td>0.0</td>\n",
              "      <td>0.058824</td>\n",
              "      <td>0.0</td>\n",
              "      <td>0.0</td>\n",
              "      <td>0.0</td>\n",
              "      <td>0.058824</td>\n",
              "      <td>36.235294</td>\n",
              "      <td>1.0000</td>\n",
              "      <td>0.352941</td>\n",
              "      <td>0.117647</td>\n",
              "      <td>0.470588</td>\n",
              "      <td>0.0</td>\n",
              "    </tr>\n",
              "    <tr>\n",
              "      <th>2</th>\n",
              "      <td>No</td>\n",
              "      <td>False</td>\n",
              "      <td>False</td>\n",
              "      <td>False</td>\n",
              "      <td>103.000000</td>\n",
              "      <td>mobile</td>\n",
              "      <td>Apple</td>\n",
              "      <td>IOS</td>\n",
              "      <td>iTunes</td>\n",
              "      <td>13.6</td>\n",
              "      <td>Serbia</td>\n",
              "      <td>False</td>\n",
              "      <td>False</td>\n",
              "      <td>False</td>\n",
              "      <td>False</td>\n",
              "      <td>2.00</td>\n",
              "      <td>19.000000</td>\n",
              "      <td>2.00</td>\n",
              "      <td>0.00</td>\n",
              "      <td>0.0</td>\n",
              "      <td>7.000000</td>\n",
              "      <td>0.0</td>\n",
              "      <td>0.0</td>\n",
              "      <td>0.0</td>\n",
              "      <td>1.00</td>\n",
              "      <td>2.000000</td>\n",
              "      <td>1.000000</td>\n",
              "      <td>0.0</td>\n",
              "      <td>0.0</td>\n",
              "      <td>0.0</td>\n",
              "      <td>0.0</td>\n",
              "      <td>7.0</td>\n",
              "      <td>0.437500</td>\n",
              "      <td>0.187500</td>\n",
              "      <td>0.437500</td>\n",
              "      <td>0.125000</td>\n",
              "      <td>0.000000</td>\n",
              "      <td>5.750000</td>\n",
              "      <td>2.187500</td>\n",
              "      <td>5.962976</td>\n",
              "      <td>0.0</td>\n",
              "      <td>1.410162e+04</td>\n",
              "      <td>0.000000</td>\n",
              "      <td>0.0</td>\n",
              "      <td>5.750000</td>\n",
              "      <td>0.000000</td>\n",
              "      <td>0.000000</td>\n",
              "      <td>0.000000</td>\n",
              "      <td>0.0</td>\n",
              "      <td>0.000000</td>\n",
              "      <td>0.0</td>\n",
              "      <td>0.0</td>\n",
              "      <td>0.0</td>\n",
              "      <td>0.000000</td>\n",
              "      <td>1.187500</td>\n",
              "      <td>0.0625</td>\n",
              "      <td>0.000000</td>\n",
              "      <td>0.000000</td>\n",
              "      <td>0.000000</td>\n",
              "      <td>0.0</td>\n",
              "    </tr>\n",
              "    <tr>\n",
              "      <th>3</th>\n",
              "      <td>No</td>\n",
              "      <td>True</td>\n",
              "      <td>False</td>\n",
              "      <td>False</td>\n",
              "      <td>281.333333</td>\n",
              "      <td>mobile</td>\n",
              "      <td>Samsung</td>\n",
              "      <td>ANDROID</td>\n",
              "      <td>com.android.vending</td>\n",
              "      <td>9</td>\n",
              "      <td>United States</td>\n",
              "      <td>False</td>\n",
              "      <td>False</td>\n",
              "      <td>True</td>\n",
              "      <td>False</td>\n",
              "      <td>1.00</td>\n",
              "      <td>41.333333</td>\n",
              "      <td>1.00</td>\n",
              "      <td>1.00</td>\n",
              "      <td>0.0</td>\n",
              "      <td>16.333333</td>\n",
              "      <td>9.0</td>\n",
              "      <td>6.0</td>\n",
              "      <td>1.0</td>\n",
              "      <td>2.00</td>\n",
              "      <td>12.333333</td>\n",
              "      <td>16.333333</td>\n",
              "      <td>0.0</td>\n",
              "      <td>1.0</td>\n",
              "      <td>0.0</td>\n",
              "      <td>6.0</td>\n",
              "      <td>0.0</td>\n",
              "      <td>16.333333</td>\n",
              "      <td>11.666667</td>\n",
              "      <td>12.333333</td>\n",
              "      <td>1.000000</td>\n",
              "      <td>2.000000</td>\n",
              "      <td>484.666667</td>\n",
              "      <td>234.333333</td>\n",
              "      <td>175.968473</td>\n",
              "      <td>5.0</td>\n",
              "      <td>6.572923e+05</td>\n",
              "      <td>376739.666667</td>\n",
              "      <td>2.0</td>\n",
              "      <td>0.000000</td>\n",
              "      <td>24.666667</td>\n",
              "      <td>32.666667</td>\n",
              "      <td>2.666667</td>\n",
              "      <td>0.0</td>\n",
              "      <td>0.333333</td>\n",
              "      <td>0.0</td>\n",
              "      <td>0.0</td>\n",
              "      <td>0.0</td>\n",
              "      <td>0.333333</td>\n",
              "      <td>41.333333</td>\n",
              "      <td>2.0000</td>\n",
              "      <td>0.000000</td>\n",
              "      <td>0.000000</td>\n",
              "      <td>2.000000</td>\n",
              "      <td>0.0</td>\n",
              "    </tr>\n",
              "    <tr>\n",
              "      <th>4</th>\n",
              "      <td>No</td>\n",
              "      <td>False</td>\n",
              "      <td>False</td>\n",
              "      <td>True</td>\n",
              "      <td>711.000000</td>\n",
              "      <td>mobile</td>\n",
              "      <td>Samsung</td>\n",
              "      <td>ANDROID</td>\n",
              "      <td>com.android.vending</td>\n",
              "      <td>10</td>\n",
              "      <td>United States</td>\n",
              "      <td>False</td>\n",
              "      <td>False</td>\n",
              "      <td>True</td>\n",
              "      <td>True</td>\n",
              "      <td>1.00</td>\n",
              "      <td>30.000000</td>\n",
              "      <td>1.00</td>\n",
              "      <td>1.00</td>\n",
              "      <td>0.0</td>\n",
              "      <td>16.000000</td>\n",
              "      <td>11.0</td>\n",
              "      <td>1.0</td>\n",
              "      <td>1.0</td>\n",
              "      <td>4.00</td>\n",
              "      <td>11.000000</td>\n",
              "      <td>10.000000</td>\n",
              "      <td>1.0</td>\n",
              "      <td>1.0</td>\n",
              "      <td>1.0</td>\n",
              "      <td>2.0</td>\n",
              "      <td>0.0</td>\n",
              "      <td>16.000000</td>\n",
              "      <td>7.000000</td>\n",
              "      <td>6.000000</td>\n",
              "      <td>1.000000</td>\n",
              "      <td>2.000000</td>\n",
              "      <td>434.000000</td>\n",
              "      <td>66.000000</td>\n",
              "      <td>73.615406</td>\n",
              "      <td>5.0</td>\n",
              "      <td>1.611844e+06</td>\n",
              "      <td>699530.000000</td>\n",
              "      <td>2.0</td>\n",
              "      <td>0.000000</td>\n",
              "      <td>434.000000</td>\n",
              "      <td>0.000000</td>\n",
              "      <td>0.000000</td>\n",
              "      <td>0.0</td>\n",
              "      <td>1.000000</td>\n",
              "      <td>0.0</td>\n",
              "      <td>0.0</td>\n",
              "      <td>0.0</td>\n",
              "      <td>1.000000</td>\n",
              "      <td>30.000000</td>\n",
              "      <td>4.0000</td>\n",
              "      <td>0.000000</td>\n",
              "      <td>0.000000</td>\n",
              "      <td>1.000000</td>\n",
              "      <td>1.0</td>\n",
              "    </tr>\n",
              "  </tbody>\n",
              "</table>\n",
              "</div>"
            ],
            "text/plain": [
              "  is_limited_ad_tracking  ...  avg_UFO_AD_session\n",
              "0                     No  ...                 0.0\n",
              "1                     No  ...                 0.0\n",
              "2                     No  ...                 0.0\n",
              "3                     No  ...                 0.0\n",
              "4                     No  ...                 1.0\n",
              "\n",
              "[5 rows x 60 columns]"
            ]
          },
          "metadata": {
            "tags": []
          },
          "execution_count": 167
        }
      ]
    },
    {
      "cell_type": "code",
      "metadata": {
        "id": "DNeooRICnsjI",
        "colab": {
          "base_uri": "https://localhost:8080/",
          "height": 224
        },
        "outputId": "ba1e0bfd-7812-41cd-d18f-98c9c29bff8f"
      },
      "source": [
        "data.tail(5)"
      ],
      "execution_count": null,
      "outputs": [
        {
          "output_type": "execute_result",
          "data": {
            "text/html": [
              "<div>\n",
              "<style scoped>\n",
              "    .dataframe tbody tr th:only-of-type {\n",
              "        vertical-align: middle;\n",
              "    }\n",
              "\n",
              "    .dataframe tbody tr th {\n",
              "        vertical-align: top;\n",
              "    }\n",
              "\n",
              "    .dataframe thead th {\n",
              "        text-align: right;\n",
              "    }\n",
              "</style>\n",
              "<table border=\"1\" class=\"dataframe\">\n",
              "  <thead>\n",
              "    <tr style=\"text-align: right;\">\n",
              "      <th></th>\n",
              "      <th>is_limited_ad_tracking</th>\n",
              "      <th>ucgun_ard_arda_event</th>\n",
              "      <th>has_app_exception</th>\n",
              "      <th>app_removed_by_user</th>\n",
              "      <th>avg_daily_event</th>\n",
              "      <th>device_category</th>\n",
              "      <th>mobile_brand_name</th>\n",
              "      <th>operating_system</th>\n",
              "      <th>max_appInfo_install_source</th>\n",
              "      <th>max_operating_system_version</th>\n",
              "      <th>country_max_event</th>\n",
              "      <th>os_updated_by_user</th>\n",
              "      <th>app_updated_by_user</th>\n",
              "      <th>tutorial_end_by_user</th>\n",
              "      <th>game_intro_completed_by_user</th>\n",
              "      <th>avg_daily_session_start</th>\n",
              "      <th>avg_daily_level_up</th>\n",
              "      <th>avg_daily_login</th>\n",
              "      <th>avg_daily_adCampaignWatchComplete</th>\n",
              "      <th>avg_daily_workerUpgradeMethodExpensiveProduct</th>\n",
              "      <th>avg_daily_workerUpgradeAmount</th>\n",
              "      <th>avg_daily_workerUpgradeMethodLowestCost</th>\n",
              "      <th>avg_daily_rocketAdWatchComplete</th>\n",
              "      <th>avg_daily_error</th>\n",
              "      <th>avg_daily_unlockedWorker</th>\n",
              "      <th>avg_daily_earningRateBoost</th>\n",
              "      <th>avg_daily_rocketAdAppear</th>\n",
              "      <th>avg_daily_ufoAdWatchComplete</th>\n",
              "      <th>avg_daily_unlockedFactory</th>\n",
              "      <th>avg_daily_productScreenClick</th>\n",
              "      <th>avg_daily_ad_reward</th>\n",
              "      <th>avg_daily_workerUpgradeUpgradeMultiplierMax</th>\n",
              "      <th>avg_worker_session</th>\n",
              "      <th>avg_factory_session</th>\n",
              "      <th>avg_transporter_session</th>\n",
              "      <th>avg_baseStation_session</th>\n",
              "      <th>avg_RewardedVideo_session</th>\n",
              "      <th>avg_upgradeAmount_session</th>\n",
              "      <th>avg_totalElapsedTime_session</th>\n",
              "      <th>avg_earningRateValue_session</th>\n",
              "      <th>avg_freeride_session</th>\n",
              "      <th>avg_uengagement_time_msec_session</th>\n",
              "      <th>avg_sengagement_time_msec_session</th>\n",
              "      <th>avg_reward_value_session</th>\n",
              "      <th>avg_maxupgradeMultiplierValue_session</th>\n",
              "      <th>avg_x1upgradeMultiplierValue_session</th>\n",
              "      <th>avg_x10upgradeMultiplierValue_session</th>\n",
              "      <th>avg_x50upgradeMultiplierValue_session</th>\n",
              "      <th>avg_OpenactiveAdCampaignAmount_session</th>\n",
              "      <th>avg_ExitactiveAdCampaignAmount_session</th>\n",
              "      <th>avg_StartactiveAdCampaignAmount_session</th>\n",
              "      <th>avg_NoncompleteactiveAdCampaignAmount_session</th>\n",
              "      <th>avg_CompleteactiveAdCampaignAmount_session</th>\n",
              "      <th>avg_error_session</th>\n",
              "      <th>avg_level_up_session</th>\n",
              "      <th>avg_unlockedWorker_session</th>\n",
              "      <th>avg_AD_CAMPAIGN_X2_CASH_session</th>\n",
              "      <th>avg_IDLE_CASH_AD_session</th>\n",
              "      <th>avg_ROCKET_AD_session</th>\n",
              "      <th>avg_UFO_AD_session</th>\n",
              "    </tr>\n",
              "  </thead>\n",
              "  <tbody>\n",
              "    <tr>\n",
              "      <th>25543</th>\n",
              "      <td>No</td>\n",
              "      <td>False</td>\n",
              "      <td>False</td>\n",
              "      <td>False</td>\n",
              "      <td>10.0</td>\n",
              "      <td>tablet</td>\n",
              "      <td>Apple</td>\n",
              "      <td>IOS</td>\n",
              "      <td>iTunes</td>\n",
              "      <td>13.6.1</td>\n",
              "      <td>United States</td>\n",
              "      <td>False</td>\n",
              "      <td>False</td>\n",
              "      <td>False</td>\n",
              "      <td>False</td>\n",
              "      <td>1.0</td>\n",
              "      <td>0.0</td>\n",
              "      <td>1.0</td>\n",
              "      <td>0.0</td>\n",
              "      <td>0.0</td>\n",
              "      <td>0.0</td>\n",
              "      <td>0.0</td>\n",
              "      <td>0.0</td>\n",
              "      <td>0.0</td>\n",
              "      <td>0.0</td>\n",
              "      <td>0.0</td>\n",
              "      <td>0.0</td>\n",
              "      <td>0.0</td>\n",
              "      <td>0.0</td>\n",
              "      <td>0.0</td>\n",
              "      <td>0.0</td>\n",
              "      <td>0.0</td>\n",
              "      <td>0.0</td>\n",
              "      <td>0.0</td>\n",
              "      <td>0.0</td>\n",
              "      <td>0.0</td>\n",
              "      <td>0.0</td>\n",
              "      <td>0.0</td>\n",
              "      <td>0.0</td>\n",
              "      <td>0.0</td>\n",
              "      <td>0.0</td>\n",
              "      <td>250823.0</td>\n",
              "      <td>0.0</td>\n",
              "      <td>0.0</td>\n",
              "      <td>0.0</td>\n",
              "      <td>0.000000</td>\n",
              "      <td>0.0</td>\n",
              "      <td>0.0</td>\n",
              "      <td>0.0</td>\n",
              "      <td>0.0</td>\n",
              "      <td>0.0</td>\n",
              "      <td>0.0</td>\n",
              "      <td>0.0</td>\n",
              "      <td>0.0</td>\n",
              "      <td>0.0</td>\n",
              "      <td>0.0</td>\n",
              "      <td>0.0</td>\n",
              "      <td>0.0</td>\n",
              "      <td>0.0</td>\n",
              "      <td>0.0</td>\n",
              "    </tr>\n",
              "    <tr>\n",
              "      <th>25544</th>\n",
              "      <td>No</td>\n",
              "      <td>False</td>\n",
              "      <td>False</td>\n",
              "      <td>False</td>\n",
              "      <td>36.0</td>\n",
              "      <td>tablet</td>\n",
              "      <td>Apple</td>\n",
              "      <td>IOS</td>\n",
              "      <td>iTunes</td>\n",
              "      <td>13.4.1</td>\n",
              "      <td>India</td>\n",
              "      <td>False</td>\n",
              "      <td>False</td>\n",
              "      <td>False</td>\n",
              "      <td>False</td>\n",
              "      <td>1.0</td>\n",
              "      <td>3.0</td>\n",
              "      <td>1.0</td>\n",
              "      <td>1.0</td>\n",
              "      <td>0.0</td>\n",
              "      <td>1.0</td>\n",
              "      <td>1.0</td>\n",
              "      <td>0.0</td>\n",
              "      <td>1.0</td>\n",
              "      <td>1.0</td>\n",
              "      <td>0.0</td>\n",
              "      <td>0.0</td>\n",
              "      <td>0.0</td>\n",
              "      <td>1.0</td>\n",
              "      <td>0.0</td>\n",
              "      <td>0.0</td>\n",
              "      <td>0.0</td>\n",
              "      <td>1.0</td>\n",
              "      <td>1.0</td>\n",
              "      <td>1.0</td>\n",
              "      <td>0.0</td>\n",
              "      <td>0.0</td>\n",
              "      <td>1.0</td>\n",
              "      <td>0.0</td>\n",
              "      <td>0.0</td>\n",
              "      <td>0.0</td>\n",
              "      <td>65452.0</td>\n",
              "      <td>0.0</td>\n",
              "      <td>0.0</td>\n",
              "      <td>0.0</td>\n",
              "      <td>1.000000</td>\n",
              "      <td>0.0</td>\n",
              "      <td>0.0</td>\n",
              "      <td>0.0</td>\n",
              "      <td>1.0</td>\n",
              "      <td>0.0</td>\n",
              "      <td>0.0</td>\n",
              "      <td>0.0</td>\n",
              "      <td>1.0</td>\n",
              "      <td>3.0</td>\n",
              "      <td>1.0</td>\n",
              "      <td>0.0</td>\n",
              "      <td>0.0</td>\n",
              "      <td>0.0</td>\n",
              "      <td>0.0</td>\n",
              "    </tr>\n",
              "    <tr>\n",
              "      <th>25545</th>\n",
              "      <td>No</td>\n",
              "      <td>False</td>\n",
              "      <td>False</td>\n",
              "      <td>False</td>\n",
              "      <td>40.0</td>\n",
              "      <td>mobile</td>\n",
              "      <td>Apple</td>\n",
              "      <td>IOS</td>\n",
              "      <td>iTunes</td>\n",
              "      <td>13.6.1</td>\n",
              "      <td>United Kingdom</td>\n",
              "      <td>False</td>\n",
              "      <td>False</td>\n",
              "      <td>False</td>\n",
              "      <td>False</td>\n",
              "      <td>1.0</td>\n",
              "      <td>3.0</td>\n",
              "      <td>1.0</td>\n",
              "      <td>1.0</td>\n",
              "      <td>0.0</td>\n",
              "      <td>1.0</td>\n",
              "      <td>1.0</td>\n",
              "      <td>0.0</td>\n",
              "      <td>1.0</td>\n",
              "      <td>1.0</td>\n",
              "      <td>0.0</td>\n",
              "      <td>0.0</td>\n",
              "      <td>0.0</td>\n",
              "      <td>1.0</td>\n",
              "      <td>0.0</td>\n",
              "      <td>0.0</td>\n",
              "      <td>0.0</td>\n",
              "      <td>1.0</td>\n",
              "      <td>1.0</td>\n",
              "      <td>1.0</td>\n",
              "      <td>0.0</td>\n",
              "      <td>0.0</td>\n",
              "      <td>6.0</td>\n",
              "      <td>0.0</td>\n",
              "      <td>0.0</td>\n",
              "      <td>0.0</td>\n",
              "      <td>64866.0</td>\n",
              "      <td>0.0</td>\n",
              "      <td>0.0</td>\n",
              "      <td>0.0</td>\n",
              "      <td>6.000000</td>\n",
              "      <td>0.0</td>\n",
              "      <td>0.0</td>\n",
              "      <td>0.0</td>\n",
              "      <td>1.0</td>\n",
              "      <td>0.0</td>\n",
              "      <td>0.0</td>\n",
              "      <td>0.0</td>\n",
              "      <td>1.0</td>\n",
              "      <td>3.0</td>\n",
              "      <td>1.0</td>\n",
              "      <td>0.0</td>\n",
              "      <td>0.0</td>\n",
              "      <td>0.0</td>\n",
              "      <td>0.0</td>\n",
              "    </tr>\n",
              "    <tr>\n",
              "      <th>25546</th>\n",
              "      <td>No</td>\n",
              "      <td>False</td>\n",
              "      <td>False</td>\n",
              "      <td>False</td>\n",
              "      <td>11.0</td>\n",
              "      <td>mobile</td>\n",
              "      <td>Apple</td>\n",
              "      <td>IOS</td>\n",
              "      <td>iTunes</td>\n",
              "      <td>13.6.1</td>\n",
              "      <td>Slovakia</td>\n",
              "      <td>False</td>\n",
              "      <td>False</td>\n",
              "      <td>False</td>\n",
              "      <td>False</td>\n",
              "      <td>1.0</td>\n",
              "      <td>0.0</td>\n",
              "      <td>1.0</td>\n",
              "      <td>0.0</td>\n",
              "      <td>0.0</td>\n",
              "      <td>0.0</td>\n",
              "      <td>0.0</td>\n",
              "      <td>0.0</td>\n",
              "      <td>0.0</td>\n",
              "      <td>0.0</td>\n",
              "      <td>0.0</td>\n",
              "      <td>0.0</td>\n",
              "      <td>0.0</td>\n",
              "      <td>0.0</td>\n",
              "      <td>0.0</td>\n",
              "      <td>0.0</td>\n",
              "      <td>0.0</td>\n",
              "      <td>0.0</td>\n",
              "      <td>0.0</td>\n",
              "      <td>0.0</td>\n",
              "      <td>0.0</td>\n",
              "      <td>0.0</td>\n",
              "      <td>0.0</td>\n",
              "      <td>0.0</td>\n",
              "      <td>0.0</td>\n",
              "      <td>0.0</td>\n",
              "      <td>14001.0</td>\n",
              "      <td>0.0</td>\n",
              "      <td>0.0</td>\n",
              "      <td>0.0</td>\n",
              "      <td>0.000000</td>\n",
              "      <td>0.0</td>\n",
              "      <td>0.0</td>\n",
              "      <td>0.0</td>\n",
              "      <td>0.0</td>\n",
              "      <td>0.0</td>\n",
              "      <td>0.0</td>\n",
              "      <td>0.0</td>\n",
              "      <td>0.0</td>\n",
              "      <td>0.0</td>\n",
              "      <td>0.0</td>\n",
              "      <td>0.0</td>\n",
              "      <td>0.0</td>\n",
              "      <td>0.0</td>\n",
              "      <td>0.0</td>\n",
              "    </tr>\n",
              "    <tr>\n",
              "      <th>25547</th>\n",
              "      <td>No</td>\n",
              "      <td>False</td>\n",
              "      <td>False</td>\n",
              "      <td>False</td>\n",
              "      <td>3.0</td>\n",
              "      <td>mobile</td>\n",
              "      <td>Motorola</td>\n",
              "      <td>ANDROID</td>\n",
              "      <td>com.android.vending</td>\n",
              "      <td>9</td>\n",
              "      <td>Netherlands</td>\n",
              "      <td>False</td>\n",
              "      <td>False</td>\n",
              "      <td>False</td>\n",
              "      <td>False</td>\n",
              "      <td>0.0</td>\n",
              "      <td>0.0</td>\n",
              "      <td>0.0</td>\n",
              "      <td>0.0</td>\n",
              "      <td>0.0</td>\n",
              "      <td>0.0</td>\n",
              "      <td>0.0</td>\n",
              "      <td>0.0</td>\n",
              "      <td>0.0</td>\n",
              "      <td>0.0</td>\n",
              "      <td>0.0</td>\n",
              "      <td>0.0</td>\n",
              "      <td>0.0</td>\n",
              "      <td>0.0</td>\n",
              "      <td>0.0</td>\n",
              "      <td>0.0</td>\n",
              "      <td>0.0</td>\n",
              "      <td>0.0</td>\n",
              "      <td>0.0</td>\n",
              "      <td>0.0</td>\n",
              "      <td>0.0</td>\n",
              "      <td>0.0</td>\n",
              "      <td>0.0</td>\n",
              "      <td>0.0</td>\n",
              "      <td>0.0</td>\n",
              "      <td>0.0</td>\n",
              "      <td>0.0</td>\n",
              "      <td>0.0</td>\n",
              "      <td>0.0</td>\n",
              "      <td>0.0</td>\n",
              "      <td>0.105263</td>\n",
              "      <td>0.0</td>\n",
              "      <td>0.0</td>\n",
              "      <td>0.0</td>\n",
              "      <td>0.0</td>\n",
              "      <td>0.0</td>\n",
              "      <td>0.0</td>\n",
              "      <td>0.0</td>\n",
              "      <td>0.0</td>\n",
              "      <td>0.0</td>\n",
              "      <td>0.0</td>\n",
              "      <td>0.0</td>\n",
              "      <td>0.0</td>\n",
              "      <td>0.0</td>\n",
              "      <td>0.0</td>\n",
              "    </tr>\n",
              "  </tbody>\n",
              "</table>\n",
              "</div>"
            ],
            "text/plain": [
              "      is_limited_ad_tracking  ...  avg_UFO_AD_session\n",
              "25543                     No  ...                 0.0\n",
              "25544                     No  ...                 0.0\n",
              "25545                     No  ...                 0.0\n",
              "25546                     No  ...                 0.0\n",
              "25547                     No  ...                 0.0\n",
              "\n",
              "[5 rows x 60 columns]"
            ]
          },
          "metadata": {
            "tags": []
          },
          "execution_count": 13
        }
      ]
    },
    {
      "cell_type": "code",
      "metadata": {
        "id": "YT7Smq4S4YVR",
        "colab": {
          "base_uri": "https://localhost:8080/",
          "height": 384
        },
        "outputId": "b9ead28e-0031-4c91-a6e4-a4eea0881c04"
      },
      "source": [
        "import seaborn as sns\n",
        "sns.catplot(x = \"ucgun_ard_arda_event\", y = \"avg_daily_level_up\", data = data);"
      ],
      "execution_count": null,
      "outputs": [
        {
          "output_type": "display_data",
          "data": {
            "image/png": "[encoded data removed]",
            "text/plain": [
              "<Figure size 360x360 with 1 Axes>"
            ]
          },
          "metadata": {
            "tags": [],
            "needs_background": "light"
          }
        }
      ]
    },
    {
      "cell_type": "code",
      "metadata": {
        "id": "kKQQW4YS7YE7",
        "colab": {
          "base_uri": "https://localhost:8080/",
          "height": 384
        },
        "outputId": "83085c38-b294-4b02-9f1d-9ee368e8ea9b"
      },
      "source": [
        "sns.catplot(x = \"ucgun_ard_arda_event\", y = \"avg_daily_adCampaignWatchComplete\", data = data);"
      ],
      "execution_count": null,
      "outputs": [
        {
          "output_type": "display_data",
          "data": {
            "image/png": "[encoded data removed]",
            "text/plain": [
              "<Figure size 360x360 with 1 Axes>"
            ]
          },
          "metadata": {
            "tags": [],
            "needs_background": "light"
          }
        }
      ]
    },
    {
      "cell_type": "code",
      "metadata": {
        "id": "1OJiAC4A4YfZ",
        "colab": {
          "base_uri": "https://localhost:8080/",
          "height": 334
        },
        "outputId": "a11d4710-eb8d-4c6a-9d7b-02aa6a765458"
      },
      "source": [
        "sns.distplot(data.avg_daily_adCampaignWatchComplete, kde = False);"
      ],
      "execution_count": null,
      "outputs": [
        {
          "output_type": "stream",
          "text": [
            "/usr/local/lib/python3.6/dist-packages/seaborn/distributions.py:2551: FutureWarning: `distplot` is a deprecated function and will be removed in a future version. Please adapt your code to use either `displot` (a figure-level function with similar flexibility) or `histplot` (an axes-level function for histograms).\n",
            "  warnings.warn(msg, FutureWarning)\n"
          ],
          "name": "stderr"
        },
        {
          "output_type": "display_data",
          "data": {
            "image/png": "[encoded data removed]",
            "text/plain": [
              "<Figure size 432x288 with 1 Axes>"
            ]
          },
          "metadata": {
            "tags": [],
            "needs_background": "light"
          }
        }
      ]
    },
    {
      "cell_type": "code",
      "metadata": {
        "id": "Iu2cR_V97sqp",
        "colab": {
          "base_uri": "https://localhost:8080/",
          "height": 369
        },
        "outputId": "679ac211-27d0-4163-cac4-5f512a199c7b"
      },
      "source": [
        "(sns\n",
        " .FacetGrid(data,\n",
        "              hue = \"ucgun_ard_arda_event\",\n",
        "              height = 5,\n",
        "              xlim = (0, 20))\n",
        " .map(sns.kdeplot, \"avg_daily_adCampaignWatchComplete\", shade= True)\n",
        " .add_legend()\n",
        ");"
      ],
      "execution_count": null,
      "outputs": [
        {
          "output_type": "display_data",
          "data": {
            "image/png": "[encoded data removed]",
            "text/plain": [
              "<Figure size 481.5x360 with 1 Axes>"
            ]
          },
          "metadata": {
            "tags": [],
            "needs_background": "light"
          }
        }
      ]
    },
    {
      "cell_type": "code",
      "metadata": {
        "id": "wlSpyHuCnrL3",
        "colab": {
          "base_uri": "https://localhost:8080/",
          "height": 297
        },
        "outputId": "2251faba-eb8e-4055-b850-b055cf28b22f"
      },
      "source": [
        "import seaborn as sns\n",
        "sns.countplot(x=\"ucgun_ard_arda_event\", data=data, palette=\"bwr\")"
      ],
      "execution_count": null,
      "outputs": [
        {
          "output_type": "execute_result",
          "data": {
            "text/plain": [
              "<matplotlib.axes._subplots.AxesSubplot at 0x7fb0e8d23c50>"
            ]
          },
          "metadata": {
            "tags": []
          },
          "execution_count": 26
        },
        {
          "output_type": "display_data",
          "data": {
            "image/png": "[encoded data removed]",
            "text/plain": [
              "<Figure size 432x288 with 1 Axes>"
            ]
          },
          "metadata": {
            "tags": [],
            "needs_background": "light"
          }
        }
      ]
    },
    {
      "cell_type": "code",
      "metadata": {
        "id": "teAfcO8vvhiY",
        "colab": {
          "base_uri": "https://localhost:8080/",
          "height": 297
        },
        "outputId": "757b4b5a-42a8-45ee-a5b4-86b3bb046ebd"
      },
      "source": [
        "sns.countplot(x=\"ucgun_ard_arda_login\", data=data, palette=\"bwr\")"
      ],
      "execution_count": null,
      "outputs": [
        {
          "output_type": "execute_result",
          "data": {
            "text/plain": [
              "<matplotlib.axes._subplots.AxesSubplot at 0x7fb0e8cc7be0>"
            ]
          },
          "metadata": {
            "tags": []
          },
          "execution_count": 27
        },
        {
          "output_type": "display_data",
          "data": {
            "image/png": "[encoded data removed]",
            "text/plain": [
              "<Figure size 432x288 with 1 Axes>"
            ]
          },
          "metadata": {
            "tags": [],
            "needs_background": "light"
          }
        }
      ]
    },
    {
      "cell_type": "code",
      "metadata": {
        "id": "QqMRods1vp4J",
        "colab": {
          "base_uri": "https://localhost:8080/",
          "height": 51
        },
        "outputId": "f39bd806-fc33-4c6f-fc0a-29dc76c15a4c"
      },
      "source": [
        "countNo = len(data[data.ucgun_ard_arda_login == False])\n",
        "countYes = len(data[data.ucgun_ard_arda_login == True])\n",
        "print(\"Üç gün art arda login yapmayanların yüzdesi : {:.2f}%\".format((countNo / (len(data.ucgun_ard_arda_login))*100)))\n",
        "print(\"Üç gün art arda login yapmayanların yüzdesi : {:.2f}%\".format((countYes / (len(data.ucgun_ard_arda_login))*100)))"
      ],
      "execution_count": null,
      "outputs": [
        {
          "output_type": "stream",
          "text": [
            "Üç gün art arda login yapmayanların yüzdesi : 83.12%\n",
            "Üç gün art arda login yapmayanların yüzdesi : 16.88%\n"
          ],
          "name": "stdout"
        }
      ]
    },
    {
      "cell_type": "code",
      "metadata": {
        "id": "VnE-tVcMv-pF",
        "colab": {
          "base_uri": "https://localhost:8080/",
          "height": 51
        },
        "outputId": "1f045f52-fc95-4860-ee93-497f096b07e0"
      },
      "source": [
        "countNo = len(data[data.ucgun_ard_arda_event == False])\n",
        "countYes = len(data[data.ucgun_ard_arda_event == True])\n",
        "print(\"Üç gün art arda event yapmayanların yüzdesi : {:.2f}%\".format((countNo / (len(data.ucgun_ard_arda_login))*100)))\n",
        "print(\"Üç gün art arda event yapanların yüzdesi : {:.2f}%\".format((countYes / (len(data.ucgun_ard_arda_login))*100)))"
      ],
      "execution_count": null,
      "outputs": [
        {
          "output_type": "stream",
          "text": [
            "Üç gün art arda event yapmayanların yüzdesi : 82.08%\n",
            "Üç gün art arda event yapanların yüzdesi : 17.92%\n"
          ],
          "name": "stdout"
        }
      ]
    },
    {
      "cell_type": "code",
      "metadata": {
        "id": "OtZqvtSIwP05",
        "colab": {
          "base_uri": "https://localhost:8080/",
          "height": 51
        },
        "outputId": "8774992e-6d9b-44d2-a8f5-45510b576bfd"
      },
      "source": [
        "countNo = len(data[data.ucgun_ard_arda_session_start == False])\n",
        "countYes = len(data[data.ucgun_ard_arda_session_start == True])\n",
        "print(\"Üç gün art arda session start yapmayanların yüzdesi : {:.2f}%\".format((countNo / (len(data.ucgun_ard_arda_session_start))*100)))\n",
        "print(\"Üç gün art arda session start yapanların yüzdesi : {:.2f}%\".format((countYes / (len(data.ucgun_ard_arda_session_start))*100)))\n"
      ],
      "execution_count": null,
      "outputs": [
        {
          "output_type": "stream",
          "text": [
            "Üç gün art arda session start yapmayanların yüzdesi : 82.68%\n",
            "Üç gün art arda session start yapanların yüzdesi : 17.32%\n"
          ],
          "name": "stdout"
        }
      ]
    },
    {
      "cell_type": "code",
      "metadata": {
        "id": "ymkHcepRws6m",
        "colab": {
          "base_uri": "https://localhost:8080/",
          "height": 282
        },
        "outputId": "5978b385-d894-44e2-c057-4d7e4c3e8a18"
      },
      "source": [
        "data[\"operating_system\"].value_counts().plot.barh().set_title(\"Cihaz İşlemcisinin Sınıf Frekansları\");"
      ],
      "execution_count": null,
      "outputs": [
        {
          "output_type": "display_data",
          "data": {
            "image/png": "[encoded data removed]",
            "text/plain": [
              "<Figure size 432x288 with 1 Axes>"
            ]
          },
          "metadata": {
            "tags": [],
            "needs_background": "light"
          }
        }
      ]
    },
    {
      "cell_type": "code",
      "metadata": {
        "id": "Pdqzzv6Iw1ic"
      },
      "source": [
        "data[\"device_category\"].value_counts().plot.barh().set_title(\"Cihaz Türünün Sınıf Frekansları\") # ÖNEMSİZ"
      ],
      "execution_count": null,
      "outputs": []
    },
    {
      "cell_type": "code",
      "metadata": {
        "id": "d0W_LmEJxFLG",
        "colab": {
          "base_uri": "https://localhost:8080/",
          "height": 111
        },
        "outputId": "6bbf79a0-75a4-4a7e-8f52-39ce943dff7a"
      },
      "source": [
        "kat_df = data.select_dtypes(include = [\"object\"])\n",
        "kat_df.head(2)"
      ],
      "execution_count": null,
      "outputs": [
        {
          "output_type": "execute_result",
          "data": {
            "text/html": [
              "<div>\n",
              "<style scoped>\n",
              "    .dataframe tbody tr th:only-of-type {\n",
              "        vertical-align: middle;\n",
              "    }\n",
              "\n",
              "    .dataframe tbody tr th {\n",
              "        vertical-align: top;\n",
              "    }\n",
              "\n",
              "    .dataframe thead th {\n",
              "        text-align: right;\n",
              "    }\n",
              "</style>\n",
              "<table border=\"1\" class=\"dataframe\">\n",
              "  <thead>\n",
              "    <tr style=\"text-align: right;\">\n",
              "      <th></th>\n",
              "      <th>is_limited_ad_tracking</th>\n",
              "      <th>device_category</th>\n",
              "      <th>mobile_brand_name</th>\n",
              "      <th>operating_system</th>\n",
              "      <th>max_appInfo_install_source</th>\n",
              "      <th>max_operating_system_version</th>\n",
              "      <th>country_max_event</th>\n",
              "    </tr>\n",
              "  </thead>\n",
              "  <tbody>\n",
              "    <tr>\n",
              "      <th>0</th>\n",
              "      <td>No</td>\n",
              "      <td>mobile</td>\n",
              "      <td>Apple</td>\n",
              "      <td>IOS</td>\n",
              "      <td>iTunes</td>\n",
              "      <td>13.4.1</td>\n",
              "      <td>Norway</td>\n",
              "    </tr>\n",
              "    <tr>\n",
              "      <th>1</th>\n",
              "      <td>No</td>\n",
              "      <td>mobile</td>\n",
              "      <td>Apple</td>\n",
              "      <td>IOS</td>\n",
              "      <td>iTunes</td>\n",
              "      <td>12.4.8</td>\n",
              "      <td>Iran</td>\n",
              "    </tr>\n",
              "  </tbody>\n",
              "</table>\n",
              "</div>"
            ],
            "text/plain": [
              "  is_limited_ad_tracking  ... country_max_event\n",
              "0                     No  ...            Norway\n",
              "1                     No  ...              Iran\n",
              "\n",
              "[2 rows x 7 columns]"
            ]
          },
          "metadata": {
            "tags": []
          },
          "execution_count": 168
        }
      ]
    },
    {
      "cell_type": "code",
      "metadata": {
        "id": "mLh_1jEzype8",
        "colab": {
          "base_uri": "https://localhost:8080/",
          "height": 204
        },
        "outputId": "ad0504f8-2ba6-41fa-f05e-bd52d9f6d317"
      },
      "source": [
        "kat_df = data.select_dtypes(include = [\"bool\"])\n",
        "kat_df.head()"
      ],
      "execution_count": null,
      "outputs": [
        {
          "output_type": "execute_result",
          "data": {
            "text/html": [
              "<div>\n",
              "<style scoped>\n",
              "    .dataframe tbody tr th:only-of-type {\n",
              "        vertical-align: middle;\n",
              "    }\n",
              "\n",
              "    .dataframe tbody tr th {\n",
              "        vertical-align: top;\n",
              "    }\n",
              "\n",
              "    .dataframe thead th {\n",
              "        text-align: right;\n",
              "    }\n",
              "</style>\n",
              "<table border=\"1\" class=\"dataframe\">\n",
              "  <thead>\n",
              "    <tr style=\"text-align: right;\">\n",
              "      <th></th>\n",
              "      <th>ucgun_ard_arda_event</th>\n",
              "      <th>has_app_exception</th>\n",
              "      <th>app_removed_by_user</th>\n",
              "      <th>os_updated_by_user</th>\n",
              "      <th>app_updated_by_user</th>\n",
              "      <th>tutorial_end_by_user</th>\n",
              "      <th>game_intro_completed_by_user</th>\n",
              "    </tr>\n",
              "  </thead>\n",
              "  <tbody>\n",
              "    <tr>\n",
              "      <th>0</th>\n",
              "      <td>False</td>\n",
              "      <td>False</td>\n",
              "      <td>False</td>\n",
              "      <td>False</td>\n",
              "      <td>False</td>\n",
              "      <td>False</td>\n",
              "      <td>False</td>\n",
              "    </tr>\n",
              "    <tr>\n",
              "      <th>1</th>\n",
              "      <td>True</td>\n",
              "      <td>False</td>\n",
              "      <td>False</td>\n",
              "      <td>False</td>\n",
              "      <td>False</td>\n",
              "      <td>True</td>\n",
              "      <td>True</td>\n",
              "    </tr>\n",
              "    <tr>\n",
              "      <th>2</th>\n",
              "      <td>False</td>\n",
              "      <td>False</td>\n",
              "      <td>False</td>\n",
              "      <td>False</td>\n",
              "      <td>False</td>\n",
              "      <td>False</td>\n",
              "      <td>False</td>\n",
              "    </tr>\n",
              "    <tr>\n",
              "      <th>3</th>\n",
              "      <td>True</td>\n",
              "      <td>False</td>\n",
              "      <td>False</td>\n",
              "      <td>False</td>\n",
              "      <td>False</td>\n",
              "      <td>True</td>\n",
              "      <td>False</td>\n",
              "    </tr>\n",
              "    <tr>\n",
              "      <th>4</th>\n",
              "      <td>False</td>\n",
              "      <td>False</td>\n",
              "      <td>True</td>\n",
              "      <td>False</td>\n",
              "      <td>False</td>\n",
              "      <td>True</td>\n",
              "      <td>True</td>\n",
              "    </tr>\n",
              "  </tbody>\n",
              "</table>\n",
              "</div>"
            ],
            "text/plain": [
              "   ucgun_ard_arda_event  ...  game_intro_completed_by_user\n",
              "0                 False  ...                         False\n",
              "1                  True  ...                          True\n",
              "2                 False  ...                         False\n",
              "3                  True  ...                         False\n",
              "4                 False  ...                          True\n",
              "\n",
              "[5 rows x 7 columns]"
            ]
          },
          "metadata": {
            "tags": []
          },
          "execution_count": 169
        }
      ]
    },
    {
      "cell_type": "code",
      "metadata": {
        "id": "vI8J2wyAu3ks",
        "colab": {
          "base_uri": "https://localhost:8080/",
          "height": 224
        },
        "outputId": "e885b9b0-7fba-41c2-cf82-ea73a5857838"
      },
      "source": [
        "data1=data.copy()\n",
        "from sklearn import preprocessing\n",
        "label_encoder = preprocessing.LabelEncoder() \n",
        "data1['target_encod']= label_encoder.fit_transform(data1['ucgun_ard_arda_event'])\n",
        "\n",
        "data1.head()\n",
        "# data1[\"ucgun_ard_arda_event\"] = data1[\"ucgun_ard_arda_event\"].astype(int)"
      ],
      "execution_count": null,
      "outputs": [
        {
          "output_type": "execute_result",
          "data": {
            "text/html": [
              "<div>\n",
              "<style scoped>\n",
              "    .dataframe tbody tr th:only-of-type {\n",
              "        vertical-align: middle;\n",
              "    }\n",
              "\n",
              "    .dataframe tbody tr th {\n",
              "        vertical-align: top;\n",
              "    }\n",
              "\n",
              "    .dataframe thead th {\n",
              "        text-align: right;\n",
              "    }\n",
              "</style>\n",
              "<table border=\"1\" class=\"dataframe\">\n",
              "  <thead>\n",
              "    <tr style=\"text-align: right;\">\n",
              "      <th></th>\n",
              "      <th>is_limited_ad_tracking</th>\n",
              "      <th>ucgun_ard_arda_event</th>\n",
              "      <th>has_app_exception</th>\n",
              "      <th>app_removed_by_user</th>\n",
              "      <th>avg_daily_event</th>\n",
              "      <th>device_category</th>\n",
              "      <th>mobile_brand_name</th>\n",
              "      <th>operating_system</th>\n",
              "      <th>max_appInfo_install_source</th>\n",
              "      <th>max_operating_system_version</th>\n",
              "      <th>country_max_event</th>\n",
              "      <th>os_updated_by_user</th>\n",
              "      <th>app_updated_by_user</th>\n",
              "      <th>tutorial_end_by_user</th>\n",
              "      <th>game_intro_completed_by_user</th>\n",
              "      <th>avg_daily_session_start</th>\n",
              "      <th>avg_daily_level_up</th>\n",
              "      <th>avg_daily_login</th>\n",
              "      <th>avg_daily_adCampaignWatchComplete</th>\n",
              "      <th>avg_daily_workerUpgradeMethodExpensiveProduct</th>\n",
              "      <th>avg_daily_workerUpgradeAmount</th>\n",
              "      <th>avg_daily_workerUpgradeMethodLowestCost</th>\n",
              "      <th>avg_daily_rocketAdWatchComplete</th>\n",
              "      <th>avg_daily_error</th>\n",
              "      <th>avg_daily_unlockedWorker</th>\n",
              "      <th>avg_daily_earningRateBoost</th>\n",
              "      <th>avg_daily_rocketAdAppear</th>\n",
              "      <th>avg_daily_ufoAdWatchComplete</th>\n",
              "      <th>avg_daily_unlockedFactory</th>\n",
              "      <th>avg_daily_productScreenClick</th>\n",
              "      <th>avg_daily_ad_reward</th>\n",
              "      <th>avg_daily_workerUpgradeUpgradeMultiplierMax</th>\n",
              "      <th>avg_worker_session</th>\n",
              "      <th>avg_factory_session</th>\n",
              "      <th>avg_transporter_session</th>\n",
              "      <th>avg_baseStation_session</th>\n",
              "      <th>avg_RewardedVideo_session</th>\n",
              "      <th>avg_upgradeAmount_session</th>\n",
              "      <th>avg_totalElapsedTime_session</th>\n",
              "      <th>avg_earningRateValue_session</th>\n",
              "      <th>avg_freeride_session</th>\n",
              "      <th>avg_uengagement_time_msec_session</th>\n",
              "      <th>avg_sengagement_time_msec_session</th>\n",
              "      <th>avg_reward_value_session</th>\n",
              "      <th>avg_maxupgradeMultiplierValue_session</th>\n",
              "      <th>avg_x1upgradeMultiplierValue_session</th>\n",
              "      <th>avg_x10upgradeMultiplierValue_session</th>\n",
              "      <th>avg_x50upgradeMultiplierValue_session</th>\n",
              "      <th>avg_OpenactiveAdCampaignAmount_session</th>\n",
              "      <th>avg_ExitactiveAdCampaignAmount_session</th>\n",
              "      <th>avg_StartactiveAdCampaignAmount_session</th>\n",
              "      <th>avg_NoncompleteactiveAdCampaignAmount_session</th>\n",
              "      <th>avg_CompleteactiveAdCampaignAmount_session</th>\n",
              "      <th>avg_error_session</th>\n",
              "      <th>avg_level_up_session</th>\n",
              "      <th>avg_unlockedWorker_session</th>\n",
              "      <th>avg_AD_CAMPAIGN_X2_CASH_session</th>\n",
              "      <th>avg_IDLE_CASH_AD_session</th>\n",
              "      <th>avg_ROCKET_AD_session</th>\n",
              "      <th>avg_UFO_AD_session</th>\n",
              "      <th>target_encod</th>\n",
              "    </tr>\n",
              "  </thead>\n",
              "  <tbody>\n",
              "    <tr>\n",
              "      <th>0</th>\n",
              "      <td>No</td>\n",
              "      <td>False</td>\n",
              "      <td>False</td>\n",
              "      <td>False</td>\n",
              "      <td>28.000000</td>\n",
              "      <td>mobile</td>\n",
              "      <td>Apple</td>\n",
              "      <td>IOS</td>\n",
              "      <td>iTunes</td>\n",
              "      <td>13.4.1</td>\n",
              "      <td>Norway</td>\n",
              "      <td>False</td>\n",
              "      <td>False</td>\n",
              "      <td>False</td>\n",
              "      <td>False</td>\n",
              "      <td>1.00</td>\n",
              "      <td>2.000000</td>\n",
              "      <td>1.00</td>\n",
              "      <td>1.00</td>\n",
              "      <td>0.0</td>\n",
              "      <td>0.000000</td>\n",
              "      <td>0.0</td>\n",
              "      <td>0.0</td>\n",
              "      <td>1.0</td>\n",
              "      <td>1.00</td>\n",
              "      <td>0.000000</td>\n",
              "      <td>0.000000</td>\n",
              "      <td>0.0</td>\n",
              "      <td>1.0</td>\n",
              "      <td>0.0</td>\n",
              "      <td>0.0</td>\n",
              "      <td>0.0</td>\n",
              "      <td>0.000000</td>\n",
              "      <td>1.000000</td>\n",
              "      <td>1.000000</td>\n",
              "      <td>0.000000</td>\n",
              "      <td>0.000000</td>\n",
              "      <td>0.000000</td>\n",
              "      <td>0.000000</td>\n",
              "      <td>0.000000</td>\n",
              "      <td>0.0</td>\n",
              "      <td>6.134100e+04</td>\n",
              "      <td>0.000000</td>\n",
              "      <td>0.0</td>\n",
              "      <td>0.000000</td>\n",
              "      <td>0.000000</td>\n",
              "      <td>0.000000</td>\n",
              "      <td>0.000000</td>\n",
              "      <td>0.0</td>\n",
              "      <td>1.000000</td>\n",
              "      <td>0.0</td>\n",
              "      <td>0.0</td>\n",
              "      <td>0.0</td>\n",
              "      <td>1.000000</td>\n",
              "      <td>2.000000</td>\n",
              "      <td>1.0000</td>\n",
              "      <td>0.000000</td>\n",
              "      <td>0.000000</td>\n",
              "      <td>0.000000</td>\n",
              "      <td>0.0</td>\n",
              "      <td>0</td>\n",
              "    </tr>\n",
              "    <tr>\n",
              "      <th>1</th>\n",
              "      <td>No</td>\n",
              "      <td>True</td>\n",
              "      <td>False</td>\n",
              "      <td>False</td>\n",
              "      <td>793.750000</td>\n",
              "      <td>mobile</td>\n",
              "      <td>Apple</td>\n",
              "      <td>IOS</td>\n",
              "      <td>iTunes</td>\n",
              "      <td>12.4.8</td>\n",
              "      <td>Iran</td>\n",
              "      <td>False</td>\n",
              "      <td>False</td>\n",
              "      <td>True</td>\n",
              "      <td>True</td>\n",
              "      <td>4.25</td>\n",
              "      <td>154.000000</td>\n",
              "      <td>3.25</td>\n",
              "      <td>1.75</td>\n",
              "      <td>0.0</td>\n",
              "      <td>59.500000</td>\n",
              "      <td>12.0</td>\n",
              "      <td>4.0</td>\n",
              "      <td>1.0</td>\n",
              "      <td>4.25</td>\n",
              "      <td>15.500000</td>\n",
              "      <td>9.750000</td>\n",
              "      <td>0.0</td>\n",
              "      <td>1.0</td>\n",
              "      <td>1.5</td>\n",
              "      <td>0.0</td>\n",
              "      <td>92.5</td>\n",
              "      <td>14.000000</td>\n",
              "      <td>8.058824</td>\n",
              "      <td>13.235294</td>\n",
              "      <td>0.941176</td>\n",
              "      <td>0.941176</td>\n",
              "      <td>490.117647</td>\n",
              "      <td>114.882353</td>\n",
              "      <td>156.236075</td>\n",
              "      <td>0.0</td>\n",
              "      <td>5.890805e+05</td>\n",
              "      <td>0.000000</td>\n",
              "      <td>0.0</td>\n",
              "      <td>316.176471</td>\n",
              "      <td>10.411765</td>\n",
              "      <td>4.882353</td>\n",
              "      <td>2.294118</td>\n",
              "      <td>0.0</td>\n",
              "      <td>0.058824</td>\n",
              "      <td>0.0</td>\n",
              "      <td>0.0</td>\n",
              "      <td>0.0</td>\n",
              "      <td>0.058824</td>\n",
              "      <td>36.235294</td>\n",
              "      <td>1.0000</td>\n",
              "      <td>0.352941</td>\n",
              "      <td>0.117647</td>\n",
              "      <td>0.470588</td>\n",
              "      <td>0.0</td>\n",
              "      <td>1</td>\n",
              "    </tr>\n",
              "    <tr>\n",
              "      <th>2</th>\n",
              "      <td>No</td>\n",
              "      <td>False</td>\n",
              "      <td>False</td>\n",
              "      <td>False</td>\n",
              "      <td>103.000000</td>\n",
              "      <td>mobile</td>\n",
              "      <td>Apple</td>\n",
              "      <td>IOS</td>\n",
              "      <td>iTunes</td>\n",
              "      <td>13.6</td>\n",
              "      <td>Serbia</td>\n",
              "      <td>False</td>\n",
              "      <td>False</td>\n",
              "      <td>False</td>\n",
              "      <td>False</td>\n",
              "      <td>2.00</td>\n",
              "      <td>19.000000</td>\n",
              "      <td>2.00</td>\n",
              "      <td>0.00</td>\n",
              "      <td>0.0</td>\n",
              "      <td>7.000000</td>\n",
              "      <td>0.0</td>\n",
              "      <td>0.0</td>\n",
              "      <td>0.0</td>\n",
              "      <td>1.00</td>\n",
              "      <td>2.000000</td>\n",
              "      <td>1.000000</td>\n",
              "      <td>0.0</td>\n",
              "      <td>0.0</td>\n",
              "      <td>0.0</td>\n",
              "      <td>0.0</td>\n",
              "      <td>7.0</td>\n",
              "      <td>0.437500</td>\n",
              "      <td>0.187500</td>\n",
              "      <td>0.437500</td>\n",
              "      <td>0.125000</td>\n",
              "      <td>0.000000</td>\n",
              "      <td>5.750000</td>\n",
              "      <td>2.187500</td>\n",
              "      <td>5.962976</td>\n",
              "      <td>0.0</td>\n",
              "      <td>1.410162e+04</td>\n",
              "      <td>0.000000</td>\n",
              "      <td>0.0</td>\n",
              "      <td>5.750000</td>\n",
              "      <td>0.000000</td>\n",
              "      <td>0.000000</td>\n",
              "      <td>0.000000</td>\n",
              "      <td>0.0</td>\n",
              "      <td>0.000000</td>\n",
              "      <td>0.0</td>\n",
              "      <td>0.0</td>\n",
              "      <td>0.0</td>\n",
              "      <td>0.000000</td>\n",
              "      <td>1.187500</td>\n",
              "      <td>0.0625</td>\n",
              "      <td>0.000000</td>\n",
              "      <td>0.000000</td>\n",
              "      <td>0.000000</td>\n",
              "      <td>0.0</td>\n",
              "      <td>0</td>\n",
              "    </tr>\n",
              "    <tr>\n",
              "      <th>3</th>\n",
              "      <td>No</td>\n",
              "      <td>True</td>\n",
              "      <td>False</td>\n",
              "      <td>False</td>\n",
              "      <td>281.333333</td>\n",
              "      <td>mobile</td>\n",
              "      <td>Samsung</td>\n",
              "      <td>ANDROID</td>\n",
              "      <td>com.android.vending</td>\n",
              "      <td>9</td>\n",
              "      <td>United States</td>\n",
              "      <td>False</td>\n",
              "      <td>False</td>\n",
              "      <td>True</td>\n",
              "      <td>False</td>\n",
              "      <td>1.00</td>\n",
              "      <td>41.333333</td>\n",
              "      <td>1.00</td>\n",
              "      <td>1.00</td>\n",
              "      <td>0.0</td>\n",
              "      <td>16.333333</td>\n",
              "      <td>9.0</td>\n",
              "      <td>6.0</td>\n",
              "      <td>1.0</td>\n",
              "      <td>2.00</td>\n",
              "      <td>12.333333</td>\n",
              "      <td>16.333333</td>\n",
              "      <td>0.0</td>\n",
              "      <td>1.0</td>\n",
              "      <td>0.0</td>\n",
              "      <td>6.0</td>\n",
              "      <td>0.0</td>\n",
              "      <td>16.333333</td>\n",
              "      <td>11.666667</td>\n",
              "      <td>12.333333</td>\n",
              "      <td>1.000000</td>\n",
              "      <td>2.000000</td>\n",
              "      <td>484.666667</td>\n",
              "      <td>234.333333</td>\n",
              "      <td>175.968473</td>\n",
              "      <td>5.0</td>\n",
              "      <td>6.572923e+05</td>\n",
              "      <td>376739.666667</td>\n",
              "      <td>2.0</td>\n",
              "      <td>0.000000</td>\n",
              "      <td>24.666667</td>\n",
              "      <td>32.666667</td>\n",
              "      <td>2.666667</td>\n",
              "      <td>0.0</td>\n",
              "      <td>0.333333</td>\n",
              "      <td>0.0</td>\n",
              "      <td>0.0</td>\n",
              "      <td>0.0</td>\n",
              "      <td>0.333333</td>\n",
              "      <td>41.333333</td>\n",
              "      <td>2.0000</td>\n",
              "      <td>0.000000</td>\n",
              "      <td>0.000000</td>\n",
              "      <td>2.000000</td>\n",
              "      <td>0.0</td>\n",
              "      <td>1</td>\n",
              "    </tr>\n",
              "    <tr>\n",
              "      <th>4</th>\n",
              "      <td>No</td>\n",
              "      <td>False</td>\n",
              "      <td>False</td>\n",
              "      <td>True</td>\n",
              "      <td>711.000000</td>\n",
              "      <td>mobile</td>\n",
              "      <td>Samsung</td>\n",
              "      <td>ANDROID</td>\n",
              "      <td>com.android.vending</td>\n",
              "      <td>10</td>\n",
              "      <td>United States</td>\n",
              "      <td>False</td>\n",
              "      <td>False</td>\n",
              "      <td>True</td>\n",
              "      <td>True</td>\n",
              "      <td>1.00</td>\n",
              "      <td>30.000000</td>\n",
              "      <td>1.00</td>\n",
              "      <td>1.00</td>\n",
              "      <td>0.0</td>\n",
              "      <td>16.000000</td>\n",
              "      <td>11.0</td>\n",
              "      <td>1.0</td>\n",
              "      <td>1.0</td>\n",
              "      <td>4.00</td>\n",
              "      <td>11.000000</td>\n",
              "      <td>10.000000</td>\n",
              "      <td>1.0</td>\n",
              "      <td>1.0</td>\n",
              "      <td>1.0</td>\n",
              "      <td>2.0</td>\n",
              "      <td>0.0</td>\n",
              "      <td>16.000000</td>\n",
              "      <td>7.000000</td>\n",
              "      <td>6.000000</td>\n",
              "      <td>1.000000</td>\n",
              "      <td>2.000000</td>\n",
              "      <td>434.000000</td>\n",
              "      <td>66.000000</td>\n",
              "      <td>73.615406</td>\n",
              "      <td>5.0</td>\n",
              "      <td>1.611844e+06</td>\n",
              "      <td>699530.000000</td>\n",
              "      <td>2.0</td>\n",
              "      <td>0.000000</td>\n",
              "      <td>434.000000</td>\n",
              "      <td>0.000000</td>\n",
              "      <td>0.000000</td>\n",
              "      <td>0.0</td>\n",
              "      <td>1.000000</td>\n",
              "      <td>0.0</td>\n",
              "      <td>0.0</td>\n",
              "      <td>0.0</td>\n",
              "      <td>1.000000</td>\n",
              "      <td>30.000000</td>\n",
              "      <td>4.0000</td>\n",
              "      <td>0.000000</td>\n",
              "      <td>0.000000</td>\n",
              "      <td>1.000000</td>\n",
              "      <td>1.0</td>\n",
              "      <td>0</td>\n",
              "    </tr>\n",
              "  </tbody>\n",
              "</table>\n",
              "</div>"
            ],
            "text/plain": [
              "  is_limited_ad_tracking  ...  target_encod\n",
              "0                     No  ...             0\n",
              "1                     No  ...             1\n",
              "2                     No  ...             0\n",
              "3                     No  ...             1\n",
              "4                     No  ...             0\n",
              "\n",
              "[5 rows x 61 columns]"
            ]
          },
          "metadata": {
            "tags": []
          },
          "execution_count": 172
        }
      ]
    },
    {
      "cell_type": "code",
      "metadata": {
        "id": "JeCAsYKrkaou"
      },
      "source": [
        "data1[\"target_encod\"] = data1.target_encod.astype('category')\n",
        "# data1[\"game_intro_completed_by_user\"] = data1[\"game_intro_completed_by_user\"].astype(int)"
      ],
      "execution_count": null,
      "outputs": []
    },
    {
      "cell_type": "markdown",
      "metadata": {
        "id": "vAw1azScsb5g"
      },
      "source": [
        ""
      ]
    },
    {
      "cell_type": "code",
      "metadata": {
        "id": "MSQHDrfRoBsL",
        "colab": {
          "base_uri": "https://localhost:8080/",
          "height": 1000
        },
        "outputId": "2f1589fa-4d16-4f0d-c682-801fe672165a"
      },
      "source": [
        "data1.info()"
      ],
      "execution_count": null,
      "outputs": [
        {
          "output_type": "stream",
          "text": [
            "<class 'pandas.core.frame.DataFrame'>\n",
            "RangeIndex: 25548 entries, 0 to 25547\n",
            "Data columns (total 61 columns):\n",
            " #   Column                                         Non-Null Count  Dtype   \n",
            "---  ------                                         --------------  -----   \n",
            " 0   is_limited_ad_tracking                         25548 non-null  object  \n",
            " 1   ucgun_ard_arda_event                           25548 non-null  bool    \n",
            " 2   has_app_exception                              25548 non-null  bool    \n",
            " 3   app_removed_by_user                            25548 non-null  bool    \n",
            " 4   avg_daily_event                                25548 non-null  float64 \n",
            " 5   device_category                                25548 non-null  object  \n",
            " 6   mobile_brand_name                              25548 non-null  object  \n",
            " 7   operating_system                               25548 non-null  object  \n",
            " 8   max_appInfo_install_source                     25548 non-null  object  \n",
            " 9   max_operating_system_version                   25548 non-null  object  \n",
            " 10  country_max_event                              25548 non-null  object  \n",
            " 11  os_updated_by_user                             25548 non-null  bool    \n",
            " 12  app_updated_by_user                            25548 non-null  bool    \n",
            " 13  tutorial_end_by_user                           25548 non-null  bool    \n",
            " 14  game_intro_completed_by_user                   25548 non-null  bool    \n",
            " 15  avg_daily_session_start                        25548 non-null  float64 \n",
            " 16  avg_daily_level_up                             25548 non-null  float64 \n",
            " 17  avg_daily_login                                25548 non-null  float64 \n",
            " 18  avg_daily_adCampaignWatchComplete              25548 non-null  float64 \n",
            " 19  avg_daily_workerUpgradeMethodExpensiveProduct  25548 non-null  float64 \n",
            " 20  avg_daily_workerUpgradeAmount                  25548 non-null  float64 \n",
            " 21  avg_daily_workerUpgradeMethodLowestCost        25548 non-null  float64 \n",
            " 22  avg_daily_rocketAdWatchComplete                25548 non-null  float64 \n",
            " 23  avg_daily_error                                25548 non-null  float64 \n",
            " 24  avg_daily_unlockedWorker                       25548 non-null  float64 \n",
            " 25  avg_daily_earningRateBoost                     25548 non-null  float64 \n",
            " 26  avg_daily_rocketAdAppear                       25548 non-null  float64 \n",
            " 27  avg_daily_ufoAdWatchComplete                   25548 non-null  float64 \n",
            " 28  avg_daily_unlockedFactory                      25548 non-null  float64 \n",
            " 29  avg_daily_productScreenClick                   25548 non-null  float64 \n",
            " 30  avg_daily_ad_reward                            25548 non-null  float64 \n",
            " 31  avg_daily_workerUpgradeUpgradeMultiplierMax    25548 non-null  float64 \n",
            " 32  avg_worker_session                             25548 non-null  float64 \n",
            " 33  avg_factory_session                            25548 non-null  float64 \n",
            " 34  avg_transporter_session                        25548 non-null  float64 \n",
            " 35  avg_baseStation_session                        25548 non-null  float64 \n",
            " 36  avg_RewardedVideo_session                      25548 non-null  float64 \n",
            " 37  avg_upgradeAmount_session                      25548 non-null  float64 \n",
            " 38  avg_totalElapsedTime_session                   25548 non-null  float64 \n",
            " 39  avg_earningRateValue_session                   25548 non-null  float64 \n",
            " 40  avg_freeride_session                           25548 non-null  float64 \n",
            " 41  avg_uengagement_time_msec_session              25548 non-null  float64 \n",
            " 42  avg_sengagement_time_msec_session              25548 non-null  float64 \n",
            " 43  avg_reward_value_session                       25548 non-null  float64 \n",
            " 44  avg_maxupgradeMultiplierValue_session          25548 non-null  float64 \n",
            " 45  avg_x1upgradeMultiplierValue_session           25548 non-null  float64 \n",
            " 46  avg_x10upgradeMultiplierValue_session          25548 non-null  float64 \n",
            " 47  avg_x50upgradeMultiplierValue_session          25548 non-null  float64 \n",
            " 48  avg_OpenactiveAdCampaignAmount_session         25548 non-null  float64 \n",
            " 49  avg_ExitactiveAdCampaignAmount_session         25548 non-null  float64 \n",
            " 50  avg_StartactiveAdCampaignAmount_session        25548 non-null  float64 \n",
            " 51  avg_NoncompleteactiveAdCampaignAmount_session  25548 non-null  float64 \n",
            " 52  avg_CompleteactiveAdCampaignAmount_session     25548 non-null  float64 \n",
            " 53  avg_error_session                              25548 non-null  float64 \n",
            " 54  avg_level_up_session                           25548 non-null  float64 \n",
            " 55  avg_unlockedWorker_session                     25548 non-null  float64 \n",
            " 56  avg_AD_CAMPAIGN_X2_CASH_session                25548 non-null  float64 \n",
            " 57  avg_IDLE_CASH_AD_session                       25548 non-null  float64 \n",
            " 58  avg_ROCKET_AD_session                          25548 non-null  float64 \n",
            " 59  avg_UFO_AD_session                             25548 non-null  float64 \n",
            " 60  target_encod                                   25548 non-null  category\n",
            "dtypes: bool(7), category(1), float64(46), object(7)\n",
            "memory usage: 10.5+ MB\n"
          ],
          "name": "stdout"
        }
      ]
    },
    {
      "cell_type": "code",
      "metadata": {
        "id": "RImMEcH5vy_u"
      },
      "source": [
        "#data1[\"has_app_exception\"] = data1[\"has_app_exception\"].astype(int)\n",
        "#data1[\"app_removed_by_user\"] = data1[\"app_removed_by_user\"].astype(int)\n",
        "#data1[\"os_updated_by_user\"] = data1[\"os_updated_by_user\"].astype(int)\n",
        "#data1[\"app_updated_by_user\"] = data1[\"app_updated_by_user\"].astype(int)\n",
        "#data1[\"tutorial_end_by_user\"] = data1[\"tutorial_end_by_user\"].astype(int)\n",
        "#data1[\"game_intro_completed_by_user\"] = data1[\"game_intro_completed_by_user\"].astype(int)"
      ],
      "execution_count": null,
      "outputs": []
    },
    {
      "cell_type": "code",
      "metadata": {
        "id": "YPvYZOurv0c5",
        "colab": {
          "base_uri": "https://localhost:8080/",
          "height": 80
        },
        "outputId": "2dc4d4e3-1326-42b2-faac-8d3e6804e8d4"
      },
      "source": [
        "kat_df = data.select_dtypes(include = [\"object\"])\n",
        "kat_df.head(1)"
      ],
      "execution_count": null,
      "outputs": [
        {
          "output_type": "execute_result",
          "data": {
            "text/html": [
              "<div>\n",
              "<style scoped>\n",
              "    .dataframe tbody tr th:only-of-type {\n",
              "        vertical-align: middle;\n",
              "    }\n",
              "\n",
              "    .dataframe tbody tr th {\n",
              "        vertical-align: top;\n",
              "    }\n",
              "\n",
              "    .dataframe thead th {\n",
              "        text-align: right;\n",
              "    }\n",
              "</style>\n",
              "<table border=\"1\" class=\"dataframe\">\n",
              "  <thead>\n",
              "    <tr style=\"text-align: right;\">\n",
              "      <th></th>\n",
              "      <th>is_limited_ad_tracking</th>\n",
              "      <th>device_category</th>\n",
              "      <th>mobile_brand_name</th>\n",
              "      <th>operating_system</th>\n",
              "      <th>max_appInfo_install_source</th>\n",
              "      <th>max_operating_system_version</th>\n",
              "      <th>country_max_event</th>\n",
              "    </tr>\n",
              "  </thead>\n",
              "  <tbody>\n",
              "    <tr>\n",
              "      <th>0</th>\n",
              "      <td>No</td>\n",
              "      <td>mobile</td>\n",
              "      <td>Apple</td>\n",
              "      <td>IOS</td>\n",
              "      <td>iTunes</td>\n",
              "      <td>13.4.1</td>\n",
              "      <td>Norway</td>\n",
              "    </tr>\n",
              "  </tbody>\n",
              "</table>\n",
              "</div>"
            ],
            "text/plain": [
              "  is_limited_ad_tracking  ... country_max_event\n",
              "0                     No  ...            Norway\n",
              "\n",
              "[1 rows x 7 columns]"
            ]
          },
          "metadata": {
            "tags": []
          },
          "execution_count": 175
        }
      ]
    },
    {
      "cell_type": "code",
      "metadata": {
        "id": "v3RSyePTwyaJ"
      },
      "source": [
        "a = pd.get_dummies(data['is_limited_ad_tracking'], prefix = \"is_limited_ad_tracking\")\n",
        "b = pd.get_dummies(data['device_category'], prefix = \"device_category\")\n",
        "c = pd.get_dummies(data['mobile_brand_name'], prefix = \"mobile_brand_name\")\n",
        "d = pd.get_dummies(data['operating_system'], prefix = \"operating_system\")\n",
        "e = pd.get_dummies(data['max_appInfo_install_source'], prefix = \"max_appInfo_install_source\")\n",
        "f = pd.get_dummies(data['country_max_event'], prefix = \"country_max_event\")\n"
      ],
      "execution_count": null,
      "outputs": []
    },
    {
      "cell_type": "code",
      "metadata": {
        "id": "N4ke71VO-598",
        "colab": {
          "base_uri": "https://localhost:8080/",
          "height": 270
        },
        "outputId": "0ad97b16-354d-43c9-dbf4-8ecd71d68af5"
      },
      "source": [
        "frames = [data1, a, b, c,d,e,f]\n",
        "data1 = pd.concat(frames, axis = 1) #concat=birleştirmek\n",
        "data1.head()"
      ],
      "execution_count": null,
      "outputs": [
        {
          "output_type": "execute_result",
          "data": {
            "text/html": [
              "<div>\n",
              "<style scoped>\n",
              "    .dataframe tbody tr th:only-of-type {\n",
              "        vertical-align: middle;\n",
              "    }\n",
              "\n",
              "    .dataframe tbody tr th {\n",
              "        vertical-align: top;\n",
              "    }\n",
              "\n",
              "    .dataframe thead th {\n",
              "        text-align: right;\n",
              "    }\n",
              "</style>\n",
              "<table border=\"1\" class=\"dataframe\">\n",
              "  <thead>\n",
              "    <tr style=\"text-align: right;\">\n",
              "      <th></th>\n",
              "      <th>is_limited_ad_tracking</th>\n",
              "      <th>ucgun_ard_arda_event</th>\n",
              "      <th>has_app_exception</th>\n",
              "      <th>app_removed_by_user</th>\n",
              "      <th>avg_daily_event</th>\n",
              "      <th>device_category</th>\n",
              "      <th>mobile_brand_name</th>\n",
              "      <th>operating_system</th>\n",
              "      <th>max_appInfo_install_source</th>\n",
              "      <th>max_operating_system_version</th>\n",
              "      <th>country_max_event</th>\n",
              "      <th>os_updated_by_user</th>\n",
              "      <th>app_updated_by_user</th>\n",
              "      <th>tutorial_end_by_user</th>\n",
              "      <th>game_intro_completed_by_user</th>\n",
              "      <th>avg_daily_session_start</th>\n",
              "      <th>avg_daily_level_up</th>\n",
              "      <th>avg_daily_login</th>\n",
              "      <th>avg_daily_adCampaignWatchComplete</th>\n",
              "      <th>avg_daily_workerUpgradeMethodExpensiveProduct</th>\n",
              "      <th>avg_daily_workerUpgradeAmount</th>\n",
              "      <th>avg_daily_workerUpgradeMethodLowestCost</th>\n",
              "      <th>avg_daily_rocketAdWatchComplete</th>\n",
              "      <th>avg_daily_error</th>\n",
              "      <th>avg_daily_unlockedWorker</th>\n",
              "      <th>avg_daily_earningRateBoost</th>\n",
              "      <th>avg_daily_rocketAdAppear</th>\n",
              "      <th>avg_daily_ufoAdWatchComplete</th>\n",
              "      <th>avg_daily_unlockedFactory</th>\n",
              "      <th>avg_daily_productScreenClick</th>\n",
              "      <th>avg_daily_ad_reward</th>\n",
              "      <th>avg_daily_workerUpgradeUpgradeMultiplierMax</th>\n",
              "      <th>avg_worker_session</th>\n",
              "      <th>avg_factory_session</th>\n",
              "      <th>avg_transporter_session</th>\n",
              "      <th>avg_baseStation_session</th>\n",
              "      <th>avg_RewardedVideo_session</th>\n",
              "      <th>avg_upgradeAmount_session</th>\n",
              "      <th>avg_totalElapsedTime_session</th>\n",
              "      <th>avg_earningRateValue_session</th>\n",
              "      <th>...</th>\n",
              "      <th>country_max_event_Nepal</th>\n",
              "      <th>country_max_event_Netherlands</th>\n",
              "      <th>country_max_event_New Caledonia</th>\n",
              "      <th>country_max_event_New Zealand</th>\n",
              "      <th>country_max_event_North Macedonia</th>\n",
              "      <th>country_max_event_Northern Mariana Islands</th>\n",
              "      <th>country_max_event_Norway</th>\n",
              "      <th>country_max_event_Pakistan</th>\n",
              "      <th>country_max_event_Peru</th>\n",
              "      <th>country_max_event_Philippines</th>\n",
              "      <th>country_max_event_Poland</th>\n",
              "      <th>country_max_event_Portugal</th>\n",
              "      <th>country_max_event_Puerto Rico</th>\n",
              "      <th>country_max_event_Qatar</th>\n",
              "      <th>country_max_event_Romania</th>\n",
              "      <th>country_max_event_Russia</th>\n",
              "      <th>country_max_event_Réunion</th>\n",
              "      <th>country_max_event_Saudi Arabia</th>\n",
              "      <th>country_max_event_Serbia</th>\n",
              "      <th>country_max_event_Singapore</th>\n",
              "      <th>country_max_event_Slovakia</th>\n",
              "      <th>country_max_event_Slovenia</th>\n",
              "      <th>country_max_event_South Africa</th>\n",
              "      <th>country_max_event_South Korea</th>\n",
              "      <th>country_max_event_Spain</th>\n",
              "      <th>country_max_event_Sweden</th>\n",
              "      <th>country_max_event_Switzerland</th>\n",
              "      <th>country_max_event_Taiwan</th>\n",
              "      <th>country_max_event_Tanzania</th>\n",
              "      <th>country_max_event_Thailand</th>\n",
              "      <th>country_max_event_Turkey</th>\n",
              "      <th>country_max_event_U.S. Virgin Islands</th>\n",
              "      <th>country_max_event_Ukraine</th>\n",
              "      <th>country_max_event_United Arab Emirates</th>\n",
              "      <th>country_max_event_United Kingdom</th>\n",
              "      <th>country_max_event_United States</th>\n",
              "      <th>country_max_event_Unknown</th>\n",
              "      <th>country_max_event_Uzbekistan</th>\n",
              "      <th>country_max_event_Venezuela</th>\n",
              "      <th>country_max_event_Vietnam</th>\n",
              "    </tr>\n",
              "  </thead>\n",
              "  <tbody>\n",
              "    <tr>\n",
              "      <th>0</th>\n",
              "      <td>No</td>\n",
              "      <td>False</td>\n",
              "      <td>False</td>\n",
              "      <td>False</td>\n",
              "      <td>28.000000</td>\n",
              "      <td>mobile</td>\n",
              "      <td>Apple</td>\n",
              "      <td>IOS</td>\n",
              "      <td>iTunes</td>\n",
              "      <td>13.4.1</td>\n",
              "      <td>Norway</td>\n",
              "      <td>False</td>\n",
              "      <td>False</td>\n",
              "      <td>False</td>\n",
              "      <td>False</td>\n",
              "      <td>1.00</td>\n",
              "      <td>2.000000</td>\n",
              "      <td>1.00</td>\n",
              "      <td>1.00</td>\n",
              "      <td>0.0</td>\n",
              "      <td>0.000000</td>\n",
              "      <td>0.0</td>\n",
              "      <td>0.0</td>\n",
              "      <td>1.0</td>\n",
              "      <td>1.00</td>\n",
              "      <td>0.000000</td>\n",
              "      <td>0.000000</td>\n",
              "      <td>0.0</td>\n",
              "      <td>1.0</td>\n",
              "      <td>0.0</td>\n",
              "      <td>0.0</td>\n",
              "      <td>0.0</td>\n",
              "      <td>0.000000</td>\n",
              "      <td>1.000000</td>\n",
              "      <td>1.000000</td>\n",
              "      <td>0.000000</td>\n",
              "      <td>0.000000</td>\n",
              "      <td>0.000000</td>\n",
              "      <td>0.000000</td>\n",
              "      <td>0.000000</td>\n",
              "      <td>...</td>\n",
              "      <td>0</td>\n",
              "      <td>0</td>\n",
              "      <td>0</td>\n",
              "      <td>0</td>\n",
              "      <td>0</td>\n",
              "      <td>0</td>\n",
              "      <td>1</td>\n",
              "      <td>0</td>\n",
              "      <td>0</td>\n",
              "      <td>0</td>\n",
              "      <td>0</td>\n",
              "      <td>0</td>\n",
              "      <td>0</td>\n",
              "      <td>0</td>\n",
              "      <td>0</td>\n",
              "      <td>0</td>\n",
              "      <td>0</td>\n",
              "      <td>0</td>\n",
              "      <td>0</td>\n",
              "      <td>0</td>\n",
              "      <td>0</td>\n",
              "      <td>0</td>\n",
              "      <td>0</td>\n",
              "      <td>0</td>\n",
              "      <td>0</td>\n",
              "      <td>0</td>\n",
              "      <td>0</td>\n",
              "      <td>0</td>\n",
              "      <td>0</td>\n",
              "      <td>0</td>\n",
              "      <td>0</td>\n",
              "      <td>0</td>\n",
              "      <td>0</td>\n",
              "      <td>0</td>\n",
              "      <td>0</td>\n",
              "      <td>0</td>\n",
              "      <td>0</td>\n",
              "      <td>0</td>\n",
              "      <td>0</td>\n",
              "      <td>0</td>\n",
              "    </tr>\n",
              "    <tr>\n",
              "      <th>1</th>\n",
              "      <td>No</td>\n",
              "      <td>True</td>\n",
              "      <td>False</td>\n",
              "      <td>False</td>\n",
              "      <td>793.750000</td>\n",
              "      <td>mobile</td>\n",
              "      <td>Apple</td>\n",
              "      <td>IOS</td>\n",
              "      <td>iTunes</td>\n",
              "      <td>12.4.8</td>\n",
              "      <td>Iran</td>\n",
              "      <td>False</td>\n",
              "      <td>False</td>\n",
              "      <td>True</td>\n",
              "      <td>True</td>\n",
              "      <td>4.25</td>\n",
              "      <td>154.000000</td>\n",
              "      <td>3.25</td>\n",
              "      <td>1.75</td>\n",
              "      <td>0.0</td>\n",
              "      <td>59.500000</td>\n",
              "      <td>12.0</td>\n",
              "      <td>4.0</td>\n",
              "      <td>1.0</td>\n",
              "      <td>4.25</td>\n",
              "      <td>15.500000</td>\n",
              "      <td>9.750000</td>\n",
              "      <td>0.0</td>\n",
              "      <td>1.0</td>\n",
              "      <td>1.5</td>\n",
              "      <td>0.0</td>\n",
              "      <td>92.5</td>\n",
              "      <td>14.000000</td>\n",
              "      <td>8.058824</td>\n",
              "      <td>13.235294</td>\n",
              "      <td>0.941176</td>\n",
              "      <td>0.941176</td>\n",
              "      <td>490.117647</td>\n",
              "      <td>114.882353</td>\n",
              "      <td>156.236075</td>\n",
              "      <td>...</td>\n",
              "      <td>0</td>\n",
              "      <td>0</td>\n",
              "      <td>0</td>\n",
              "      <td>0</td>\n",
              "      <td>0</td>\n",
              "      <td>0</td>\n",
              "      <td>0</td>\n",
              "      <td>0</td>\n",
              "      <td>0</td>\n",
              "      <td>0</td>\n",
              "      <td>0</td>\n",
              "      <td>0</td>\n",
              "      <td>0</td>\n",
              "      <td>0</td>\n",
              "      <td>0</td>\n",
              "      <td>0</td>\n",
              "      <td>0</td>\n",
              "      <td>0</td>\n",
              "      <td>0</td>\n",
              "      <td>0</td>\n",
              "      <td>0</td>\n",
              "      <td>0</td>\n",
              "      <td>0</td>\n",
              "      <td>0</td>\n",
              "      <td>0</td>\n",
              "      <td>0</td>\n",
              "      <td>0</td>\n",
              "      <td>0</td>\n",
              "      <td>0</td>\n",
              "      <td>0</td>\n",
              "      <td>0</td>\n",
              "      <td>0</td>\n",
              "      <td>0</td>\n",
              "      <td>0</td>\n",
              "      <td>0</td>\n",
              "      <td>0</td>\n",
              "      <td>0</td>\n",
              "      <td>0</td>\n",
              "      <td>0</td>\n",
              "      <td>0</td>\n",
              "    </tr>\n",
              "    <tr>\n",
              "      <th>2</th>\n",
              "      <td>No</td>\n",
              "      <td>False</td>\n",
              "      <td>False</td>\n",
              "      <td>False</td>\n",
              "      <td>103.000000</td>\n",
              "      <td>mobile</td>\n",
              "      <td>Apple</td>\n",
              "      <td>IOS</td>\n",
              "      <td>iTunes</td>\n",
              "      <td>13.6</td>\n",
              "      <td>Serbia</td>\n",
              "      <td>False</td>\n",
              "      <td>False</td>\n",
              "      <td>False</td>\n",
              "      <td>False</td>\n",
              "      <td>2.00</td>\n",
              "      <td>19.000000</td>\n",
              "      <td>2.00</td>\n",
              "      <td>0.00</td>\n",
              "      <td>0.0</td>\n",
              "      <td>7.000000</td>\n",
              "      <td>0.0</td>\n",
              "      <td>0.0</td>\n",
              "      <td>0.0</td>\n",
              "      <td>1.00</td>\n",
              "      <td>2.000000</td>\n",
              "      <td>1.000000</td>\n",
              "      <td>0.0</td>\n",
              "      <td>0.0</td>\n",
              "      <td>0.0</td>\n",
              "      <td>0.0</td>\n",
              "      <td>7.0</td>\n",
              "      <td>0.437500</td>\n",
              "      <td>0.187500</td>\n",
              "      <td>0.437500</td>\n",
              "      <td>0.125000</td>\n",
              "      <td>0.000000</td>\n",
              "      <td>5.750000</td>\n",
              "      <td>2.187500</td>\n",
              "      <td>5.962976</td>\n",
              "      <td>...</td>\n",
              "      <td>0</td>\n",
              "      <td>0</td>\n",
              "      <td>0</td>\n",
              "      <td>0</td>\n",
              "      <td>0</td>\n",
              "      <td>0</td>\n",
              "      <td>0</td>\n",
              "      <td>0</td>\n",
              "      <td>0</td>\n",
              "      <td>0</td>\n",
              "      <td>0</td>\n",
              "      <td>0</td>\n",
              "      <td>0</td>\n",
              "      <td>0</td>\n",
              "      <td>0</td>\n",
              "      <td>0</td>\n",
              "      <td>0</td>\n",
              "      <td>0</td>\n",
              "      <td>1</td>\n",
              "      <td>0</td>\n",
              "      <td>0</td>\n",
              "      <td>0</td>\n",
              "      <td>0</td>\n",
              "      <td>0</td>\n",
              "      <td>0</td>\n",
              "      <td>0</td>\n",
              "      <td>0</td>\n",
              "      <td>0</td>\n",
              "      <td>0</td>\n",
              "      <td>0</td>\n",
              "      <td>0</td>\n",
              "      <td>0</td>\n",
              "      <td>0</td>\n",
              "      <td>0</td>\n",
              "      <td>0</td>\n",
              "      <td>0</td>\n",
              "      <td>0</td>\n",
              "      <td>0</td>\n",
              "      <td>0</td>\n",
              "      <td>0</td>\n",
              "    </tr>\n",
              "    <tr>\n",
              "      <th>3</th>\n",
              "      <td>No</td>\n",
              "      <td>True</td>\n",
              "      <td>False</td>\n",
              "      <td>False</td>\n",
              "      <td>281.333333</td>\n",
              "      <td>mobile</td>\n",
              "      <td>Samsung</td>\n",
              "      <td>ANDROID</td>\n",
              "      <td>com.android.vending</td>\n",
              "      <td>9</td>\n",
              "      <td>United States</td>\n",
              "      <td>False</td>\n",
              "      <td>False</td>\n",
              "      <td>True</td>\n",
              "      <td>False</td>\n",
              "      <td>1.00</td>\n",
              "      <td>41.333333</td>\n",
              "      <td>1.00</td>\n",
              "      <td>1.00</td>\n",
              "      <td>0.0</td>\n",
              "      <td>16.333333</td>\n",
              "      <td>9.0</td>\n",
              "      <td>6.0</td>\n",
              "      <td>1.0</td>\n",
              "      <td>2.00</td>\n",
              "      <td>12.333333</td>\n",
              "      <td>16.333333</td>\n",
              "      <td>0.0</td>\n",
              "      <td>1.0</td>\n",
              "      <td>0.0</td>\n",
              "      <td>6.0</td>\n",
              "      <td>0.0</td>\n",
              "      <td>16.333333</td>\n",
              "      <td>11.666667</td>\n",
              "      <td>12.333333</td>\n",
              "      <td>1.000000</td>\n",
              "      <td>2.000000</td>\n",
              "      <td>484.666667</td>\n",
              "      <td>234.333333</td>\n",
              "      <td>175.968473</td>\n",
              "      <td>...</td>\n",
              "      <td>0</td>\n",
              "      <td>0</td>\n",
              "      <td>0</td>\n",
              "      <td>0</td>\n",
              "      <td>0</td>\n",
              "      <td>0</td>\n",
              "      <td>0</td>\n",
              "      <td>0</td>\n",
              "      <td>0</td>\n",
              "      <td>0</td>\n",
              "      <td>0</td>\n",
              "      <td>0</td>\n",
              "      <td>0</td>\n",
              "      <td>0</td>\n",
              "      <td>0</td>\n",
              "      <td>0</td>\n",
              "      <td>0</td>\n",
              "      <td>0</td>\n",
              "      <td>0</td>\n",
              "      <td>0</td>\n",
              "      <td>0</td>\n",
              "      <td>0</td>\n",
              "      <td>0</td>\n",
              "      <td>0</td>\n",
              "      <td>0</td>\n",
              "      <td>0</td>\n",
              "      <td>0</td>\n",
              "      <td>0</td>\n",
              "      <td>0</td>\n",
              "      <td>0</td>\n",
              "      <td>0</td>\n",
              "      <td>0</td>\n",
              "      <td>0</td>\n",
              "      <td>0</td>\n",
              "      <td>0</td>\n",
              "      <td>1</td>\n",
              "      <td>0</td>\n",
              "      <td>0</td>\n",
              "      <td>0</td>\n",
              "      <td>0</td>\n",
              "    </tr>\n",
              "    <tr>\n",
              "      <th>4</th>\n",
              "      <td>No</td>\n",
              "      <td>False</td>\n",
              "      <td>False</td>\n",
              "      <td>True</td>\n",
              "      <td>711.000000</td>\n",
              "      <td>mobile</td>\n",
              "      <td>Samsung</td>\n",
              "      <td>ANDROID</td>\n",
              "      <td>com.android.vending</td>\n",
              "      <td>10</td>\n",
              "      <td>United States</td>\n",
              "      <td>False</td>\n",
              "      <td>False</td>\n",
              "      <td>True</td>\n",
              "      <td>True</td>\n",
              "      <td>1.00</td>\n",
              "      <td>30.000000</td>\n",
              "      <td>1.00</td>\n",
              "      <td>1.00</td>\n",
              "      <td>0.0</td>\n",
              "      <td>16.000000</td>\n",
              "      <td>11.0</td>\n",
              "      <td>1.0</td>\n",
              "      <td>1.0</td>\n",
              "      <td>4.00</td>\n",
              "      <td>11.000000</td>\n",
              "      <td>10.000000</td>\n",
              "      <td>1.0</td>\n",
              "      <td>1.0</td>\n",
              "      <td>1.0</td>\n",
              "      <td>2.0</td>\n",
              "      <td>0.0</td>\n",
              "      <td>16.000000</td>\n",
              "      <td>7.000000</td>\n",
              "      <td>6.000000</td>\n",
              "      <td>1.000000</td>\n",
              "      <td>2.000000</td>\n",
              "      <td>434.000000</td>\n",
              "      <td>66.000000</td>\n",
              "      <td>73.615406</td>\n",
              "      <td>...</td>\n",
              "      <td>0</td>\n",
              "      <td>0</td>\n",
              "      <td>0</td>\n",
              "      <td>0</td>\n",
              "      <td>0</td>\n",
              "      <td>0</td>\n",
              "      <td>0</td>\n",
              "      <td>0</td>\n",
              "      <td>0</td>\n",
              "      <td>0</td>\n",
              "      <td>0</td>\n",
              "      <td>0</td>\n",
              "      <td>0</td>\n",
              "      <td>0</td>\n",
              "      <td>0</td>\n",
              "      <td>0</td>\n",
              "      <td>0</td>\n",
              "      <td>0</td>\n",
              "      <td>0</td>\n",
              "      <td>0</td>\n",
              "      <td>0</td>\n",
              "      <td>0</td>\n",
              "      <td>0</td>\n",
              "      <td>0</td>\n",
              "      <td>0</td>\n",
              "      <td>0</td>\n",
              "      <td>0</td>\n",
              "      <td>0</td>\n",
              "      <td>0</td>\n",
              "      <td>0</td>\n",
              "      <td>0</td>\n",
              "      <td>0</td>\n",
              "      <td>0</td>\n",
              "      <td>0</td>\n",
              "      <td>0</td>\n",
              "      <td>1</td>\n",
              "      <td>0</td>\n",
              "      <td>0</td>\n",
              "      <td>0</td>\n",
              "      <td>0</td>\n",
              "    </tr>\n",
              "  </tbody>\n",
              "</table>\n",
              "<p>5 rows × 245 columns</p>\n",
              "</div>"
            ],
            "text/plain": [
              "  is_limited_ad_tracking  ...  country_max_event_Vietnam\n",
              "0                     No  ...                          0\n",
              "1                     No  ...                          0\n",
              "2                     No  ...                          0\n",
              "3                     No  ...                          0\n",
              "4                     No  ...                          0\n",
              "\n",
              "[5 rows x 245 columns]"
            ]
          },
          "metadata": {
            "tags": []
          },
          "execution_count": 177
        }
      ]
    },
    {
      "cell_type": "code",
      "metadata": {
        "id": "j6-zWygx_CJ2",
        "colab": {
          "base_uri": "https://localhost:8080/",
          "height": 270
        },
        "outputId": "90155671-bf94-4b63-a315-2f63e978bcd1"
      },
      "source": [
        "data1 = data1.drop(columns = ['is_limited_ad_tracking', 'device_category', 'mobile_brand_name','operating_system','max_appInfo_install_source','country_max_event'])\n",
        "data1.head()"
      ],
      "execution_count": null,
      "outputs": [
        {
          "output_type": "execute_result",
          "data": {
            "text/html": [
              "<div>\n",
              "<style scoped>\n",
              "    .dataframe tbody tr th:only-of-type {\n",
              "        vertical-align: middle;\n",
              "    }\n",
              "\n",
              "    .dataframe tbody tr th {\n",
              "        vertical-align: top;\n",
              "    }\n",
              "\n",
              "    .dataframe thead th {\n",
              "        text-align: right;\n",
              "    }\n",
              "</style>\n",
              "<table border=\"1\" class=\"dataframe\">\n",
              "  <thead>\n",
              "    <tr style=\"text-align: right;\">\n",
              "      <th></th>\n",
              "      <th>ucgun_ard_arda_event</th>\n",
              "      <th>has_app_exception</th>\n",
              "      <th>app_removed_by_user</th>\n",
              "      <th>avg_daily_event</th>\n",
              "      <th>max_operating_system_version</th>\n",
              "      <th>os_updated_by_user</th>\n",
              "      <th>app_updated_by_user</th>\n",
              "      <th>tutorial_end_by_user</th>\n",
              "      <th>game_intro_completed_by_user</th>\n",
              "      <th>avg_daily_session_start</th>\n",
              "      <th>avg_daily_level_up</th>\n",
              "      <th>avg_daily_login</th>\n",
              "      <th>avg_daily_adCampaignWatchComplete</th>\n",
              "      <th>avg_daily_workerUpgradeMethodExpensiveProduct</th>\n",
              "      <th>avg_daily_workerUpgradeAmount</th>\n",
              "      <th>avg_daily_workerUpgradeMethodLowestCost</th>\n",
              "      <th>avg_daily_rocketAdWatchComplete</th>\n",
              "      <th>avg_daily_error</th>\n",
              "      <th>avg_daily_unlockedWorker</th>\n",
              "      <th>avg_daily_earningRateBoost</th>\n",
              "      <th>avg_daily_rocketAdAppear</th>\n",
              "      <th>avg_daily_ufoAdWatchComplete</th>\n",
              "      <th>avg_daily_unlockedFactory</th>\n",
              "      <th>avg_daily_productScreenClick</th>\n",
              "      <th>avg_daily_ad_reward</th>\n",
              "      <th>avg_daily_workerUpgradeUpgradeMultiplierMax</th>\n",
              "      <th>avg_worker_session</th>\n",
              "      <th>avg_factory_session</th>\n",
              "      <th>avg_transporter_session</th>\n",
              "      <th>avg_baseStation_session</th>\n",
              "      <th>avg_RewardedVideo_session</th>\n",
              "      <th>avg_upgradeAmount_session</th>\n",
              "      <th>avg_totalElapsedTime_session</th>\n",
              "      <th>avg_earningRateValue_session</th>\n",
              "      <th>avg_freeride_session</th>\n",
              "      <th>avg_uengagement_time_msec_session</th>\n",
              "      <th>avg_sengagement_time_msec_session</th>\n",
              "      <th>avg_reward_value_session</th>\n",
              "      <th>avg_maxupgradeMultiplierValue_session</th>\n",
              "      <th>avg_x1upgradeMultiplierValue_session</th>\n",
              "      <th>...</th>\n",
              "      <th>country_max_event_Nepal</th>\n",
              "      <th>country_max_event_Netherlands</th>\n",
              "      <th>country_max_event_New Caledonia</th>\n",
              "      <th>country_max_event_New Zealand</th>\n",
              "      <th>country_max_event_North Macedonia</th>\n",
              "      <th>country_max_event_Northern Mariana Islands</th>\n",
              "      <th>country_max_event_Norway</th>\n",
              "      <th>country_max_event_Pakistan</th>\n",
              "      <th>country_max_event_Peru</th>\n",
              "      <th>country_max_event_Philippines</th>\n",
              "      <th>country_max_event_Poland</th>\n",
              "      <th>country_max_event_Portugal</th>\n",
              "      <th>country_max_event_Puerto Rico</th>\n",
              "      <th>country_max_event_Qatar</th>\n",
              "      <th>country_max_event_Romania</th>\n",
              "      <th>country_max_event_Russia</th>\n",
              "      <th>country_max_event_Réunion</th>\n",
              "      <th>country_max_event_Saudi Arabia</th>\n",
              "      <th>country_max_event_Serbia</th>\n",
              "      <th>country_max_event_Singapore</th>\n",
              "      <th>country_max_event_Slovakia</th>\n",
              "      <th>country_max_event_Slovenia</th>\n",
              "      <th>country_max_event_South Africa</th>\n",
              "      <th>country_max_event_South Korea</th>\n",
              "      <th>country_max_event_Spain</th>\n",
              "      <th>country_max_event_Sweden</th>\n",
              "      <th>country_max_event_Switzerland</th>\n",
              "      <th>country_max_event_Taiwan</th>\n",
              "      <th>country_max_event_Tanzania</th>\n",
              "      <th>country_max_event_Thailand</th>\n",
              "      <th>country_max_event_Turkey</th>\n",
              "      <th>country_max_event_U.S. Virgin Islands</th>\n",
              "      <th>country_max_event_Ukraine</th>\n",
              "      <th>country_max_event_United Arab Emirates</th>\n",
              "      <th>country_max_event_United Kingdom</th>\n",
              "      <th>country_max_event_United States</th>\n",
              "      <th>country_max_event_Unknown</th>\n",
              "      <th>country_max_event_Uzbekistan</th>\n",
              "      <th>country_max_event_Venezuela</th>\n",
              "      <th>country_max_event_Vietnam</th>\n",
              "    </tr>\n",
              "  </thead>\n",
              "  <tbody>\n",
              "    <tr>\n",
              "      <th>0</th>\n",
              "      <td>False</td>\n",
              "      <td>False</td>\n",
              "      <td>False</td>\n",
              "      <td>28.000000</td>\n",
              "      <td>13.4.1</td>\n",
              "      <td>False</td>\n",
              "      <td>False</td>\n",
              "      <td>False</td>\n",
              "      <td>False</td>\n",
              "      <td>1.00</td>\n",
              "      <td>2.000000</td>\n",
              "      <td>1.00</td>\n",
              "      <td>1.00</td>\n",
              "      <td>0.0</td>\n",
              "      <td>0.000000</td>\n",
              "      <td>0.0</td>\n",
              "      <td>0.0</td>\n",
              "      <td>1.0</td>\n",
              "      <td>1.00</td>\n",
              "      <td>0.000000</td>\n",
              "      <td>0.000000</td>\n",
              "      <td>0.0</td>\n",
              "      <td>1.0</td>\n",
              "      <td>0.0</td>\n",
              "      <td>0.0</td>\n",
              "      <td>0.0</td>\n",
              "      <td>0.000000</td>\n",
              "      <td>1.000000</td>\n",
              "      <td>1.000000</td>\n",
              "      <td>0.000000</td>\n",
              "      <td>0.000000</td>\n",
              "      <td>0.000000</td>\n",
              "      <td>0.000000</td>\n",
              "      <td>0.000000</td>\n",
              "      <td>0.0</td>\n",
              "      <td>6.134100e+04</td>\n",
              "      <td>0.000000</td>\n",
              "      <td>0.0</td>\n",
              "      <td>0.000000</td>\n",
              "      <td>0.000000</td>\n",
              "      <td>...</td>\n",
              "      <td>0</td>\n",
              "      <td>0</td>\n",
              "      <td>0</td>\n",
              "      <td>0</td>\n",
              "      <td>0</td>\n",
              "      <td>0</td>\n",
              "      <td>1</td>\n",
              "      <td>0</td>\n",
              "      <td>0</td>\n",
              "      <td>0</td>\n",
              "      <td>0</td>\n",
              "      <td>0</td>\n",
              "      <td>0</td>\n",
              "      <td>0</td>\n",
              "      <td>0</td>\n",
              "      <td>0</td>\n",
              "      <td>0</td>\n",
              "      <td>0</td>\n",
              "      <td>0</td>\n",
              "      <td>0</td>\n",
              "      <td>0</td>\n",
              "      <td>0</td>\n",
              "      <td>0</td>\n",
              "      <td>0</td>\n",
              "      <td>0</td>\n",
              "      <td>0</td>\n",
              "      <td>0</td>\n",
              "      <td>0</td>\n",
              "      <td>0</td>\n",
              "      <td>0</td>\n",
              "      <td>0</td>\n",
              "      <td>0</td>\n",
              "      <td>0</td>\n",
              "      <td>0</td>\n",
              "      <td>0</td>\n",
              "      <td>0</td>\n",
              "      <td>0</td>\n",
              "      <td>0</td>\n",
              "      <td>0</td>\n",
              "      <td>0</td>\n",
              "    </tr>\n",
              "    <tr>\n",
              "      <th>1</th>\n",
              "      <td>True</td>\n",
              "      <td>False</td>\n",
              "      <td>False</td>\n",
              "      <td>793.750000</td>\n",
              "      <td>12.4.8</td>\n",
              "      <td>False</td>\n",
              "      <td>False</td>\n",
              "      <td>True</td>\n",
              "      <td>True</td>\n",
              "      <td>4.25</td>\n",
              "      <td>154.000000</td>\n",
              "      <td>3.25</td>\n",
              "      <td>1.75</td>\n",
              "      <td>0.0</td>\n",
              "      <td>59.500000</td>\n",
              "      <td>12.0</td>\n",
              "      <td>4.0</td>\n",
              "      <td>1.0</td>\n",
              "      <td>4.25</td>\n",
              "      <td>15.500000</td>\n",
              "      <td>9.750000</td>\n",
              "      <td>0.0</td>\n",
              "      <td>1.0</td>\n",
              "      <td>1.5</td>\n",
              "      <td>0.0</td>\n",
              "      <td>92.5</td>\n",
              "      <td>14.000000</td>\n",
              "      <td>8.058824</td>\n",
              "      <td>13.235294</td>\n",
              "      <td>0.941176</td>\n",
              "      <td>0.941176</td>\n",
              "      <td>490.117647</td>\n",
              "      <td>114.882353</td>\n",
              "      <td>156.236075</td>\n",
              "      <td>0.0</td>\n",
              "      <td>5.890805e+05</td>\n",
              "      <td>0.000000</td>\n",
              "      <td>0.0</td>\n",
              "      <td>316.176471</td>\n",
              "      <td>10.411765</td>\n",
              "      <td>...</td>\n",
              "      <td>0</td>\n",
              "      <td>0</td>\n",
              "      <td>0</td>\n",
              "      <td>0</td>\n",
              "      <td>0</td>\n",
              "      <td>0</td>\n",
              "      <td>0</td>\n",
              "      <td>0</td>\n",
              "      <td>0</td>\n",
              "      <td>0</td>\n",
              "      <td>0</td>\n",
              "      <td>0</td>\n",
              "      <td>0</td>\n",
              "      <td>0</td>\n",
              "      <td>0</td>\n",
              "      <td>0</td>\n",
              "      <td>0</td>\n",
              "      <td>0</td>\n",
              "      <td>0</td>\n",
              "      <td>0</td>\n",
              "      <td>0</td>\n",
              "      <td>0</td>\n",
              "      <td>0</td>\n",
              "      <td>0</td>\n",
              "      <td>0</td>\n",
              "      <td>0</td>\n",
              "      <td>0</td>\n",
              "      <td>0</td>\n",
              "      <td>0</td>\n",
              "      <td>0</td>\n",
              "      <td>0</td>\n",
              "      <td>0</td>\n",
              "      <td>0</td>\n",
              "      <td>0</td>\n",
              "      <td>0</td>\n",
              "      <td>0</td>\n",
              "      <td>0</td>\n",
              "      <td>0</td>\n",
              "      <td>0</td>\n",
              "      <td>0</td>\n",
              "    </tr>\n",
              "    <tr>\n",
              "      <th>2</th>\n",
              "      <td>False</td>\n",
              "      <td>False</td>\n",
              "      <td>False</td>\n",
              "      <td>103.000000</td>\n",
              "      <td>13.6</td>\n",
              "      <td>False</td>\n",
              "      <td>False</td>\n",
              "      <td>False</td>\n",
              "      <td>False</td>\n",
              "      <td>2.00</td>\n",
              "      <td>19.000000</td>\n",
              "      <td>2.00</td>\n",
              "      <td>0.00</td>\n",
              "      <td>0.0</td>\n",
              "      <td>7.000000</td>\n",
              "      <td>0.0</td>\n",
              "      <td>0.0</td>\n",
              "      <td>0.0</td>\n",
              "      <td>1.00</td>\n",
              "      <td>2.000000</td>\n",
              "      <td>1.000000</td>\n",
              "      <td>0.0</td>\n",
              "      <td>0.0</td>\n",
              "      <td>0.0</td>\n",
              "      <td>0.0</td>\n",
              "      <td>7.0</td>\n",
              "      <td>0.437500</td>\n",
              "      <td>0.187500</td>\n",
              "      <td>0.437500</td>\n",
              "      <td>0.125000</td>\n",
              "      <td>0.000000</td>\n",
              "      <td>5.750000</td>\n",
              "      <td>2.187500</td>\n",
              "      <td>5.962976</td>\n",
              "      <td>0.0</td>\n",
              "      <td>1.410162e+04</td>\n",
              "      <td>0.000000</td>\n",
              "      <td>0.0</td>\n",
              "      <td>5.750000</td>\n",
              "      <td>0.000000</td>\n",
              "      <td>...</td>\n",
              "      <td>0</td>\n",
              "      <td>0</td>\n",
              "      <td>0</td>\n",
              "      <td>0</td>\n",
              "      <td>0</td>\n",
              "      <td>0</td>\n",
              "      <td>0</td>\n",
              "      <td>0</td>\n",
              "      <td>0</td>\n",
              "      <td>0</td>\n",
              "      <td>0</td>\n",
              "      <td>0</td>\n",
              "      <td>0</td>\n",
              "      <td>0</td>\n",
              "      <td>0</td>\n",
              "      <td>0</td>\n",
              "      <td>0</td>\n",
              "      <td>0</td>\n",
              "      <td>1</td>\n",
              "      <td>0</td>\n",
              "      <td>0</td>\n",
              "      <td>0</td>\n",
              "      <td>0</td>\n",
              "      <td>0</td>\n",
              "      <td>0</td>\n",
              "      <td>0</td>\n",
              "      <td>0</td>\n",
              "      <td>0</td>\n",
              "      <td>0</td>\n",
              "      <td>0</td>\n",
              "      <td>0</td>\n",
              "      <td>0</td>\n",
              "      <td>0</td>\n",
              "      <td>0</td>\n",
              "      <td>0</td>\n",
              "      <td>0</td>\n",
              "      <td>0</td>\n",
              "      <td>0</td>\n",
              "      <td>0</td>\n",
              "      <td>0</td>\n",
              "    </tr>\n",
              "    <tr>\n",
              "      <th>3</th>\n",
              "      <td>True</td>\n",
              "      <td>False</td>\n",
              "      <td>False</td>\n",
              "      <td>281.333333</td>\n",
              "      <td>9</td>\n",
              "      <td>False</td>\n",
              "      <td>False</td>\n",
              "      <td>True</td>\n",
              "      <td>False</td>\n",
              "      <td>1.00</td>\n",
              "      <td>41.333333</td>\n",
              "      <td>1.00</td>\n",
              "      <td>1.00</td>\n",
              "      <td>0.0</td>\n",
              "      <td>16.333333</td>\n",
              "      <td>9.0</td>\n",
              "      <td>6.0</td>\n",
              "      <td>1.0</td>\n",
              "      <td>2.00</td>\n",
              "      <td>12.333333</td>\n",
              "      <td>16.333333</td>\n",
              "      <td>0.0</td>\n",
              "      <td>1.0</td>\n",
              "      <td>0.0</td>\n",
              "      <td>6.0</td>\n",
              "      <td>0.0</td>\n",
              "      <td>16.333333</td>\n",
              "      <td>11.666667</td>\n",
              "      <td>12.333333</td>\n",
              "      <td>1.000000</td>\n",
              "      <td>2.000000</td>\n",
              "      <td>484.666667</td>\n",
              "      <td>234.333333</td>\n",
              "      <td>175.968473</td>\n",
              "      <td>5.0</td>\n",
              "      <td>6.572923e+05</td>\n",
              "      <td>376739.666667</td>\n",
              "      <td>2.0</td>\n",
              "      <td>0.000000</td>\n",
              "      <td>24.666667</td>\n",
              "      <td>...</td>\n",
              "      <td>0</td>\n",
              "      <td>0</td>\n",
              "      <td>0</td>\n",
              "      <td>0</td>\n",
              "      <td>0</td>\n",
              "      <td>0</td>\n",
              "      <td>0</td>\n",
              "      <td>0</td>\n",
              "      <td>0</td>\n",
              "      <td>0</td>\n",
              "      <td>0</td>\n",
              "      <td>0</td>\n",
              "      <td>0</td>\n",
              "      <td>0</td>\n",
              "      <td>0</td>\n",
              "      <td>0</td>\n",
              "      <td>0</td>\n",
              "      <td>0</td>\n",
              "      <td>0</td>\n",
              "      <td>0</td>\n",
              "      <td>0</td>\n",
              "      <td>0</td>\n",
              "      <td>0</td>\n",
              "      <td>0</td>\n",
              "      <td>0</td>\n",
              "      <td>0</td>\n",
              "      <td>0</td>\n",
              "      <td>0</td>\n",
              "      <td>0</td>\n",
              "      <td>0</td>\n",
              "      <td>0</td>\n",
              "      <td>0</td>\n",
              "      <td>0</td>\n",
              "      <td>0</td>\n",
              "      <td>0</td>\n",
              "      <td>1</td>\n",
              "      <td>0</td>\n",
              "      <td>0</td>\n",
              "      <td>0</td>\n",
              "      <td>0</td>\n",
              "    </tr>\n",
              "    <tr>\n",
              "      <th>4</th>\n",
              "      <td>False</td>\n",
              "      <td>False</td>\n",
              "      <td>True</td>\n",
              "      <td>711.000000</td>\n",
              "      <td>10</td>\n",
              "      <td>False</td>\n",
              "      <td>False</td>\n",
              "      <td>True</td>\n",
              "      <td>True</td>\n",
              "      <td>1.00</td>\n",
              "      <td>30.000000</td>\n",
              "      <td>1.00</td>\n",
              "      <td>1.00</td>\n",
              "      <td>0.0</td>\n",
              "      <td>16.000000</td>\n",
              "      <td>11.0</td>\n",
              "      <td>1.0</td>\n",
              "      <td>1.0</td>\n",
              "      <td>4.00</td>\n",
              "      <td>11.000000</td>\n",
              "      <td>10.000000</td>\n",
              "      <td>1.0</td>\n",
              "      <td>1.0</td>\n",
              "      <td>1.0</td>\n",
              "      <td>2.0</td>\n",
              "      <td>0.0</td>\n",
              "      <td>16.000000</td>\n",
              "      <td>7.000000</td>\n",
              "      <td>6.000000</td>\n",
              "      <td>1.000000</td>\n",
              "      <td>2.000000</td>\n",
              "      <td>434.000000</td>\n",
              "      <td>66.000000</td>\n",
              "      <td>73.615406</td>\n",
              "      <td>5.0</td>\n",
              "      <td>1.611844e+06</td>\n",
              "      <td>699530.000000</td>\n",
              "      <td>2.0</td>\n",
              "      <td>0.000000</td>\n",
              "      <td>434.000000</td>\n",
              "      <td>...</td>\n",
              "      <td>0</td>\n",
              "      <td>0</td>\n",
              "      <td>0</td>\n",
              "      <td>0</td>\n",
              "      <td>0</td>\n",
              "      <td>0</td>\n",
              "      <td>0</td>\n",
              "      <td>0</td>\n",
              "      <td>0</td>\n",
              "      <td>0</td>\n",
              "      <td>0</td>\n",
              "      <td>0</td>\n",
              "      <td>0</td>\n",
              "      <td>0</td>\n",
              "      <td>0</td>\n",
              "      <td>0</td>\n",
              "      <td>0</td>\n",
              "      <td>0</td>\n",
              "      <td>0</td>\n",
              "      <td>0</td>\n",
              "      <td>0</td>\n",
              "      <td>0</td>\n",
              "      <td>0</td>\n",
              "      <td>0</td>\n",
              "      <td>0</td>\n",
              "      <td>0</td>\n",
              "      <td>0</td>\n",
              "      <td>0</td>\n",
              "      <td>0</td>\n",
              "      <td>0</td>\n",
              "      <td>0</td>\n",
              "      <td>0</td>\n",
              "      <td>0</td>\n",
              "      <td>0</td>\n",
              "      <td>0</td>\n",
              "      <td>1</td>\n",
              "      <td>0</td>\n",
              "      <td>0</td>\n",
              "      <td>0</td>\n",
              "      <td>0</td>\n",
              "    </tr>\n",
              "  </tbody>\n",
              "</table>\n",
              "<p>5 rows × 239 columns</p>\n",
              "</div>"
            ],
            "text/plain": [
              "   ucgun_ard_arda_event  ...  country_max_event_Vietnam\n",
              "0                 False  ...                          0\n",
              "1                  True  ...                          0\n",
              "2                 False  ...                          0\n",
              "3                  True  ...                          0\n",
              "4                 False  ...                          0\n",
              "\n",
              "[5 rows x 239 columns]"
            ]
          },
          "metadata": {
            "tags": []
          },
          "execution_count": 178
        }
      ]
    },
    {
      "cell_type": "code",
      "metadata": {
        "id": "-EVopG29_iLP",
        "colab": {
          "base_uri": "https://localhost:8080/",
          "height": 102
        },
        "outputId": "bcdd9723-9908-4799-c794-f398ff19b4fd"
      },
      "source": [
        "data1.info()"
      ],
      "execution_count": null,
      "outputs": [
        {
          "output_type": "stream",
          "text": [
            "<class 'pandas.core.frame.DataFrame'>\n",
            "RangeIndex: 25548 entries, 0 to 25547\n",
            "Columns: 239 entries, ucgun_ard_arda_event to country_max_event_Vietnam\n",
            "dtypes: bool(7), category(1), float64(46), object(1), uint8(184)\n",
            "memory usage: 13.8+ MB\n"
          ],
          "name": "stdout"
        }
      ]
    },
    {
      "cell_type": "code",
      "metadata": {
        "id": "cERBaMJR_nyT",
        "colab": {
          "base_uri": "https://localhost:8080/",
          "height": 270
        },
        "outputId": "2ffbbfcf-bf6b-4acd-d20a-cd1cd1812c87"
      },
      "source": [
        "data1 = data1.drop(columns = ['ucgun_ard_arda_event','max_operating_system_version'])\n",
        "data1.head()"
      ],
      "execution_count": null,
      "outputs": [
        {
          "output_type": "execute_result",
          "data": {
            "text/html": [
              "<div>\n",
              "<style scoped>\n",
              "    .dataframe tbody tr th:only-of-type {\n",
              "        vertical-align: middle;\n",
              "    }\n",
              "\n",
              "    .dataframe tbody tr th {\n",
              "        vertical-align: top;\n",
              "    }\n",
              "\n",
              "    .dataframe thead th {\n",
              "        text-align: right;\n",
              "    }\n",
              "</style>\n",
              "<table border=\"1\" class=\"dataframe\">\n",
              "  <thead>\n",
              "    <tr style=\"text-align: right;\">\n",
              "      <th></th>\n",
              "      <th>has_app_exception</th>\n",
              "      <th>app_removed_by_user</th>\n",
              "      <th>avg_daily_event</th>\n",
              "      <th>os_updated_by_user</th>\n",
              "      <th>app_updated_by_user</th>\n",
              "      <th>tutorial_end_by_user</th>\n",
              "      <th>game_intro_completed_by_user</th>\n",
              "      <th>avg_daily_session_start</th>\n",
              "      <th>avg_daily_level_up</th>\n",
              "      <th>avg_daily_login</th>\n",
              "      <th>avg_daily_adCampaignWatchComplete</th>\n",
              "      <th>avg_daily_workerUpgradeMethodExpensiveProduct</th>\n",
              "      <th>avg_daily_workerUpgradeAmount</th>\n",
              "      <th>avg_daily_workerUpgradeMethodLowestCost</th>\n",
              "      <th>avg_daily_rocketAdWatchComplete</th>\n",
              "      <th>avg_daily_error</th>\n",
              "      <th>avg_daily_unlockedWorker</th>\n",
              "      <th>avg_daily_earningRateBoost</th>\n",
              "      <th>avg_daily_rocketAdAppear</th>\n",
              "      <th>avg_daily_ufoAdWatchComplete</th>\n",
              "      <th>avg_daily_unlockedFactory</th>\n",
              "      <th>avg_daily_productScreenClick</th>\n",
              "      <th>avg_daily_ad_reward</th>\n",
              "      <th>avg_daily_workerUpgradeUpgradeMultiplierMax</th>\n",
              "      <th>avg_worker_session</th>\n",
              "      <th>avg_factory_session</th>\n",
              "      <th>avg_transporter_session</th>\n",
              "      <th>avg_baseStation_session</th>\n",
              "      <th>avg_RewardedVideo_session</th>\n",
              "      <th>avg_upgradeAmount_session</th>\n",
              "      <th>avg_totalElapsedTime_session</th>\n",
              "      <th>avg_earningRateValue_session</th>\n",
              "      <th>avg_freeride_session</th>\n",
              "      <th>avg_uengagement_time_msec_session</th>\n",
              "      <th>avg_sengagement_time_msec_session</th>\n",
              "      <th>avg_reward_value_session</th>\n",
              "      <th>avg_maxupgradeMultiplierValue_session</th>\n",
              "      <th>avg_x1upgradeMultiplierValue_session</th>\n",
              "      <th>avg_x10upgradeMultiplierValue_session</th>\n",
              "      <th>avg_x50upgradeMultiplierValue_session</th>\n",
              "      <th>...</th>\n",
              "      <th>country_max_event_Nepal</th>\n",
              "      <th>country_max_event_Netherlands</th>\n",
              "      <th>country_max_event_New Caledonia</th>\n",
              "      <th>country_max_event_New Zealand</th>\n",
              "      <th>country_max_event_North Macedonia</th>\n",
              "      <th>country_max_event_Northern Mariana Islands</th>\n",
              "      <th>country_max_event_Norway</th>\n",
              "      <th>country_max_event_Pakistan</th>\n",
              "      <th>country_max_event_Peru</th>\n",
              "      <th>country_max_event_Philippines</th>\n",
              "      <th>country_max_event_Poland</th>\n",
              "      <th>country_max_event_Portugal</th>\n",
              "      <th>country_max_event_Puerto Rico</th>\n",
              "      <th>country_max_event_Qatar</th>\n",
              "      <th>country_max_event_Romania</th>\n",
              "      <th>country_max_event_Russia</th>\n",
              "      <th>country_max_event_Réunion</th>\n",
              "      <th>country_max_event_Saudi Arabia</th>\n",
              "      <th>country_max_event_Serbia</th>\n",
              "      <th>country_max_event_Singapore</th>\n",
              "      <th>country_max_event_Slovakia</th>\n",
              "      <th>country_max_event_Slovenia</th>\n",
              "      <th>country_max_event_South Africa</th>\n",
              "      <th>country_max_event_South Korea</th>\n",
              "      <th>country_max_event_Spain</th>\n",
              "      <th>country_max_event_Sweden</th>\n",
              "      <th>country_max_event_Switzerland</th>\n",
              "      <th>country_max_event_Taiwan</th>\n",
              "      <th>country_max_event_Tanzania</th>\n",
              "      <th>country_max_event_Thailand</th>\n",
              "      <th>country_max_event_Turkey</th>\n",
              "      <th>country_max_event_U.S. Virgin Islands</th>\n",
              "      <th>country_max_event_Ukraine</th>\n",
              "      <th>country_max_event_United Arab Emirates</th>\n",
              "      <th>country_max_event_United Kingdom</th>\n",
              "      <th>country_max_event_United States</th>\n",
              "      <th>country_max_event_Unknown</th>\n",
              "      <th>country_max_event_Uzbekistan</th>\n",
              "      <th>country_max_event_Venezuela</th>\n",
              "      <th>country_max_event_Vietnam</th>\n",
              "    </tr>\n",
              "  </thead>\n",
              "  <tbody>\n",
              "    <tr>\n",
              "      <th>0</th>\n",
              "      <td>False</td>\n",
              "      <td>False</td>\n",
              "      <td>28.000000</td>\n",
              "      <td>False</td>\n",
              "      <td>False</td>\n",
              "      <td>False</td>\n",
              "      <td>False</td>\n",
              "      <td>1.00</td>\n",
              "      <td>2.000000</td>\n",
              "      <td>1.00</td>\n",
              "      <td>1.00</td>\n",
              "      <td>0.0</td>\n",
              "      <td>0.000000</td>\n",
              "      <td>0.0</td>\n",
              "      <td>0.0</td>\n",
              "      <td>1.0</td>\n",
              "      <td>1.00</td>\n",
              "      <td>0.000000</td>\n",
              "      <td>0.000000</td>\n",
              "      <td>0.0</td>\n",
              "      <td>1.0</td>\n",
              "      <td>0.0</td>\n",
              "      <td>0.0</td>\n",
              "      <td>0.0</td>\n",
              "      <td>0.000000</td>\n",
              "      <td>1.000000</td>\n",
              "      <td>1.000000</td>\n",
              "      <td>0.000000</td>\n",
              "      <td>0.000000</td>\n",
              "      <td>0.000000</td>\n",
              "      <td>0.000000</td>\n",
              "      <td>0.000000</td>\n",
              "      <td>0.0</td>\n",
              "      <td>6.134100e+04</td>\n",
              "      <td>0.000000</td>\n",
              "      <td>0.0</td>\n",
              "      <td>0.000000</td>\n",
              "      <td>0.000000</td>\n",
              "      <td>0.000000</td>\n",
              "      <td>0.000000</td>\n",
              "      <td>...</td>\n",
              "      <td>0</td>\n",
              "      <td>0</td>\n",
              "      <td>0</td>\n",
              "      <td>0</td>\n",
              "      <td>0</td>\n",
              "      <td>0</td>\n",
              "      <td>1</td>\n",
              "      <td>0</td>\n",
              "      <td>0</td>\n",
              "      <td>0</td>\n",
              "      <td>0</td>\n",
              "      <td>0</td>\n",
              "      <td>0</td>\n",
              "      <td>0</td>\n",
              "      <td>0</td>\n",
              "      <td>0</td>\n",
              "      <td>0</td>\n",
              "      <td>0</td>\n",
              "      <td>0</td>\n",
              "      <td>0</td>\n",
              "      <td>0</td>\n",
              "      <td>0</td>\n",
              "      <td>0</td>\n",
              "      <td>0</td>\n",
              "      <td>0</td>\n",
              "      <td>0</td>\n",
              "      <td>0</td>\n",
              "      <td>0</td>\n",
              "      <td>0</td>\n",
              "      <td>0</td>\n",
              "      <td>0</td>\n",
              "      <td>0</td>\n",
              "      <td>0</td>\n",
              "      <td>0</td>\n",
              "      <td>0</td>\n",
              "      <td>0</td>\n",
              "      <td>0</td>\n",
              "      <td>0</td>\n",
              "      <td>0</td>\n",
              "      <td>0</td>\n",
              "    </tr>\n",
              "    <tr>\n",
              "      <th>1</th>\n",
              "      <td>False</td>\n",
              "      <td>False</td>\n",
              "      <td>793.750000</td>\n",
              "      <td>False</td>\n",
              "      <td>False</td>\n",
              "      <td>True</td>\n",
              "      <td>True</td>\n",
              "      <td>4.25</td>\n",
              "      <td>154.000000</td>\n",
              "      <td>3.25</td>\n",
              "      <td>1.75</td>\n",
              "      <td>0.0</td>\n",
              "      <td>59.500000</td>\n",
              "      <td>12.0</td>\n",
              "      <td>4.0</td>\n",
              "      <td>1.0</td>\n",
              "      <td>4.25</td>\n",
              "      <td>15.500000</td>\n",
              "      <td>9.750000</td>\n",
              "      <td>0.0</td>\n",
              "      <td>1.0</td>\n",
              "      <td>1.5</td>\n",
              "      <td>0.0</td>\n",
              "      <td>92.5</td>\n",
              "      <td>14.000000</td>\n",
              "      <td>8.058824</td>\n",
              "      <td>13.235294</td>\n",
              "      <td>0.941176</td>\n",
              "      <td>0.941176</td>\n",
              "      <td>490.117647</td>\n",
              "      <td>114.882353</td>\n",
              "      <td>156.236075</td>\n",
              "      <td>0.0</td>\n",
              "      <td>5.890805e+05</td>\n",
              "      <td>0.000000</td>\n",
              "      <td>0.0</td>\n",
              "      <td>316.176471</td>\n",
              "      <td>10.411765</td>\n",
              "      <td>4.882353</td>\n",
              "      <td>2.294118</td>\n",
              "      <td>...</td>\n",
              "      <td>0</td>\n",
              "      <td>0</td>\n",
              "      <td>0</td>\n",
              "      <td>0</td>\n",
              "      <td>0</td>\n",
              "      <td>0</td>\n",
              "      <td>0</td>\n",
              "      <td>0</td>\n",
              "      <td>0</td>\n",
              "      <td>0</td>\n",
              "      <td>0</td>\n",
              "      <td>0</td>\n",
              "      <td>0</td>\n",
              "      <td>0</td>\n",
              "      <td>0</td>\n",
              "      <td>0</td>\n",
              "      <td>0</td>\n",
              "      <td>0</td>\n",
              "      <td>0</td>\n",
              "      <td>0</td>\n",
              "      <td>0</td>\n",
              "      <td>0</td>\n",
              "      <td>0</td>\n",
              "      <td>0</td>\n",
              "      <td>0</td>\n",
              "      <td>0</td>\n",
              "      <td>0</td>\n",
              "      <td>0</td>\n",
              "      <td>0</td>\n",
              "      <td>0</td>\n",
              "      <td>0</td>\n",
              "      <td>0</td>\n",
              "      <td>0</td>\n",
              "      <td>0</td>\n",
              "      <td>0</td>\n",
              "      <td>0</td>\n",
              "      <td>0</td>\n",
              "      <td>0</td>\n",
              "      <td>0</td>\n",
              "      <td>0</td>\n",
              "    </tr>\n",
              "    <tr>\n",
              "      <th>2</th>\n",
              "      <td>False</td>\n",
              "      <td>False</td>\n",
              "      <td>103.000000</td>\n",
              "      <td>False</td>\n",
              "      <td>False</td>\n",
              "      <td>False</td>\n",
              "      <td>False</td>\n",
              "      <td>2.00</td>\n",
              "      <td>19.000000</td>\n",
              "      <td>2.00</td>\n",
              "      <td>0.00</td>\n",
              "      <td>0.0</td>\n",
              "      <td>7.000000</td>\n",
              "      <td>0.0</td>\n",
              "      <td>0.0</td>\n",
              "      <td>0.0</td>\n",
              "      <td>1.00</td>\n",
              "      <td>2.000000</td>\n",
              "      <td>1.000000</td>\n",
              "      <td>0.0</td>\n",
              "      <td>0.0</td>\n",
              "      <td>0.0</td>\n",
              "      <td>0.0</td>\n",
              "      <td>7.0</td>\n",
              "      <td>0.437500</td>\n",
              "      <td>0.187500</td>\n",
              "      <td>0.437500</td>\n",
              "      <td>0.125000</td>\n",
              "      <td>0.000000</td>\n",
              "      <td>5.750000</td>\n",
              "      <td>2.187500</td>\n",
              "      <td>5.962976</td>\n",
              "      <td>0.0</td>\n",
              "      <td>1.410162e+04</td>\n",
              "      <td>0.000000</td>\n",
              "      <td>0.0</td>\n",
              "      <td>5.750000</td>\n",
              "      <td>0.000000</td>\n",
              "      <td>0.000000</td>\n",
              "      <td>0.000000</td>\n",
              "      <td>...</td>\n",
              "      <td>0</td>\n",
              "      <td>0</td>\n",
              "      <td>0</td>\n",
              "      <td>0</td>\n",
              "      <td>0</td>\n",
              "      <td>0</td>\n",
              "      <td>0</td>\n",
              "      <td>0</td>\n",
              "      <td>0</td>\n",
              "      <td>0</td>\n",
              "      <td>0</td>\n",
              "      <td>0</td>\n",
              "      <td>0</td>\n",
              "      <td>0</td>\n",
              "      <td>0</td>\n",
              "      <td>0</td>\n",
              "      <td>0</td>\n",
              "      <td>0</td>\n",
              "      <td>1</td>\n",
              "      <td>0</td>\n",
              "      <td>0</td>\n",
              "      <td>0</td>\n",
              "      <td>0</td>\n",
              "      <td>0</td>\n",
              "      <td>0</td>\n",
              "      <td>0</td>\n",
              "      <td>0</td>\n",
              "      <td>0</td>\n",
              "      <td>0</td>\n",
              "      <td>0</td>\n",
              "      <td>0</td>\n",
              "      <td>0</td>\n",
              "      <td>0</td>\n",
              "      <td>0</td>\n",
              "      <td>0</td>\n",
              "      <td>0</td>\n",
              "      <td>0</td>\n",
              "      <td>0</td>\n",
              "      <td>0</td>\n",
              "      <td>0</td>\n",
              "    </tr>\n",
              "    <tr>\n",
              "      <th>3</th>\n",
              "      <td>False</td>\n",
              "      <td>False</td>\n",
              "      <td>281.333333</td>\n",
              "      <td>False</td>\n",
              "      <td>False</td>\n",
              "      <td>True</td>\n",
              "      <td>False</td>\n",
              "      <td>1.00</td>\n",
              "      <td>41.333333</td>\n",
              "      <td>1.00</td>\n",
              "      <td>1.00</td>\n",
              "      <td>0.0</td>\n",
              "      <td>16.333333</td>\n",
              "      <td>9.0</td>\n",
              "      <td>6.0</td>\n",
              "      <td>1.0</td>\n",
              "      <td>2.00</td>\n",
              "      <td>12.333333</td>\n",
              "      <td>16.333333</td>\n",
              "      <td>0.0</td>\n",
              "      <td>1.0</td>\n",
              "      <td>0.0</td>\n",
              "      <td>6.0</td>\n",
              "      <td>0.0</td>\n",
              "      <td>16.333333</td>\n",
              "      <td>11.666667</td>\n",
              "      <td>12.333333</td>\n",
              "      <td>1.000000</td>\n",
              "      <td>2.000000</td>\n",
              "      <td>484.666667</td>\n",
              "      <td>234.333333</td>\n",
              "      <td>175.968473</td>\n",
              "      <td>5.0</td>\n",
              "      <td>6.572923e+05</td>\n",
              "      <td>376739.666667</td>\n",
              "      <td>2.0</td>\n",
              "      <td>0.000000</td>\n",
              "      <td>24.666667</td>\n",
              "      <td>32.666667</td>\n",
              "      <td>2.666667</td>\n",
              "      <td>...</td>\n",
              "      <td>0</td>\n",
              "      <td>0</td>\n",
              "      <td>0</td>\n",
              "      <td>0</td>\n",
              "      <td>0</td>\n",
              "      <td>0</td>\n",
              "      <td>0</td>\n",
              "      <td>0</td>\n",
              "      <td>0</td>\n",
              "      <td>0</td>\n",
              "      <td>0</td>\n",
              "      <td>0</td>\n",
              "      <td>0</td>\n",
              "      <td>0</td>\n",
              "      <td>0</td>\n",
              "      <td>0</td>\n",
              "      <td>0</td>\n",
              "      <td>0</td>\n",
              "      <td>0</td>\n",
              "      <td>0</td>\n",
              "      <td>0</td>\n",
              "      <td>0</td>\n",
              "      <td>0</td>\n",
              "      <td>0</td>\n",
              "      <td>0</td>\n",
              "      <td>0</td>\n",
              "      <td>0</td>\n",
              "      <td>0</td>\n",
              "      <td>0</td>\n",
              "      <td>0</td>\n",
              "      <td>0</td>\n",
              "      <td>0</td>\n",
              "      <td>0</td>\n",
              "      <td>0</td>\n",
              "      <td>0</td>\n",
              "      <td>1</td>\n",
              "      <td>0</td>\n",
              "      <td>0</td>\n",
              "      <td>0</td>\n",
              "      <td>0</td>\n",
              "    </tr>\n",
              "    <tr>\n",
              "      <th>4</th>\n",
              "      <td>False</td>\n",
              "      <td>True</td>\n",
              "      <td>711.000000</td>\n",
              "      <td>False</td>\n",
              "      <td>False</td>\n",
              "      <td>True</td>\n",
              "      <td>True</td>\n",
              "      <td>1.00</td>\n",
              "      <td>30.000000</td>\n",
              "      <td>1.00</td>\n",
              "      <td>1.00</td>\n",
              "      <td>0.0</td>\n",
              "      <td>16.000000</td>\n",
              "      <td>11.0</td>\n",
              "      <td>1.0</td>\n",
              "      <td>1.0</td>\n",
              "      <td>4.00</td>\n",
              "      <td>11.000000</td>\n",
              "      <td>10.000000</td>\n",
              "      <td>1.0</td>\n",
              "      <td>1.0</td>\n",
              "      <td>1.0</td>\n",
              "      <td>2.0</td>\n",
              "      <td>0.0</td>\n",
              "      <td>16.000000</td>\n",
              "      <td>7.000000</td>\n",
              "      <td>6.000000</td>\n",
              "      <td>1.000000</td>\n",
              "      <td>2.000000</td>\n",
              "      <td>434.000000</td>\n",
              "      <td>66.000000</td>\n",
              "      <td>73.615406</td>\n",
              "      <td>5.0</td>\n",
              "      <td>1.611844e+06</td>\n",
              "      <td>699530.000000</td>\n",
              "      <td>2.0</td>\n",
              "      <td>0.000000</td>\n",
              "      <td>434.000000</td>\n",
              "      <td>0.000000</td>\n",
              "      <td>0.000000</td>\n",
              "      <td>...</td>\n",
              "      <td>0</td>\n",
              "      <td>0</td>\n",
              "      <td>0</td>\n",
              "      <td>0</td>\n",
              "      <td>0</td>\n",
              "      <td>0</td>\n",
              "      <td>0</td>\n",
              "      <td>0</td>\n",
              "      <td>0</td>\n",
              "      <td>0</td>\n",
              "      <td>0</td>\n",
              "      <td>0</td>\n",
              "      <td>0</td>\n",
              "      <td>0</td>\n",
              "      <td>0</td>\n",
              "      <td>0</td>\n",
              "      <td>0</td>\n",
              "      <td>0</td>\n",
              "      <td>0</td>\n",
              "      <td>0</td>\n",
              "      <td>0</td>\n",
              "      <td>0</td>\n",
              "      <td>0</td>\n",
              "      <td>0</td>\n",
              "      <td>0</td>\n",
              "      <td>0</td>\n",
              "      <td>0</td>\n",
              "      <td>0</td>\n",
              "      <td>0</td>\n",
              "      <td>0</td>\n",
              "      <td>0</td>\n",
              "      <td>0</td>\n",
              "      <td>0</td>\n",
              "      <td>0</td>\n",
              "      <td>0</td>\n",
              "      <td>1</td>\n",
              "      <td>0</td>\n",
              "      <td>0</td>\n",
              "      <td>0</td>\n",
              "      <td>0</td>\n",
              "    </tr>\n",
              "  </tbody>\n",
              "</table>\n",
              "<p>5 rows × 237 columns</p>\n",
              "</div>"
            ],
            "text/plain": [
              "   has_app_exception  ...  country_max_event_Vietnam\n",
              "0              False  ...                          0\n",
              "1              False  ...                          0\n",
              "2              False  ...                          0\n",
              "3              False  ...                          0\n",
              "4              False  ...                          0\n",
              "\n",
              "[5 rows x 237 columns]"
            ]
          },
          "metadata": {
            "tags": []
          },
          "execution_count": 180
        }
      ]
    },
    {
      "cell_type": "code",
      "metadata": {
        "id": "nqpo6mO0_tC_"
      },
      "source": [
        "y = data1.target_encod.values\n",
        "x = data1.drop(['target_encod'],axis = 1)"
      ],
      "execution_count": null,
      "outputs": []
    },
    {
      "cell_type": "code",
      "metadata": {
        "id": "Z9Vda9YWADNb",
        "colab": {
          "base_uri": "https://localhost:8080/",
          "height": 68
        },
        "outputId": "d03e8a18-aa41-47f8-b121-922c570697d0"
      },
      "source": [
        "y"
      ],
      "execution_count": null,
      "outputs": [
        {
          "output_type": "execute_result",
          "data": {
            "text/plain": [
              "[0, 1, 0, 1, 0, ..., 0, 0, 0, 0, 0]\n",
              "Length: 25548\n",
              "Categories (2, int64): [0, 1]"
            ]
          },
          "metadata": {
            "tags": []
          },
          "execution_count": 182
        }
      ]
    },
    {
      "cell_type": "code",
      "metadata": {
        "id": "Ks5CHhXuAEi5",
        "colab": {
          "base_uri": "https://localhost:8080/",
          "height": 270
        },
        "outputId": "921432e7-fac0-47ec-efa5-4425d024fa2b"
      },
      "source": [
        "x.head()"
      ],
      "execution_count": null,
      "outputs": [
        {
          "output_type": "execute_result",
          "data": {
            "text/html": [
              "<div>\n",
              "<style scoped>\n",
              "    .dataframe tbody tr th:only-of-type {\n",
              "        vertical-align: middle;\n",
              "    }\n",
              "\n",
              "    .dataframe tbody tr th {\n",
              "        vertical-align: top;\n",
              "    }\n",
              "\n",
              "    .dataframe thead th {\n",
              "        text-align: right;\n",
              "    }\n",
              "</style>\n",
              "<table border=\"1\" class=\"dataframe\">\n",
              "  <thead>\n",
              "    <tr style=\"text-align: right;\">\n",
              "      <th></th>\n",
              "      <th>has_app_exception</th>\n",
              "      <th>app_removed_by_user</th>\n",
              "      <th>avg_daily_event</th>\n",
              "      <th>os_updated_by_user</th>\n",
              "      <th>app_updated_by_user</th>\n",
              "      <th>tutorial_end_by_user</th>\n",
              "      <th>game_intro_completed_by_user</th>\n",
              "      <th>avg_daily_session_start</th>\n",
              "      <th>avg_daily_level_up</th>\n",
              "      <th>avg_daily_login</th>\n",
              "      <th>avg_daily_adCampaignWatchComplete</th>\n",
              "      <th>avg_daily_workerUpgradeMethodExpensiveProduct</th>\n",
              "      <th>avg_daily_workerUpgradeAmount</th>\n",
              "      <th>avg_daily_workerUpgradeMethodLowestCost</th>\n",
              "      <th>avg_daily_rocketAdWatchComplete</th>\n",
              "      <th>avg_daily_error</th>\n",
              "      <th>avg_daily_unlockedWorker</th>\n",
              "      <th>avg_daily_earningRateBoost</th>\n",
              "      <th>avg_daily_rocketAdAppear</th>\n",
              "      <th>avg_daily_ufoAdWatchComplete</th>\n",
              "      <th>avg_daily_unlockedFactory</th>\n",
              "      <th>avg_daily_productScreenClick</th>\n",
              "      <th>avg_daily_ad_reward</th>\n",
              "      <th>avg_daily_workerUpgradeUpgradeMultiplierMax</th>\n",
              "      <th>avg_worker_session</th>\n",
              "      <th>avg_factory_session</th>\n",
              "      <th>avg_transporter_session</th>\n",
              "      <th>avg_baseStation_session</th>\n",
              "      <th>avg_RewardedVideo_session</th>\n",
              "      <th>avg_upgradeAmount_session</th>\n",
              "      <th>avg_totalElapsedTime_session</th>\n",
              "      <th>avg_earningRateValue_session</th>\n",
              "      <th>avg_freeride_session</th>\n",
              "      <th>avg_uengagement_time_msec_session</th>\n",
              "      <th>avg_sengagement_time_msec_session</th>\n",
              "      <th>avg_reward_value_session</th>\n",
              "      <th>avg_maxupgradeMultiplierValue_session</th>\n",
              "      <th>avg_x1upgradeMultiplierValue_session</th>\n",
              "      <th>avg_x10upgradeMultiplierValue_session</th>\n",
              "      <th>avg_x50upgradeMultiplierValue_session</th>\n",
              "      <th>...</th>\n",
              "      <th>country_max_event_Nepal</th>\n",
              "      <th>country_max_event_Netherlands</th>\n",
              "      <th>country_max_event_New Caledonia</th>\n",
              "      <th>country_max_event_New Zealand</th>\n",
              "      <th>country_max_event_North Macedonia</th>\n",
              "      <th>country_max_event_Northern Mariana Islands</th>\n",
              "      <th>country_max_event_Norway</th>\n",
              "      <th>country_max_event_Pakistan</th>\n",
              "      <th>country_max_event_Peru</th>\n",
              "      <th>country_max_event_Philippines</th>\n",
              "      <th>country_max_event_Poland</th>\n",
              "      <th>country_max_event_Portugal</th>\n",
              "      <th>country_max_event_Puerto Rico</th>\n",
              "      <th>country_max_event_Qatar</th>\n",
              "      <th>country_max_event_Romania</th>\n",
              "      <th>country_max_event_Russia</th>\n",
              "      <th>country_max_event_Réunion</th>\n",
              "      <th>country_max_event_Saudi Arabia</th>\n",
              "      <th>country_max_event_Serbia</th>\n",
              "      <th>country_max_event_Singapore</th>\n",
              "      <th>country_max_event_Slovakia</th>\n",
              "      <th>country_max_event_Slovenia</th>\n",
              "      <th>country_max_event_South Africa</th>\n",
              "      <th>country_max_event_South Korea</th>\n",
              "      <th>country_max_event_Spain</th>\n",
              "      <th>country_max_event_Sweden</th>\n",
              "      <th>country_max_event_Switzerland</th>\n",
              "      <th>country_max_event_Taiwan</th>\n",
              "      <th>country_max_event_Tanzania</th>\n",
              "      <th>country_max_event_Thailand</th>\n",
              "      <th>country_max_event_Turkey</th>\n",
              "      <th>country_max_event_U.S. Virgin Islands</th>\n",
              "      <th>country_max_event_Ukraine</th>\n",
              "      <th>country_max_event_United Arab Emirates</th>\n",
              "      <th>country_max_event_United Kingdom</th>\n",
              "      <th>country_max_event_United States</th>\n",
              "      <th>country_max_event_Unknown</th>\n",
              "      <th>country_max_event_Uzbekistan</th>\n",
              "      <th>country_max_event_Venezuela</th>\n",
              "      <th>country_max_event_Vietnam</th>\n",
              "    </tr>\n",
              "  </thead>\n",
              "  <tbody>\n",
              "    <tr>\n",
              "      <th>0</th>\n",
              "      <td>False</td>\n",
              "      <td>False</td>\n",
              "      <td>28.000000</td>\n",
              "      <td>False</td>\n",
              "      <td>False</td>\n",
              "      <td>False</td>\n",
              "      <td>False</td>\n",
              "      <td>1.00</td>\n",
              "      <td>2.000000</td>\n",
              "      <td>1.00</td>\n",
              "      <td>1.00</td>\n",
              "      <td>0.0</td>\n",
              "      <td>0.000000</td>\n",
              "      <td>0.0</td>\n",
              "      <td>0.0</td>\n",
              "      <td>1.0</td>\n",
              "      <td>1.00</td>\n",
              "      <td>0.000000</td>\n",
              "      <td>0.000000</td>\n",
              "      <td>0.0</td>\n",
              "      <td>1.0</td>\n",
              "      <td>0.0</td>\n",
              "      <td>0.0</td>\n",
              "      <td>0.0</td>\n",
              "      <td>0.000000</td>\n",
              "      <td>1.000000</td>\n",
              "      <td>1.000000</td>\n",
              "      <td>0.000000</td>\n",
              "      <td>0.000000</td>\n",
              "      <td>0.000000</td>\n",
              "      <td>0.000000</td>\n",
              "      <td>0.000000</td>\n",
              "      <td>0.0</td>\n",
              "      <td>6.134100e+04</td>\n",
              "      <td>0.000000</td>\n",
              "      <td>0.0</td>\n",
              "      <td>0.000000</td>\n",
              "      <td>0.000000</td>\n",
              "      <td>0.000000</td>\n",
              "      <td>0.000000</td>\n",
              "      <td>...</td>\n",
              "      <td>0</td>\n",
              "      <td>0</td>\n",
              "      <td>0</td>\n",
              "      <td>0</td>\n",
              "      <td>0</td>\n",
              "      <td>0</td>\n",
              "      <td>1</td>\n",
              "      <td>0</td>\n",
              "      <td>0</td>\n",
              "      <td>0</td>\n",
              "      <td>0</td>\n",
              "      <td>0</td>\n",
              "      <td>0</td>\n",
              "      <td>0</td>\n",
              "      <td>0</td>\n",
              "      <td>0</td>\n",
              "      <td>0</td>\n",
              "      <td>0</td>\n",
              "      <td>0</td>\n",
              "      <td>0</td>\n",
              "      <td>0</td>\n",
              "      <td>0</td>\n",
              "      <td>0</td>\n",
              "      <td>0</td>\n",
              "      <td>0</td>\n",
              "      <td>0</td>\n",
              "      <td>0</td>\n",
              "      <td>0</td>\n",
              "      <td>0</td>\n",
              "      <td>0</td>\n",
              "      <td>0</td>\n",
              "      <td>0</td>\n",
              "      <td>0</td>\n",
              "      <td>0</td>\n",
              "      <td>0</td>\n",
              "      <td>0</td>\n",
              "      <td>0</td>\n",
              "      <td>0</td>\n",
              "      <td>0</td>\n",
              "      <td>0</td>\n",
              "    </tr>\n",
              "    <tr>\n",
              "      <th>1</th>\n",
              "      <td>False</td>\n",
              "      <td>False</td>\n",
              "      <td>793.750000</td>\n",
              "      <td>False</td>\n",
              "      <td>False</td>\n",
              "      <td>True</td>\n",
              "      <td>True</td>\n",
              "      <td>4.25</td>\n",
              "      <td>154.000000</td>\n",
              "      <td>3.25</td>\n",
              "      <td>1.75</td>\n",
              "      <td>0.0</td>\n",
              "      <td>59.500000</td>\n",
              "      <td>12.0</td>\n",
              "      <td>4.0</td>\n",
              "      <td>1.0</td>\n",
              "      <td>4.25</td>\n",
              "      <td>15.500000</td>\n",
              "      <td>9.750000</td>\n",
              "      <td>0.0</td>\n",
              "      <td>1.0</td>\n",
              "      <td>1.5</td>\n",
              "      <td>0.0</td>\n",
              "      <td>92.5</td>\n",
              "      <td>14.000000</td>\n",
              "      <td>8.058824</td>\n",
              "      <td>13.235294</td>\n",
              "      <td>0.941176</td>\n",
              "      <td>0.941176</td>\n",
              "      <td>490.117647</td>\n",
              "      <td>114.882353</td>\n",
              "      <td>156.236075</td>\n",
              "      <td>0.0</td>\n",
              "      <td>5.890805e+05</td>\n",
              "      <td>0.000000</td>\n",
              "      <td>0.0</td>\n",
              "      <td>316.176471</td>\n",
              "      <td>10.411765</td>\n",
              "      <td>4.882353</td>\n",
              "      <td>2.294118</td>\n",
              "      <td>...</td>\n",
              "      <td>0</td>\n",
              "      <td>0</td>\n",
              "      <td>0</td>\n",
              "      <td>0</td>\n",
              "      <td>0</td>\n",
              "      <td>0</td>\n",
              "      <td>0</td>\n",
              "      <td>0</td>\n",
              "      <td>0</td>\n",
              "      <td>0</td>\n",
              "      <td>0</td>\n",
              "      <td>0</td>\n",
              "      <td>0</td>\n",
              "      <td>0</td>\n",
              "      <td>0</td>\n",
              "      <td>0</td>\n",
              "      <td>0</td>\n",
              "      <td>0</td>\n",
              "      <td>0</td>\n",
              "      <td>0</td>\n",
              "      <td>0</td>\n",
              "      <td>0</td>\n",
              "      <td>0</td>\n",
              "      <td>0</td>\n",
              "      <td>0</td>\n",
              "      <td>0</td>\n",
              "      <td>0</td>\n",
              "      <td>0</td>\n",
              "      <td>0</td>\n",
              "      <td>0</td>\n",
              "      <td>0</td>\n",
              "      <td>0</td>\n",
              "      <td>0</td>\n",
              "      <td>0</td>\n",
              "      <td>0</td>\n",
              "      <td>0</td>\n",
              "      <td>0</td>\n",
              "      <td>0</td>\n",
              "      <td>0</td>\n",
              "      <td>0</td>\n",
              "    </tr>\n",
              "    <tr>\n",
              "      <th>2</th>\n",
              "      <td>False</td>\n",
              "      <td>False</td>\n",
              "      <td>103.000000</td>\n",
              "      <td>False</td>\n",
              "      <td>False</td>\n",
              "      <td>False</td>\n",
              "      <td>False</td>\n",
              "      <td>2.00</td>\n",
              "      <td>19.000000</td>\n",
              "      <td>2.00</td>\n",
              "      <td>0.00</td>\n",
              "      <td>0.0</td>\n",
              "      <td>7.000000</td>\n",
              "      <td>0.0</td>\n",
              "      <td>0.0</td>\n",
              "      <td>0.0</td>\n",
              "      <td>1.00</td>\n",
              "      <td>2.000000</td>\n",
              "      <td>1.000000</td>\n",
              "      <td>0.0</td>\n",
              "      <td>0.0</td>\n",
              "      <td>0.0</td>\n",
              "      <td>0.0</td>\n",
              "      <td>7.0</td>\n",
              "      <td>0.437500</td>\n",
              "      <td>0.187500</td>\n",
              "      <td>0.437500</td>\n",
              "      <td>0.125000</td>\n",
              "      <td>0.000000</td>\n",
              "      <td>5.750000</td>\n",
              "      <td>2.187500</td>\n",
              "      <td>5.962976</td>\n",
              "      <td>0.0</td>\n",
              "      <td>1.410162e+04</td>\n",
              "      <td>0.000000</td>\n",
              "      <td>0.0</td>\n",
              "      <td>5.750000</td>\n",
              "      <td>0.000000</td>\n",
              "      <td>0.000000</td>\n",
              "      <td>0.000000</td>\n",
              "      <td>...</td>\n",
              "      <td>0</td>\n",
              "      <td>0</td>\n",
              "      <td>0</td>\n",
              "      <td>0</td>\n",
              "      <td>0</td>\n",
              "      <td>0</td>\n",
              "      <td>0</td>\n",
              "      <td>0</td>\n",
              "      <td>0</td>\n",
              "      <td>0</td>\n",
              "      <td>0</td>\n",
              "      <td>0</td>\n",
              "      <td>0</td>\n",
              "      <td>0</td>\n",
              "      <td>0</td>\n",
              "      <td>0</td>\n",
              "      <td>0</td>\n",
              "      <td>0</td>\n",
              "      <td>1</td>\n",
              "      <td>0</td>\n",
              "      <td>0</td>\n",
              "      <td>0</td>\n",
              "      <td>0</td>\n",
              "      <td>0</td>\n",
              "      <td>0</td>\n",
              "      <td>0</td>\n",
              "      <td>0</td>\n",
              "      <td>0</td>\n",
              "      <td>0</td>\n",
              "      <td>0</td>\n",
              "      <td>0</td>\n",
              "      <td>0</td>\n",
              "      <td>0</td>\n",
              "      <td>0</td>\n",
              "      <td>0</td>\n",
              "      <td>0</td>\n",
              "      <td>0</td>\n",
              "      <td>0</td>\n",
              "      <td>0</td>\n",
              "      <td>0</td>\n",
              "    </tr>\n",
              "    <tr>\n",
              "      <th>3</th>\n",
              "      <td>False</td>\n",
              "      <td>False</td>\n",
              "      <td>281.333333</td>\n",
              "      <td>False</td>\n",
              "      <td>False</td>\n",
              "      <td>True</td>\n",
              "      <td>False</td>\n",
              "      <td>1.00</td>\n",
              "      <td>41.333333</td>\n",
              "      <td>1.00</td>\n",
              "      <td>1.00</td>\n",
              "      <td>0.0</td>\n",
              "      <td>16.333333</td>\n",
              "      <td>9.0</td>\n",
              "      <td>6.0</td>\n",
              "      <td>1.0</td>\n",
              "      <td>2.00</td>\n",
              "      <td>12.333333</td>\n",
              "      <td>16.333333</td>\n",
              "      <td>0.0</td>\n",
              "      <td>1.0</td>\n",
              "      <td>0.0</td>\n",
              "      <td>6.0</td>\n",
              "      <td>0.0</td>\n",
              "      <td>16.333333</td>\n",
              "      <td>11.666667</td>\n",
              "      <td>12.333333</td>\n",
              "      <td>1.000000</td>\n",
              "      <td>2.000000</td>\n",
              "      <td>484.666667</td>\n",
              "      <td>234.333333</td>\n",
              "      <td>175.968473</td>\n",
              "      <td>5.0</td>\n",
              "      <td>6.572923e+05</td>\n",
              "      <td>376739.666667</td>\n",
              "      <td>2.0</td>\n",
              "      <td>0.000000</td>\n",
              "      <td>24.666667</td>\n",
              "      <td>32.666667</td>\n",
              "      <td>2.666667</td>\n",
              "      <td>...</td>\n",
              "      <td>0</td>\n",
              "      <td>0</td>\n",
              "      <td>0</td>\n",
              "      <td>0</td>\n",
              "      <td>0</td>\n",
              "      <td>0</td>\n",
              "      <td>0</td>\n",
              "      <td>0</td>\n",
              "      <td>0</td>\n",
              "      <td>0</td>\n",
              "      <td>0</td>\n",
              "      <td>0</td>\n",
              "      <td>0</td>\n",
              "      <td>0</td>\n",
              "      <td>0</td>\n",
              "      <td>0</td>\n",
              "      <td>0</td>\n",
              "      <td>0</td>\n",
              "      <td>0</td>\n",
              "      <td>0</td>\n",
              "      <td>0</td>\n",
              "      <td>0</td>\n",
              "      <td>0</td>\n",
              "      <td>0</td>\n",
              "      <td>0</td>\n",
              "      <td>0</td>\n",
              "      <td>0</td>\n",
              "      <td>0</td>\n",
              "      <td>0</td>\n",
              "      <td>0</td>\n",
              "      <td>0</td>\n",
              "      <td>0</td>\n",
              "      <td>0</td>\n",
              "      <td>0</td>\n",
              "      <td>0</td>\n",
              "      <td>1</td>\n",
              "      <td>0</td>\n",
              "      <td>0</td>\n",
              "      <td>0</td>\n",
              "      <td>0</td>\n",
              "    </tr>\n",
              "    <tr>\n",
              "      <th>4</th>\n",
              "      <td>False</td>\n",
              "      <td>True</td>\n",
              "      <td>711.000000</td>\n",
              "      <td>False</td>\n",
              "      <td>False</td>\n",
              "      <td>True</td>\n",
              "      <td>True</td>\n",
              "      <td>1.00</td>\n",
              "      <td>30.000000</td>\n",
              "      <td>1.00</td>\n",
              "      <td>1.00</td>\n",
              "      <td>0.0</td>\n",
              "      <td>16.000000</td>\n",
              "      <td>11.0</td>\n",
              "      <td>1.0</td>\n",
              "      <td>1.0</td>\n",
              "      <td>4.00</td>\n",
              "      <td>11.000000</td>\n",
              "      <td>10.000000</td>\n",
              "      <td>1.0</td>\n",
              "      <td>1.0</td>\n",
              "      <td>1.0</td>\n",
              "      <td>2.0</td>\n",
              "      <td>0.0</td>\n",
              "      <td>16.000000</td>\n",
              "      <td>7.000000</td>\n",
              "      <td>6.000000</td>\n",
              "      <td>1.000000</td>\n",
              "      <td>2.000000</td>\n",
              "      <td>434.000000</td>\n",
              "      <td>66.000000</td>\n",
              "      <td>73.615406</td>\n",
              "      <td>5.0</td>\n",
              "      <td>1.611844e+06</td>\n",
              "      <td>699530.000000</td>\n",
              "      <td>2.0</td>\n",
              "      <td>0.000000</td>\n",
              "      <td>434.000000</td>\n",
              "      <td>0.000000</td>\n",
              "      <td>0.000000</td>\n",
              "      <td>...</td>\n",
              "      <td>0</td>\n",
              "      <td>0</td>\n",
              "      <td>0</td>\n",
              "      <td>0</td>\n",
              "      <td>0</td>\n",
              "      <td>0</td>\n",
              "      <td>0</td>\n",
              "      <td>0</td>\n",
              "      <td>0</td>\n",
              "      <td>0</td>\n",
              "      <td>0</td>\n",
              "      <td>0</td>\n",
              "      <td>0</td>\n",
              "      <td>0</td>\n",
              "      <td>0</td>\n",
              "      <td>0</td>\n",
              "      <td>0</td>\n",
              "      <td>0</td>\n",
              "      <td>0</td>\n",
              "      <td>0</td>\n",
              "      <td>0</td>\n",
              "      <td>0</td>\n",
              "      <td>0</td>\n",
              "      <td>0</td>\n",
              "      <td>0</td>\n",
              "      <td>0</td>\n",
              "      <td>0</td>\n",
              "      <td>0</td>\n",
              "      <td>0</td>\n",
              "      <td>0</td>\n",
              "      <td>0</td>\n",
              "      <td>0</td>\n",
              "      <td>0</td>\n",
              "      <td>0</td>\n",
              "      <td>0</td>\n",
              "      <td>1</td>\n",
              "      <td>0</td>\n",
              "      <td>0</td>\n",
              "      <td>0</td>\n",
              "      <td>0</td>\n",
              "    </tr>\n",
              "  </tbody>\n",
              "</table>\n",
              "<p>5 rows × 236 columns</p>\n",
              "</div>"
            ],
            "text/plain": [
              "   has_app_exception  ...  country_max_event_Vietnam\n",
              "0              False  ...                          0\n",
              "1              False  ...                          0\n",
              "2              False  ...                          0\n",
              "3              False  ...                          0\n",
              "4              False  ...                          0\n",
              "\n",
              "[5 rows x 236 columns]"
            ]
          },
          "metadata": {
            "tags": []
          },
          "execution_count": 183
        }
      ]
    },
    {
      "cell_type": "code",
      "metadata": {
        "id": "M5OnqDhCAJ1m"
      },
      "source": [
        "import numpy as np\n",
        "import pandas as pd \n",
        "import statsmodels.api as sm\n",
        "import statsmodels.formula.api as smf\n",
        "import seaborn as sns\n",
        "from sklearn.preprocessing import scale \n",
        "from sklearn.model_selection import train_test_split, GridSearchCV, cross_val_score\n",
        "from sklearn.metrics import confusion_matrix, accuracy_score, classification_report\n",
        "from sklearn.metrics import roc_auc_score,roc_curve\n",
        "import statsmodels.formula.api as smf\n",
        "import matplotlib.pyplot as plt\n",
        "from xgboost import XGBClassifier"
      ],
      "execution_count": null,
      "outputs": []
    },
    {
      "cell_type": "code",
      "metadata": {
        "id": "SHQw90ZDAty6"
      },
      "source": [
        "x_train, x_test, y_train, y_test = train_test_split(x, y, \n",
        "                                                    test_size=0.30, \n",
        "                                                    random_state=42)"
      ],
      "execution_count": null,
      "outputs": []
    },
    {
      "cell_type": "markdown",
      "metadata": {
        "id": "tiIo8dspDSAV"
      },
      "source": [
        "## XGBOOST"
      ]
    },
    {
      "cell_type": "code",
      "metadata": {
        "id": "7sdnTczsA3cs"
      },
      "source": [
        "xgb_model = XGBClassifier().fit(x_train, y_train)"
      ],
      "execution_count": null,
      "outputs": []
    },
    {
      "cell_type": "code",
      "metadata": {
        "id": "aK6d2USiA6FO",
        "colab": {
          "base_uri": "https://localhost:8080/",
          "height": 34
        },
        "outputId": "a5179bcf-eeb4-4fe3-8be5-cc9603dc065b"
      },
      "source": [
        "y_pred = xgb_model.predict(x_test)\n",
        "accuracy_score(y_test, y_pred)"
      ],
      "execution_count": null,
      "outputs": [
        {
          "output_type": "execute_result",
          "data": {
            "text/plain": [
              "0.9445531637312459"
            ]
          },
          "metadata": {
            "tags": []
          },
          "execution_count": 189
        }
      ]
    },
    {
      "cell_type": "code",
      "metadata": {
        "id": "Nrr_FgOyBncr",
        "colab": {
          "base_uri": "https://localhost:8080/",
          "height": 170
        },
        "outputId": "a15e578a-d30c-4abd-f98e-f6ca8cd6210d"
      },
      "source": [
        "print(classification_report(y_test,y_pred))"
      ],
      "execution_count": null,
      "outputs": [
        {
          "output_type": "stream",
          "text": [
            "              precision    recall  f1-score   support\n",
            "\n",
            "           0       0.97      0.96      0.97      6307\n",
            "           1       0.83      0.86      0.85      1358\n",
            "\n",
            "    accuracy                           0.94      7665\n",
            "   macro avg       0.90      0.91      0.91      7665\n",
            "weighted avg       0.95      0.94      0.94      7665\n",
            "\n"
          ],
          "name": "stdout"
        }
      ]
    },
    {
      "cell_type": "code",
      "metadata": {
        "id": "FZlSkwgDCMYr",
        "colab": {
          "base_uri": "https://localhost:8080/",
          "height": 351
        },
        "outputId": "0ce767f5-8341-414e-8385-e4d31e40d677"
      },
      "source": [
        "mtx = confusion_matrix(y_test, y_pred)\n",
        "fig, ax = plt.subplots(figsize=(5,5))\n",
        "sns.heatmap(mtx, xticklabels= 'auto', yticklabels='auto', cmap=\"Blues\", annot=True, fmt='d', linewidths=.5,  cbar=False, ax=ax)\n",
        "#  square=True,\n",
        "plt.ylabel('true label')\n",
        "plt.xlabel('predicted label')"
      ],
      "execution_count": null,
      "outputs": [
        {
          "output_type": "execute_result",
          "data": {
            "text/plain": [
              "Text(0.5, 24.0, 'predicted label')"
            ]
          },
          "metadata": {
            "tags": []
          },
          "execution_count": 191
        },
        {
          "output_type": "display_data",
          "data": {
            "image/png": "[encoded data removed]",
            "text/plain": [
              "<Figure size 360x360 with 1 Axes>"
            ]
          },
          "metadata": {
            "tags": [],
            "needs_background": "light"
          }
        }
      ]
    },
    {
      "cell_type": "code",
      "metadata": {
        "id": "fPijA7hECrdd",
        "colab": {
          "base_uri": "https://localhost:8080/",
          "height": 295
        },
        "outputId": "bacc3e9d-9b27-4277-9a38-99ddfe305e8b"
      },
      "source": [
        "fpr,tpr,thresholds = roc_curve(y_test,xgb_model.predict_proba(x_test)[:,1])\n",
        "plt.figure()\n",
        "plt.plot(fpr,tpr, label='AUC (area = %0.2f)')\n",
        "plt.plot([0, 1], [0, 1],'r--')\n",
        "plt.xlim([0.0, 1.0])\n",
        "plt.ylim([0.0, 1.05])\n",
        "plt.xlabel('False Positive Oranı')\n",
        "plt.ylabel('True Positive Oranı')\n",
        "plt.title('ROC')\n",
        "plt.show()"
      ],
      "execution_count": null,
      "outputs": [
        {
          "output_type": "display_data",
          "data": {
            "image/png": "[encoded data removed]",
            "text/plain": [
              "<Figure size 432x288 with 1 Axes>"
            ]
          },
          "metadata": {
            "tags": [],
            "needs_background": "light"
          }
        }
      ]
    },
    {
      "cell_type": "code",
      "metadata": {
        "id": "_V3ISV_qC6-6"
      },
      "source": [
        "## model tuning\n",
        "xgb_params = {\n",
        "    'n_estimators': [100, 500],\n",
        "    'subsample': [0.6, 1.0],\n",
        "    'max_depth': [3, 4, 5],\n",
        "    'learning_rate': [0.1,0.01,0.02],\n",
        "    \"min_samples_split\": [2,5,10]}"
      ],
      "execution_count": null,
      "outputs": []
    },
    {
      "cell_type": "code",
      "metadata": {
        "id": "CSWwCOxRDldT"
      },
      "source": [
        "xgb = XGBClassifier()\n",
        "\n",
        "xgb_cv_model = GridSearchCV(xgb, xgb_params, cv = 3, n_jobs = -1, verbose = 2)"
      ],
      "execution_count": null,
      "outputs": []
    },
    {
      "cell_type": "code",
      "metadata": {
        "id": "R39jnnjODrhs",
        "colab": {
          "base_uri": "https://localhost:8080/",
          "height": 408
        },
        "outputId": "172f7dd7-6210-476a-d50c-89a41d788681"
      },
      "source": [
        "xgb_cv_model.fit(x_train, y_train)"
      ],
      "execution_count": null,
      "outputs": [
        {
          "output_type": "stream",
          "text": [
            "Fitting 3 folds for each of 108 candidates, totalling 324 fits\n"
          ],
          "name": "stdout"
        },
        {
          "output_type": "stream",
          "text": [
            "[Parallel(n_jobs=-1)]: Using backend LokyBackend with 2 concurrent workers.\n",
            "[Parallel(n_jobs=-1)]: Done  37 tasks      | elapsed:  8.4min\n",
            "[Parallel(n_jobs=-1)]: Done 158 tasks      | elapsed: 44.7min\n",
            "[Parallel(n_jobs=-1)]: Done 324 out of 324 | elapsed: 98.9min finished\n"
          ],
          "name": "stderr"
        },
        {
          "output_type": "execute_result",
          "data": {
            "text/plain": [
              "GridSearchCV(cv=3, error_score=nan,\n",
              "             estimator=XGBClassifier(base_score=0.5, booster='gbtree',\n",
              "                                     colsample_bylevel=1, colsample_bynode=1,\n",
              "                                     colsample_bytree=1, gamma=0,\n",
              "                                     learning_rate=0.1, max_delta_step=0,\n",
              "                                     max_depth=3, min_child_weight=1,\n",
              "                                     missing=None, n_estimators=100, n_jobs=1,\n",
              "                                     nthread=None, objective='binary:logistic',\n",
              "                                     random_state=0, reg_alpha=0, reg_lambda=1,\n",
              "                                     scale_pos_weight=1, seed=None, silent=None,\n",
              "                                     subsample=1, verbosity=1),\n",
              "             iid='deprecated', n_jobs=-1,\n",
              "             param_grid={'learning_rate': [0.1, 0.01, 0.02],\n",
              "                         'max_depth': [3, 4, 5],\n",
              "                         'min_samples_split': [2, 5, 10],\n",
              "                         'n_estimators': [100, 500], 'subsample': [0.6, 1.0]},\n",
              "             pre_dispatch='2*n_jobs', refit=True, return_train_score=False,\n",
              "             scoring=None, verbose=2)"
            ]
          },
          "metadata": {
            "tags": []
          },
          "execution_count": 195
        }
      ]
    },
    {
      "cell_type": "code",
      "metadata": {
        "id": "j79xPB1_xPX9",
        "colab": {
          "base_uri": "https://localhost:8080/",
          "height": 102
        },
        "outputId": "db042f3b-a90b-42b8-a4a3-9ed34f6b5aca"
      },
      "source": [
        "xgb_cv_model.best_params_"
      ],
      "execution_count": null,
      "outputs": [
        {
          "output_type": "execute_result",
          "data": {
            "text/plain": [
              "{'learning_rate': 0.1,\n",
              " 'max_depth': 5,\n",
              " 'min_samples_split': 2,\n",
              " 'n_estimators': 100,\n",
              " 'subsample': 0.6}"
            ]
          },
          "metadata": {
            "tags": []
          },
          "execution_count": 196
        }
      ]
    },
    {
      "cell_type": "code",
      "metadata": {
        "id": "FGoaTFgkxPp-"
      },
      "source": [
        "xgb = XGBClassifier(max_depth = xgb_cv_model.best_params_[\"max_depth\"],\n",
        "                                 learning_rate = xgb_cv_model.best_params_[\"learning_rate\"], \n",
        "                                 min_samples_split = xgb_cv_model.best_params_[\"min_samples_split\"],\n",
        "                                 n_estimators = xgb_cv_model.best_params_[\"n_estimators\"],\n",
        "                                 subsample = xgb_cv_model.best_params_[\"subsample\"])"
      ],
      "execution_count": null,
      "outputs": []
    },
    {
      "cell_type": "code",
      "metadata": {
        "id": "w6dQxldPDvfU",
        "colab": {
          "base_uri": "https://localhost:8080/",
          "height": 34
        },
        "outputId": "ccfce9d3-5070-479e-ec2b-7717988ab5a7"
      },
      "source": [
        "xgb_tuned = xgb.fit(x_train,y_train)\n",
        "y_pred = xgb_tuned.predict(x_test)\n",
        "accuracy_score(y_test,y_pred)"
      ],
      "execution_count": null,
      "outputs": [
        {
          "output_type": "execute_result",
          "data": {
            "text/plain": [
              "0.9441617742987606"
            ]
          },
          "metadata": {
            "tags": []
          },
          "execution_count": 198
        }
      ]
    },
    {
      "cell_type": "code",
      "metadata": {
        "id": "47ry8H4tyk0J",
        "colab": {
          "base_uri": "https://localhost:8080/",
          "height": 351
        },
        "outputId": "6fe26f38-3cfb-4a62-95f4-af11c217fe82"
      },
      "source": [
        "mtx = confusion_matrix(y_test, y_pred)\n",
        "fig, ax = plt.subplots(figsize=(5,5))\n",
        "sns.heatmap(mtx, xticklabels= 'auto', yticklabels='auto', cmap=\"Blues\", annot=True, fmt='d', linewidths=.5,  cbar=False, ax=ax)\n",
        "#  square=True,\n",
        "plt.ylabel('true label')\n",
        "plt.xlabel('predicted label')"
      ],
      "execution_count": null,
      "outputs": [
        {
          "output_type": "execute_result",
          "data": {
            "text/plain": [
              "Text(0.5, 24.0, 'predicted label')"
            ]
          },
          "metadata": {
            "tags": []
          },
          "execution_count": 199
        },
        {
          "output_type": "display_data",
          "data": {
            "image/png": "[encoded data removed]",
            "text/plain": [
              "<Figure size 360x360 with 1 Axes>"
            ]
          },
          "metadata": {
            "tags": [],
            "needs_background": "light"
          }
        }
      ]
    },
    {
      "cell_type": "code",
      "metadata": {
        "id": "RsmTKLkiytO4",
        "colab": {
          "base_uri": "https://localhost:8080/",
          "height": 295
        },
        "outputId": "dfc3c22f-7663-4cfc-c8d0-b10562b7aa23"
      },
      "source": [
        "fpr,tpr,thresholds = roc_curve(y_test,xgb_tuned.predict_proba(x_test)[:,1])\n",
        "plt.figure()\n",
        "plt.plot(fpr,tpr, label='AUC (area = %0.2f)')\n",
        "plt.plot([0, 1], [0, 1],'r--')\n",
        "plt.xlim([0.0, 1.0])\n",
        "plt.ylim([0.0, 1.05])\n",
        "plt.xlabel('False Positive Oranı')\n",
        "plt.ylabel('True Positive Oranı')\n",
        "plt.title('ROC')\n",
        "plt.show()"
      ],
      "execution_count": null,
      "outputs": [
        {
          "output_type": "display_data",
          "data": {
            "image/png": "[encoded data removed]",
            "text/plain": [
              "<Figure size 432x288 with 1 Axes>"
            ]
          },
          "metadata": {
            "tags": [],
            "needs_background": "light"
          }
        }
      ]
    },
    {
      "cell_type": "code",
      "metadata": {
        "id": "R3qt_gXUy81g",
        "colab": {
          "base_uri": "https://localhost:8080/",
          "height": 170
        },
        "outputId": "e0af1551-3827-4bda-fa65-99cf57990606"
      },
      "source": [
        "print(classification_report(y_test,y_pred))"
      ],
      "execution_count": null,
      "outputs": [
        {
          "output_type": "stream",
          "text": [
            "              precision    recall  f1-score   support\n",
            "\n",
            "           0       0.97      0.96      0.97      6307\n",
            "           1       0.83      0.86      0.84      1358\n",
            "\n",
            "    accuracy                           0.94      7665\n",
            "   macro avg       0.90      0.91      0.91      7665\n",
            "weighted avg       0.94      0.94      0.94      7665\n",
            "\n"
          ],
          "name": "stdout"
        }
      ]
    },
    {
      "cell_type": "code",
      "metadata": {
        "id": "iiapooYVKjW1",
        "colab": {
          "base_uri": "https://localhost:8080/",
          "height": 270
        },
        "outputId": "030c3075-9164-4f36-cd88-3a4274b64a90"
      },
      "source": [
        "### Düzenleme\n"
      ],
      "execution_count": null,
      "outputs": [
        {
          "output_type": "execute_result",
          "data": {
            "text/html": [
              "<div>\n",
              "<style scoped>\n",
              "    .dataframe tbody tr th:only-of-type {\n",
              "        vertical-align: middle;\n",
              "    }\n",
              "\n",
              "    .dataframe tbody tr th {\n",
              "        vertical-align: top;\n",
              "    }\n",
              "\n",
              "    .dataframe thead th {\n",
              "        text-align: right;\n",
              "    }\n",
              "</style>\n",
              "<table border=\"1\" class=\"dataframe\">\n",
              "  <thead>\n",
              "    <tr style=\"text-align: right;\">\n",
              "      <th></th>\n",
              "      <th>has_app_exception</th>\n",
              "      <th>app_removed_by_user</th>\n",
              "      <th>avg_daily_event</th>\n",
              "      <th>os_updated_by_user</th>\n",
              "      <th>app_updated_by_user</th>\n",
              "      <th>tutorial_end_by_user</th>\n",
              "      <th>game_intro_completed_by_user</th>\n",
              "      <th>avg_daily_session_start</th>\n",
              "      <th>avg_daily_level_up</th>\n",
              "      <th>avg_daily_login</th>\n",
              "      <th>avg_daily_adCampaignWatchComplete</th>\n",
              "      <th>avg_daily_workerUpgradeMethodExpensiveProduct</th>\n",
              "      <th>avg_daily_workerUpgradeAmount</th>\n",
              "      <th>avg_daily_workerUpgradeMethodLowestCost</th>\n",
              "      <th>avg_daily_rocketAdWatchComplete</th>\n",
              "      <th>avg_daily_error</th>\n",
              "      <th>avg_daily_unlockedWorker</th>\n",
              "      <th>avg_daily_earningRateBoost</th>\n",
              "      <th>avg_daily_rocketAdAppear</th>\n",
              "      <th>avg_daily_ufoAdWatchComplete</th>\n",
              "      <th>avg_daily_unlockedFactory</th>\n",
              "      <th>avg_daily_productScreenClick</th>\n",
              "      <th>avg_daily_ad_reward</th>\n",
              "      <th>avg_daily_workerUpgradeUpgradeMultiplierMax</th>\n",
              "      <th>avg_worker_session</th>\n",
              "      <th>avg_factory_session</th>\n",
              "      <th>avg_transporter_session</th>\n",
              "      <th>avg_baseStation_session</th>\n",
              "      <th>avg_RewardedVideo_session</th>\n",
              "      <th>avg_upgradeAmount_session</th>\n",
              "      <th>avg_totalElapsedTime_session</th>\n",
              "      <th>avg_earningRateValue_session</th>\n",
              "      <th>avg_freeride_session</th>\n",
              "      <th>avg_uengagement_time_msec_session</th>\n",
              "      <th>avg_sengagement_time_msec_session</th>\n",
              "      <th>avg_reward_value_session</th>\n",
              "      <th>avg_maxupgradeMultiplierValue_session</th>\n",
              "      <th>avg_x1upgradeMultiplierValue_session</th>\n",
              "      <th>avg_x10upgradeMultiplierValue_session</th>\n",
              "      <th>avg_x50upgradeMultiplierValue_session</th>\n",
              "      <th>...</th>\n",
              "      <th>country_max_event_Nepal</th>\n",
              "      <th>country_max_event_Netherlands</th>\n",
              "      <th>country_max_event_New Caledonia</th>\n",
              "      <th>country_max_event_New Zealand</th>\n",
              "      <th>country_max_event_North Macedonia</th>\n",
              "      <th>country_max_event_Northern Mariana Islands</th>\n",
              "      <th>country_max_event_Norway</th>\n",
              "      <th>country_max_event_Pakistan</th>\n",
              "      <th>country_max_event_Peru</th>\n",
              "      <th>country_max_event_Philippines</th>\n",
              "      <th>country_max_event_Poland</th>\n",
              "      <th>country_max_event_Portugal</th>\n",
              "      <th>country_max_event_Puerto Rico</th>\n",
              "      <th>country_max_event_Qatar</th>\n",
              "      <th>country_max_event_Romania</th>\n",
              "      <th>country_max_event_Russia</th>\n",
              "      <th>country_max_event_Réunion</th>\n",
              "      <th>country_max_event_Saudi Arabia</th>\n",
              "      <th>country_max_event_Serbia</th>\n",
              "      <th>country_max_event_Singapore</th>\n",
              "      <th>country_max_event_Slovakia</th>\n",
              "      <th>country_max_event_Slovenia</th>\n",
              "      <th>country_max_event_South Africa</th>\n",
              "      <th>country_max_event_South Korea</th>\n",
              "      <th>country_max_event_Spain</th>\n",
              "      <th>country_max_event_Sweden</th>\n",
              "      <th>country_max_event_Switzerland</th>\n",
              "      <th>country_max_event_Taiwan</th>\n",
              "      <th>country_max_event_Tanzania</th>\n",
              "      <th>country_max_event_Thailand</th>\n",
              "      <th>country_max_event_Turkey</th>\n",
              "      <th>country_max_event_U.S. Virgin Islands</th>\n",
              "      <th>country_max_event_Ukraine</th>\n",
              "      <th>country_max_event_United Arab Emirates</th>\n",
              "      <th>country_max_event_United Kingdom</th>\n",
              "      <th>country_max_event_United States</th>\n",
              "      <th>country_max_event_Unknown</th>\n",
              "      <th>country_max_event_Uzbekistan</th>\n",
              "      <th>country_max_event_Venezuela</th>\n",
              "      <th>country_max_event_Vietnam</th>\n",
              "    </tr>\n",
              "  </thead>\n",
              "  <tbody>\n",
              "    <tr>\n",
              "      <th>0</th>\n",
              "      <td>False</td>\n",
              "      <td>False</td>\n",
              "      <td>28.000000</td>\n",
              "      <td>False</td>\n",
              "      <td>False</td>\n",
              "      <td>False</td>\n",
              "      <td>False</td>\n",
              "      <td>1.00</td>\n",
              "      <td>2.000000</td>\n",
              "      <td>1.00</td>\n",
              "      <td>1.00</td>\n",
              "      <td>0.0</td>\n",
              "      <td>0.000000</td>\n",
              "      <td>0.0</td>\n",
              "      <td>0.0</td>\n",
              "      <td>1.0</td>\n",
              "      <td>1.00</td>\n",
              "      <td>0.000000</td>\n",
              "      <td>0.000000</td>\n",
              "      <td>0.0</td>\n",
              "      <td>1.0</td>\n",
              "      <td>0.0</td>\n",
              "      <td>0.0</td>\n",
              "      <td>0.0</td>\n",
              "      <td>0.000000</td>\n",
              "      <td>1.000000</td>\n",
              "      <td>1.000000</td>\n",
              "      <td>0.000000</td>\n",
              "      <td>0.000000</td>\n",
              "      <td>0.000000</td>\n",
              "      <td>0.000000</td>\n",
              "      <td>0.000000</td>\n",
              "      <td>0.0</td>\n",
              "      <td>6.134100e+04</td>\n",
              "      <td>0.000000</td>\n",
              "      <td>0.0</td>\n",
              "      <td>0.000000</td>\n",
              "      <td>0.000000</td>\n",
              "      <td>0.000000</td>\n",
              "      <td>0.000000</td>\n",
              "      <td>...</td>\n",
              "      <td>0</td>\n",
              "      <td>0</td>\n",
              "      <td>0</td>\n",
              "      <td>0</td>\n",
              "      <td>0</td>\n",
              "      <td>0</td>\n",
              "      <td>1</td>\n",
              "      <td>0</td>\n",
              "      <td>0</td>\n",
              "      <td>0</td>\n",
              "      <td>0</td>\n",
              "      <td>0</td>\n",
              "      <td>0</td>\n",
              "      <td>0</td>\n",
              "      <td>0</td>\n",
              "      <td>0</td>\n",
              "      <td>0</td>\n",
              "      <td>0</td>\n",
              "      <td>0</td>\n",
              "      <td>0</td>\n",
              "      <td>0</td>\n",
              "      <td>0</td>\n",
              "      <td>0</td>\n",
              "      <td>0</td>\n",
              "      <td>0</td>\n",
              "      <td>0</td>\n",
              "      <td>0</td>\n",
              "      <td>0</td>\n",
              "      <td>0</td>\n",
              "      <td>0</td>\n",
              "      <td>0</td>\n",
              "      <td>0</td>\n",
              "      <td>0</td>\n",
              "      <td>0</td>\n",
              "      <td>0</td>\n",
              "      <td>0</td>\n",
              "      <td>0</td>\n",
              "      <td>0</td>\n",
              "      <td>0</td>\n",
              "      <td>0</td>\n",
              "    </tr>\n",
              "    <tr>\n",
              "      <th>1</th>\n",
              "      <td>False</td>\n",
              "      <td>False</td>\n",
              "      <td>793.750000</td>\n",
              "      <td>False</td>\n",
              "      <td>False</td>\n",
              "      <td>True</td>\n",
              "      <td>True</td>\n",
              "      <td>4.25</td>\n",
              "      <td>154.000000</td>\n",
              "      <td>3.25</td>\n",
              "      <td>1.75</td>\n",
              "      <td>0.0</td>\n",
              "      <td>59.500000</td>\n",
              "      <td>12.0</td>\n",
              "      <td>4.0</td>\n",
              "      <td>1.0</td>\n",
              "      <td>4.25</td>\n",
              "      <td>15.500000</td>\n",
              "      <td>9.750000</td>\n",
              "      <td>0.0</td>\n",
              "      <td>1.0</td>\n",
              "      <td>1.5</td>\n",
              "      <td>0.0</td>\n",
              "      <td>92.5</td>\n",
              "      <td>14.000000</td>\n",
              "      <td>8.058824</td>\n",
              "      <td>13.235294</td>\n",
              "      <td>0.941176</td>\n",
              "      <td>0.941176</td>\n",
              "      <td>490.117647</td>\n",
              "      <td>114.882353</td>\n",
              "      <td>156.236075</td>\n",
              "      <td>0.0</td>\n",
              "      <td>5.890805e+05</td>\n",
              "      <td>0.000000</td>\n",
              "      <td>0.0</td>\n",
              "      <td>316.176471</td>\n",
              "      <td>10.411765</td>\n",
              "      <td>4.882353</td>\n",
              "      <td>2.294118</td>\n",
              "      <td>...</td>\n",
              "      <td>0</td>\n",
              "      <td>0</td>\n",
              "      <td>0</td>\n",
              "      <td>0</td>\n",
              "      <td>0</td>\n",
              "      <td>0</td>\n",
              "      <td>0</td>\n",
              "      <td>0</td>\n",
              "      <td>0</td>\n",
              "      <td>0</td>\n",
              "      <td>0</td>\n",
              "      <td>0</td>\n",
              "      <td>0</td>\n",
              "      <td>0</td>\n",
              "      <td>0</td>\n",
              "      <td>0</td>\n",
              "      <td>0</td>\n",
              "      <td>0</td>\n",
              "      <td>0</td>\n",
              "      <td>0</td>\n",
              "      <td>0</td>\n",
              "      <td>0</td>\n",
              "      <td>0</td>\n",
              "      <td>0</td>\n",
              "      <td>0</td>\n",
              "      <td>0</td>\n",
              "      <td>0</td>\n",
              "      <td>0</td>\n",
              "      <td>0</td>\n",
              "      <td>0</td>\n",
              "      <td>0</td>\n",
              "      <td>0</td>\n",
              "      <td>0</td>\n",
              "      <td>0</td>\n",
              "      <td>0</td>\n",
              "      <td>0</td>\n",
              "      <td>0</td>\n",
              "      <td>0</td>\n",
              "      <td>0</td>\n",
              "      <td>0</td>\n",
              "    </tr>\n",
              "    <tr>\n",
              "      <th>2</th>\n",
              "      <td>False</td>\n",
              "      <td>False</td>\n",
              "      <td>103.000000</td>\n",
              "      <td>False</td>\n",
              "      <td>False</td>\n",
              "      <td>False</td>\n",
              "      <td>False</td>\n",
              "      <td>2.00</td>\n",
              "      <td>19.000000</td>\n",
              "      <td>2.00</td>\n",
              "      <td>0.00</td>\n",
              "      <td>0.0</td>\n",
              "      <td>7.000000</td>\n",
              "      <td>0.0</td>\n",
              "      <td>0.0</td>\n",
              "      <td>0.0</td>\n",
              "      <td>1.00</td>\n",
              "      <td>2.000000</td>\n",
              "      <td>1.000000</td>\n",
              "      <td>0.0</td>\n",
              "      <td>0.0</td>\n",
              "      <td>0.0</td>\n",
              "      <td>0.0</td>\n",
              "      <td>7.0</td>\n",
              "      <td>0.437500</td>\n",
              "      <td>0.187500</td>\n",
              "      <td>0.437500</td>\n",
              "      <td>0.125000</td>\n",
              "      <td>0.000000</td>\n",
              "      <td>5.750000</td>\n",
              "      <td>2.187500</td>\n",
              "      <td>5.962976</td>\n",
              "      <td>0.0</td>\n",
              "      <td>1.410162e+04</td>\n",
              "      <td>0.000000</td>\n",
              "      <td>0.0</td>\n",
              "      <td>5.750000</td>\n",
              "      <td>0.000000</td>\n",
              "      <td>0.000000</td>\n",
              "      <td>0.000000</td>\n",
              "      <td>...</td>\n",
              "      <td>0</td>\n",
              "      <td>0</td>\n",
              "      <td>0</td>\n",
              "      <td>0</td>\n",
              "      <td>0</td>\n",
              "      <td>0</td>\n",
              "      <td>0</td>\n",
              "      <td>0</td>\n",
              "      <td>0</td>\n",
              "      <td>0</td>\n",
              "      <td>0</td>\n",
              "      <td>0</td>\n",
              "      <td>0</td>\n",
              "      <td>0</td>\n",
              "      <td>0</td>\n",
              "      <td>0</td>\n",
              "      <td>0</td>\n",
              "      <td>0</td>\n",
              "      <td>1</td>\n",
              "      <td>0</td>\n",
              "      <td>0</td>\n",
              "      <td>0</td>\n",
              "      <td>0</td>\n",
              "      <td>0</td>\n",
              "      <td>0</td>\n",
              "      <td>0</td>\n",
              "      <td>0</td>\n",
              "      <td>0</td>\n",
              "      <td>0</td>\n",
              "      <td>0</td>\n",
              "      <td>0</td>\n",
              "      <td>0</td>\n",
              "      <td>0</td>\n",
              "      <td>0</td>\n",
              "      <td>0</td>\n",
              "      <td>0</td>\n",
              "      <td>0</td>\n",
              "      <td>0</td>\n",
              "      <td>0</td>\n",
              "      <td>0</td>\n",
              "    </tr>\n",
              "    <tr>\n",
              "      <th>3</th>\n",
              "      <td>False</td>\n",
              "      <td>False</td>\n",
              "      <td>281.333333</td>\n",
              "      <td>False</td>\n",
              "      <td>False</td>\n",
              "      <td>True</td>\n",
              "      <td>False</td>\n",
              "      <td>1.00</td>\n",
              "      <td>41.333333</td>\n",
              "      <td>1.00</td>\n",
              "      <td>1.00</td>\n",
              "      <td>0.0</td>\n",
              "      <td>16.333333</td>\n",
              "      <td>9.0</td>\n",
              "      <td>6.0</td>\n",
              "      <td>1.0</td>\n",
              "      <td>2.00</td>\n",
              "      <td>12.333333</td>\n",
              "      <td>16.333333</td>\n",
              "      <td>0.0</td>\n",
              "      <td>1.0</td>\n",
              "      <td>0.0</td>\n",
              "      <td>6.0</td>\n",
              "      <td>0.0</td>\n",
              "      <td>16.333333</td>\n",
              "      <td>11.666667</td>\n",
              "      <td>12.333333</td>\n",
              "      <td>1.000000</td>\n",
              "      <td>2.000000</td>\n",
              "      <td>484.666667</td>\n",
              "      <td>234.333333</td>\n",
              "      <td>175.968473</td>\n",
              "      <td>5.0</td>\n",
              "      <td>6.572923e+05</td>\n",
              "      <td>376739.666667</td>\n",
              "      <td>2.0</td>\n",
              "      <td>0.000000</td>\n",
              "      <td>24.666667</td>\n",
              "      <td>32.666667</td>\n",
              "      <td>2.666667</td>\n",
              "      <td>...</td>\n",
              "      <td>0</td>\n",
              "      <td>0</td>\n",
              "      <td>0</td>\n",
              "      <td>0</td>\n",
              "      <td>0</td>\n",
              "      <td>0</td>\n",
              "      <td>0</td>\n",
              "      <td>0</td>\n",
              "      <td>0</td>\n",
              "      <td>0</td>\n",
              "      <td>0</td>\n",
              "      <td>0</td>\n",
              "      <td>0</td>\n",
              "      <td>0</td>\n",
              "      <td>0</td>\n",
              "      <td>0</td>\n",
              "      <td>0</td>\n",
              "      <td>0</td>\n",
              "      <td>0</td>\n",
              "      <td>0</td>\n",
              "      <td>0</td>\n",
              "      <td>0</td>\n",
              "      <td>0</td>\n",
              "      <td>0</td>\n",
              "      <td>0</td>\n",
              "      <td>0</td>\n",
              "      <td>0</td>\n",
              "      <td>0</td>\n",
              "      <td>0</td>\n",
              "      <td>0</td>\n",
              "      <td>0</td>\n",
              "      <td>0</td>\n",
              "      <td>0</td>\n",
              "      <td>0</td>\n",
              "      <td>0</td>\n",
              "      <td>1</td>\n",
              "      <td>0</td>\n",
              "      <td>0</td>\n",
              "      <td>0</td>\n",
              "      <td>0</td>\n",
              "    </tr>\n",
              "    <tr>\n",
              "      <th>4</th>\n",
              "      <td>False</td>\n",
              "      <td>True</td>\n",
              "      <td>711.000000</td>\n",
              "      <td>False</td>\n",
              "      <td>False</td>\n",
              "      <td>True</td>\n",
              "      <td>True</td>\n",
              "      <td>1.00</td>\n",
              "      <td>30.000000</td>\n",
              "      <td>1.00</td>\n",
              "      <td>1.00</td>\n",
              "      <td>0.0</td>\n",
              "      <td>16.000000</td>\n",
              "      <td>11.0</td>\n",
              "      <td>1.0</td>\n",
              "      <td>1.0</td>\n",
              "      <td>4.00</td>\n",
              "      <td>11.000000</td>\n",
              "      <td>10.000000</td>\n",
              "      <td>1.0</td>\n",
              "      <td>1.0</td>\n",
              "      <td>1.0</td>\n",
              "      <td>2.0</td>\n",
              "      <td>0.0</td>\n",
              "      <td>16.000000</td>\n",
              "      <td>7.000000</td>\n",
              "      <td>6.000000</td>\n",
              "      <td>1.000000</td>\n",
              "      <td>2.000000</td>\n",
              "      <td>434.000000</td>\n",
              "      <td>66.000000</td>\n",
              "      <td>73.615406</td>\n",
              "      <td>5.0</td>\n",
              "      <td>1.611844e+06</td>\n",
              "      <td>699530.000000</td>\n",
              "      <td>2.0</td>\n",
              "      <td>0.000000</td>\n",
              "      <td>434.000000</td>\n",
              "      <td>0.000000</td>\n",
              "      <td>0.000000</td>\n",
              "      <td>...</td>\n",
              "      <td>0</td>\n",
              "      <td>0</td>\n",
              "      <td>0</td>\n",
              "      <td>0</td>\n",
              "      <td>0</td>\n",
              "      <td>0</td>\n",
              "      <td>0</td>\n",
              "      <td>0</td>\n",
              "      <td>0</td>\n",
              "      <td>0</td>\n",
              "      <td>0</td>\n",
              "      <td>0</td>\n",
              "      <td>0</td>\n",
              "      <td>0</td>\n",
              "      <td>0</td>\n",
              "      <td>0</td>\n",
              "      <td>0</td>\n",
              "      <td>0</td>\n",
              "      <td>0</td>\n",
              "      <td>0</td>\n",
              "      <td>0</td>\n",
              "      <td>0</td>\n",
              "      <td>0</td>\n",
              "      <td>0</td>\n",
              "      <td>0</td>\n",
              "      <td>0</td>\n",
              "      <td>0</td>\n",
              "      <td>0</td>\n",
              "      <td>0</td>\n",
              "      <td>0</td>\n",
              "      <td>0</td>\n",
              "      <td>0</td>\n",
              "      <td>0</td>\n",
              "      <td>0</td>\n",
              "      <td>0</td>\n",
              "      <td>1</td>\n",
              "      <td>0</td>\n",
              "      <td>0</td>\n",
              "      <td>0</td>\n",
              "      <td>0</td>\n",
              "    </tr>\n",
              "  </tbody>\n",
              "</table>\n",
              "<p>5 rows × 237 columns</p>\n",
              "</div>"
            ],
            "text/plain": [
              "   has_app_exception  ...  country_max_event_Vietnam\n",
              "0              False  ...                          0\n",
              "1              False  ...                          0\n",
              "2              False  ...                          0\n",
              "3              False  ...                          0\n",
              "4              False  ...                          0\n",
              "\n",
              "[5 rows x 237 columns]"
            ]
          },
          "metadata": {
            "tags": []
          },
          "execution_count": 202
        }
      ]
    },
    {
      "cell_type": "code",
      "metadata": {
        "id": "KsqUDzTmKsqh",
        "colab": {
          "base_uri": "https://localhost:8080/",
          "height": 224
        },
        "outputId": "8ba9e252-bef7-4961-8c3c-3c21129c6abc"
      },
      "source": [
        "import io\n",
        "import pandas as pd\n",
        "import numpy as np\n",
        "data = pd.read_csv(io.StringIO(uploaded['GameData.csv'].decode('utf-8')))\n",
        "data.head()"
      ],
      "execution_count": null,
      "outputs": [
        {
          "output_type": "execute_result",
          "data": {
            "text/html": [
              "<div>\n",
              "<style scoped>\n",
              "    .dataframe tbody tr th:only-of-type {\n",
              "        vertical-align: middle;\n",
              "    }\n",
              "\n",
              "    .dataframe tbody tr th {\n",
              "        vertical-align: top;\n",
              "    }\n",
              "\n",
              "    .dataframe thead th {\n",
              "        text-align: right;\n",
              "    }\n",
              "</style>\n",
              "<table border=\"1\" class=\"dataframe\">\n",
              "  <thead>\n",
              "    <tr style=\"text-align: right;\">\n",
              "      <th></th>\n",
              "      <th>user_id</th>\n",
              "      <th>is_limited_ad_tracking</th>\n",
              "      <th>ucgun_ard_arda_event</th>\n",
              "      <th>has_app_exception</th>\n",
              "      <th>app_removed_by_user</th>\n",
              "      <th>avg_daily_event</th>\n",
              "      <th>device_category</th>\n",
              "      <th>mobile_brand_name</th>\n",
              "      <th>operating_system</th>\n",
              "      <th>max_appInfo_install_source</th>\n",
              "      <th>max_operating_system_version</th>\n",
              "      <th>country_max_event</th>\n",
              "      <th>os_updated_by_user</th>\n",
              "      <th>app_updated_by_user</th>\n",
              "      <th>tutorial_end_by_user</th>\n",
              "      <th>game_intro_completed_by_user</th>\n",
              "      <th>avg_daily_session_start</th>\n",
              "      <th>avg_daily_level_up</th>\n",
              "      <th>avg_daily_login</th>\n",
              "      <th>avg_daily_adCampaignWatchComplete</th>\n",
              "      <th>avg_daily_workerUpgradeMethodExpensiveProduct</th>\n",
              "      <th>avg_daily_workerUpgradeAmount</th>\n",
              "      <th>avg_daily_workerUpgradeMethodLowestCost</th>\n",
              "      <th>avg_daily_rocketAdWatchComplete</th>\n",
              "      <th>avg_daily_error</th>\n",
              "      <th>avg_daily_unlockedWorker</th>\n",
              "      <th>avg_daily_earningRateBoost</th>\n",
              "      <th>avg_daily_rocketAdAppear</th>\n",
              "      <th>avg_daily_ufoAdWatchComplete</th>\n",
              "      <th>avg_daily_unlockedFactory</th>\n",
              "      <th>avg_daily_productScreenClick</th>\n",
              "      <th>avg_daily_ad_reward</th>\n",
              "      <th>avg_daily_workerUpgradeUpgradeMultiplierMax</th>\n",
              "      <th>avg_worker_session</th>\n",
              "      <th>avg_factory_session</th>\n",
              "      <th>avg_transporter_session</th>\n",
              "      <th>avg_baseStation_session</th>\n",
              "      <th>avg_RewardedVideo_session</th>\n",
              "      <th>avg_upgradeAmount_session</th>\n",
              "      <th>avg_totalElapsedTime_session</th>\n",
              "      <th>avg_earningRateValue_session</th>\n",
              "      <th>avg_freeride_session</th>\n",
              "      <th>avg_uengagement_time_msec_session</th>\n",
              "      <th>avg_sengagement_time_msec_session</th>\n",
              "      <th>avg_reward_value_session</th>\n",
              "      <th>avg_maxupgradeMultiplierValue_session</th>\n",
              "      <th>avg_x1upgradeMultiplierValue_session</th>\n",
              "      <th>avg_x10upgradeMultiplierValue_session</th>\n",
              "      <th>avg_x50upgradeMultiplierValue_session</th>\n",
              "      <th>avg_OpenactiveAdCampaignAmount_session</th>\n",
              "      <th>avg_ExitactiveAdCampaignAmount_session</th>\n",
              "      <th>avg_StartactiveAdCampaignAmount_session</th>\n",
              "      <th>avg_NoncompleteactiveAdCampaignAmount_session</th>\n",
              "      <th>avg_CompleteactiveAdCampaignAmount_session</th>\n",
              "      <th>avg_error_session</th>\n",
              "      <th>avg_level_up_session</th>\n",
              "      <th>avg_unlockedWorker_session</th>\n",
              "      <th>avg_AD_CAMPAIGN_X2_CASH_session</th>\n",
              "      <th>avg_IDLE_CASH_AD_session</th>\n",
              "      <th>avg_ROCKET_AD_session</th>\n",
              "      <th>avg_UFO_AD_session</th>\n",
              "    </tr>\n",
              "  </thead>\n",
              "  <tbody>\n",
              "    <tr>\n",
              "      <th>0</th>\n",
              "      <td>73318AACA7074CAB946B87B264B989CF</td>\n",
              "      <td>No</td>\n",
              "      <td>False</td>\n",
              "      <td>False</td>\n",
              "      <td>False</td>\n",
              "      <td>28.000000</td>\n",
              "      <td>mobile</td>\n",
              "      <td>Apple</td>\n",
              "      <td>IOS</td>\n",
              "      <td>iTunes</td>\n",
              "      <td>13.4.1</td>\n",
              "      <td>Norway</td>\n",
              "      <td>False</td>\n",
              "      <td>False</td>\n",
              "      <td>False</td>\n",
              "      <td>False</td>\n",
              "      <td>1.00</td>\n",
              "      <td>2.000000</td>\n",
              "      <td>1.00</td>\n",
              "      <td>1.00</td>\n",
              "      <td>0.0</td>\n",
              "      <td>0.000000</td>\n",
              "      <td>0.0</td>\n",
              "      <td>0.0</td>\n",
              "      <td>1.0</td>\n",
              "      <td>1.00</td>\n",
              "      <td>0.000000</td>\n",
              "      <td>0.000000</td>\n",
              "      <td>0.0</td>\n",
              "      <td>1.0</td>\n",
              "      <td>0.0</td>\n",
              "      <td>0.0</td>\n",
              "      <td>0.0</td>\n",
              "      <td>0.000000</td>\n",
              "      <td>1.000000</td>\n",
              "      <td>1.000000</td>\n",
              "      <td>0.000000</td>\n",
              "      <td>0.000000</td>\n",
              "      <td>0.000000</td>\n",
              "      <td>0.000000</td>\n",
              "      <td>0.000000</td>\n",
              "      <td>0.0</td>\n",
              "      <td>6.134100e+04</td>\n",
              "      <td>0.000000</td>\n",
              "      <td>0.0</td>\n",
              "      <td>0.000000</td>\n",
              "      <td>0.000000</td>\n",
              "      <td>0.000000</td>\n",
              "      <td>0.000000</td>\n",
              "      <td>0.0</td>\n",
              "      <td>1.000000</td>\n",
              "      <td>0.0</td>\n",
              "      <td>0.0</td>\n",
              "      <td>0.0</td>\n",
              "      <td>1.000000</td>\n",
              "      <td>2.000000</td>\n",
              "      <td>1.0000</td>\n",
              "      <td>0.000000</td>\n",
              "      <td>0.000000</td>\n",
              "      <td>0.000000</td>\n",
              "      <td>0.0</td>\n",
              "    </tr>\n",
              "    <tr>\n",
              "      <th>1</th>\n",
              "      <td>E5E2A7BA7ABC4783ABC11B47376D9514</td>\n",
              "      <td>No</td>\n",
              "      <td>True</td>\n",
              "      <td>False</td>\n",
              "      <td>False</td>\n",
              "      <td>793.750000</td>\n",
              "      <td>mobile</td>\n",
              "      <td>Apple</td>\n",
              "      <td>IOS</td>\n",
              "      <td>iTunes</td>\n",
              "      <td>12.4.8</td>\n",
              "      <td>Iran</td>\n",
              "      <td>False</td>\n",
              "      <td>False</td>\n",
              "      <td>True</td>\n",
              "      <td>True</td>\n",
              "      <td>4.25</td>\n",
              "      <td>154.000000</td>\n",
              "      <td>3.25</td>\n",
              "      <td>1.75</td>\n",
              "      <td>0.0</td>\n",
              "      <td>59.500000</td>\n",
              "      <td>12.0</td>\n",
              "      <td>4.0</td>\n",
              "      <td>1.0</td>\n",
              "      <td>4.25</td>\n",
              "      <td>15.500000</td>\n",
              "      <td>9.750000</td>\n",
              "      <td>0.0</td>\n",
              "      <td>1.0</td>\n",
              "      <td>1.5</td>\n",
              "      <td>0.0</td>\n",
              "      <td>92.5</td>\n",
              "      <td>14.000000</td>\n",
              "      <td>8.058824</td>\n",
              "      <td>13.235294</td>\n",
              "      <td>0.941176</td>\n",
              "      <td>0.941176</td>\n",
              "      <td>490.117647</td>\n",
              "      <td>114.882353</td>\n",
              "      <td>156.236075</td>\n",
              "      <td>0.0</td>\n",
              "      <td>5.890805e+05</td>\n",
              "      <td>0.000000</td>\n",
              "      <td>0.0</td>\n",
              "      <td>316.176471</td>\n",
              "      <td>10.411765</td>\n",
              "      <td>4.882353</td>\n",
              "      <td>2.294118</td>\n",
              "      <td>0.0</td>\n",
              "      <td>0.058824</td>\n",
              "      <td>0.0</td>\n",
              "      <td>0.0</td>\n",
              "      <td>0.0</td>\n",
              "      <td>0.058824</td>\n",
              "      <td>36.235294</td>\n",
              "      <td>1.0000</td>\n",
              "      <td>0.352941</td>\n",
              "      <td>0.117647</td>\n",
              "      <td>0.470588</td>\n",
              "      <td>0.0</td>\n",
              "    </tr>\n",
              "    <tr>\n",
              "      <th>2</th>\n",
              "      <td>40302B5040174012940444304038A1B9</td>\n",
              "      <td>No</td>\n",
              "      <td>False</td>\n",
              "      <td>False</td>\n",
              "      <td>False</td>\n",
              "      <td>103.000000</td>\n",
              "      <td>mobile</td>\n",
              "      <td>Apple</td>\n",
              "      <td>IOS</td>\n",
              "      <td>iTunes</td>\n",
              "      <td>13.6</td>\n",
              "      <td>Serbia</td>\n",
              "      <td>False</td>\n",
              "      <td>False</td>\n",
              "      <td>False</td>\n",
              "      <td>False</td>\n",
              "      <td>2.00</td>\n",
              "      <td>19.000000</td>\n",
              "      <td>2.00</td>\n",
              "      <td>0.00</td>\n",
              "      <td>0.0</td>\n",
              "      <td>7.000000</td>\n",
              "      <td>0.0</td>\n",
              "      <td>0.0</td>\n",
              "      <td>0.0</td>\n",
              "      <td>1.00</td>\n",
              "      <td>2.000000</td>\n",
              "      <td>1.000000</td>\n",
              "      <td>0.0</td>\n",
              "      <td>0.0</td>\n",
              "      <td>0.0</td>\n",
              "      <td>0.0</td>\n",
              "      <td>7.0</td>\n",
              "      <td>0.437500</td>\n",
              "      <td>0.187500</td>\n",
              "      <td>0.437500</td>\n",
              "      <td>0.125000</td>\n",
              "      <td>0.000000</td>\n",
              "      <td>5.750000</td>\n",
              "      <td>2.187500</td>\n",
              "      <td>5.962976</td>\n",
              "      <td>0.0</td>\n",
              "      <td>1.410162e+04</td>\n",
              "      <td>0.000000</td>\n",
              "      <td>0.0</td>\n",
              "      <td>5.750000</td>\n",
              "      <td>0.000000</td>\n",
              "      <td>0.000000</td>\n",
              "      <td>0.000000</td>\n",
              "      <td>0.0</td>\n",
              "      <td>0.000000</td>\n",
              "      <td>0.0</td>\n",
              "      <td>0.0</td>\n",
              "      <td>0.0</td>\n",
              "      <td>0.000000</td>\n",
              "      <td>1.187500</td>\n",
              "      <td>0.0625</td>\n",
              "      <td>0.000000</td>\n",
              "      <td>0.000000</td>\n",
              "      <td>0.000000</td>\n",
              "      <td>0.0</td>\n",
              "    </tr>\n",
              "    <tr>\n",
              "      <th>3</th>\n",
              "      <td>cc6a65d1f8b8bc48bb29eee0791fe182</td>\n",
              "      <td>No</td>\n",
              "      <td>True</td>\n",
              "      <td>False</td>\n",
              "      <td>False</td>\n",
              "      <td>281.333333</td>\n",
              "      <td>mobile</td>\n",
              "      <td>Samsung</td>\n",
              "      <td>ANDROID</td>\n",
              "      <td>com.android.vending</td>\n",
              "      <td>9</td>\n",
              "      <td>United States</td>\n",
              "      <td>False</td>\n",
              "      <td>False</td>\n",
              "      <td>True</td>\n",
              "      <td>False</td>\n",
              "      <td>1.00</td>\n",
              "      <td>41.333333</td>\n",
              "      <td>1.00</td>\n",
              "      <td>1.00</td>\n",
              "      <td>0.0</td>\n",
              "      <td>16.333333</td>\n",
              "      <td>9.0</td>\n",
              "      <td>6.0</td>\n",
              "      <td>1.0</td>\n",
              "      <td>2.00</td>\n",
              "      <td>12.333333</td>\n",
              "      <td>16.333333</td>\n",
              "      <td>0.0</td>\n",
              "      <td>1.0</td>\n",
              "      <td>0.0</td>\n",
              "      <td>6.0</td>\n",
              "      <td>0.0</td>\n",
              "      <td>16.333333</td>\n",
              "      <td>11.666667</td>\n",
              "      <td>12.333333</td>\n",
              "      <td>1.000000</td>\n",
              "      <td>2.000000</td>\n",
              "      <td>484.666667</td>\n",
              "      <td>234.333333</td>\n",
              "      <td>175.968473</td>\n",
              "      <td>5.0</td>\n",
              "      <td>6.572923e+05</td>\n",
              "      <td>376739.666667</td>\n",
              "      <td>2.0</td>\n",
              "      <td>0.000000</td>\n",
              "      <td>24.666667</td>\n",
              "      <td>32.666667</td>\n",
              "      <td>2.666667</td>\n",
              "      <td>0.0</td>\n",
              "      <td>0.333333</td>\n",
              "      <td>0.0</td>\n",
              "      <td>0.0</td>\n",
              "      <td>0.0</td>\n",
              "      <td>0.333333</td>\n",
              "      <td>41.333333</td>\n",
              "      <td>2.0000</td>\n",
              "      <td>0.000000</td>\n",
              "      <td>0.000000</td>\n",
              "      <td>2.000000</td>\n",
              "      <td>0.0</td>\n",
              "    </tr>\n",
              "    <tr>\n",
              "      <th>4</th>\n",
              "      <td>c18a958719e52568eccf88156791c999</td>\n",
              "      <td>No</td>\n",
              "      <td>False</td>\n",
              "      <td>False</td>\n",
              "      <td>True</td>\n",
              "      <td>711.000000</td>\n",
              "      <td>mobile</td>\n",
              "      <td>Samsung</td>\n",
              "      <td>ANDROID</td>\n",
              "      <td>com.android.vending</td>\n",
              "      <td>10</td>\n",
              "      <td>United States</td>\n",
              "      <td>False</td>\n",
              "      <td>False</td>\n",
              "      <td>True</td>\n",
              "      <td>True</td>\n",
              "      <td>1.00</td>\n",
              "      <td>30.000000</td>\n",
              "      <td>1.00</td>\n",
              "      <td>1.00</td>\n",
              "      <td>0.0</td>\n",
              "      <td>16.000000</td>\n",
              "      <td>11.0</td>\n",
              "      <td>1.0</td>\n",
              "      <td>1.0</td>\n",
              "      <td>4.00</td>\n",
              "      <td>11.000000</td>\n",
              "      <td>10.000000</td>\n",
              "      <td>1.0</td>\n",
              "      <td>1.0</td>\n",
              "      <td>1.0</td>\n",
              "      <td>2.0</td>\n",
              "      <td>0.0</td>\n",
              "      <td>16.000000</td>\n",
              "      <td>7.000000</td>\n",
              "      <td>6.000000</td>\n",
              "      <td>1.000000</td>\n",
              "      <td>2.000000</td>\n",
              "      <td>434.000000</td>\n",
              "      <td>66.000000</td>\n",
              "      <td>73.615406</td>\n",
              "      <td>5.0</td>\n",
              "      <td>1.611844e+06</td>\n",
              "      <td>699530.000000</td>\n",
              "      <td>2.0</td>\n",
              "      <td>0.000000</td>\n",
              "      <td>434.000000</td>\n",
              "      <td>0.000000</td>\n",
              "      <td>0.000000</td>\n",
              "      <td>0.0</td>\n",
              "      <td>1.000000</td>\n",
              "      <td>0.0</td>\n",
              "      <td>0.0</td>\n",
              "      <td>0.0</td>\n",
              "      <td>1.000000</td>\n",
              "      <td>30.000000</td>\n",
              "      <td>4.0000</td>\n",
              "      <td>0.000000</td>\n",
              "      <td>0.000000</td>\n",
              "      <td>1.000000</td>\n",
              "      <td>1.0</td>\n",
              "    </tr>\n",
              "  </tbody>\n",
              "</table>\n",
              "</div>"
            ],
            "text/plain": [
              "                            user_id  ... avg_UFO_AD_session\n",
              "0  73318AACA7074CAB946B87B264B989CF  ...                0.0\n",
              "1  E5E2A7BA7ABC4783ABC11B47376D9514  ...                0.0\n",
              "2  40302B5040174012940444304038A1B9  ...                0.0\n",
              "3  cc6a65d1f8b8bc48bb29eee0791fe182  ...                0.0\n",
              "4  c18a958719e52568eccf88156791c999  ...                1.0\n",
              "\n",
              "[5 rows x 61 columns]"
            ]
          },
          "metadata": {
            "tags": []
          },
          "execution_count": 7
        }
      ]
    },
    {
      "cell_type": "code",
      "metadata": {
        "id": "8rh4J6mQK72K"
      },
      "source": [
        "data = data.drop([\"user_id\"], axis = 1) # ilk adımda ikisini çıkarıyorum"
      ],
      "execution_count": null,
      "outputs": []
    },
    {
      "cell_type": "code",
      "metadata": {
        "id": "zh9hP29yLA1s",
        "colab": {
          "base_uri": "https://localhost:8080/",
          "height": 270
        },
        "outputId": "fbbce232-a603-4230-cb80-2a1eb7cb744c"
      },
      "source": [
        "data1=data.copy()\n",
        "from sklearn import preprocessing\n",
        "label_encoder = preprocessing.LabelEncoder() \n",
        "data1['target_encod']= label_encoder.fit_transform(data1['ucgun_ard_arda_event'])\n",
        "data1[\"target_encod\"] = data1.target_encod.astype('category')\n",
        "a = pd.get_dummies(data['is_limited_ad_tracking'], prefix = \"is_limited_ad_tracking\")\n",
        "b = pd.get_dummies(data['device_category'], prefix = \"device_category\")\n",
        "c = pd.get_dummies(data['mobile_brand_name'], prefix = \"mobile_brand_name\")\n",
        "d = pd.get_dummies(data['operating_system'], prefix = \"operating_system\")\n",
        "e = pd.get_dummies(data['max_appInfo_install_source'], prefix = \"max_appInfo_install_source\")\n",
        "f = pd.get_dummies(data['country_max_event'], prefix = \"country_max_event\")\n",
        "frames = [data1, a, b, c,d,e,f]\n",
        "data1 = pd.concat(frames, axis = 1) #concat=birleştirmek\n",
        "data1 = data1.drop(columns = ['is_limited_ad_tracking', 'device_category', 'mobile_brand_name','operating_system','max_appInfo_install_source','country_max_event'])\n",
        "data1 = data1.drop(columns = ['ucgun_ard_arda_event','max_operating_system_version'])\n",
        "data1.head()\n",
        "\n"
      ],
      "execution_count": null,
      "outputs": [
        {
          "output_type": "execute_result",
          "data": {
            "text/html": [
              "<div>\n",
              "<style scoped>\n",
              "    .dataframe tbody tr th:only-of-type {\n",
              "        vertical-align: middle;\n",
              "    }\n",
              "\n",
              "    .dataframe tbody tr th {\n",
              "        vertical-align: top;\n",
              "    }\n",
              "\n",
              "    .dataframe thead th {\n",
              "        text-align: right;\n",
              "    }\n",
              "</style>\n",
              "<table border=\"1\" class=\"dataframe\">\n",
              "  <thead>\n",
              "    <tr style=\"text-align: right;\">\n",
              "      <th></th>\n",
              "      <th>has_app_exception</th>\n",
              "      <th>app_removed_by_user</th>\n",
              "      <th>avg_daily_event</th>\n",
              "      <th>os_updated_by_user</th>\n",
              "      <th>app_updated_by_user</th>\n",
              "      <th>tutorial_end_by_user</th>\n",
              "      <th>game_intro_completed_by_user</th>\n",
              "      <th>avg_daily_session_start</th>\n",
              "      <th>avg_daily_level_up</th>\n",
              "      <th>avg_daily_login</th>\n",
              "      <th>avg_daily_adCampaignWatchComplete</th>\n",
              "      <th>avg_daily_workerUpgradeMethodExpensiveProduct</th>\n",
              "      <th>avg_daily_workerUpgradeAmount</th>\n",
              "      <th>avg_daily_workerUpgradeMethodLowestCost</th>\n",
              "      <th>avg_daily_rocketAdWatchComplete</th>\n",
              "      <th>avg_daily_error</th>\n",
              "      <th>avg_daily_unlockedWorker</th>\n",
              "      <th>avg_daily_earningRateBoost</th>\n",
              "      <th>avg_daily_rocketAdAppear</th>\n",
              "      <th>avg_daily_ufoAdWatchComplete</th>\n",
              "      <th>avg_daily_unlockedFactory</th>\n",
              "      <th>avg_daily_productScreenClick</th>\n",
              "      <th>avg_daily_ad_reward</th>\n",
              "      <th>avg_daily_workerUpgradeUpgradeMultiplierMax</th>\n",
              "      <th>avg_worker_session</th>\n",
              "      <th>avg_factory_session</th>\n",
              "      <th>avg_transporter_session</th>\n",
              "      <th>avg_baseStation_session</th>\n",
              "      <th>avg_RewardedVideo_session</th>\n",
              "      <th>avg_upgradeAmount_session</th>\n",
              "      <th>avg_totalElapsedTime_session</th>\n",
              "      <th>avg_earningRateValue_session</th>\n",
              "      <th>avg_freeride_session</th>\n",
              "      <th>avg_uengagement_time_msec_session</th>\n",
              "      <th>avg_sengagement_time_msec_session</th>\n",
              "      <th>avg_reward_value_session</th>\n",
              "      <th>avg_maxupgradeMultiplierValue_session</th>\n",
              "      <th>avg_x1upgradeMultiplierValue_session</th>\n",
              "      <th>avg_x10upgradeMultiplierValue_session</th>\n",
              "      <th>avg_x50upgradeMultiplierValue_session</th>\n",
              "      <th>...</th>\n",
              "      <th>country_max_event_Nepal</th>\n",
              "      <th>country_max_event_Netherlands</th>\n",
              "      <th>country_max_event_New Caledonia</th>\n",
              "      <th>country_max_event_New Zealand</th>\n",
              "      <th>country_max_event_North Macedonia</th>\n",
              "      <th>country_max_event_Northern Mariana Islands</th>\n",
              "      <th>country_max_event_Norway</th>\n",
              "      <th>country_max_event_Pakistan</th>\n",
              "      <th>country_max_event_Peru</th>\n",
              "      <th>country_max_event_Philippines</th>\n",
              "      <th>country_max_event_Poland</th>\n",
              "      <th>country_max_event_Portugal</th>\n",
              "      <th>country_max_event_Puerto Rico</th>\n",
              "      <th>country_max_event_Qatar</th>\n",
              "      <th>country_max_event_Romania</th>\n",
              "      <th>country_max_event_Russia</th>\n",
              "      <th>country_max_event_Réunion</th>\n",
              "      <th>country_max_event_Saudi Arabia</th>\n",
              "      <th>country_max_event_Serbia</th>\n",
              "      <th>country_max_event_Singapore</th>\n",
              "      <th>country_max_event_Slovakia</th>\n",
              "      <th>country_max_event_Slovenia</th>\n",
              "      <th>country_max_event_South Africa</th>\n",
              "      <th>country_max_event_South Korea</th>\n",
              "      <th>country_max_event_Spain</th>\n",
              "      <th>country_max_event_Sweden</th>\n",
              "      <th>country_max_event_Switzerland</th>\n",
              "      <th>country_max_event_Taiwan</th>\n",
              "      <th>country_max_event_Tanzania</th>\n",
              "      <th>country_max_event_Thailand</th>\n",
              "      <th>country_max_event_Turkey</th>\n",
              "      <th>country_max_event_U.S. Virgin Islands</th>\n",
              "      <th>country_max_event_Ukraine</th>\n",
              "      <th>country_max_event_United Arab Emirates</th>\n",
              "      <th>country_max_event_United Kingdom</th>\n",
              "      <th>country_max_event_United States</th>\n",
              "      <th>country_max_event_Unknown</th>\n",
              "      <th>country_max_event_Uzbekistan</th>\n",
              "      <th>country_max_event_Venezuela</th>\n",
              "      <th>country_max_event_Vietnam</th>\n",
              "    </tr>\n",
              "  </thead>\n",
              "  <tbody>\n",
              "    <tr>\n",
              "      <th>0</th>\n",
              "      <td>False</td>\n",
              "      <td>False</td>\n",
              "      <td>28.000000</td>\n",
              "      <td>False</td>\n",
              "      <td>False</td>\n",
              "      <td>False</td>\n",
              "      <td>False</td>\n",
              "      <td>1.00</td>\n",
              "      <td>2.000000</td>\n",
              "      <td>1.00</td>\n",
              "      <td>1.00</td>\n",
              "      <td>0.0</td>\n",
              "      <td>0.000000</td>\n",
              "      <td>0.0</td>\n",
              "      <td>0.0</td>\n",
              "      <td>1.0</td>\n",
              "      <td>1.00</td>\n",
              "      <td>0.000000</td>\n",
              "      <td>0.000000</td>\n",
              "      <td>0.0</td>\n",
              "      <td>1.0</td>\n",
              "      <td>0.0</td>\n",
              "      <td>0.0</td>\n",
              "      <td>0.0</td>\n",
              "      <td>0.000000</td>\n",
              "      <td>1.000000</td>\n",
              "      <td>1.000000</td>\n",
              "      <td>0.000000</td>\n",
              "      <td>0.000000</td>\n",
              "      <td>0.000000</td>\n",
              "      <td>0.000000</td>\n",
              "      <td>0.000000</td>\n",
              "      <td>0.0</td>\n",
              "      <td>6.134100e+04</td>\n",
              "      <td>0.000000</td>\n",
              "      <td>0.0</td>\n",
              "      <td>0.000000</td>\n",
              "      <td>0.000000</td>\n",
              "      <td>0.000000</td>\n",
              "      <td>0.000000</td>\n",
              "      <td>...</td>\n",
              "      <td>0</td>\n",
              "      <td>0</td>\n",
              "      <td>0</td>\n",
              "      <td>0</td>\n",
              "      <td>0</td>\n",
              "      <td>0</td>\n",
              "      <td>1</td>\n",
              "      <td>0</td>\n",
              "      <td>0</td>\n",
              "      <td>0</td>\n",
              "      <td>0</td>\n",
              "      <td>0</td>\n",
              "      <td>0</td>\n",
              "      <td>0</td>\n",
              "      <td>0</td>\n",
              "      <td>0</td>\n",
              "      <td>0</td>\n",
              "      <td>0</td>\n",
              "      <td>0</td>\n",
              "      <td>0</td>\n",
              "      <td>0</td>\n",
              "      <td>0</td>\n",
              "      <td>0</td>\n",
              "      <td>0</td>\n",
              "      <td>0</td>\n",
              "      <td>0</td>\n",
              "      <td>0</td>\n",
              "      <td>0</td>\n",
              "      <td>0</td>\n",
              "      <td>0</td>\n",
              "      <td>0</td>\n",
              "      <td>0</td>\n",
              "      <td>0</td>\n",
              "      <td>0</td>\n",
              "      <td>0</td>\n",
              "      <td>0</td>\n",
              "      <td>0</td>\n",
              "      <td>0</td>\n",
              "      <td>0</td>\n",
              "      <td>0</td>\n",
              "    </tr>\n",
              "    <tr>\n",
              "      <th>1</th>\n",
              "      <td>False</td>\n",
              "      <td>False</td>\n",
              "      <td>793.750000</td>\n",
              "      <td>False</td>\n",
              "      <td>False</td>\n",
              "      <td>True</td>\n",
              "      <td>True</td>\n",
              "      <td>4.25</td>\n",
              "      <td>154.000000</td>\n",
              "      <td>3.25</td>\n",
              "      <td>1.75</td>\n",
              "      <td>0.0</td>\n",
              "      <td>59.500000</td>\n",
              "      <td>12.0</td>\n",
              "      <td>4.0</td>\n",
              "      <td>1.0</td>\n",
              "      <td>4.25</td>\n",
              "      <td>15.500000</td>\n",
              "      <td>9.750000</td>\n",
              "      <td>0.0</td>\n",
              "      <td>1.0</td>\n",
              "      <td>1.5</td>\n",
              "      <td>0.0</td>\n",
              "      <td>92.5</td>\n",
              "      <td>14.000000</td>\n",
              "      <td>8.058824</td>\n",
              "      <td>13.235294</td>\n",
              "      <td>0.941176</td>\n",
              "      <td>0.941176</td>\n",
              "      <td>490.117647</td>\n",
              "      <td>114.882353</td>\n",
              "      <td>156.236075</td>\n",
              "      <td>0.0</td>\n",
              "      <td>5.890805e+05</td>\n",
              "      <td>0.000000</td>\n",
              "      <td>0.0</td>\n",
              "      <td>316.176471</td>\n",
              "      <td>10.411765</td>\n",
              "      <td>4.882353</td>\n",
              "      <td>2.294118</td>\n",
              "      <td>...</td>\n",
              "      <td>0</td>\n",
              "      <td>0</td>\n",
              "      <td>0</td>\n",
              "      <td>0</td>\n",
              "      <td>0</td>\n",
              "      <td>0</td>\n",
              "      <td>0</td>\n",
              "      <td>0</td>\n",
              "      <td>0</td>\n",
              "      <td>0</td>\n",
              "      <td>0</td>\n",
              "      <td>0</td>\n",
              "      <td>0</td>\n",
              "      <td>0</td>\n",
              "      <td>0</td>\n",
              "      <td>0</td>\n",
              "      <td>0</td>\n",
              "      <td>0</td>\n",
              "      <td>0</td>\n",
              "      <td>0</td>\n",
              "      <td>0</td>\n",
              "      <td>0</td>\n",
              "      <td>0</td>\n",
              "      <td>0</td>\n",
              "      <td>0</td>\n",
              "      <td>0</td>\n",
              "      <td>0</td>\n",
              "      <td>0</td>\n",
              "      <td>0</td>\n",
              "      <td>0</td>\n",
              "      <td>0</td>\n",
              "      <td>0</td>\n",
              "      <td>0</td>\n",
              "      <td>0</td>\n",
              "      <td>0</td>\n",
              "      <td>0</td>\n",
              "      <td>0</td>\n",
              "      <td>0</td>\n",
              "      <td>0</td>\n",
              "      <td>0</td>\n",
              "    </tr>\n",
              "    <tr>\n",
              "      <th>2</th>\n",
              "      <td>False</td>\n",
              "      <td>False</td>\n",
              "      <td>103.000000</td>\n",
              "      <td>False</td>\n",
              "      <td>False</td>\n",
              "      <td>False</td>\n",
              "      <td>False</td>\n",
              "      <td>2.00</td>\n",
              "      <td>19.000000</td>\n",
              "      <td>2.00</td>\n",
              "      <td>0.00</td>\n",
              "      <td>0.0</td>\n",
              "      <td>7.000000</td>\n",
              "      <td>0.0</td>\n",
              "      <td>0.0</td>\n",
              "      <td>0.0</td>\n",
              "      <td>1.00</td>\n",
              "      <td>2.000000</td>\n",
              "      <td>1.000000</td>\n",
              "      <td>0.0</td>\n",
              "      <td>0.0</td>\n",
              "      <td>0.0</td>\n",
              "      <td>0.0</td>\n",
              "      <td>7.0</td>\n",
              "      <td>0.437500</td>\n",
              "      <td>0.187500</td>\n",
              "      <td>0.437500</td>\n",
              "      <td>0.125000</td>\n",
              "      <td>0.000000</td>\n",
              "      <td>5.750000</td>\n",
              "      <td>2.187500</td>\n",
              "      <td>5.962976</td>\n",
              "      <td>0.0</td>\n",
              "      <td>1.410162e+04</td>\n",
              "      <td>0.000000</td>\n",
              "      <td>0.0</td>\n",
              "      <td>5.750000</td>\n",
              "      <td>0.000000</td>\n",
              "      <td>0.000000</td>\n",
              "      <td>0.000000</td>\n",
              "      <td>...</td>\n",
              "      <td>0</td>\n",
              "      <td>0</td>\n",
              "      <td>0</td>\n",
              "      <td>0</td>\n",
              "      <td>0</td>\n",
              "      <td>0</td>\n",
              "      <td>0</td>\n",
              "      <td>0</td>\n",
              "      <td>0</td>\n",
              "      <td>0</td>\n",
              "      <td>0</td>\n",
              "      <td>0</td>\n",
              "      <td>0</td>\n",
              "      <td>0</td>\n",
              "      <td>0</td>\n",
              "      <td>0</td>\n",
              "      <td>0</td>\n",
              "      <td>0</td>\n",
              "      <td>1</td>\n",
              "      <td>0</td>\n",
              "      <td>0</td>\n",
              "      <td>0</td>\n",
              "      <td>0</td>\n",
              "      <td>0</td>\n",
              "      <td>0</td>\n",
              "      <td>0</td>\n",
              "      <td>0</td>\n",
              "      <td>0</td>\n",
              "      <td>0</td>\n",
              "      <td>0</td>\n",
              "      <td>0</td>\n",
              "      <td>0</td>\n",
              "      <td>0</td>\n",
              "      <td>0</td>\n",
              "      <td>0</td>\n",
              "      <td>0</td>\n",
              "      <td>0</td>\n",
              "      <td>0</td>\n",
              "      <td>0</td>\n",
              "      <td>0</td>\n",
              "    </tr>\n",
              "    <tr>\n",
              "      <th>3</th>\n",
              "      <td>False</td>\n",
              "      <td>False</td>\n",
              "      <td>281.333333</td>\n",
              "      <td>False</td>\n",
              "      <td>False</td>\n",
              "      <td>True</td>\n",
              "      <td>False</td>\n",
              "      <td>1.00</td>\n",
              "      <td>41.333333</td>\n",
              "      <td>1.00</td>\n",
              "      <td>1.00</td>\n",
              "      <td>0.0</td>\n",
              "      <td>16.333333</td>\n",
              "      <td>9.0</td>\n",
              "      <td>6.0</td>\n",
              "      <td>1.0</td>\n",
              "      <td>2.00</td>\n",
              "      <td>12.333333</td>\n",
              "      <td>16.333333</td>\n",
              "      <td>0.0</td>\n",
              "      <td>1.0</td>\n",
              "      <td>0.0</td>\n",
              "      <td>6.0</td>\n",
              "      <td>0.0</td>\n",
              "      <td>16.333333</td>\n",
              "      <td>11.666667</td>\n",
              "      <td>12.333333</td>\n",
              "      <td>1.000000</td>\n",
              "      <td>2.000000</td>\n",
              "      <td>484.666667</td>\n",
              "      <td>234.333333</td>\n",
              "      <td>175.968473</td>\n",
              "      <td>5.0</td>\n",
              "      <td>6.572923e+05</td>\n",
              "      <td>376739.666667</td>\n",
              "      <td>2.0</td>\n",
              "      <td>0.000000</td>\n",
              "      <td>24.666667</td>\n",
              "      <td>32.666667</td>\n",
              "      <td>2.666667</td>\n",
              "      <td>...</td>\n",
              "      <td>0</td>\n",
              "      <td>0</td>\n",
              "      <td>0</td>\n",
              "      <td>0</td>\n",
              "      <td>0</td>\n",
              "      <td>0</td>\n",
              "      <td>0</td>\n",
              "      <td>0</td>\n",
              "      <td>0</td>\n",
              "      <td>0</td>\n",
              "      <td>0</td>\n",
              "      <td>0</td>\n",
              "      <td>0</td>\n",
              "      <td>0</td>\n",
              "      <td>0</td>\n",
              "      <td>0</td>\n",
              "      <td>0</td>\n",
              "      <td>0</td>\n",
              "      <td>0</td>\n",
              "      <td>0</td>\n",
              "      <td>0</td>\n",
              "      <td>0</td>\n",
              "      <td>0</td>\n",
              "      <td>0</td>\n",
              "      <td>0</td>\n",
              "      <td>0</td>\n",
              "      <td>0</td>\n",
              "      <td>0</td>\n",
              "      <td>0</td>\n",
              "      <td>0</td>\n",
              "      <td>0</td>\n",
              "      <td>0</td>\n",
              "      <td>0</td>\n",
              "      <td>0</td>\n",
              "      <td>0</td>\n",
              "      <td>1</td>\n",
              "      <td>0</td>\n",
              "      <td>0</td>\n",
              "      <td>0</td>\n",
              "      <td>0</td>\n",
              "    </tr>\n",
              "    <tr>\n",
              "      <th>4</th>\n",
              "      <td>False</td>\n",
              "      <td>True</td>\n",
              "      <td>711.000000</td>\n",
              "      <td>False</td>\n",
              "      <td>False</td>\n",
              "      <td>True</td>\n",
              "      <td>True</td>\n",
              "      <td>1.00</td>\n",
              "      <td>30.000000</td>\n",
              "      <td>1.00</td>\n",
              "      <td>1.00</td>\n",
              "      <td>0.0</td>\n",
              "      <td>16.000000</td>\n",
              "      <td>11.0</td>\n",
              "      <td>1.0</td>\n",
              "      <td>1.0</td>\n",
              "      <td>4.00</td>\n",
              "      <td>11.000000</td>\n",
              "      <td>10.000000</td>\n",
              "      <td>1.0</td>\n",
              "      <td>1.0</td>\n",
              "      <td>1.0</td>\n",
              "      <td>2.0</td>\n",
              "      <td>0.0</td>\n",
              "      <td>16.000000</td>\n",
              "      <td>7.000000</td>\n",
              "      <td>6.000000</td>\n",
              "      <td>1.000000</td>\n",
              "      <td>2.000000</td>\n",
              "      <td>434.000000</td>\n",
              "      <td>66.000000</td>\n",
              "      <td>73.615406</td>\n",
              "      <td>5.0</td>\n",
              "      <td>1.611844e+06</td>\n",
              "      <td>699530.000000</td>\n",
              "      <td>2.0</td>\n",
              "      <td>0.000000</td>\n",
              "      <td>434.000000</td>\n",
              "      <td>0.000000</td>\n",
              "      <td>0.000000</td>\n",
              "      <td>...</td>\n",
              "      <td>0</td>\n",
              "      <td>0</td>\n",
              "      <td>0</td>\n",
              "      <td>0</td>\n",
              "      <td>0</td>\n",
              "      <td>0</td>\n",
              "      <td>0</td>\n",
              "      <td>0</td>\n",
              "      <td>0</td>\n",
              "      <td>0</td>\n",
              "      <td>0</td>\n",
              "      <td>0</td>\n",
              "      <td>0</td>\n",
              "      <td>0</td>\n",
              "      <td>0</td>\n",
              "      <td>0</td>\n",
              "      <td>0</td>\n",
              "      <td>0</td>\n",
              "      <td>0</td>\n",
              "      <td>0</td>\n",
              "      <td>0</td>\n",
              "      <td>0</td>\n",
              "      <td>0</td>\n",
              "      <td>0</td>\n",
              "      <td>0</td>\n",
              "      <td>0</td>\n",
              "      <td>0</td>\n",
              "      <td>0</td>\n",
              "      <td>0</td>\n",
              "      <td>0</td>\n",
              "      <td>0</td>\n",
              "      <td>0</td>\n",
              "      <td>0</td>\n",
              "      <td>0</td>\n",
              "      <td>0</td>\n",
              "      <td>1</td>\n",
              "      <td>0</td>\n",
              "      <td>0</td>\n",
              "      <td>0</td>\n",
              "      <td>0</td>\n",
              "    </tr>\n",
              "  </tbody>\n",
              "</table>\n",
              "<p>5 rows × 237 columns</p>\n",
              "</div>"
            ],
            "text/plain": [
              "   has_app_exception  ...  country_max_event_Vietnam\n",
              "0              False  ...                          0\n",
              "1              False  ...                          0\n",
              "2              False  ...                          0\n",
              "3              False  ...                          0\n",
              "4              False  ...                          0\n",
              "\n",
              "[5 rows x 237 columns]"
            ]
          },
          "metadata": {
            "tags": []
          },
          "execution_count": 9
        }
      ]
    },
    {
      "cell_type": "code",
      "metadata": {
        "id": "AFKB1meGL6By"
      },
      "source": [
        "data1.to_csv(\"gamedata_son.csv\",index=None)"
      ],
      "execution_count": null,
      "outputs": []
    },
    {
      "cell_type": "markdown",
      "metadata": {
        "id": "Kv4Hah_JMR4x"
      },
      "source": [
        "LIGHT BOOST\n",
        "\n"
      ]
    },
    {
      "cell_type": "code",
      "metadata": {
        "id": "_HIDAjc4MWYL"
      },
      "source": [
        "y = data1.target_encod.values\n",
        "x = data1.drop(['target_encod'],axis = 1)"
      ],
      "execution_count": null,
      "outputs": []
    },
    {
      "cell_type": "code",
      "metadata": {
        "id": "7zEk7bHEMbya",
        "colab": {
          "base_uri": "https://localhost:8080/",
          "height": 68
        },
        "outputId": "cae32fb1-e246-4909-c14a-d2b5a539544f"
      },
      "source": [
        "y"
      ],
      "execution_count": null,
      "outputs": [
        {
          "output_type": "execute_result",
          "data": {
            "text/plain": [
              "[0, 1, 0, 1, 0, ..., 0, 0, 0, 0, 0]\n",
              "Length: 25548\n",
              "Categories (2, int64): [0, 1]"
            ]
          },
          "metadata": {
            "tags": []
          },
          "execution_count": 223
        }
      ]
    },
    {
      "cell_type": "code",
      "metadata": {
        "id": "nPSu4g_VMcZV"
      },
      "source": [
        "from lightgbm import LGBMClassifier"
      ],
      "execution_count": null,
      "outputs": []
    },
    {
      "cell_type": "code",
      "metadata": {
        "id": "Ge5a7QrhNCaA"
      },
      "source": [
        "x_train, x_test, y_train, y_test = train_test_split(x, y, \n",
        "                                                    test_size=0.30, \n",
        "                                                    random_state=42)"
      ],
      "execution_count": null,
      "outputs": []
    },
    {
      "cell_type": "code",
      "metadata": {
        "id": "ajsnEGEENJK-",
        "colab": {
          "base_uri": "https://localhost:8080/",
          "height": 34
        },
        "outputId": "06793fa7-d56c-4881-8454-5d08a59ea893"
      },
      "source": [
        "lgbm_model = LGBMClassifier().fit(x_train, y_train)\n",
        "y_pred = lgbm_model.predict(x_test)\n",
        "accuracy_score(y_test, y_pred)"
      ],
      "execution_count": null,
      "outputs": [
        {
          "output_type": "execute_result",
          "data": {
            "text/plain": [
              "0.9475538160469668"
            ]
          },
          "metadata": {
            "tags": []
          },
          "execution_count": 226
        }
      ]
    },
    {
      "cell_type": "code",
      "metadata": {
        "id": "wjtWStesR7gV",
        "colab": {
          "base_uri": "https://localhost:8080/",
          "height": 351
        },
        "outputId": "e3cff73d-94a2-4acd-e3e7-a210fb04ba15"
      },
      "source": [
        "mtx = confusion_matrix(y_test, y_pred)\n",
        "fig, ax = plt.subplots(figsize=(5,5))\n",
        "sns.heatmap(mtx, xticklabels= 'auto', yticklabels='auto', cmap=\"Blues\", annot=True, fmt='d', linewidths=.5,  cbar=False, ax=ax)\n",
        "#  square=True,\n",
        "plt.ylabel('true label')\n",
        "plt.xlabel('predicted label')"
      ],
      "execution_count": null,
      "outputs": [
        {
          "output_type": "execute_result",
          "data": {
            "text/plain": [
              "Text(0.5, 24.0, 'predicted label')"
            ]
          },
          "metadata": {
            "tags": []
          },
          "execution_count": 227
        },
        {
          "output_type": "display_data",
          "data": {
            "image/png": "[encoded data removed]",
            "text/plain": [
              "<Figure size 360x360 with 1 Axes>"
            ]
          },
          "metadata": {
            "tags": [],
            "needs_background": "light"
          }
        }
      ]
    },
    {
      "cell_type": "code",
      "metadata": {
        "id": "UJSUFcj8R7sn",
        "colab": {
          "base_uri": "https://localhost:8080/",
          "height": 295
        },
        "outputId": "d3ff6722-ccf5-4d94-bdc4-6c7feee46995"
      },
      "source": [
        "fpr,tpr,thresholds = roc_curve(y_test,lgbm_tuned.predict_proba(x_test)[:,1])\n",
        "plt.figure()\n",
        "plt.plot(fpr,tpr, label='AUC (area = %0.2f)')\n",
        "plt.plot([0, 1], [0, 1],'r--')\n",
        "plt.xlim([0.0, 1.0])\n",
        "plt.ylim([0.0, 1.05])\n",
        "plt.xlabel('False Positive Oranı')\n",
        "plt.ylabel('True Positive Oranı')\n",
        "plt.title('ROC')\n",
        "plt.show()"
      ],
      "execution_count": null,
      "outputs": [
        {
          "output_type": "display_data",
          "data": {
            "image/png": "[encoded data removed]",
            "text/plain": [
              "<Figure size 432x288 with 1 Axes>"
            ]
          },
          "metadata": {
            "tags": [],
            "needs_background": "light"
          }
        }
      ]
    },
    {
      "cell_type": "code",
      "metadata": {
        "id": "jlGwUkjjSEXW",
        "colab": {
          "base_uri": "https://localhost:8080/",
          "height": 170
        },
        "outputId": "562f7a7f-12eb-4e60-fa75-034cb91170f1"
      },
      "source": [
        "print(classification_report(y_test,y_pred))"
      ],
      "execution_count": null,
      "outputs": [
        {
          "output_type": "stream",
          "text": [
            "              precision    recall  f1-score   support\n",
            "\n",
            "           0       0.97      0.96      0.97      6307\n",
            "           1       0.83      0.88      0.86      1358\n",
            "\n",
            "    accuracy                           0.95      7665\n",
            "   macro avg       0.90      0.92      0.91      7665\n",
            "weighted avg       0.95      0.95      0.95      7665\n",
            "\n"
          ],
          "name": "stdout"
        }
      ]
    },
    {
      "cell_type": "code",
      "metadata": {
        "id": "oo0ULS7zNPY4"
      },
      "source": [
        "lgbm_params = {\n",
        "    'n_estimators': [100, 500],\n",
        "    'subsample': [0.6, 0.8, 1.0],\n",
        "    'max_depth': [3, 4, 5],\n",
        "    'learning_rate': [0.1,0.01,0.02],\n",
        "    \"min_child_samples\": [5,10,20]}"
      ],
      "execution_count": null,
      "outputs": []
    },
    {
      "cell_type": "code",
      "metadata": {
        "id": "EPWc-GPfN8e2",
        "colab": {
          "base_uri": "https://localhost:8080/",
          "height": 476
        },
        "outputId": "f1b76516-327b-4477-badf-9edba8399c77"
      },
      "source": [
        "lgbm_cv_model.fit(x_train, y_train)\n"
      ],
      "execution_count": null,
      "outputs": [
        {
          "output_type": "stream",
          "text": [
            "Fitting 3 folds for each of 162 candidates, totalling 486 fits\n"
          ],
          "name": "stdout"
        },
        {
          "output_type": "stream",
          "text": [
            "[Parallel(n_jobs=-1)]: Using backend LokyBackend with 2 concurrent workers.\n",
            "[Parallel(n_jobs=-1)]: Done  37 tasks      | elapsed:   38.7s\n",
            "[Parallel(n_jobs=-1)]: Done 158 tasks      | elapsed:  3.5min\n",
            "[Parallel(n_jobs=-1)]: Done 361 tasks      | elapsed:  8.3min\n",
            "[Parallel(n_jobs=-1)]: Done 486 out of 486 | elapsed: 11.5min finished\n"
          ],
          "name": "stderr"
        },
        {
          "output_type": "execute_result",
          "data": {
            "text/plain": [
              "GridSearchCV(cv=3, error_score=nan,\n",
              "             estimator=LGBMClassifier(boosting_type='gbdt', class_weight=None,\n",
              "                                      colsample_bytree=1.0,\n",
              "                                      importance_type='split',\n",
              "                                      learning_rate=0.1, max_depth=-1,\n",
              "                                      min_child_samples=20,\n",
              "                                      min_child_weight=0.001,\n",
              "                                      min_split_gain=0.0, n_estimators=100,\n",
              "                                      n_jobs=-1, num_leaves=31, objective=None,\n",
              "                                      random_state=None, reg_alpha=0.0,\n",
              "                                      reg_lambda=0.0, silent=True,\n",
              "                                      subsample=1.0, subsample_for_bin=200000,\n",
              "                                      subsample_freq=0),\n",
              "             iid='deprecated', n_jobs=-1,\n",
              "             param_grid={'learning_rate': [0.1, 0.01, 0.02],\n",
              "                         'max_depth': [3, 4, 5],\n",
              "                         'min_child_samples': [5, 10, 20],\n",
              "                         'n_estimators': [100, 500],\n",
              "                         'subsample': [0.6, 0.8, 1.0]},\n",
              "             pre_dispatch='2*n_jobs', refit=True, return_train_score=False,\n",
              "             scoring=None, verbose=2)"
            ]
          },
          "metadata": {
            "tags": []
          },
          "execution_count": 215
        }
      ]
    },
    {
      "cell_type": "code",
      "metadata": {
        "id": "zzdTIykFOAu6",
        "colab": {
          "base_uri": "https://localhost:8080/",
          "height": 102
        },
        "outputId": "80e602c8-fe02-4fc0-9489-add9299e836a"
      },
      "source": [
        "lgbm_cv_model.best_params_"
      ],
      "execution_count": null,
      "outputs": [
        {
          "output_type": "execute_result",
          "data": {
            "text/plain": [
              "{'learning_rate': 0.1,\n",
              " 'max_depth': 5,\n",
              " 'min_child_samples': 10,\n",
              " 'n_estimators': 100,\n",
              " 'subsample': 0.6}"
            ]
          },
          "metadata": {
            "tags": []
          },
          "execution_count": 216
        }
      ]
    },
    {
      "cell_type": "code",
      "metadata": {
        "id": "bIn7s1lvQ1yt"
      },
      "source": [
        "lgbm = LGBMClassifier(max_depth = lgbm_cv_model.best_params_[\"max_depth\"],\n",
        "                    learning_rate = lgbm_cv_model.best_params_[\"learning_rate\"], \n",
        "                    min_child_samples = lgbm_cv_model.best_params_[\"min_child_samples\"],\n",
        "                    n_estimators = lgbm_cv_model.best_params_[\"n_estimators\"],\n",
        "                    subsample = lgbm_cv_model.best_params_[\"subsample\"])"
      ],
      "execution_count": null,
      "outputs": []
    },
    {
      "cell_type": "code",
      "metadata": {
        "id": "vtYK9kr5RQVV",
        "colab": {
          "base_uri": "https://localhost:8080/",
          "height": 34
        },
        "outputId": "c424c00d-8112-4e02-e550-248db2424967"
      },
      "source": [
        "lgbm_tuned = lgbm.fit(x_train,y_train)\n",
        "y_pred = lgbm_tuned.predict(x_test)\n",
        "accuracy_score(y_test,y_pred)"
      ],
      "execution_count": null,
      "outputs": [
        {
          "output_type": "execute_result",
          "data": {
            "text/plain": [
              "0.9475538160469668"
            ]
          },
          "metadata": {
            "tags": []
          },
          "execution_count": 218
        }
      ]
    },
    {
      "cell_type": "code",
      "metadata": {
        "id": "2piG6N1BRZNV",
        "colab": {
          "base_uri": "https://localhost:8080/",
          "height": 351
        },
        "outputId": "61101c6c-1e9a-4391-9f31-c5854bbaee6d"
      },
      "source": [
        "mtx = confusion_matrix(y_test, y_pred)\n",
        "fig, ax = plt.subplots(figsize=(5,5))\n",
        "sns.heatmap(mtx, xticklabels= 'auto', yticklabels='auto', cmap=\"Blues\", annot=True, fmt='d', linewidths=.5,  cbar=False, ax=ax)\n",
        "#  square=True,\n",
        "plt.ylabel('true label')\n",
        "plt.xlabel('predicted label')"
      ],
      "execution_count": null,
      "outputs": [
        {
          "output_type": "execute_result",
          "data": {
            "text/plain": [
              "Text(0.5, 24.0, 'predicted label')"
            ]
          },
          "metadata": {
            "tags": []
          },
          "execution_count": 219
        },
        {
          "output_type": "display_data",
          "data": {
            "image/png": "[encoded data removed]",
            "text/plain": [
              "<Figure size 360x360 with 1 Axes>"
            ]
          },
          "metadata": {
            "tags": [],
            "needs_background": "light"
          }
        }
      ]
    },
    {
      "cell_type": "code",
      "metadata": {
        "id": "R_JnKklzRhP1",
        "colab": {
          "base_uri": "https://localhost:8080/",
          "height": 295
        },
        "outputId": "31488e97-965f-40c0-ec58-bb6202a28a09"
      },
      "source": [
        "fpr,tpr,thresholds = roc_curve(y_test,lgbm_tuned.predict_proba(x_test)[:,1])\n",
        "plt.figure()\n",
        "plt.plot(fpr,tpr, label='AUC (area = %0.2f)')\n",
        "plt.plot([0, 1], [0, 1],'r--')\n",
        "plt.xlim([0.0, 1.0])\n",
        "plt.ylim([0.0, 1.05])\n",
        "plt.xlabel('False Positive Oranı')\n",
        "plt.ylabel('True Positive Oranı')\n",
        "plt.title('ROC')\n",
        "plt.show()"
      ],
      "execution_count": null,
      "outputs": [
        {
          "output_type": "display_data",
          "data": {
            "image/png": "[encoded data removed]",
            "text/plain": [
              "<Figure size 432x288 with 1 Axes>"
            ]
          },
          "metadata": {
            "tags": [],
            "needs_background": "light"
          }
        }
      ]
    },
    {
      "cell_type": "code",
      "metadata": {
        "id": "F8FTjHEZRohZ",
        "colab": {
          "base_uri": "https://localhost:8080/",
          "height": 170
        },
        "outputId": "66c36965-4573-4682-c04d-4bdb80ef0b67"
      },
      "source": [
        "print(classification_report(y_test,y_pred))"
      ],
      "execution_count": null,
      "outputs": [
        {
          "output_type": "stream",
          "text": [
            "              precision    recall  f1-score   support\n",
            "\n",
            "           0       0.97      0.96      0.97      6307\n",
            "           1       0.84      0.87      0.86      1358\n",
            "\n",
            "    accuracy                           0.95      7665\n",
            "   macro avg       0.91      0.92      0.91      7665\n",
            "weighted avg       0.95      0.95      0.95      7665\n",
            "\n"
          ],
          "name": "stdout"
        }
      ]
    },
    {
      "cell_type": "markdown",
      "metadata": {
        "id": "ui3ZQvRtSL88"
      },
      "source": [
        "# **### Importance değişkenler ile model kurulması**"
      ]
    },
    {
      "cell_type": "code",
      "metadata": {
        "id": "vRK5RNvRRuBo"
      },
      "source": [
        "y = data1.target_encod.values\n",
        "x = data1.drop(['target_encod'],axis = 1)\n",
        "ximp = x[[\"avg_IDLE_CASH_AD_session\",\n",
        "          \"avg_maxupgradeMultiplierValue_session\",\n",
        "          \"avg_ROCKET_AD_session\",\n",
        "          \"avg_daily_adCampaignWatchComplete\",\n",
        "          \"avg_reward_value_session\",\n",
        "          \"avg_NoncompleteactiveAdCampaignAmount_session\",\n",
        "          \"avg_x10upgradeMultiplierValue_session\",\n",
        "          \"avg_transporter_session\",\n",
        "          \"avg_daily_rocketAdAppear\",\n",
        "          \"avg_daily_workerUpgradeMethodLowestCost\",\n",
        "          \"avg_x50upgradeMultiplierValue_session\",\n",
        "          \"avg_daily_ad_reward\",\n",
        "          \"avg_AD_CAMPAIGN_X2_CASH_session\",\n",
        "          \"avg_factory_session\",\n",
        "          \"avg_RewardedVideo_session\",\n",
        "          \"avg_daily_level_up\",\n",
        "          \"avg_daily_workerUpgradeAmount\",\n",
        "          \"avg_level_up_session\",\n",
        "          \"avg_x1upgradeMultiplierValue_session\",\n",
        "          \"avg_daily_unlockedWorker\",\n",
        "          \"avg_worker_session\",\n",
        "          \"avg_daily_earningRateBoost\",\n",
        "          \"avg_uengagement_time_msec_session\",\n",
        "          \"avg_daily_event\",\n",
        "          \"avg_upgradeAmount_session\",\n",
        "          \"avg_daily_login\",\n",
        "          \"avg_earningRateValue_session\", \n",
        "          \"app_updated_by_user\",\n",
        "          \"avg_baseStation_session\",\n",
        "          \"avg_totalElapsedTime_session\",\n",
        "          \"avg_daily_session_start\",\n",
        "          \"avg_unlockedWorker_session\",\n",
        "          \"avg_ExitactiveAdCampaignAmount_session\",\n",
        "          \"avg_error_session\"]]\n"
      ],
      "execution_count": null,
      "outputs": []
    },
    {
      "cell_type": "code",
      "metadata": {
        "id": "mJb6UnyGkXge",
        "colab": {
          "base_uri": "https://localhost:8080/",
          "height": 71
        },
        "outputId": "ad020fda-8812-4ded-c67e-4d3c670cf286"
      },
      "source": [
        "import numpy as np\n",
        "import pandas as pd \n",
        "import statsmodels.api as sm\n",
        "import statsmodels.formula.api as smf\n",
        "import seaborn as sns\n",
        "from sklearn.preprocessing import scale \n",
        "from sklearn.model_selection import train_test_split, GridSearchCV, cross_val_score\n",
        "from sklearn.metrics import confusion_matrix, accuracy_score, classification_report\n",
        "from sklearn.metrics import roc_auc_score,roc_curve\n",
        "import statsmodels.formula.api as smf\n",
        "import matplotlib.pyplot as plt\n",
        "from xgboost import XGBClassifier"
      ],
      "execution_count": null,
      "outputs": [
        {
          "output_type": "stream",
          "text": [
            "/usr/local/lib/python3.6/dist-packages/statsmodels/tools/_testing.py:19: FutureWarning: pandas.util.testing is deprecated. Use the functions in the public API at pandas.testing instead.\n",
            "  import pandas.util.testing as tm\n"
          ],
          "name": "stderr"
        }
      ]
    },
    {
      "cell_type": "code",
      "metadata": {
        "id": "GfYbDMqnj7Aw"
      },
      "source": [
        "x_train, x_test, y_train, y_test = train_test_split(ximp, y, \n",
        "                                                    test_size=0.30, \n",
        "                                                    random_state=42)"
      ],
      "execution_count": null,
      "outputs": []
    },
    {
      "cell_type": "code",
      "metadata": {
        "id": "SQCHCeLZkWMR"
      },
      "source": [
        "xgb_model = XGBClassifier().fit(x_train, y_train)"
      ],
      "execution_count": null,
      "outputs": []
    },
    {
      "cell_type": "code",
      "metadata": {
        "id": "tdXmncAAknLt",
        "colab": {
          "base_uri": "https://localhost:8080/",
          "height": 34
        },
        "outputId": "ff136fc7-7f67-4904-e861-8fd3958e3968"
      },
      "source": [
        "y_pred = xgb_model.predict(x_test)\n",
        "accuracy_score(y_test, y_pred)"
      ],
      "execution_count": null,
      "outputs": [
        {
          "output_type": "execute_result",
          "data": {
            "text/plain": [
              "0.9449445531637313"
            ]
          },
          "metadata": {
            "tags": []
          },
          "execution_count": 16
        }
      ]
    },
    {
      "cell_type": "code",
      "metadata": {
        "id": "JLzop7wbkvKm",
        "colab": {
          "base_uri": "https://localhost:8080/",
          "height": 170
        },
        "outputId": "1f652450-6d7a-4ba9-9773-b49a69fa35dc"
      },
      "source": [
        "print(classification_report(y_test,y_pred))"
      ],
      "execution_count": null,
      "outputs": [
        {
          "output_type": "stream",
          "text": [
            "              precision    recall  f1-score   support\n",
            "\n",
            "           0       0.97      0.96      0.97      6307\n",
            "           1       0.83      0.86      0.85      1358\n",
            "\n",
            "    accuracy                           0.94      7665\n",
            "   macro avg       0.90      0.91      0.91      7665\n",
            "weighted avg       0.95      0.94      0.95      7665\n",
            "\n"
          ],
          "name": "stdout"
        }
      ]
    },
    {
      "cell_type": "code",
      "metadata": {
        "id": "gj-M9pl4k8ac",
        "colab": {
          "base_uri": "https://localhost:8080/",
          "height": 351
        },
        "outputId": "9edb4309-1b9f-4608-dac8-dceee139cdc6"
      },
      "source": [
        "mtx = confusion_matrix(y_test,y_pred)\n",
        "fig, ax = plt.subplots(figsize=(5,5))\n",
        "sns.heatmap(mtx, xticklabels= 'auto', yticklabels='auto', cmap=\"Blues\", annot=True, fmt='d', linewidths=.5,  cbar=False, ax=ax)\n",
        "#  square=True,\n",
        "plt.ylabel('true label')\n",
        "plt.xlabel('predicted label')"
      ],
      "execution_count": null,
      "outputs": [
        {
          "output_type": "execute_result",
          "data": {
            "text/plain": [
              "Text(0.5, 24.0, 'predicted label')"
            ]
          },
          "metadata": {
            "tags": []
          },
          "execution_count": 18
        },
        {
          "output_type": "display_data",
          "data": {
            "image/png": "[encoded data removed]",
            "text/plain": [
              "<Figure size 360x360 with 1 Axes>"
            ]
          },
          "metadata": {
            "tags": [],
            "needs_background": "light"
          }
        }
      ]
    },
    {
      "cell_type": "code",
      "metadata": {
        "id": "oskbGjHzlDNk",
        "colab": {
          "base_uri": "https://localhost:8080/",
          "height": 295
        },
        "outputId": "f6d5546d-50cc-42d2-a341-a2ad0154aa7c"
      },
      "source": [
        "fpr,tpr,thresholds = roc_curve(y_test,xgb_model.predict_proba(x_test)[:,1])\n",
        "plt.figure()\n",
        "plt.plot(fpr,tpr, label='AUC (area = %0.2f)')\n",
        "plt.plot([0, 1], [0, 1],'r--')\n",
        "plt.xlim([0.0, 1.0])\n",
        "plt.ylim([0.0, 1.05])\n",
        "plt.xlabel('False Positive Oranı')\n",
        "plt.ylabel('True Positive Oranı')\n",
        "plt.title('ROC')\n",
        "plt.show()"
      ],
      "execution_count": null,
      "outputs": [
        {
          "output_type": "display_data",
          "data": {
            "image/png": "[encoded data removed]",
            "text/plain": [
              "<Figure size 432x288 with 1 Axes>"
            ]
          },
          "metadata": {
            "tags": [],
            "needs_background": "light"
          }
        }
      ]
    },
    {
      "cell_type": "markdown",
      "metadata": {
        "id": "AeONRUZ8lYNE"
      },
      "source": [
        "**XGBOOST MODEL TUNING**"
      ]
    },
    {
      "cell_type": "code",
      "metadata": {
        "id": "8E6tk4T5lNJY"
      },
      "source": [
        "## model tuning\n",
        "xgb_params = {\n",
        "    'n_estimators': [100, 500],\n",
        "    'subsample': [0.6, 1.0],\n",
        "    'max_depth': [3, 4, 5],\n",
        "    'learning_rate': [0.1,0.01,0.02],\n",
        "    \"min_samples_split\": [2,5,10]}"
      ],
      "execution_count": null,
      "outputs": []
    },
    {
      "cell_type": "code",
      "metadata": {
        "id": "DMKdia7cllD5"
      },
      "source": [
        "xgb = XGBClassifier()\n",
        "\n",
        "xgb_cv_model = GridSearchCV(xgb, xgb_params, cv = 3, n_jobs = -1, verbose = 2)"
      ],
      "execution_count": null,
      "outputs": []
    },
    {
      "cell_type": "code",
      "metadata": {
        "id": "KRNa2HiflnZJ",
        "colab": {
          "base_uri": "https://localhost:8080/",
          "height": 408
        },
        "outputId": "bfcb2cfb-7755-4800-f51e-541f40eb0452"
      },
      "source": [
        "xgb_cv_model.fit(x_train, y_train)"
      ],
      "execution_count": null,
      "outputs": [
        {
          "output_type": "stream",
          "text": [
            "Fitting 3 folds for each of 108 candidates, totalling 324 fits\n"
          ],
          "name": "stdout"
        },
        {
          "output_type": "stream",
          "text": [
            "[Parallel(n_jobs=-1)]: Using backend LokyBackend with 2 concurrent workers.\n",
            "[Parallel(n_jobs=-1)]: Done  37 tasks      | elapsed:  1.9min\n",
            "[Parallel(n_jobs=-1)]: Done 158 tasks      | elapsed: 10.3min\n",
            "[Parallel(n_jobs=-1)]: Done 324 out of 324 | elapsed: 22.3min finished\n"
          ],
          "name": "stderr"
        },
        {
          "output_type": "execute_result",
          "data": {
            "text/plain": [
              "GridSearchCV(cv=3, error_score=nan,\n",
              "             estimator=XGBClassifier(base_score=0.5, booster='gbtree',\n",
              "                                     colsample_bylevel=1, colsample_bynode=1,\n",
              "                                     colsample_bytree=1, gamma=0,\n",
              "                                     learning_rate=0.1, max_delta_step=0,\n",
              "                                     max_depth=3, min_child_weight=1,\n",
              "                                     missing=None, n_estimators=100, n_jobs=1,\n",
              "                                     nthread=None, objective='binary:logistic',\n",
              "                                     random_state=0, reg_alpha=0, reg_lambda=1,\n",
              "                                     scale_pos_weight=1, seed=None, silent=None,\n",
              "                                     subsample=1, verbosity=1),\n",
              "             iid='deprecated', n_jobs=-1,\n",
              "             param_grid={'learning_rate': [0.1, 0.01, 0.02],\n",
              "                         'max_depth': [3, 4, 5],\n",
              "                         'min_samples_split': [2, 5, 10],\n",
              "                         'n_estimators': [100, 500], 'subsample': [0.6, 1.0]},\n",
              "             pre_dispatch='2*n_jobs', refit=True, return_train_score=False,\n",
              "             scoring=None, verbose=2)"
            ]
          },
          "metadata": {
            "tags": []
          },
          "execution_count": 27
        }
      ]
    },
    {
      "cell_type": "code",
      "metadata": {
        "id": "6u9XWvuNlrkO",
        "colab": {
          "base_uri": "https://localhost:8080/",
          "height": 102
        },
        "outputId": "1fdaad47-6009-47cb-f6c0-24074f3067cb"
      },
      "source": [
        "xgb_cv_model.best_params_"
      ],
      "execution_count": null,
      "outputs": [
        {
          "output_type": "execute_result",
          "data": {
            "text/plain": [
              "{'learning_rate': 0.02,\n",
              " 'max_depth': 5,\n",
              " 'min_samples_split': 2,\n",
              " 'n_estimators': 500,\n",
              " 'subsample': 0.6}"
            ]
          },
          "metadata": {
            "tags": []
          },
          "execution_count": 28
        }
      ]
    },
    {
      "cell_type": "code",
      "metadata": {
        "id": "JQyDsk0-lwMn"
      },
      "source": [
        "xgb = XGBClassifier(max_depth = xgb_cv_model.best_params_[\"max_depth\"],\n",
        "                    learning_rate = xgb_cv_model.best_params_[\"learning_rate\"], \n",
        "                    min_samples_split = xgb_cv_model.best_params_[\"min_samples_split\"],\n",
        "                    n_estimators = xgb_cv_model.best_params_[\"n_estimators\"],\n",
        "                    subsample = xgb_cv_model.best_params_[\"subsample\"])"
      ],
      "execution_count": null,
      "outputs": []
    },
    {
      "cell_type": "code",
      "metadata": {
        "id": "3_6QRbgalwUQ",
        "colab": {
          "base_uri": "https://localhost:8080/",
          "height": 34
        },
        "outputId": "622d6dcf-0212-4889-b86b-df813b47fad7"
      },
      "source": [
        "xgb_tuned = xgb.fit(x_train,y_train)\n",
        "y_pred = xgb_tuned.predict(x_test)\n",
        "accuracy_score(y_test,y_pred)"
      ],
      "execution_count": null,
      "outputs": [
        {
          "output_type": "execute_result",
          "data": {
            "text/plain": [
              "0.945075016307893"
            ]
          },
          "metadata": {
            "tags": []
          },
          "execution_count": 30
        }
      ]
    },
    {
      "cell_type": "code",
      "metadata": {
        "id": "E7_zj3Ibmf9U",
        "colab": {
          "base_uri": "https://localhost:8080/",
          "height": 170
        },
        "outputId": "b54af758-f41a-4bc1-e519-bd37e354f3ba"
      },
      "source": [
        "print(classification_report(y_test,y_pred))"
      ],
      "execution_count": null,
      "outputs": [
        {
          "output_type": "stream",
          "text": [
            "              precision    recall  f1-score   support\n",
            "\n",
            "           0       0.97      0.96      0.97      6307\n",
            "           1       0.83      0.86      0.85      1358\n",
            "\n",
            "    accuracy                           0.95      7665\n",
            "   macro avg       0.90      0.91      0.91      7665\n",
            "weighted avg       0.95      0.95      0.95      7665\n",
            "\n"
          ],
          "name": "stdout"
        }
      ]
    },
    {
      "cell_type": "code",
      "metadata": {
        "id": "gaIayc_mmf6o",
        "colab": {
          "base_uri": "https://localhost:8080/",
          "height": 351
        },
        "outputId": "9dc3cf71-48b8-4d17-df70-dc52cf928d93"
      },
      "source": [
        "mtx = confusion_matrix(y_test,y_pred)\n",
        "fig, ax = plt.subplots(figsize=(5,5))\n",
        "sns.heatmap(mtx, xticklabels= 'auto', yticklabels='auto', cmap=\"Blues\", annot=True, fmt='d', linewidths=.5,  cbar=False, ax=ax)\n",
        "#  square=True,\n",
        "plt.ylabel('true label')\n",
        "plt.xlabel('predicted label')"
      ],
      "execution_count": null,
      "outputs": [
        {
          "output_type": "execute_result",
          "data": {
            "text/plain": [
              "Text(0.5, 24.0, 'predicted label')"
            ]
          },
          "metadata": {
            "tags": []
          },
          "execution_count": 32
        },
        {
          "output_type": "display_data",
          "data": {
            "image/png": "[encoded data removed]",
            "text/plain": [
              "<Figure size 360x360 with 1 Axes>"
            ]
          },
          "metadata": {
            "tags": [],
            "needs_background": "light"
          }
        }
      ]
    },
    {
      "cell_type": "code",
      "metadata": {
        "id": "YkiIIvHWmn6x",
        "colab": {
          "base_uri": "https://localhost:8080/",
          "height": 295
        },
        "outputId": "04af6ce6-1fff-40c9-8211-4818947aa14a"
      },
      "source": [
        "fpr,tpr,thresholds = roc_curve(y_test,xgb_tuned.predict_proba(x_test)[:,1])\n",
        "plt.figure()\n",
        "plt.plot(fpr,tpr, label='AUC (area = %0.2f)')\n",
        "plt.plot([0, 1], [0, 1],'r--')\n",
        "plt.xlim([0.0, 1.0])\n",
        "plt.ylim([0.0, 1.05])\n",
        "plt.xlabel('False Positive Oranı')\n",
        "plt.ylabel('True Positive Oranı')\n",
        "plt.title('ROC')\n",
        "plt.show()"
      ],
      "execution_count": null,
      "outputs": [
        {
          "output_type": "display_data",
          "data": {
            "image/png": "[encoded data removed]",
            "text/plain": [
              "<Figure size 432x288 with 1 Axes>"
            ]
          },
          "metadata": {
            "tags": [],
            "needs_background": "light"
          }
        }
      ]
    },
    {
      "cell_type": "markdown",
      "metadata": {
        "id": "aF9n8TiprPbQ"
      },
      "source": [
        "**LightGBM**"
      ]
    },
    {
      "cell_type": "code",
      "metadata": {
        "id": "lkS_nZoYrHoX"
      },
      "source": [
        "from lightgbm import LGBMClassifier"
      ],
      "execution_count": null,
      "outputs": []
    },
    {
      "cell_type": "code",
      "metadata": {
        "id": "SLVuOsPnrY_a",
        "colab": {
          "base_uri": "https://localhost:8080/",
          "height": 34
        },
        "outputId": "cea3153d-adb2-47dc-a697-936fa054496d"
      },
      "source": [
        "lgbm_model = LGBMClassifier().fit(x_train, y_train)\n",
        "y_pred = lgbm_model.predict(x_test)\n",
        "accuracy_score(y_test, y_pred)"
      ],
      "execution_count": null,
      "outputs": [
        {
          "output_type": "execute_result",
          "data": {
            "text/plain": [
              "0.9445531637312459"
            ]
          },
          "metadata": {
            "tags": []
          },
          "execution_count": 35
        }
      ]
    },
    {
      "cell_type": "code",
      "metadata": {
        "id": "Al9FGekPrhOZ",
        "colab": {
          "base_uri": "https://localhost:8080/",
          "height": 170
        },
        "outputId": "fbe32b5f-bb53-40c9-fa21-3382638aa8a3"
      },
      "source": [
        "print(classification_report(y_test,y_pred))"
      ],
      "execution_count": null,
      "outputs": [
        {
          "output_type": "stream",
          "text": [
            "              precision    recall  f1-score   support\n",
            "\n",
            "           0       0.97      0.96      0.97      6307\n",
            "           1       0.83      0.86      0.85      1358\n",
            "\n",
            "    accuracy                           0.94      7665\n",
            "   macro avg       0.90      0.91      0.91      7665\n",
            "weighted avg       0.95      0.94      0.94      7665\n",
            "\n"
          ],
          "name": "stdout"
        }
      ]
    },
    {
      "cell_type": "code",
      "metadata": {
        "id": "51XDG1vErtDI",
        "colab": {
          "base_uri": "https://localhost:8080/",
          "height": 351
        },
        "outputId": "6bff2f55-96d3-4784-e23c-8c313e8553d6"
      },
      "source": [
        "mtx = confusion_matrix(y_test,y_pred)\n",
        "fig, ax = plt.subplots(figsize=(5,5))\n",
        "sns.heatmap(mtx, xticklabels= 'auto', yticklabels='auto', cmap=\"Blues\", annot=True, fmt='d', linewidths=.5,  cbar=False, ax=ax)\n",
        "#  square=True,\n",
        "plt.ylabel('true label')\n",
        "plt.xlabel('predicted label')"
      ],
      "execution_count": null,
      "outputs": [
        {
          "output_type": "execute_result",
          "data": {
            "text/plain": [
              "Text(0.5, 24.0, 'predicted label')"
            ]
          },
          "metadata": {
            "tags": []
          },
          "execution_count": 38
        },
        {
          "output_type": "display_data",
          "data": {
            "image/png": "[encoded data removed]",
            "text/plain": [
              "<Figure size 360x360 with 1 Axes>"
            ]
          },
          "metadata": {
            "tags": [],
            "needs_background": "light"
          }
        }
      ]
    },
    {
      "cell_type": "code",
      "metadata": {
        "id": "SuE38BycrtTf",
        "colab": {
          "base_uri": "https://localhost:8080/",
          "height": 295
        },
        "outputId": "670d380f-a417-4fe4-c6bd-bcf5f691e5df"
      },
      "source": [
        "fpr,tpr,thresholds = roc_curve(y_test,lgbm_model.predict_proba(x_test)[:,1])\n",
        "plt.figure()\n",
        "plt.plot(fpr,tpr, label='AUC (area = %0.2f)')\n",
        "plt.plot([0, 1], [0, 1],'r--')\n",
        "plt.xlim([0.0, 1.0])\n",
        "plt.ylim([0.0, 1.05])\n",
        "plt.xlabel('False Positive Oranı')\n",
        "plt.ylabel('True Positive Oranı')\n",
        "plt.title('ROC')\n",
        "plt.show()"
      ],
      "execution_count": null,
      "outputs": [
        {
          "output_type": "display_data",
          "data": {
            "image/png": "[encoded data removed]",
            "text/plain": [
              "<Figure size 432x288 with 1 Axes>"
            ]
          },
          "metadata": {
            "tags": [],
            "needs_background": "light"
          }
        }
      ]
    },
    {
      "cell_type": "code",
      "metadata": {
        "id": "i3Vrh4ZortZs"
      },
      "source": [
        "lgbm_params = {'n_estimators': [100, 500],\n",
        "               'subsample': [0.6, 0.8, 1.0],\n",
        "               'max_depth': [3, 4, 5],\n",
        "               'learning_rate': [0.1,0.01,0.02],\n",
        "               \"min_child_samples\": [5,10,20]}"
      ],
      "execution_count": null,
      "outputs": []
    },
    {
      "cell_type": "code",
      "metadata": {
        "id": "uRjjyoiKrtXG"
      },
      "source": [
        "lgbm = LGBMClassifier()\n",
        "\n",
        "lgbm_cv_model = GridSearchCV(lgbm, lgbm_params, cv = 3, \n",
        "                             n_jobs = -1, \n",
        "                             verbose = 2)"
      ],
      "execution_count": null,
      "outputs": []
    },
    {
      "cell_type": "code",
      "metadata": {
        "id": "RmyT0jAMsTvc",
        "colab": {
          "base_uri": "https://localhost:8080/",
          "height": 476
        },
        "outputId": "6297132f-10ac-454d-99fc-33bfa35759e0"
      },
      "source": [
        "lgbm_cv_model.fit(x_train, y_train)"
      ],
      "execution_count": null,
      "outputs": [
        {
          "output_type": "stream",
          "text": [
            "Fitting 3 folds for each of 162 candidates, totalling 486 fits\n"
          ],
          "name": "stdout"
        },
        {
          "output_type": "stream",
          "text": [
            "[Parallel(n_jobs=-1)]: Using backend LokyBackend with 2 concurrent workers.\n",
            "[Parallel(n_jobs=-1)]: Done  37 tasks      | elapsed:   24.5s\n",
            "[Parallel(n_jobs=-1)]: Done 158 tasks      | elapsed:  2.3min\n",
            "[Parallel(n_jobs=-1)]: Done 361 tasks      | elapsed:  5.4min\n",
            "[Parallel(n_jobs=-1)]: Done 486 out of 486 | elapsed:  7.6min finished\n"
          ],
          "name": "stderr"
        },
        {
          "output_type": "execute_result",
          "data": {
            "text/plain": [
              "GridSearchCV(cv=3, error_score=nan,\n",
              "             estimator=LGBMClassifier(boosting_type='gbdt', class_weight=None,\n",
              "                                      colsample_bytree=1.0,\n",
              "                                      importance_type='split',\n",
              "                                      learning_rate=0.1, max_depth=-1,\n",
              "                                      min_child_samples=20,\n",
              "                                      min_child_weight=0.001,\n",
              "                                      min_split_gain=0.0, n_estimators=100,\n",
              "                                      n_jobs=-1, num_leaves=31, objective=None,\n",
              "                                      random_state=None, reg_alpha=0.0,\n",
              "                                      reg_lambda=0.0, silent=True,\n",
              "                                      subsample=1.0, subsample_for_bin=200000,\n",
              "                                      subsample_freq=0),\n",
              "             iid='deprecated', n_jobs=-1,\n",
              "             param_grid={'learning_rate': [0.1, 0.01, 0.02],\n",
              "                         'max_depth': [3, 4, 5],\n",
              "                         'min_child_samples': [5, 10, 20],\n",
              "                         'n_estimators': [100, 500],\n",
              "                         'subsample': [0.6, 0.8, 1.0]},\n",
              "             pre_dispatch='2*n_jobs', refit=True, return_train_score=False,\n",
              "             scoring=None, verbose=2)"
            ]
          },
          "metadata": {
            "tags": []
          },
          "execution_count": 42
        }
      ]
    },
    {
      "cell_type": "code",
      "metadata": {
        "id": "5EGJWdNHrtQ9"
      },
      "source": [
        "lgbm = LGBMClassifier(max_depth = lgbm_cv_model.best_params_[\"max_depth\"],\n",
        "                      learning_rate = lgbm_cv_model.best_params_[\"learning_rate\"], \n",
        "                      min_child_samples = lgbm_cv_model.best_params_[\"min_child_samples\"],\n",
        "                      n_estimators = lgbm_cv_model.best_params_[\"n_estimators\"],\n",
        "                      subsample = lgbm_cv_model.best_params_[\"subsample\"])"
      ],
      "execution_count": null,
      "outputs": []
    },
    {
      "cell_type": "code",
      "metadata": {
        "id": "Id5RSLczuTfR",
        "colab": {
          "base_uri": "https://localhost:8080/",
          "height": 34
        },
        "outputId": "b5cc0dbc-cb2b-4bb2-cbbe-7ee689f8a2a1"
      },
      "source": [
        "lgbm_tuned = lgbm.fit(x_train,y_train)\n",
        "y_pred = lgbm_tuned.predict(x_test)\n",
        "accuracy_score(y_test,y_pred)"
      ],
      "execution_count": null,
      "outputs": [
        {
          "output_type": "execute_result",
          "data": {
            "text/plain": [
              "0.946249184605349"
            ]
          },
          "metadata": {
            "tags": []
          },
          "execution_count": 44
        }
      ]
    },
    {
      "cell_type": "code",
      "metadata": {
        "id": "irL4_Z9YucwP",
        "colab": {
          "base_uri": "https://localhost:8080/",
          "height": 170
        },
        "outputId": "ae318e5a-a282-4584-a51c-d96bdd818ace"
      },
      "source": [
        "print(classification_report(y_test,y_pred))"
      ],
      "execution_count": null,
      "outputs": [
        {
          "output_type": "stream",
          "text": [
            "              precision    recall  f1-score   support\n",
            "\n",
            "           0       0.97      0.96      0.97      6307\n",
            "           1       0.83      0.87      0.85      1358\n",
            "\n",
            "    accuracy                           0.95      7665\n",
            "   macro avg       0.90      0.92      0.91      7665\n",
            "weighted avg       0.95      0.95      0.95      7665\n",
            "\n"
          ],
          "name": "stdout"
        }
      ]
    },
    {
      "cell_type": "code",
      "metadata": {
        "id": "pa81n33HugVb",
        "colab": {
          "base_uri": "https://localhost:8080/",
          "height": 351
        },
        "outputId": "04714430-bdfa-45eb-adad-99c693c46e67"
      },
      "source": [
        "mtx = confusion_matrix(y_test,y_pred)\n",
        "fig, ax = plt.subplots(figsize=(5,5))\n",
        "sns.heatmap(mtx, xticklabels= 'auto', yticklabels='auto', cmap=\"Blues\", annot=True, fmt='d', linewidths=.5,  cbar=False, ax=ax)\n",
        "#  square=True,\n",
        "plt.ylabel('true label')\n",
        "plt.xlabel('predicted label')"
      ],
      "execution_count": null,
      "outputs": [
        {
          "output_type": "execute_result",
          "data": {
            "text/plain": [
              "Text(0.5, 24.0, 'predicted label')"
            ]
          },
          "metadata": {
            "tags": []
          },
          "execution_count": 46
        },
        {
          "output_type": "display_data",
          "data": {
            "image/png": "[encoded data removed]",
            "text/plain": [
              "<Figure size 360x360 with 1 Axes>"
            ]
          },
          "metadata": {
            "tags": [],
            "needs_background": "light"
          }
        }
      ]
    },
    {
      "cell_type": "code",
      "metadata": {
        "id": "9dsy7tuJuk8t",
        "colab": {
          "base_uri": "https://localhost:8080/",
          "height": 295
        },
        "outputId": "8def3ffc-bd11-427c-a428-8a3a600e5cc8"
      },
      "source": [
        "fpr,tpr,thresholds = roc_curve(y_test,lgbm_tuned.predict_proba(x_test)[:,1])\n",
        "plt.figure()\n",
        "plt.plot(fpr,tpr, label='AUC (area = %0.2f)')\n",
        "plt.plot([0, 1], [0, 1],'r--')\n",
        "plt.xlim([0.0, 1.0])\n",
        "plt.ylim([0.0, 1.05])\n",
        "plt.xlabel('False Positive Oranı')\n",
        "plt.ylabel('True Positive Oranı')\n",
        "plt.title('ROC')\n",
        "plt.show()"
      ],
      "execution_count": null,
      "outputs": [
        {
          "output_type": "display_data",
          "data": {
            "image/png": "[encoded data removed]",
            "text/plain": [
              "<Figure size 432x288 with 1 Axes>"
            ]
          },
          "metadata": {
            "tags": [],
            "needs_background": "light"
          }
        }
      ]
    },
    {
      "cell_type": "markdown",
      "metadata": {
        "id": "gLYXlnNFuvXH"
      },
      "source": [
        "**STANDARTLAŞTIRMA**"
      ]
    },
    {
      "cell_type": "code",
      "metadata": {
        "id": "J2BOcFDDurOX",
        "colab": {
          "base_uri": "https://localhost:8080/",
          "height": 224
        },
        "outputId": "3db69ea4-a8e4-4ac2-d6a8-10dfac85d565"
      },
      "source": [
        "ximp.head()"
      ],
      "execution_count": null,
      "outputs": [
        {
          "output_type": "execute_result",
          "data": {
            "text/html": [
              "<div>\n",
              "<style scoped>\n",
              "    .dataframe tbody tr th:only-of-type {\n",
              "        vertical-align: middle;\n",
              "    }\n",
              "\n",
              "    .dataframe tbody tr th {\n",
              "        vertical-align: top;\n",
              "    }\n",
              "\n",
              "    .dataframe thead th {\n",
              "        text-align: right;\n",
              "    }\n",
              "</style>\n",
              "<table border=\"1\" class=\"dataframe\">\n",
              "  <thead>\n",
              "    <tr style=\"text-align: right;\">\n",
              "      <th></th>\n",
              "      <th>avg_IDLE_CASH_AD_session</th>\n",
              "      <th>avg_maxupgradeMultiplierValue_session</th>\n",
              "      <th>avg_ROCKET_AD_session</th>\n",
              "      <th>avg_daily_adCampaignWatchComplete</th>\n",
              "      <th>avg_reward_value_session</th>\n",
              "      <th>avg_NoncompleteactiveAdCampaignAmount_session</th>\n",
              "      <th>avg_x10upgradeMultiplierValue_session</th>\n",
              "      <th>avg_transporter_session</th>\n",
              "      <th>avg_daily_rocketAdAppear</th>\n",
              "      <th>avg_daily_workerUpgradeMethodLowestCost</th>\n",
              "      <th>avg_x50upgradeMultiplierValue_session</th>\n",
              "      <th>avg_daily_ad_reward</th>\n",
              "      <th>avg_AD_CAMPAIGN_X2_CASH_session</th>\n",
              "      <th>avg_factory_session</th>\n",
              "      <th>avg_RewardedVideo_session</th>\n",
              "      <th>avg_daily_level_up</th>\n",
              "      <th>avg_daily_workerUpgradeAmount</th>\n",
              "      <th>avg_level_up_session</th>\n",
              "      <th>avg_x1upgradeMultiplierValue_session</th>\n",
              "      <th>avg_daily_unlockedWorker</th>\n",
              "      <th>avg_worker_session</th>\n",
              "      <th>avg_daily_earningRateBoost</th>\n",
              "      <th>avg_uengagement_time_msec_session</th>\n",
              "      <th>avg_daily_event</th>\n",
              "      <th>avg_upgradeAmount_session</th>\n",
              "      <th>avg_daily_login</th>\n",
              "      <th>avg_earningRateValue_session</th>\n",
              "      <th>app_updated_by_user</th>\n",
              "      <th>avg_baseStation_session</th>\n",
              "      <th>avg_totalElapsedTime_session</th>\n",
              "      <th>avg_daily_session_start</th>\n",
              "      <th>avg_unlockedWorker_session</th>\n",
              "      <th>avg_ExitactiveAdCampaignAmount_session</th>\n",
              "      <th>avg_error_session</th>\n",
              "    </tr>\n",
              "  </thead>\n",
              "  <tbody>\n",
              "    <tr>\n",
              "      <th>0</th>\n",
              "      <td>0.000000</td>\n",
              "      <td>0.000000</td>\n",
              "      <td>0.000000</td>\n",
              "      <td>1.00</td>\n",
              "      <td>0.0</td>\n",
              "      <td>0.0</td>\n",
              "      <td>0.000000</td>\n",
              "      <td>1.000000</td>\n",
              "      <td>0.000000</td>\n",
              "      <td>0.0</td>\n",
              "      <td>0.000000</td>\n",
              "      <td>0.0</td>\n",
              "      <td>0.000000</td>\n",
              "      <td>1.000000</td>\n",
              "      <td>0.000000</td>\n",
              "      <td>2.000000</td>\n",
              "      <td>0.000000</td>\n",
              "      <td>2.000000</td>\n",
              "      <td>0.000000</td>\n",
              "      <td>1.00</td>\n",
              "      <td>0.000000</td>\n",
              "      <td>0.000000</td>\n",
              "      <td>6.134100e+04</td>\n",
              "      <td>28.000000</td>\n",
              "      <td>0.000000</td>\n",
              "      <td>1.00</td>\n",
              "      <td>0.000000</td>\n",
              "      <td>False</td>\n",
              "      <td>0.000000</td>\n",
              "      <td>0.000000</td>\n",
              "      <td>1.00</td>\n",
              "      <td>1.0000</td>\n",
              "      <td>1.000000</td>\n",
              "      <td>1.000000</td>\n",
              "    </tr>\n",
              "    <tr>\n",
              "      <th>1</th>\n",
              "      <td>0.117647</td>\n",
              "      <td>316.176471</td>\n",
              "      <td>0.470588</td>\n",
              "      <td>1.75</td>\n",
              "      <td>0.0</td>\n",
              "      <td>0.0</td>\n",
              "      <td>4.882353</td>\n",
              "      <td>13.235294</td>\n",
              "      <td>9.750000</td>\n",
              "      <td>12.0</td>\n",
              "      <td>2.294118</td>\n",
              "      <td>0.0</td>\n",
              "      <td>0.352941</td>\n",
              "      <td>8.058824</td>\n",
              "      <td>0.941176</td>\n",
              "      <td>154.000000</td>\n",
              "      <td>59.500000</td>\n",
              "      <td>36.235294</td>\n",
              "      <td>10.411765</td>\n",
              "      <td>4.25</td>\n",
              "      <td>14.000000</td>\n",
              "      <td>15.500000</td>\n",
              "      <td>5.890805e+05</td>\n",
              "      <td>793.750000</td>\n",
              "      <td>490.117647</td>\n",
              "      <td>3.25</td>\n",
              "      <td>156.236075</td>\n",
              "      <td>False</td>\n",
              "      <td>0.941176</td>\n",
              "      <td>114.882353</td>\n",
              "      <td>4.25</td>\n",
              "      <td>1.0000</td>\n",
              "      <td>0.058824</td>\n",
              "      <td>0.058824</td>\n",
              "    </tr>\n",
              "    <tr>\n",
              "      <th>2</th>\n",
              "      <td>0.000000</td>\n",
              "      <td>5.750000</td>\n",
              "      <td>0.000000</td>\n",
              "      <td>0.00</td>\n",
              "      <td>0.0</td>\n",
              "      <td>0.0</td>\n",
              "      <td>0.000000</td>\n",
              "      <td>0.437500</td>\n",
              "      <td>1.000000</td>\n",
              "      <td>0.0</td>\n",
              "      <td>0.000000</td>\n",
              "      <td>0.0</td>\n",
              "      <td>0.000000</td>\n",
              "      <td>0.187500</td>\n",
              "      <td>0.000000</td>\n",
              "      <td>19.000000</td>\n",
              "      <td>7.000000</td>\n",
              "      <td>1.187500</td>\n",
              "      <td>0.000000</td>\n",
              "      <td>1.00</td>\n",
              "      <td>0.437500</td>\n",
              "      <td>2.000000</td>\n",
              "      <td>1.410162e+04</td>\n",
              "      <td>103.000000</td>\n",
              "      <td>5.750000</td>\n",
              "      <td>2.00</td>\n",
              "      <td>5.962976</td>\n",
              "      <td>False</td>\n",
              "      <td>0.125000</td>\n",
              "      <td>2.187500</td>\n",
              "      <td>2.00</td>\n",
              "      <td>0.0625</td>\n",
              "      <td>0.000000</td>\n",
              "      <td>0.000000</td>\n",
              "    </tr>\n",
              "    <tr>\n",
              "      <th>3</th>\n",
              "      <td>0.000000</td>\n",
              "      <td>0.000000</td>\n",
              "      <td>2.000000</td>\n",
              "      <td>1.00</td>\n",
              "      <td>2.0</td>\n",
              "      <td>0.0</td>\n",
              "      <td>32.666667</td>\n",
              "      <td>12.333333</td>\n",
              "      <td>16.333333</td>\n",
              "      <td>9.0</td>\n",
              "      <td>2.666667</td>\n",
              "      <td>6.0</td>\n",
              "      <td>0.000000</td>\n",
              "      <td>11.666667</td>\n",
              "      <td>2.000000</td>\n",
              "      <td>41.333333</td>\n",
              "      <td>16.333333</td>\n",
              "      <td>41.333333</td>\n",
              "      <td>24.666667</td>\n",
              "      <td>2.00</td>\n",
              "      <td>16.333333</td>\n",
              "      <td>12.333333</td>\n",
              "      <td>6.572923e+05</td>\n",
              "      <td>281.333333</td>\n",
              "      <td>484.666667</td>\n",
              "      <td>1.00</td>\n",
              "      <td>175.968473</td>\n",
              "      <td>False</td>\n",
              "      <td>1.000000</td>\n",
              "      <td>234.333333</td>\n",
              "      <td>1.00</td>\n",
              "      <td>2.0000</td>\n",
              "      <td>0.333333</td>\n",
              "      <td>0.333333</td>\n",
              "    </tr>\n",
              "    <tr>\n",
              "      <th>4</th>\n",
              "      <td>0.000000</td>\n",
              "      <td>0.000000</td>\n",
              "      <td>1.000000</td>\n",
              "      <td>1.00</td>\n",
              "      <td>2.0</td>\n",
              "      <td>0.0</td>\n",
              "      <td>0.000000</td>\n",
              "      <td>6.000000</td>\n",
              "      <td>10.000000</td>\n",
              "      <td>11.0</td>\n",
              "      <td>0.000000</td>\n",
              "      <td>2.0</td>\n",
              "      <td>0.000000</td>\n",
              "      <td>7.000000</td>\n",
              "      <td>2.000000</td>\n",
              "      <td>30.000000</td>\n",
              "      <td>16.000000</td>\n",
              "      <td>30.000000</td>\n",
              "      <td>434.000000</td>\n",
              "      <td>4.00</td>\n",
              "      <td>16.000000</td>\n",
              "      <td>11.000000</td>\n",
              "      <td>1.611844e+06</td>\n",
              "      <td>711.000000</td>\n",
              "      <td>434.000000</td>\n",
              "      <td>1.00</td>\n",
              "      <td>73.615406</td>\n",
              "      <td>False</td>\n",
              "      <td>1.000000</td>\n",
              "      <td>66.000000</td>\n",
              "      <td>1.00</td>\n",
              "      <td>4.0000</td>\n",
              "      <td>1.000000</td>\n",
              "      <td>1.000000</td>\n",
              "    </tr>\n",
              "  </tbody>\n",
              "</table>\n",
              "</div>"
            ],
            "text/plain": [
              "   avg_IDLE_CASH_AD_session  ...  avg_error_session\n",
              "0                  0.000000  ...           1.000000\n",
              "1                  0.117647  ...           0.058824\n",
              "2                  0.000000  ...           0.000000\n",
              "3                  0.000000  ...           0.333333\n",
              "4                  0.000000  ...           1.000000\n",
              "\n",
              "[5 rows x 34 columns]"
            ]
          },
          "metadata": {
            "tags": []
          },
          "execution_count": 48
        }
      ]
    },
    {
      "cell_type": "code",
      "metadata": {
        "id": "1r0qSV_Uu1iS"
      },
      "source": [
        "from sklearn.model_selection import train_test_split\n",
        "x_train, x_test, y_train, y_test = train_test_split(ximp, y, test_size = 0.3, random_state = 42)\n",
        "\n",
        "# Feature Scaling\n",
        "from sklearn.preprocessing import StandardScaler\n",
        "sc = StandardScaler()\n",
        "x_train = sc.fit_transform(x_train)\n",
        "x_test = sc.transform(x_test)"
      ],
      "execution_count": null,
      "outputs": []
    },
    {
      "cell_type": "code",
      "metadata": {
        "id": "3oRoPUUDv0Qs"
      },
      "source": [
        "xgb_model = XGBClassifier().fit(x_train, y_train)"
      ],
      "execution_count": null,
      "outputs": []
    },
    {
      "cell_type": "code",
      "metadata": {
        "id": "IDXZgi7Nv7Bc",
        "colab": {
          "base_uri": "https://localhost:8080/",
          "height": 34
        },
        "outputId": "a7598741-c1ca-4504-bade-c1b833a4e991"
      },
      "source": [
        "accuracy_score(y_test,y_pred)"
      ],
      "execution_count": null,
      "outputs": [
        {
          "output_type": "execute_result",
          "data": {
            "text/plain": [
              "0.946249184605349"
            ]
          },
          "metadata": {
            "tags": []
          },
          "execution_count": 51
        }
      ]
    },
    {
      "cell_type": "code",
      "metadata": {
        "id": "iXKkGLJ_wCbl",
        "colab": {
          "base_uri": "https://localhost:8080/",
          "height": 170
        },
        "outputId": "d9ffaa11-c26c-444f-fd18-90177b465179"
      },
      "source": [
        "print(classification_report(y_test,y_pred))"
      ],
      "execution_count": null,
      "outputs": [
        {
          "output_type": "stream",
          "text": [
            "              precision    recall  f1-score   support\n",
            "\n",
            "           0       0.97      0.96      0.97      6307\n",
            "           1       0.83      0.87      0.85      1358\n",
            "\n",
            "    accuracy                           0.95      7665\n",
            "   macro avg       0.90      0.92      0.91      7665\n",
            "weighted avg       0.95      0.95      0.95      7665\n",
            "\n"
          ],
          "name": "stdout"
        }
      ]
    },
    {
      "cell_type": "code",
      "metadata": {
        "id": "tO8a8WNEwLX1",
        "colab": {
          "base_uri": "https://localhost:8080/",
          "height": 351
        },
        "outputId": "0060e538-8339-4267-8842-0898c0defcd9"
      },
      "source": [
        "mtx = confusion_matrix(y_test, y_pred)\n",
        "fig, ax = plt.subplots(figsize=(5,5))\n",
        "sns.heatmap(mtx, xticklabels= 'auto', yticklabels='auto', cmap=\"Blues\", annot=True, fmt='d', linewidths=.5,  cbar=False, ax=ax)\n",
        "#  square=True,\n",
        "plt.ylabel('true label')\n",
        "plt.xlabel('predicted label')"
      ],
      "execution_count": null,
      "outputs": [
        {
          "output_type": "execute_result",
          "data": {
            "text/plain": [
              "Text(0.5, 24.0, 'predicted label')"
            ]
          },
          "metadata": {
            "tags": []
          },
          "execution_count": 53
        },
        {
          "output_type": "display_data",
          "data": {
            "image/png": "[encoded data removed]",
            "text/plain": [
              "<Figure size 360x360 with 1 Axes>"
            ]
          },
          "metadata": {
            "tags": [],
            "needs_background": "light"
          }
        }
      ]
    },
    {
      "cell_type": "code",
      "metadata": {
        "id": "DFJu3YqHwR-m",
        "colab": {
          "base_uri": "https://localhost:8080/",
          "height": 295
        },
        "outputId": "c67c2192-0f1f-4c22-8f10-914c36ef5b43"
      },
      "source": [
        "fpr, tpr, thresholds = roc_curve(y_test,xgb_model.predict_proba(x_test)[:,1])\n",
        "plt.figure()\n",
        "plt.plot(fpr, tpr, label='AUC (area = %0.2f)')\n",
        "plt.plot([0, 1], [0, 1],'r--')\n",
        "plt.xlim([0.0, 1.0])\n",
        "plt.ylim([0.0, 1.05])\n",
        "plt.xlabel('False Positive Oranı')\n",
        "plt.ylabel('True Positive Oranı')\n",
        "plt.title('ROC')\n",
        "plt.show()"
      ],
      "execution_count": null,
      "outputs": [
        {
          "output_type": "display_data",
          "data": {
            "image/png": "[encoded data removed]",
            "text/plain": [
              "<Figure size 432x288 with 1 Axes>"
            ]
          },
          "metadata": {
            "tags": [],
            "needs_background": "light"
          }
        }
      ]
    },
    {
      "cell_type": "code",
      "metadata": {
        "id": "gQEcmpXRwhro"
      },
      "source": [
        "## model tuning\n",
        "xgb_params = {\n",
        "    'n_estimators': [100, 500],\n",
        "    'subsample': [0.6, 1.0],\n",
        "    'max_depth': [3, 4, 5],\n",
        "    'learning_rate': [0.1,0.01,0.02],\n",
        "    \"min_samples_split\": [2,5,10]}"
      ],
      "execution_count": null,
      "outputs": []
    },
    {
      "cell_type": "code",
      "metadata": {
        "id": "tHgUWGoQwwuU"
      },
      "source": [
        "xgb = XGBClassifier()\n",
        "\n",
        "xgb_cv_model = GridSearchCV(xgb, xgb_params, cv = 3, n_jobs = -1, verbose = 2)"
      ],
      "execution_count": null,
      "outputs": []
    },
    {
      "cell_type": "code",
      "metadata": {
        "id": "3X3fE0inw0WR",
        "colab": {
          "base_uri": "https://localhost:8080/",
          "height": 408
        },
        "outputId": "cb7ff405-3d9d-4536-e4a4-ba014957158a"
      },
      "source": [
        "xgb_cv_model.fit(x_train, y_train)"
      ],
      "execution_count": null,
      "outputs": [
        {
          "output_type": "stream",
          "text": [
            "Fitting 3 folds for each of 108 candidates, totalling 324 fits\n"
          ],
          "name": "stdout"
        },
        {
          "output_type": "stream",
          "text": [
            "[Parallel(n_jobs=-1)]: Using backend LokyBackend with 2 concurrent workers.\n",
            "[Parallel(n_jobs=-1)]: Done  37 tasks      | elapsed:  1.9min\n",
            "[Parallel(n_jobs=-1)]: Done 158 tasks      | elapsed: 10.4min\n",
            "[Parallel(n_jobs=-1)]: Done 324 out of 324 | elapsed: 22.4min finished\n"
          ],
          "name": "stderr"
        },
        {
          "output_type": "execute_result",
          "data": {
            "text/plain": [
              "GridSearchCV(cv=3, error_score=nan,\n",
              "             estimator=XGBClassifier(base_score=0.5, booster='gbtree',\n",
              "                                     colsample_bylevel=1, colsample_bynode=1,\n",
              "                                     colsample_bytree=1, gamma=0,\n",
              "                                     learning_rate=0.1, max_delta_step=0,\n",
              "                                     max_depth=3, min_child_weight=1,\n",
              "                                     missing=None, n_estimators=100, n_jobs=1,\n",
              "                                     nthread=None, objective='binary:logistic',\n",
              "                                     random_state=0, reg_alpha=0, reg_lambda=1,\n",
              "                                     scale_pos_weight=1, seed=None, silent=None,\n",
              "                                     subsample=1, verbosity=1),\n",
              "             iid='deprecated', n_jobs=-1,\n",
              "             param_grid={'learning_rate': [0.1, 0.01, 0.02],\n",
              "                         'max_depth': [3, 4, 5],\n",
              "                         'min_samples_split': [2, 5, 10],\n",
              "                         'n_estimators': [100, 500], 'subsample': [0.6, 1.0]},\n",
              "             pre_dispatch='2*n_jobs', refit=True, return_train_score=False,\n",
              "             scoring=None, verbose=2)"
            ]
          },
          "metadata": {
            "tags": []
          },
          "execution_count": 61
        }
      ]
    },
    {
      "cell_type": "code",
      "metadata": {
        "id": "UqQ7XMOjw4cm",
        "colab": {
          "base_uri": "https://localhost:8080/",
          "height": 102
        },
        "outputId": "f5e976d6-5f53-415f-fec8-5cff17727000"
      },
      "source": [
        "xgb_cv_model.best_params_"
      ],
      "execution_count": null,
      "outputs": [
        {
          "output_type": "execute_result",
          "data": {
            "text/plain": [
              "{'learning_rate': 0.1,\n",
              " 'max_depth': 5,\n",
              " 'min_samples_split': 2,\n",
              " 'n_estimators': 100,\n",
              " 'subsample': 1.0}"
            ]
          },
          "metadata": {
            "tags": []
          },
          "execution_count": 62
        }
      ]
    },
    {
      "cell_type": "code",
      "metadata": {
        "id": "KtuPBnPMw8tt"
      },
      "source": [
        "xgb = XGBClassifier(max_depth = xgb_cv_model.best_params_[\"max_depth\"],\n",
        "                    learning_rate = xgb_cv_model.best_params_[\"learning_rate\"], \n",
        "                    min_samples_split = xgb_cv_model.best_params_[\"min_samples_split\"],\n",
        "                    n_estimators = xgb_cv_model.best_params_[\"n_estimators\"],\n",
        "                    subsample = xgb_cv_model.best_params_[\"subsample\"])"
      ],
      "execution_count": null,
      "outputs": []
    },
    {
      "cell_type": "code",
      "metadata": {
        "id": "w8vmF22ow8ra",
        "colab": {
          "base_uri": "https://localhost:8080/",
          "height": 34
        },
        "outputId": "699a84f5-7aa1-48bc-c4c3-94483af8d520"
      },
      "source": [
        "xgb_tuned = xgb.fit(x_train,y_train)\n",
        "y_pred = xgb_tuned.predict(x_test)\n",
        "accuracy_score(y_test,y_pred)"
      ],
      "execution_count": null,
      "outputs": [
        {
          "output_type": "execute_result",
          "data": {
            "text/plain": [
              "0.9465101108936725"
            ]
          },
          "metadata": {
            "tags": []
          },
          "execution_count": 64
        }
      ]
    },
    {
      "cell_type": "code",
      "metadata": {
        "id": "9Eq9kE3_2d3R",
        "colab": {
          "base_uri": "https://localhost:8080/",
          "height": 170
        },
        "outputId": "1f625138-2ead-4853-dd45-b5f119ea9f70"
      },
      "source": [
        "print(classification_report(y_test,y_pred))"
      ],
      "execution_count": null,
      "outputs": [
        {
          "output_type": "stream",
          "text": [
            "              precision    recall  f1-score   support\n",
            "\n",
            "           0       0.97      0.96      0.97      6307\n",
            "           1       0.83      0.87      0.85      1358\n",
            "\n",
            "    accuracy                           0.95      7665\n",
            "   macro avg       0.90      0.92      0.91      7665\n",
            "weighted avg       0.95      0.95      0.95      7665\n",
            "\n"
          ],
          "name": "stdout"
        }
      ]
    },
    {
      "cell_type": "code",
      "metadata": {
        "id": "OibT0Sb42k9W",
        "colab": {
          "base_uri": "https://localhost:8080/",
          "height": 351
        },
        "outputId": "8fa1e4cd-14f3-40be-95ff-a20e85f43082"
      },
      "source": [
        "mtx = confusion_matrix(y_test,y_pred)\n",
        "fig, ax = plt.subplots(figsize=(5,5))\n",
        "sns.heatmap(mtx, xticklabels= 'auto', yticklabels='auto', cmap=\"Blues\", annot=True, fmt='d', linewidths=.5,  cbar=False, ax=ax)\n",
        "#  square=True,\n",
        "plt.ylabel('true label')\n",
        "plt.xlabel('predicted label')"
      ],
      "execution_count": null,
      "outputs": [
        {
          "output_type": "execute_result",
          "data": {
            "text/plain": [
              "Text(0.5, 24.0, 'predicted label')"
            ]
          },
          "metadata": {
            "tags": []
          },
          "execution_count": 66
        },
        {
          "output_type": "display_data",
          "data": {
            "image/png": "[encoded data removed]",
            "text/plain": [
              "<Figure size 360x360 with 1 Axes>"
            ]
          },
          "metadata": {
            "tags": [],
            "needs_background": "light"
          }
        }
      ]
    },
    {
      "cell_type": "code",
      "metadata": {
        "id": "sGxCZL4V2s_Y",
        "colab": {
          "base_uri": "https://localhost:8080/",
          "height": 295
        },
        "outputId": "583d748e-f32b-454f-bdbb-9ecdb9bcf08f"
      },
      "source": [
        "fpr, tpr, thresholds = roc_curve(y_test,xgb_tuned.predict_proba(x_test)[:,1])\n",
        "plt.figure()\n",
        "plt.plot(fpr, tpr, label='AUC (area = %0.2f)')\n",
        "plt.plot([0, 1], [0, 1],'r--')\n",
        "plt.xlim([0.0, 1.0])\n",
        "plt.ylim([0.0, 1.05])\n",
        "plt.xlabel('False Positive Oranı')\n",
        "plt.ylabel('True Positive Oranı')\n",
        "plt.title('ROC')\n",
        "plt.show()"
      ],
      "execution_count": null,
      "outputs": [
        {
          "output_type": "display_data",
          "data": {
            "image/png": "[encoded data removed]",
            "text/plain": [
              "<Figure size 432x288 with 1 Axes>"
            ]
          },
          "metadata": {
            "tags": [],
            "needs_background": "light"
          }
        }
      ]
    },
    {
      "cell_type": "markdown",
      "metadata": {
        "id": "-H83LfEB219V"
      },
      "source": [
        "**0.6'dan BÜYÜK KORELE OLANLAR**"
      ]
    },
    {
      "cell_type": "code",
      "metadata": {
        "id": "AHNuv31B206S"
      },
      "source": [
        "x_corr=x.drop(columns=['avg_daily_level_up',\n",
        "                       'avg_daily_workerUpgradeAmount',\n",
        "                       'avg_daily_rocketAdWatchComplete',\n",
        "                       'avg_daily_rocketAdWatchComplete',\n",
        "                       'avg_daily_earningRateBoost',\n",
        "                       'avg_worker_session',\n",
        "                       'avg_transporter_session', \n",
        "                       'avg_baseStation_session', \n",
        "                       'avg_RewardedVideo_session',\n",
        "                       'avg_upgradeAmount_session',\n",
        "                       'avg_OpenactiveAdCampaignAmount_session',\n",
        "                       'avg_ExitactiveAdCampaignAmount_session',\n",
        "                       'avg_unlockedWorker_session',\n",
        "                       'avg_NoncompleteactiveAdCampaignAmount_session'])"
      ],
      "execution_count": null,
      "outputs": []
    },
    {
      "cell_type": "code",
      "metadata": {
        "id": "PFVpfIC54Kso"
      },
      "source": [
        "x_train, x_test, y_train, y_test = train_test_split(x_corr, y, \n",
        "                                                    test_size=0.30, \n",
        "                                                    random_state=42)"
      ],
      "execution_count": null,
      "outputs": []
    },
    {
      "cell_type": "code",
      "metadata": {
        "id": "wJdfOzdX4Kst"
      },
      "source": [
        "xgb_model = XGBClassifier().fit(x_train, y_train)"
      ],
      "execution_count": null,
      "outputs": []
    },
    {
      "cell_type": "code",
      "metadata": {
        "id": "hI5Evm8g4Ksw",
        "colab": {
          "base_uri": "https://localhost:8080/",
          "height": 34
        },
        "outputId": "0cc8c7d4-0e3d-4fa2-8718-e280089a4de0"
      },
      "source": [
        "y_pred = xgb_model.predict(x_test)\n",
        "accuracy_score(y_test, y_pred)"
      ],
      "execution_count": null,
      "outputs": [
        {
          "output_type": "execute_result",
          "data": {
            "text/plain": [
              "0.9442922374429223"
            ]
          },
          "metadata": {
            "tags": []
          },
          "execution_count": 73
        }
      ]
    },
    {
      "cell_type": "code",
      "metadata": {
        "id": "JIZX08D94Rtk",
        "colab": {
          "base_uri": "https://localhost:8080/",
          "height": 170
        },
        "outputId": "0053e6e7-00b7-4422-f3ae-6c8e2e8e3c03"
      },
      "source": [
        "print(classification_report(y_test,y_pred))"
      ],
      "execution_count": null,
      "outputs": [
        {
          "output_type": "stream",
          "text": [
            "              precision    recall  f1-score   support\n",
            "\n",
            "           0       0.97      0.96      0.97      6307\n",
            "           1       0.83      0.86      0.85      1358\n",
            "\n",
            "    accuracy                           0.94      7665\n",
            "   macro avg       0.90      0.91      0.91      7665\n",
            "weighted avg       0.95      0.94      0.94      7665\n",
            "\n"
          ],
          "name": "stdout"
        }
      ]
    },
    {
      "cell_type": "code",
      "metadata": {
        "id": "AjCM7i5y4U8e",
        "colab": {
          "base_uri": "https://localhost:8080/",
          "height": 351
        },
        "outputId": "ad932a1b-f642-4823-fb33-354a9ddbc22e"
      },
      "source": [
        "mtx = confusion_matrix(y_test,y_pred)\n",
        "fig, ax = plt.subplots(figsize=(5,5))\n",
        "sns.heatmap(mtx, xticklabels= 'auto', yticklabels='auto', cmap=\"Blues\", annot=True, fmt='d', linewidths=.5,  cbar=False, ax=ax)\n",
        "#  square=True,\n",
        "plt.ylabel('true label')\n",
        "plt.xlabel('predicted label')"
      ],
      "execution_count": null,
      "outputs": [
        {
          "output_type": "execute_result",
          "data": {
            "text/plain": [
              "Text(0.5, 24.0, 'predicted label')"
            ]
          },
          "metadata": {
            "tags": []
          },
          "execution_count": 75
        },
        {
          "output_type": "display_data",
          "data": {
            "image/png": "[encoded data removed]",
            "text/plain": [
              "<Figure size 360x360 with 1 Axes>"
            ]
          },
          "metadata": {
            "tags": [],
            "needs_background": "light"
          }
        }
      ]
    },
    {
      "cell_type": "code",
      "metadata": {
        "id": "IFwZ80sw4m_k",
        "colab": {
          "base_uri": "https://localhost:8080/",
          "height": 295
        },
        "outputId": "034c88e9-850d-4193-8221-502092570aff"
      },
      "source": [
        "fpr, tpr, thresholds = roc_curve(y_test,xgb_model.predict_proba(x_test)[:,1])\n",
        "plt.figure()\n",
        "plt.plot(fpr, tpr, label='AUC (area = %0.2f)')\n",
        "plt.plot([0, 1], [0, 1],'r--')\n",
        "plt.xlim([0.0, 1.0])\n",
        "plt.ylim([0.0, 1.05])\n",
        "plt.xlabel('False Positive Oranı')\n",
        "plt.ylabel('True Positive Oranı')\n",
        "plt.title('ROC')\n",
        "plt.show()"
      ],
      "execution_count": null,
      "outputs": [
        {
          "output_type": "display_data",
          "data": {
            "image/png": "[encoded data removed]",
            "text/plain": [
              "<Figure size 432x288 with 1 Axes>"
            ]
          },
          "metadata": {
            "tags": [],
            "needs_background": "light"
          }
        }
      ]
    },
    {
      "cell_type": "markdown",
      "metadata": {
        "id": "cybLflFl4yMi"
      },
      "source": [
        "**MODEL TUNING**"
      ]
    },
    {
      "cell_type": "code",
      "metadata": {
        "id": "vY5BMzSp5Edj"
      },
      "source": [
        "## model tuning\n",
        "xgb_params = {\n",
        "    'n_estimators': [100, 500],\n",
        "    'subsample': [0.6, 1.0],\n",
        "    'max_depth': [3, 4, 5],\n",
        "    'learning_rate': [0.1,0.01,0.02],\n",
        "    \"min_samples_split\": [2,5,10]}"
      ],
      "execution_count": null,
      "outputs": []
    },
    {
      "cell_type": "code",
      "metadata": {
        "id": "z0m6GCfx5E8c"
      },
      "source": [
        "xgb = XGBClassifier()\n",
        "\n",
        "xgb_cv_model = GridSearchCV(xgb, xgb_params, cv = 3, n_jobs = -1, verbose = 2)"
      ],
      "execution_count": null,
      "outputs": []
    },
    {
      "cell_type": "code",
      "metadata": {
        "id": "GRzJmmdV5M1N",
        "colab": {
          "base_uri": "https://localhost:8080/",
          "height": 408
        },
        "outputId": "4c620a39-af15-4686-af72-810e83e9f009"
      },
      "source": [
        "xgb_cv_model.fit(x_train, y_train)"
      ],
      "execution_count": null,
      "outputs": [
        {
          "output_type": "stream",
          "text": [
            "Fitting 3 folds for each of 108 candidates, totalling 324 fits\n"
          ],
          "name": "stdout"
        },
        {
          "output_type": "stream",
          "text": [
            "[Parallel(n_jobs=-1)]: Using backend LokyBackend with 2 concurrent workers.\n",
            "[Parallel(n_jobs=-1)]: Done  37 tasks      | elapsed:  8.2min\n",
            "[Parallel(n_jobs=-1)]: Done 158 tasks      | elapsed: 42.0min\n",
            "[Parallel(n_jobs=-1)]: Done 324 out of 324 | elapsed: 90.6min finished\n"
          ],
          "name": "stderr"
        },
        {
          "output_type": "execute_result",
          "data": {
            "text/plain": [
              "GridSearchCV(cv=3, error_score=nan,\n",
              "             estimator=XGBClassifier(base_score=0.5, booster='gbtree',\n",
              "                                     colsample_bylevel=1, colsample_bynode=1,\n",
              "                                     colsample_bytree=1, gamma=0,\n",
              "                                     learning_rate=0.1, max_delta_step=0,\n",
              "                                     max_depth=3, min_child_weight=1,\n",
              "                                     missing=None, n_estimators=100, n_jobs=1,\n",
              "                                     nthread=None, objective='binary:logistic',\n",
              "                                     random_state=0, reg_alpha=0, reg_lambda=1,\n",
              "                                     scale_pos_weight=1, seed=None, silent=None,\n",
              "                                     subsample=1, verbosity=1),\n",
              "             iid='deprecated', n_jobs=-1,\n",
              "             param_grid={'learning_rate': [0.1, 0.01, 0.02],\n",
              "                         'max_depth': [3, 4, 5],\n",
              "                         'min_samples_split': [2, 5, 10],\n",
              "                         'n_estimators': [100, 500], 'subsample': [0.6, 1.0]},\n",
              "             pre_dispatch='2*n_jobs', refit=True, return_train_score=False,\n",
              "             scoring=None, verbose=2)"
            ]
          },
          "metadata": {
            "tags": []
          },
          "execution_count": 80
        }
      ]
    },
    {
      "cell_type": "code",
      "metadata": {
        "id": "BfDazaA45REM",
        "colab": {
          "base_uri": "https://localhost:8080/",
          "height": 102
        },
        "outputId": "11332f23-8b0c-4766-ed4e-a8f222078f3d"
      },
      "source": [
        "xgb_cv_model.best_params_"
      ],
      "execution_count": null,
      "outputs": [
        {
          "output_type": "execute_result",
          "data": {
            "text/plain": [
              "{'learning_rate': 0.1,\n",
              " 'max_depth': 5,\n",
              " 'min_samples_split': 2,\n",
              " 'n_estimators': 100,\n",
              " 'subsample': 1.0}"
            ]
          },
          "metadata": {
            "tags": []
          },
          "execution_count": 81
        }
      ]
    },
    {
      "cell_type": "code",
      "metadata": {
        "id": "4QsIvmC55eEA"
      },
      "source": [
        "xgb = XGBClassifier(max_depth = xgb_cv_model.best_params_[\"max_depth\"],\n",
        "                    learning_rate = xgb_cv_model.best_params_[\"learning_rate\"], \n",
        "                    min_samples_split = xgb_cv_model.best_params_[\"min_samples_split\"],\n",
        "                    n_estimators = xgb_cv_model.best_params_[\"n_estimators\"],\n",
        "                    subsample = xgb_cv_model.best_params_[\"subsample\"])"
      ],
      "execution_count": null,
      "outputs": []
    },
    {
      "cell_type": "code",
      "metadata": {
        "id": "932eWaXK5eEE",
        "colab": {
          "base_uri": "https://localhost:8080/",
          "height": 34
        },
        "outputId": "50dfd582-7636-47eb-8b07-9f4ab391bdf1"
      },
      "source": [
        "xgb_tuned = xgb.fit(x_train,y_train)\n",
        "y_pred = xgb_tuned.predict(x_test)\n",
        "accuracy_score(y_test,y_pred)"
      ],
      "execution_count": null,
      "outputs": [
        {
          "output_type": "execute_result",
          "data": {
            "text/plain": [
              "0.9478147423352903"
            ]
          },
          "metadata": {
            "tags": []
          },
          "execution_count": 83
        }
      ]
    },
    {
      "cell_type": "code",
      "metadata": {
        "id": "1CGieDQm5eEH",
        "colab": {
          "base_uri": "https://localhost:8080/",
          "height": 170
        },
        "outputId": "bc9262c8-0456-4021-a59b-496a42e54f65"
      },
      "source": [
        "print(classification_report(y_test,y_pred))"
      ],
      "execution_count": null,
      "outputs": [
        {
          "output_type": "stream",
          "text": [
            "              precision    recall  f1-score   support\n",
            "\n",
            "           0       0.97      0.96      0.97      6307\n",
            "           1       0.84      0.87      0.86      1358\n",
            "\n",
            "    accuracy                           0.95      7665\n",
            "   macro avg       0.91      0.92      0.91      7665\n",
            "weighted avg       0.95      0.95      0.95      7665\n",
            "\n"
          ],
          "name": "stdout"
        }
      ]
    },
    {
      "cell_type": "code",
      "metadata": {
        "id": "7VA8n1r85iD_",
        "colab": {
          "base_uri": "https://localhost:8080/",
          "height": 351
        },
        "outputId": "de752168-90aa-45ec-d7ec-a0f0f7c0efb9"
      },
      "source": [
        "mtx = confusion_matrix(y_test,y_pred)\n",
        "fig, ax = plt.subplots(figsize=(5,5))\n",
        "sns.heatmap(mtx, xticklabels= 'auto', yticklabels='auto', cmap=\"Blues\", annot=True, fmt='d', linewidths=.5,  cbar=False, ax=ax)\n",
        "#  square=True,\n",
        "plt.ylabel('true label')\n",
        "plt.xlabel('predicted label')"
      ],
      "execution_count": null,
      "outputs": [
        {
          "output_type": "execute_result",
          "data": {
            "text/plain": [
              "Text(0.5, 24.0, 'predicted label')"
            ]
          },
          "metadata": {
            "tags": []
          },
          "execution_count": 85
        },
        {
          "output_type": "display_data",
          "data": {
            "image/png": "[encoded data removed]",
            "text/plain": [
              "<Figure size 360x360 with 1 Axes>"
            ]
          },
          "metadata": {
            "tags": [],
            "needs_background": "light"
          }
        }
      ]
    },
    {
      "cell_type": "code",
      "metadata": {
        "id": "PanriRk55oRJ",
        "colab": {
          "base_uri": "https://localhost:8080/",
          "height": 295
        },
        "outputId": "d9a2697b-2d6a-4efb-f79c-9c66fe8d4cb8"
      },
      "source": [
        "fpr, tpr, thresholds = roc_curve(y_test,xgb_tuned.predict_proba(x_test)[:,1])\n",
        "plt.figure()\n",
        "plt.plot(fpr, tpr, label='AUC (area = %0.2f)')\n",
        "plt.plot([0, 1], [0, 1],'r--')\n",
        "plt.xlim([0.0, 1.0])\n",
        "plt.ylim([0.0, 1.05])\n",
        "plt.xlabel('False Positive Oranı')\n",
        "plt.ylabel('True Positive Oranı')\n",
        "plt.title('ROC')\n",
        "plt.show()"
      ],
      "execution_count": null,
      "outputs": [
        {
          "output_type": "display_data",
          "data": {
            "image/png": "[encoded data removed]",
            "text/plain": [
              "<Figure size 432x288 with 1 Axes>"
            ]
          },
          "metadata": {
            "tags": [],
            "needs_background": "light"
          }
        }
      ]
    },
    {
      "cell_type": "markdown",
      "metadata": {
        "id": "gAHzKWZj-Qhv"
      },
      "source": [
        "**Light Boost**"
      ]
    },
    {
      "cell_type": "code",
      "metadata": {
        "id": "f329c_cQ-l2n"
      },
      "source": [
        "from lightgbm import LGBMClassifier"
      ],
      "execution_count": null,
      "outputs": []
    },
    {
      "cell_type": "code",
      "metadata": {
        "id": "6si2ll2a-l2r",
        "colab": {
          "base_uri": "https://localhost:8080/",
          "height": 34
        },
        "outputId": "86b67e85-aafe-4f03-db66-bb7f3e154639"
      },
      "source": [
        "lgbm_model = LGBMClassifier().fit(x_train, y_train)\n",
        "y_pred = lgbm_model.predict(x_test)\n",
        "accuracy_score(y_test, y_pred)"
      ],
      "execution_count": null,
      "outputs": [
        {
          "output_type": "execute_result",
          "data": {
            "text/plain": [
              "0.9466405740378343"
            ]
          },
          "metadata": {
            "tags": []
          },
          "execution_count": 88
        }
      ]
    },
    {
      "cell_type": "code",
      "metadata": {
        "id": "aFq636Dp-l2u",
        "colab": {
          "base_uri": "https://localhost:8080/",
          "height": 170
        },
        "outputId": "c8fa3ffc-d9d5-48bc-fd77-9f2c8dd6cbb0"
      },
      "source": [
        "print(classification_report(y_test,y_pred))"
      ],
      "execution_count": null,
      "outputs": [
        {
          "output_type": "stream",
          "text": [
            "              precision    recall  f1-score   support\n",
            "\n",
            "           0       0.97      0.96      0.97      6307\n",
            "           1       0.84      0.87      0.85      1358\n",
            "\n",
            "    accuracy                           0.95      7665\n",
            "   macro avg       0.90      0.92      0.91      7665\n",
            "weighted avg       0.95      0.95      0.95      7665\n",
            "\n"
          ],
          "name": "stdout"
        }
      ]
    },
    {
      "cell_type": "code",
      "metadata": {
        "id": "oNa3Bw1x-l2y",
        "colab": {
          "base_uri": "https://localhost:8080/",
          "height": 351
        },
        "outputId": "f00db8b8-69e1-4eca-fb2c-8e92326d6475"
      },
      "source": [
        "mtx = confusion_matrix(y_test,y_pred)\n",
        "fig, ax = plt.subplots(figsize=(5,5))\n",
        "sns.heatmap(mtx, xticklabels= 'auto', yticklabels='auto', cmap=\"Blues\", annot=True, fmt='d', linewidths=.5,  cbar=False, ax=ax)\n",
        "#  square=True,\n",
        "plt.ylabel('true label')\n",
        "plt.xlabel('predicted label')"
      ],
      "execution_count": null,
      "outputs": [
        {
          "output_type": "execute_result",
          "data": {
            "text/plain": [
              "Text(0.5, 24.0, 'predicted label')"
            ]
          },
          "metadata": {
            "tags": []
          },
          "execution_count": 90
        },
        {
          "output_type": "display_data",
          "data": {
            "image/png": "[encoded data removed]",
            "text/plain": [
              "<Figure size 360x360 with 1 Axes>"
            ]
          },
          "metadata": {
            "tags": [],
            "needs_background": "light"
          }
        }
      ]
    },
    {
      "cell_type": "code",
      "metadata": {
        "id": "lfq5tBrO-l21",
        "colab": {
          "base_uri": "https://localhost:8080/",
          "height": 295
        },
        "outputId": "88c16fab-d869-4b27-9cbc-15b2a69d60d4"
      },
      "source": [
        "fpr,tpr,thresholds = roc_curve(y_test,lgbm_model.predict_proba(x_test)[:,1])\n",
        "plt.figure()\n",
        "plt.plot(fpr,tpr, label='AUC (area = %0.2f)')\n",
        "plt.plot([0, 1], [0, 1],'r--')\n",
        "plt.xlim([0.0, 1.0])\n",
        "plt.ylim([0.0, 1.05])\n",
        "plt.xlabel('False Positive Oranı')\n",
        "plt.ylabel('True Positive Oranı')\n",
        "plt.title('ROC')\n",
        "plt.show()"
      ],
      "execution_count": null,
      "outputs": [
        {
          "output_type": "display_data",
          "data": {
            "image/png": "[encoded data removed]",
            "text/plain": [
              "<Figure size 432x288 with 1 Axes>"
            ]
          },
          "metadata": {
            "tags": [],
            "needs_background": "light"
          }
        }
      ]
    },
    {
      "cell_type": "code",
      "metadata": {
        "id": "w2EFdvPp-l23"
      },
      "source": [
        "lgbm_params = {'n_estimators': [100, 500],\n",
        "               'subsample': [0.6, 0.8, 1.0],\n",
        "               'max_depth': [3, 4, 5],\n",
        "               'learning_rate': [0.1,0.01,0.02],\n",
        "               \"min_child_samples\": [5,10,20]}"
      ],
      "execution_count": null,
      "outputs": []
    },
    {
      "cell_type": "code",
      "metadata": {
        "id": "92_CCQq_-l25"
      },
      "source": [
        "lgbm = LGBMClassifier()\n",
        "\n",
        "lgbm_cv_model = GridSearchCV(lgbm, lgbm_params, cv = 3, \n",
        "                             n_jobs = -1, \n",
        "                             verbose = 2)"
      ],
      "execution_count": null,
      "outputs": []
    },
    {
      "cell_type": "code",
      "metadata": {
        "id": "Yz9R8QD0-l27",
        "colab": {
          "base_uri": "https://localhost:8080/",
          "height": 476
        },
        "outputId": "97c9627d-e3ec-419b-d2a2-7bb5ecdecb89"
      },
      "source": [
        "lgbm_cv_model.fit(x_train, y_train)"
      ],
      "execution_count": null,
      "outputs": [
        {
          "output_type": "stream",
          "text": [
            "Fitting 3 folds for each of 162 candidates, totalling 486 fits\n"
          ],
          "name": "stdout"
        },
        {
          "output_type": "stream",
          "text": [
            "[Parallel(n_jobs=-1)]: Using backend LokyBackend with 2 concurrent workers.\n",
            "[Parallel(n_jobs=-1)]: Done  37 tasks      | elapsed:   30.9s\n",
            "[Parallel(n_jobs=-1)]: Done 158 tasks      | elapsed:  2.8min\n",
            "[Parallel(n_jobs=-1)]: Done 361 tasks      | elapsed:  6.5min\n",
            "[Parallel(n_jobs=-1)]: Done 486 out of 486 | elapsed:  9.0min finished\n"
          ],
          "name": "stderr"
        },
        {
          "output_type": "execute_result",
          "data": {
            "text/plain": [
              "GridSearchCV(cv=3, error_score=nan,\n",
              "             estimator=LGBMClassifier(boosting_type='gbdt', class_weight=None,\n",
              "                                      colsample_bytree=1.0,\n",
              "                                      importance_type='split',\n",
              "                                      learning_rate=0.1, max_depth=-1,\n",
              "                                      min_child_samples=20,\n",
              "                                      min_child_weight=0.001,\n",
              "                                      min_split_gain=0.0, n_estimators=100,\n",
              "                                      n_jobs=-1, num_leaves=31, objective=None,\n",
              "                                      random_state=None, reg_alpha=0.0,\n",
              "                                      reg_lambda=0.0, silent=True,\n",
              "                                      subsample=1.0, subsample_for_bin=200000,\n",
              "                                      subsample_freq=0),\n",
              "             iid='deprecated', n_jobs=-1,\n",
              "             param_grid={'learning_rate': [0.1, 0.01, 0.02],\n",
              "                         'max_depth': [3, 4, 5],\n",
              "                         'min_child_samples': [5, 10, 20],\n",
              "                         'n_estimators': [100, 500],\n",
              "                         'subsample': [0.6, 0.8, 1.0]},\n",
              "             pre_dispatch='2*n_jobs', refit=True, return_train_score=False,\n",
              "             scoring=None, verbose=2)"
            ]
          },
          "metadata": {
            "tags": []
          },
          "execution_count": 94
        }
      ]
    },
    {
      "cell_type": "code",
      "metadata": {
        "id": "IrfX9qbu-l29"
      },
      "source": [
        "lgbm = LGBMClassifier(max_depth = lgbm_cv_model.best_params_[\"max_depth\"],\n",
        "                      learning_rate = lgbm_cv_model.best_params_[\"learning_rate\"], \n",
        "                      min_child_samples = lgbm_cv_model.best_params_[\"min_child_samples\"],\n",
        "                      n_estimators = lgbm_cv_model.best_params_[\"n_estimators\"],\n",
        "                      subsample = lgbm_cv_model.best_params_[\"subsample\"])"
      ],
      "execution_count": null,
      "outputs": []
    },
    {
      "cell_type": "code",
      "metadata": {
        "id": "-9QGFdL0-l2_",
        "colab": {
          "base_uri": "https://localhost:8080/",
          "height": 34
        },
        "outputId": "1b80e246-7359-46b0-bbb7-5fba0ea903e7"
      },
      "source": [
        "lgbm_tuned = lgbm.fit(x_train,y_train)\n",
        "y_pred = lgbm_tuned.predict(x_test)\n",
        "accuracy_score(y_test,y_pred)"
      ],
      "execution_count": null,
      "outputs": [
        {
          "output_type": "execute_result",
          "data": {
            "text/plain": [
              "0.9483365949119373"
            ]
          },
          "metadata": {
            "tags": []
          },
          "execution_count": 96
        }
      ]
    },
    {
      "cell_type": "code",
      "metadata": {
        "id": "ptmXHj6V-l3C",
        "colab": {
          "base_uri": "https://localhost:8080/",
          "height": 170
        },
        "outputId": "e45861c7-9834-4c90-cf24-090c3779dc9d"
      },
      "source": [
        "print(classification_report(y_test,y_pred))"
      ],
      "execution_count": null,
      "outputs": [
        {
          "output_type": "stream",
          "text": [
            "              precision    recall  f1-score   support\n",
            "\n",
            "           0       0.97      0.96      0.97      6307\n",
            "           1       0.84      0.88      0.86      1358\n",
            "\n",
            "    accuracy                           0.95      7665\n",
            "   macro avg       0.91      0.92      0.91      7665\n",
            "weighted avg       0.95      0.95      0.95      7665\n",
            "\n"
          ],
          "name": "stdout"
        }
      ]
    },
    {
      "cell_type": "code",
      "metadata": {
        "id": "HHXkDh8G-l3E",
        "colab": {
          "base_uri": "https://localhost:8080/",
          "height": 351
        },
        "outputId": "8f5932d4-99ec-4848-f7e5-e88ce52748d8"
      },
      "source": [
        "mtx = confusion_matrix(y_test,y_pred)\n",
        "fig, ax = plt.subplots(figsize=(5,5))\n",
        "sns.heatmap(mtx, xticklabels= 'auto', yticklabels='auto', cmap=\"Blues\", annot=True, fmt='d', linewidths=.5,  cbar=False, ax=ax)\n",
        "#  square=True,\n",
        "plt.ylabel('true label')\n",
        "plt.xlabel('predicted label')"
      ],
      "execution_count": null,
      "outputs": [
        {
          "output_type": "execute_result",
          "data": {
            "text/plain": [
              "Text(0.5, 24.0, 'predicted label')"
            ]
          },
          "metadata": {
            "tags": []
          },
          "execution_count": 98
        },
        {
          "output_type": "display_data",
          "data": {
            "image/png": "[encoded data removed]",
            "text/plain": [
              "<Figure size 360x360 with 1 Axes>"
            ]
          },
          "metadata": {
            "tags": [],
            "needs_background": "light"
          }
        }
      ]
    },
    {
      "cell_type": "code",
      "metadata": {
        "id": "qqrcwVEV-l3G",
        "colab": {
          "base_uri": "https://localhost:8080/",
          "height": 295
        },
        "outputId": "a0805487-bcee-44d2-ea7d-638cdcec2b47"
      },
      "source": [
        "fpr,tpr,thresholds = roc_curve(y_test,lgbm_tuned.predict_proba(x_test)[:,1])\n",
        "plt.figure()\n",
        "plt.plot(fpr,tpr, label='AUC (area = %0.2f)')\n",
        "plt.plot([0, 1], [0, 1],'r--')\n",
        "plt.xlim([0.0, 1.0])\n",
        "plt.ylim([0.0, 1.05])\n",
        "plt.xlabel('False Positive Oranı')\n",
        "plt.ylabel('True Positive Oranı')\n",
        "plt.title('ROC')\n",
        "plt.show()"
      ],
      "execution_count": null,
      "outputs": [
        {
          "output_type": "display_data",
          "data": {
            "image/png": "[encoded data removed]",
            "text/plain": [
              "<Figure size 432x288 with 1 Axes>"
            ]
          },
          "metadata": {
            "tags": [],
            "needs_background": "light"
          }
        }
      ]
    },
    {
      "cell_type": "code",
      "metadata": {
        "id": "nsAykWOU-Te3"
      },
      "source": [
        ""
      ],
      "execution_count": null,
      "outputs": []
    }
  ]
}