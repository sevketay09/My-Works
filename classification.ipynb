{
 "cells": [
  {
   "cell_type": "code",
   "execution_count": 1,
   "metadata": {},
   "outputs": [
    {
     "data": {
      "text/plain": [
       "'C:\\\\Users\\\\LENOVO\\\\Desktop\\\\PYTHON\\\\VERİ BİLİMİ'"
      ]
     },
     "execution_count": 1,
     "metadata": {},
     "output_type": "execute_result"
    }
   ],
   "source": [
    "import os \n",
    "os.getcwd()"
   ]
  },
  {
   "cell_type": "code",
   "execution_count": 2,
   "metadata": {},
   "outputs": [],
   "source": [
    "os.chdir(\"C:\\\\Users\\\\LENOVO\\\\Desktop\\\\PYTHON\\\\VERİ BİLİMİ\\\\bootcamp_ödev_finans_verisi\")"
   ]
  },
  {
   "cell_type": "code",
   "execution_count": 3,
   "metadata": {},
   "outputs": [
    {
     "name": "stdout",
     "output_type": "stream",
     "text": [
      "Requirement already satisfied: researchpy in c:\\users\\lenovo\\anaconda3\\lib\\site-packages (0.2.3)\n",
      "Requirement already satisfied: statsmodels in c:\\users\\lenovo\\anaconda3\\lib\\site-packages (from researchpy) (0.9.0)\n",
      "Requirement already satisfied: numpy in c:\\users\\lenovo\\anaconda3\\lib\\site-packages (from researchpy) (1.19.1)\n",
      "Requirement already satisfied: scipy in c:\\users\\lenovo\\anaconda3\\lib\\site-packages (from researchpy) (1.1.0)\n",
      "Requirement already satisfied: pandas in c:\\users\\lenovo\\anaconda3\\lib\\site-packages (from researchpy) (0.23.4)\n",
      "Requirement already satisfied: python-dateutil>=2.5.0 in c:\\users\\lenovo\\anaconda3\\lib\\site-packages (from pandas->researchpy) (2.7.5)\n",
      "Requirement already satisfied: pytz>=2011k in c:\\users\\lenovo\\anaconda3\\lib\\site-packages (from pandas->researchpy) (2018.7)\n",
      "Requirement already satisfied: six>=1.5 in c:\\users\\lenovo\\anaconda3\\lib\\site-packages (from python-dateutil>=2.5.0->pandas->researchpy) (1.12.0)\n"
     ]
    }
   ],
   "source": [
    "import numpy as np\n",
    "import pandas as pd \n",
    "import statsmodels.api as sm\n",
    "import statsmodels.formula.api as smf\n",
    "import seaborn as sns\n",
    "from sklearn.preprocessing import scale \n",
    "from sklearn.model_selection import train_test_split, GridSearchCV, cross_val_score\n",
    "from sklearn.metrics import confusion_matrix, accuracy_score, classification_report\n",
    "from sklearn.metrics import roc_auc_score,roc_curve\n",
    "import statsmodels.formula.api as smf\n",
    "import matplotlib.pyplot as plt\n",
    "from sklearn.neighbors import KNeighborsClassifier\n",
    "from sklearn.discriminant_analysis import LinearDiscriminantAnalysis\n",
    "from sklearn.linear_model import LogisticRegression\n",
    "!pip install researchpy\n",
    "import researchpy as rp"
   ]
  },
  {
   "cell_type": "markdown",
   "metadata": {},
   "source": [
    "# Verisetine İlk Bakışı Atmamızı Sağlayacak Olan Class"
   ]
  },
  {
   "cell_type": "code",
   "execution_count": 28,
   "metadata": {},
   "outputs": [],
   "source": [
    "class Information():\n",
    "    def __init__(self,data):\n",
    "        self.data = data\n",
    "        \n",
    "    \n",
    "    def info(self):\n",
    "        print(data.info())\n",
    "        \n",
    "    \n",
    "    def copy(self):\n",
    "        data1 = data.copy()\n",
    "        data2 = data.copy()\n",
    "    \n",
    "    def describe(self):\n",
    "        \n",
    "        \n",
    "        print(\"**********************************\")\n",
    "        print(\" Loan Değişkeninin incelenmesi\")\n",
    "        print(\"Ortalama: \" + str(data[\"loan\"].mean()))\n",
    "        print(\"Dolu Gözlem Sayısı: \" + str(data[\"loan\"].count())) \n",
    "        print(\"Maksimum Değer: \" + str(data[\"loan\"].max()))\n",
    "        print(\"Minimum Değer: \" + str(data[\"loan\"].min()))\n",
    "        print(\"Medyan: \" + str(data[\"loan\"].median()))\n",
    "        print(\"Standart Sapma: \" + str(data[\"loan\"].std()))\n",
    "        \n",
    "        return data.describe()\n",
    "        \n",
    "    def shape(self):\n",
    "        \n",
    "        #type(data)\n",
    "        print(data.axes)\n",
    "        #print(self.data.axes)\n",
    "        #print(\" ndim = \" + str(data.ndim))\n",
    "        print(\" Veri şekli = \" + str(data.shape))\n",
    "        print(\" Veri büyüklüğü = \" + str(data.size))\n",
    "        #type(data.values)\n",
    "    \n",
    "    def head(self,row = None):\n",
    "        \n",
    "        return data.head(5)\n",
    "        # print(data.tail(3))\n",
    "        \n",
    "    def hedef_degisken(self):\n",
    "        \n",
    "        countNo = len(data[data.bad == 0])\n",
    "        countYes = len(data[data.bad == 1])\n",
    "        print(\"Risk barındırmayan müşterilerin yüzdesi : {:.2f}%\".format((countNo / (len(data.bad))*100)))\n",
    "        print(\"Risk barındıran müşterilerin yüzdesi : {:.2f}%\".format((countYes / (len(data.bad))*100)))\n",
    "        \n",
    "        print(\"************************************\")\n",
    "        \n",
    "        print(data.groupby('bad').mean().T)"
   ]
  },
  {
   "cell_type": "markdown",
   "metadata": {},
   "source": [
    "# VERİ GÖRSELLEŞTİRME\n",
    "\n",
    "### Bu class içerisinde incelemek istediğimiz değişkenleri görselleştirerek daha yakından tanıma fırsatı buluyoruz."
   ]
  },
  {
   "cell_type": "code",
   "execution_count": 6,
   "metadata": {},
   "outputs": [],
   "source": [
    "class Visualization():\n",
    "    def __init__(self,data):\n",
    "        self.data = data\n",
    "        \n",
    "    def visual(self):\n",
    "        data[\"job\"].value_counts().plot.barh().set_title(\"Job Değişkeninin Sınıf Frekansları\");\n",
    "    \n",
    "    def countplot(self):\n",
    "        sns.countplot(x=\"bad\", data=data, palette=\"bwr\")\n",
    "        plt.show()\n",
    "        \n",
    "    def figure(self):\n",
    "        fig, ax = plt.subplots(1, 2, figsize = (18, 8))\n",
    "        sns.barplot(x = \"job\", y = \"loan\", hue = \"bad\", data = data, ax = ax[0])\n",
    "        ax[0].set_ylabel(\"loan\")\n",
    "        sns.catplot(x = \"job\", y = \"loan\", data = data, ax = ax[1]) \n",
    "        ax[1].set_ylabel(\"Loan\")\n",
    "        \n",
    "    def distplot(self):\n",
    "        sns.distplot(data.loan, kde = False);\n",
    "        \n",
    "    def pairplot(self):\n",
    "        \n",
    "        sns.pairplot(data);\n",
    "        \n",
    "        \n",
    "    def pivotTable(self):\n",
    "        \n",
    "        print(data.pivot_table(\"loan\",index = \"bad\",columns = \"reason\"))"
   ]
  },
  {
   "cell_type": "markdown",
   "metadata": {},
   "source": [
    "# İSTATİSTİK\n",
    "\n",
    "### Bu class veri seti içerisindeki değişkenlerimize istatistiksel olarak yaklaşmamızı sağlamaktadır."
   ]
  },
  {
   "cell_type": "code",
   "execution_count": 7,
   "metadata": {},
   "outputs": [],
   "source": [
    "class stats():\n",
    "    def __init__(self,data):\n",
    "        self.data = data\n",
    "        \n",
    "    def imports(self):\n",
    "        \n",
    "        import scipy.stats as stats\n",
    "        import statsmodels.stats.api as sms\n",
    "        import pylab\n",
    "        from scipy.stats.stats import pearsonr\n",
    "        import researchpy as rp\n",
    "        \n",
    "    \n",
    "    def table(self):\n",
    "        \n",
    "        print(rp.summary_cont(data[[\"loan\",\"value\"]])) \n",
    "        \n",
    "        print(\"*******************************\")\n",
    "        \n",
    "        print(rp.summary_cat(data[[\"bad\",\"job\",\"reason\"]]))\n",
    "        \n",
    "        print(\"*******************************\")\n",
    "        \n",
    "        print(data[[\"loan\",\"value\"]].corr()) # Korelasyon\n",
    "        \n",
    "    def shapiro(self):\n",
    "        \n",
    "        import scipy.stats as stats\n",
    "        from scipy.stats import shapiro\n",
    "        test, p_value = shapiro(data[\"loan\"])\n",
    "        \n",
    "        print(\"Varsayım kontrolünde pvalue = \" + str(p_value))\n",
    "        \n",
    "        \n",
    "        if p_value > 0.05:\n",
    "            print(\"Örnek dağılımı ile teorik normal dağılım arasında ist. ol. anl. bir fark. yoktur.\")\n",
    "        else:\n",
    "            print(\"Örnek dağılımı ile teorik normal dağılım arasında ist. ol. anl. bir fark. vardır.\")\n",
    "        \n",
    "        test_istatistigi, pvalue = stats.ttest_1samp(data[\"loan\"], popmean = 10000)\n",
    "        print(\"pvalue = \" + str(pvalue))\n",
    "        \n",
    "        if pvalue > 0.05 :\n",
    "            print(\"H0 hipotezimiz reddedilemez.\")\n",
    "        else:\n",
    "            print(\"H0 hipotezimiz reddelir.\")   \n",
    "        \n",
    "        \n",
    "        \n",
    "    def qqplot(self):\n",
    "        import pylab\n",
    "        import scipy.stats as stats\n",
    "        stats.probplot(data[\"loan\"], dist=\"norm\", plot=pylab)\n",
    "        pylab.show()\n",
    "        \n",
    "    def korelasyon_analiz(self):\n",
    "        \n",
    "        # müşteri hakkındaki kötü raporlar arttığında ne olduğunu gözlemlemek istiyorum.\n",
    "        data.plot.scatter(\"loan\",\"value\");\n",
    "\n",
    "        print(data[\"loan\"].corr(data[\"value\"])) # parametrik karşılığı\n",
    "        \n",
    "        # Hedef değişken BAD için analiz\n",
    "        \n",
    "        print(data.corr()['bad'].abs().sort_values(ascending=False))\n",
    "        \n",
    "        \n",
    "    def korelasyon_map(self):\n",
    "        \n",
    "        corr = data.corr()\n",
    "        # print(corr)\n",
    "        # sns.heatmap(corr, \n",
    "        #xticklabels=corr.columns.values,\n",
    "        #yticklabels=corr.columns.values)\n",
    "        \n",
    "        fig,ax = plt.subplots(figsize=(15, 15))\n",
    "        sns.heatmap(data.corr(), ax=ax, annot=True, linewidths=0.05, fmt= '.2f',cmap=\"magma\")\n",
    "        plt.show()"
   ]
  },
  {
   "cell_type": "markdown",
   "metadata": {},
   "source": [
    "# VERİ ÖN İŞLEME\n",
    "\n",
    "# MODEL OLUŞTURULMASI \n",
    "\n",
    "# MODELLERİN DEĞERLENDİRİLMESİ\n",
    "\n",
    "# OLUŞTURULAN MODELLERİN KARŞILAŞTIRILMASI\n",
    "\n",
    "### Bu class içerisinde veri setine ilk bakışı attıktan sonra gerçekleştirebileceğimiz işlemler yer almaktadır.\n",
    "\n",
    "* Eksik değerleri işleme \n",
    "* Aykırı değerleri işleme \n",
    "* Ölçeklendirme\n",
    "* Normalizasyon\n",
    "* Kategorik değişkenleri dummies değişkene dönüştürme\n",
    "* Train-Test Split\n",
    "* Sınıflandırma modellerini oluşturma\n",
    "* Model Tuning\n",
    "* Classification Report\n",
    "* AUC-ROC Curve\n",
    "* Confusion Matrix"
   ]
  },
  {
   "cell_type": "markdown",
   "metadata": {},
   "source": [
    "# CLASS İÇİNDE YER ALAN MODELLER \n",
    "\n",
    "* Logistic\n",
    "* Support Vector Classifier\n",
    "* CART\n",
    "* Random Forest\n",
    "* KNN\n",
    "* MLP\n",
    "* Gradient Boosting Classifier"
   ]
  },
  {
   "cell_type": "code",
   "execution_count": 198,
   "metadata": {},
   "outputs": [],
   "source": [
    "class PreProcessing():\n",
    "    def __init__(self,data):\n",
    "        self.data = data\n",
    "        \n",
    "    \n",
    "    def copy_data(self):\n",
    "        \n",
    "        data2 = data.copy()\n",
    "        data3 = data.copy()\n",
    "        \n",
    "    def outlier(self):\n",
    "        \n",
    "        t_data = data.dropna() # Eksik gözlemleri sildik. Aykırı gözlemleri rahatça görebilmek için.\n",
    "        print(t_data.head())\n",
    "        \n",
    "        # Bir tane gözlemimi alıyorum.\n",
    "        data_loan = t_data[\"loan\"]\n",
    "        sns.boxplot(x = data_loan);\n",
    "        \n",
    "        Q1 = data_loan.quantile(0.25)\n",
    "        Q3 = data_loan.quantile(0.75)\n",
    "        IQR = Q3-Q1\n",
    "       \n",
    "        \n",
    "        print(\" IQR = \" + str(Q3-Q1))\n",
    "        print(\" Alt Sınır = \" + str(Q1- 1.5*IQR))\n",
    "        print(\" Üst Sınır = \" + str(Q3 + 1.5*IQR))\n",
    "        print(data_loan.median())\n",
    "       \n",
    "        # Daha sonra aykırı değeri Baskılama ve ya Ortalama yöntemi ile doldurma işlemleri\n",
    "    \n",
    "    def MissingValue(self):\n",
    "        \n",
    "        print(data.isnull().sum())\n",
    "        #print(data.isnull())\n",
    "        #print(data[data.isnull().any(axis = 1)]) # Eksik değer olan satırlara erişmek\n",
    "        \n",
    "        # Bir gözlemi örnek alıyorum.\n",
    "        # data[\"loan\"]\n",
    "        # data[\"loan\"].mean()\n",
    "        # print(data[\"loan\"].fillna(data[\"loan\"].mean())) # fillna doldurma işlemi için yapılıyor.\n",
    "        \n",
    "        # data.isna().values.any() #Kalan NaN değeri var mı kontrol etmek için\n",
    "     \n",
    "    def dropNa(self):\n",
    "        data.dropna(inplace = True) # tüm eksik gözlemlerin silinmesi\n",
    "        return data.isnull().sum()     \n",
    "    \n",
    "    def fillna(self):\n",
    "        \n",
    "        data.fillna(data.mean()[:],inplace = True) # eksik değerleri ortalama yöntemi ile doldurma\n",
    "        \n",
    "        # kategorik\n",
    "        \n",
    "        print(\" En sık tekrarlanan sebep:\" + str(data[\"reason\"].mode()[0]))\n",
    "        print(\" En sık tekrarlanan iş:\" + str(data[\"job\"].mode()[0]))\n",
    "        data[\"job\"].fillna(data[\"job\"].mode()[0],inplace = True)\n",
    "        data[\"reason\"].fillna(data[\"reason\"].mode()[0], inplace = True)\n",
    "        \n",
    "        return data.isnull().sum()\n",
    "        \n",
    "    def scale(self):\n",
    "        from sklearn.preprocessing import StandardScaler  \n",
    "        scaler = StandardScaler()\n",
    "        scaler.fit(self.X_train)\n",
    "        self.X_train_scaled = scaler.transform(self.X_train)\n",
    "        self.X_test_scaled = scaler.transform(self.X_test)\n",
    "        \n",
    "    \n",
    "    def normalize(self):\n",
    "        \n",
    "        from sklearn import preprocessing\n",
    "        preprocessing.normalize(self.X)\n",
    "        \n",
    "        \n",
    "    def dummies(self):\n",
    "        \n",
    "        cat = pd.get_dummies(data[['reason', 'job']])\n",
    "        self.y = data[\"bad\"]\n",
    "        self.X = data.drop([\"bad\",\"reason\",\"job\"],axis =1).astype(\"float64\")\n",
    "        self.X = pd.concat([self.X, cat[[\"reason_DebtCon\",\"reason_HomeImp\",\"job_Mgr\" ,\"job_Office\",\"job_Other\",\"job_ProfEx\",\"job_Sales\",\"job_Self\"]]], axis = 1)\n",
    "\n",
    "        return self.X.head(3)\n",
    "        \n",
    "        \n",
    "    def onhazirlik(self): # burada modele sokulacak target değişken ve çıkarılması gereken değişkenler \n",
    "        \n",
    "        \n",
    "        self.y = data[\"bad\"]\n",
    "        self.X = data.drop([\"bad\",\"reason\",\"job\"],axis = 1)\n",
    "        \n",
    "        return self.X.head(3)\n",
    "        \n",
    "        \n",
    "    \n",
    "    \n",
    "    def train_test_split(self):\n",
    "        \n",
    "        self.X_train, self.X_test, self.y_train, self.y_test = train_test_split(self.X, self.y, \n",
    "                                                    test_size = 0.20, \n",
    "                                                    random_state = 42)\n",
    "        \n",
    "        \n",
    "    def drop(self):\n",
    "        \n",
    "        # Anlamsız değişkenler ve ya herhangi bir değişkenin çıkarılması işlemi\n",
    "        \n",
    "        self.X = self.X.drop([\"mortdue\",\"yoj\"], axis = 1) # ilk adımda ikisini çıkarıyorum.\n",
    "        # X = data.drop([\"bad\",\"reason\",\"job\",\"mortdue\",\"yoj\"], axis = 1) \n",
    "\n",
    "        return self.X.head()\n",
    "    \n",
    "    def drop2(self):\n",
    "        \n",
    "        # diğer anlamsız değişkenlerinde çıkarılması\n",
    "        \n",
    "        self.X = self.X.drop([\"value\",\"ninq\"], axis = 1)\n",
    "        return self.X.head()\n",
    "        \n",
    "    \n",
    "    def Log(self):\n",
    "        loj = sm.Logit(self.y, self.X)\n",
    "        loj_model = loj.fit()\n",
    "        loj_model.summary()\n",
    "        \n",
    "        return loj_model.summary()\n",
    "    \n",
    "    \n",
    "    def Sklearn_Log(self):\n",
    "        \n",
    "        from sklearn.linear_model import LogisticRegression\n",
    "        self.loj = LogisticRegression(solver = \"liblinear\") # solver = hangi fonksiyon ile işlem yapacaksın? farklı solver'lar ile deneyip bakmak da fayda var.\n",
    "        self.loj_model = self.loj.fit(self.X,self.y)\n",
    "        \n",
    "        \n",
    "    def Log_predict(self): # test ve train diye ayırmadan\n",
    "        \n",
    "        self.loj_model.predict_proba(self.X)[0:10][:,0:2] # OLASILIKLAR\n",
    "        self.y_probs = self.loj_model.predict_proba(self.X)\n",
    "        self.y_probs = self.y_probs[:,1]\n",
    "        self.y_probs[0:10]\n",
    "        self.y_pred = [1 if i > 0.3 else 0 for i in self.y_probs] \n",
    "        \n",
    "    \n",
    "    def Sklearn_Log_split(self): # train-test split ve prediction\n",
    "        \n",
    "        self.loj = LogisticRegression(solver = \"liblinear\")\n",
    "        self.loj_model = self.loj.fit(self.X_train,self.y_train)\n",
    "        # y_pred = loj_model.predict(X_test)\n",
    "        self.y_probs = self.loj_model.predict_proba(self.X_test)\n",
    "        self.y_probs = self.y_probs[:,1]\n",
    "        self.y_probs[0:10]\n",
    "        self.y_pred = [1 if i > 0.3 else 0 for i in self.y_probs]\n",
    "        self.acc_log = accuracy_score(self.y_test,self.y_pred)\n",
    "        self.log_score = self.loj_model.score(self.X_test, self.y_test)\n",
    "\n",
    "    \n",
    "    def SupportVector(self):\n",
    "        \n",
    "        from sklearn.svm import SVC\n",
    "        self.svm_model = SVC(kernel = \"linear\",probability=True).fit(self.X_train, self.y_train)\n",
    "        self.y_pred = self.svm_model.predict(self.X_test) \n",
    "        self.acc_svc = accuracy_score(self.y_test, self.y_pred)\n",
    "        self.svm_score = self.svm_model.score(self.X_test, self.y_test)\n",
    "        self.svm_cm = confusion_matrix(self.y_test, self.y_pred)\n",
    "  \n",
    "    \n",
    "    def ModelTuning_SVC(self):\n",
    "        \n",
    "        from sklearn.svm import SVC\n",
    "        self.svc_params = {\"C\":[1,5,10,15]}\n",
    "        self.svc = SVC(kernel = \"linear\")\n",
    "        self.svc_cv_model = GridSearchCV(self.svc,self.svc_params, \n",
    "                            cv = 3, \n",
    "                            n_jobs = -1, \n",
    "                            verbose = 2 )\n",
    "        self.svc_cv_model.fit(self.X_train, self.y_train)\n",
    "        \n",
    "        print(\"En iyi parametreler: \" + str(self.svc_cv_model.best_params_))\n",
    "        \n",
    "        self.svc_tuned = SVC(kernel = \"linear\", C = self.svc_cv_model.best_params_[\"C\"]).fit(self.X_train, self.y_train)\n",
    "       \n",
    "        self.svc_tuned_score = self.svc_tuned.score(self.X_test, self.y_test)\n",
    "        # GridSearch\n",
    "        # best parameters\n",
    "        \n",
    "        self.y_pred = self.svc_tuned.predict(self.X_test)\n",
    "        self.acc_svc_tuned = accuracy_score(self.y_test,self.y_pred)\n",
    "        print(\"SVC tuned acc : \" + str(accuracy_score(self.y_test, self.y_pred)))\n",
    "        \n",
    "        self.svm_tuned_cm = confusion_matrix(self.y_test, self.y_pred)\n",
    "      \n",
    "    def RBF_SVC(self):\n",
    "        from sklearn.svm import SVC\n",
    "        self.svc_model = SVC(kernel = \"rbf\").fit(self.X_train, self.y_train)\n",
    "        self.y_pred = self.svc_model.predict(self.X_test)\n",
    "        self.acc_rbf = accuracy_score(self.y_test,self.y_pred)\n",
    "        self.rbf_score = self.svc_model.score(self.X_test, self.y_test)\n",
    "        \n",
    "        self.rbf_cm = confusion_matrix(self.y_test, self.y_pred)\n",
    "        \n",
    "    def ModelTuning_RBF(self):\n",
    "        self.svc_params = {\"C\": [1, 5, 15],\n",
    "                      \"gamma\": [ 0.001, 0.1, 5]}\n",
    "        \n",
    "        self.svc = SVC()\n",
    "        self.svc_cv_model = GridSearchCV(self.svc, self.svc_params, \n",
    "                         cv = 3, \n",
    "                         n_jobs = -1,\n",
    "                         verbose = 2)\n",
    "        self.svc_cv_model.fit(self.X_train, self.y_train)\n",
    "        \n",
    "        print(\"En iyi parametreler: \" + str(self.svc_cv_model.best_params_))\n",
    "        self.svc_tuned = SVC(C = self.svc_cv_model.best_params_[\"C\"], \n",
    "                             gamma = self.svc_cv_model.best_params_[\"gamma\"]).fit(self.X_train, self.y_train)\n",
    "        \n",
    "        self.y_pred = self.svc_tuned.predict(self.X_test)\n",
    "        self.acc_rbf_tuned = accuracy_score(self.y_test,self.y_pred)\n",
    "        self.rbf_tuned = self.svc_tuned.score(self.X_test, self.y_test)\n",
    "        print(\"RBF_SVC tuned acc : \" + str(accuracy_score(self.y_test, self.y_pred)))\n",
    "        \n",
    "        self.rbf_cm = confusion_matrix(self.y_test, self.y_pred)\n",
    "\n",
    "    \n",
    "    \n",
    "    def MLPC(self):\n",
    "        \n",
    "        from sklearn.neural_network import MLPClassifier\n",
    "        self.mlpc = MLPClassifier().fit(self.X_train_scaled, self.y_train)\n",
    "        self.y_pred = self.mlpc.predict(self.X_test_scaled)\n",
    "        self.acc_mlpc = accuracy_score(self.y_test,self.y_pred)\n",
    "        self.mlpc_score = self.mlpc.score(self.X_test_scaled, self.y_test)\n",
    "        \n",
    "        self.mlpc_cm = confusion_matrix(self.y_test, self.y_pred)\n",
    "        \n",
    "    def ModelTuning_MLPC(self):\n",
    "        \n",
    "        from sklearn.neural_network import MLPClassifier\n",
    "        \n",
    "        self.mlpc_params = {\"alpha\": [0.1, 0.01, 0.02],\n",
    "                            \"hidden_layer_sizes\": [(10,10,10),\n",
    "                                              (100,100,100),\n",
    "                                              (100,100)],\n",
    "                            \"solver\" : [\"adam\",\"sgd\"],\n",
    "                            \"activation\": [\"relu\",\"logistic\"]}\n",
    "        \n",
    "        self.mlpc = MLPClassifier()\n",
    "        self.mlpc_cv_model = GridSearchCV(self.mlpc, self.mlpc_params, \n",
    "                                     cv = 3, \n",
    "                                     n_jobs = -1,\n",
    "                                     verbose = 2)\n",
    "        self.mlpc_cv_model.fit(self.X_train_scaled, self.y_train)\n",
    "        \n",
    "        print(\"En iyi parametreler: \" + str(self.mlpc_cv_model.best_params_))\n",
    "        \n",
    "        self.mlpc_tuned = MLPClassifier(activation = self.mlpc_cv_model.best_params_[\"activation\"], \n",
    "                                   alpha = self.mlpc_cv_model.best_params_[\"alpha\"], \n",
    "                                   hidden_layer_sizes = self.mlpc_cv_model.best_params_[\"hidden_layer_sizes\"],\n",
    "                                   solver = self.mlpc_cv_model.best_params_[\"solver\"])\n",
    "        \n",
    "        self.mlp_tuned_cm = confusion_matrix(self.y_test, self.y_pred)\n",
    "        \n",
    "        self.mlpc_tuned.fit(self.X_train_scaled, self.y_train)\n",
    "        self.y_pred = self.mlpc_tuned.predict(self.X_test_scaled)\n",
    "        self.acc_mlp_tuned = accuracy_score(self.y_test,self.y_pred)\n",
    "        self.mlpc_tuned_score = self.mlpc_tuned.score(self.X_test_scaled, self.y_test)\n",
    "        print(\"MLPC tuned acc : \" + str(accuracy_score(self.y_test, self.y_pred)))\n",
    "        \n",
    "\n",
    "    def CART(self):\n",
    "        \n",
    "        from sklearn.tree import DecisionTreeClassifier\n",
    "        self.cart = DecisionTreeClassifier()\n",
    "        \n",
    "        self.cart_model = self.cart.fit(self.X_train, self.y_train)\n",
    "        self.y_pred = self.cart_model.predict(self.X_test)\n",
    "        self.acc_cart = accuracy_score(self.y_test,self.y_pred)\n",
    "        self.cart_score = self.cart_model.score(self.X_test, self.y_test)\n",
    "        self.cart_cm = confusion_matrix(self.y_test, self.y_pred)\n",
    "\n",
    "    def ModelTuning_CART(self):\n",
    "        \n",
    "        from sklearn import tree\n",
    "        self.cart_grid = {\"max_depth\": [1,5,10],\n",
    "                          \"min_samples_split\" : [2,5,10] }\n",
    "        \n",
    "        self.cart = tree.DecisionTreeClassifier()\n",
    "        self.cart_cv = GridSearchCV(self.cart, self.cart_grid, cv = 3, n_jobs = -1, verbose = 2)\n",
    "        self.cart_cv_model = self.cart_cv.fit(self.X_train, self.y_train)\n",
    "        print(\"En iyi parametreler: \" + str(self.cart_cv_model.best_params_))\n",
    "        \n",
    "        self.cart = tree.DecisionTreeClassifier(max_depth = self.cart_cv_model.best_params_[\"max_depth\"], \n",
    "                                                min_samples_split = self.cart_cv_model.best_params_[\"min_samples_split\"])\n",
    "        \n",
    "        self.cart_tuned = self.cart.fit(self.X_train, self.y_train)\n",
    "        self.y_pred = self.cart_tuned.predict(self.X_test)\n",
    "        self.acc_cart_tuned = accuracy_score(self.y_test,self.y_pred)\n",
    "        self.cart_tuned_score = self.cart_tuned.score(self.X_test, self.y_test)\n",
    "        \n",
    "        print(\"CART tuned acc : \" + str(accuracy_score(self.y_test, self.y_pred)))\n",
    "        \n",
    "        self.cart_tuned_cm = confusion_matrix(self.y_test, self.y_pred)\n",
    "        \n",
    "        #plt.figure(figsize=(15,15))\n",
    "        #tree.plot_tree(self.cart_tuned);\n",
    "    \n",
    "    def RF(self): # random forest\n",
    "        \n",
    "        from sklearn.ensemble import RandomForestClassifier\n",
    "        self.rf_model = RandomForestClassifier().fit(self.X_train, self.y_train)\n",
    "        \n",
    "        self.y_pred = self.rf_model.predict(self.X_test)\n",
    "        self.acc_rf = accuracy_score(self.y_test,self.y_pred)\n",
    "        self.rf_score = self.rf_model.score(self.X_test, self.y_test)\n",
    "        self.rf_cm = confusion_matrix(self.y_test, self.y_pred)\n",
    "        \n",
    "    def ModelTuning_RF(self):\n",
    "        from sklearn.ensemble import RandomForestClassifier\n",
    "        self.rf_params = {\"max_depth\": [2,5,8,10],\n",
    "                          \"max_features\": [2,5,8],\n",
    "                          \"n_estimators\": [10,150,300],\n",
    "                          \"min_samples_split\": [2,5,10]}\n",
    "        \n",
    "        self.rf_model = RandomForestClassifier()\n",
    "\n",
    "        self.rf_cv_model = GridSearchCV(self.rf_model, \n",
    "                                        self.rf_params, \n",
    "                                        cv = 3,\n",
    "                                        n_jobs = -1, \n",
    "                                        verbose = 2) \n",
    "        \n",
    "        self.rf_cv_model.fit(self.X_train, self.y_train)\n",
    "        print(\"En iyi parametreler: \" + str(self.rf_cv_model.best_params_))\n",
    "        \n",
    "        self.rf = RandomForestClassifier(max_depth = self.rf_cv_model.best_params_[\"max_depth\"], \n",
    "                                               max_features = self.rf_cv_model.best_params_[\"max_features\"], \n",
    "                                               min_samples_split = self.rf_cv_model.best_params_[\"min_samples_split\"],\n",
    "                                               n_estimators = self.rf_cv_model.best_params_[\"n_estimators\"])\n",
    "        \n",
    "        self.rf_tuned = self.rf.fit(self.X_train, self.y_train)\n",
    "        self.y_pred = self.rf_tuned.predict(self.X_test)\n",
    "        self.acc_rf_tuned = accuracy_score(self.y_test,self.y_pred)\n",
    "        self.rf_tuned_score = self.rf_tuned.score(self.X_test, self.y_test)\n",
    "        \n",
    "        self.rf_tuned_cm = confusion_matrix(self.y_test, self.y_pred)\n",
    "        \n",
    "        print(\"RF tuned acc : \" + str(accuracy_score(self.y_test, self.y_pred)))\n",
    "        \n",
    "        Importance = pd.DataFrame({\"Importance\": self.rf_tuned.feature_importances_*100},\n",
    "                         index = self.X_train.columns)\n",
    "        \n",
    "        Importance.sort_values(by = \"Importance\", \n",
    "                       axis = 0, \n",
    "                       ascending = True).plot(kind =\"barh\", color = \"r\")\n",
    "        \n",
    "        plt.xlabel(\"Değişken Önem Düzeyleri\")\n",
    "    \n",
    "    def gradientboost(self):\n",
    "        \n",
    "        from sklearn.ensemble import GradientBoostingClassifier\n",
    "        self.gbm_model = GradientBoostingClassifier().fit(self.X_train, self.y_train)\n",
    "        self.y_pred = self.gbm_model.predict(self.X_test)\n",
    "        self.acc_gbc = accuracy_score(self.y_test,self.y_pred)\n",
    "        self.gbc_score = self.gbm_model.score(self.X_test, self.y_test)\n",
    "        self.gbc_cm = confusion_matrix(self.y_test, self.y_pred)\n",
    "     \n",
    "    def ModelTuning_gradientboost(self):\n",
    "        \n",
    "        from sklearn.ensemble import GradientBoostingClassifier\n",
    "        \n",
    "        self.gbm_params = {\"learning_rate\" : [0.01, 0.1, 0.05],\n",
    "                           \"n_estimators\": [100,500,100],\n",
    "                           \"max_depth\": [3,5,10],\n",
    "                           \"min_samples_split\": [2,5,10]}\n",
    "        \n",
    "        self.gbm = GradientBoostingClassifier()\n",
    "        self.gbm_cv_model = GridSearchCV(self.gbm, self.gbm_params, cv=3, n_jobs = -1, verbose = 2)\n",
    "        self.gbm_cv_model.fit(self.X_train, self.y_train)\n",
    "        \n",
    "        self.gbm = GradientBoostingClassifier(max_depth = self.gbm_cv_model.best_params_[\"max_depth\"],\n",
    "                                              learning_rate = self.gbm_cv_model.best_params_[\"learning_rate\"], \n",
    "                                              min_samples_split = self.gbm_cv_model.best_params_[\"min_samples_split\"],\n",
    "                                              n_estimators = self.gbm_cv_model.best_params_[\"n_estimators\"])\n",
    "        \n",
    "        self.gbm_tuned = self.gbm.fit(self.X_train, self.y_train)\n",
    "        self.y_pred = self.gbm_tuned.predict(self.X_test)\n",
    "        self.acc_gbc_tuned = accuracy_score(self.y_test,self.y_pred)\n",
    "        self.gbc_tuned_score = self.gbm_tuned.score(self.X_test, self.y_test)\n",
    "        print(\"GBM tuned acc : \" + str(accuracy_score(self.y_test, self.y_pred)))\n",
    "        \n",
    "        self.gbc_tuned_cm = confusion_matrix(self.y_test, self.y_pred)\n",
    "     \n",
    "    \n",
    "    def KNN(self):\n",
    "        import matplotlib.pyplot as plt\n",
    "        from sklearn.neighbors import KNeighborsClassifier\n",
    "        \n",
    "        self.knn = KNeighborsClassifier()\n",
    "        self.knn_model = self.knn.fit(self.X_train, self.y_train)\n",
    "        self.y_pred = self.knn_model.predict(self.X_test)\n",
    "        self.acc_knn = accuracy_score(self.y_test,self.y_pred)\n",
    "        self.knn_score = self.knn_model.score(self.X_test, self.y_test)\n",
    "        \n",
    "        self.knn_cm = confusion_matrix(self.y_test, self.y_pred)\n",
    "        \n",
    "    def ModelTuning_KNN(self):\n",
    "        \n",
    "        import matplotlib.pyplot as plt\n",
    "        from sklearn.neighbors import KNeighborsClassifier\n",
    "        \n",
    "        self.scoreList = [] # boş bir score list oluşturalım ve skorları burada tutalım\n",
    "        for i in range(1,20): #1 den 20 ye kadar olsun.\n",
    "            self.knn2 = KNeighborsClassifier(n_neighbors = i)  # k = i\n",
    "            self.knn2.fit(self.X_train, self.y_train)\n",
    "            self.scoreList.append(self.knn2.score(self.X_test, self.y_test))\n",
    "        plt.plot(range(1,20), self.scoreList)\n",
    "        plt.xticks(np.arange(1,20,1))\n",
    "        plt.xlabel(\"K değeri\")\n",
    "        plt.ylabel(\"Doğruluk oranı\")\n",
    "        plt.show()\n",
    "        \n",
    "        #En iyi k değeri ile şimdi score bulalım\n",
    "        self.acc = max(self.scoreList)*100\n",
    "        \n",
    "        print(\"Maximum KNN Score is {:.2f}%\".format(self.acc))\n",
    "        \n",
    "        self.knn_params = {\"n_neighbors\": np.arange(1,25)}\n",
    "        self.knn = KNeighborsClassifier()\n",
    "        self.knn_cv = GridSearchCV(self.knn, self.knn_params, cv=3)\n",
    "        self.knn_cv.fit(self.X_train, self.y_train)\n",
    "        print(\"En iyi skor:\" + str(self.knn_cv.best_score_))\n",
    "        print(\"En iyi parametreler: \" + str(self.knn_cv.best_params_))\n",
    "        self.knn = KNeighborsClassifier(self.knn_cv.best_params_[\"n_neighbors\"])\n",
    "        self.knn_tuned = self.knn.fit(self.X_train, self.y_train)\n",
    "        self.knn_tuned.score(self.X_test, self.y_test)\n",
    "        self.y_pred = self.knn_tuned.predict(self.X_test)\n",
    "        \n",
    "        print(\"KNN tuned acc : \" + str(accuracy_score(self.y_test, self.y_pred)))\n",
    "        self.acc_knn_tuned = accuracy_score(self.y_test,self.y_pred)\n",
    "        self.knn_tuned_score = self.knn_tuned.score(self.X_test, self.y_test)\n",
    "        \n",
    "        self.knn_tuned_cm = confusion_matrix(self.y_test, self.y_pred)\n",
    "        \n",
    "    def acc(self):# split etmeden doğruluk değeri\n",
    "        \n",
    "        print( \"acc :\" + str(accuracy_score(self.y, self.y_pred)))\n",
    "    \n",
    "    \n",
    "    def acc_split(self): # train-test split accuracy\n",
    "         \n",
    "        print(\" test acc : \" + str(accuracy_score(self.y_test, self.y_pred))) \n",
    "        \n",
    "        \n",
    "        \n",
    "    def class_report(self): # split edilmemiş model-class report\n",
    "        print(classification_report(self.y,self.y_pred))\n",
    "              \n",
    "    def class_report_split(self): # split edilmiş classifacation report\n",
    "        print(classification_report(self.y_test,self.y_pred))\n",
    "    \n",
    "        \n",
    "    def confusion_matrix(self):\n",
    "        \n",
    "        mtx = confusion_matrix(self.y, self.y_pred)\n",
    "        fig, ax = plt.subplots(figsize=(5,5))\n",
    "        sns.heatmap(mtx, xticklabels= 'auto', yticklabels='auto', cmap=\"Blues\", annot=True, fmt='d', linewidths=.5,  cbar=False, ax=ax)\n",
    "        #  square=True,\n",
    "        plt.ylabel('true label')\n",
    "        plt.xlabel('predicted label')\n",
    "    \n",
    "    \n",
    "              \n",
    "              \n",
    "    def confusion_matrix_split_test(self):\n",
    "        mtx = confusion_matrix(self.y_test, self.y_pred)\n",
    "        fig, ax = plt.subplots(figsize=(5,5))\n",
    "        sns.heatmap(mtx, xticklabels= 'auto', yticklabels='auto', cmap=\"Blues\", annot=True, fmt='d', linewidths=.5,  cbar=False, ax=ax)\n",
    "        #  square=True,\n",
    "        plt.ylabel('true label')\n",
    "        plt.xlabel('predicted label')\n",
    "            \n",
    "        \n",
    "    def auc_roc(self):\n",
    "        \n",
    "        self.fpr, self.tpr, self.thresholds = roc_curve(self.y, self.loj_model.predict_proba(self.X)[:,1])\n",
    "        plt.figure()\n",
    "        plt.plot(self.fpr, self.tpr,label='AUC (area = %0.2f)')\n",
    "        plt.plot([0, 1], [0, 1],'r--')\n",
    "        plt.xlim([0.0, 1.0])\n",
    "        plt.ylim([0.0, 1.05])\n",
    "        plt.xlabel('False Positive Oranı')\n",
    "        plt.ylabel('True Positive Oranı')\n",
    "        plt.title('ROC')\n",
    "        plt.show()\n",
    "        \n",
    "    \n",
    "    def auc_roc_split(self):\n",
    "        \n",
    "        self.fpr, self.tpr, self.thresholds = roc_curve(self.y_test, self.loj_model.predict_proba(self.X_test)[:,1])\n",
    "        plt.figure()\n",
    "        plt.plot(self.fpr, self.tpr, label='AUC (area = %0.2f)')\n",
    "        plt.plot([0, 1], [0, 1],'r--')\n",
    "        plt.xlim([0.0, 1.0])\n",
    "        plt.ylim([0.0, 1.05])\n",
    "        plt.xlabel('False Positive Oranı')\n",
    "        plt.ylabel('True Positive Oranı')\n",
    "        plt.title('ROC')\n",
    "        plt.show()\n",
    "        \n",
    "        \n",
    "    def auc_roc_split_SVC(self):\n",
    "        \n",
    "        self.fpr, self.tpr, self.thresholds = roc_curve(self.y_test, self.svm_model.predict_proba(self.X_test)[:,1])\n",
    "        plt.figure()\n",
    "        plt.plot(self.fpr, self.tpr, label='AUC (area = %0.2f)')\n",
    "        plt.plot([0, 1], [0, 1],'r--')\n",
    "        plt.xlim([0.0, 1.0])\n",
    "        plt.ylim([0.0, 1.05])\n",
    "        plt.xlabel('False Positive Oranı')\n",
    "        plt.ylabel('True Positive Oranı')\n",
    "        plt.title('ROC')\n",
    "        plt.show()\n",
    "        \n",
    "        \n",
    "    def plotly(self):\n",
    "        \n",
    "        dogruluk=[]\n",
    "        dogruluk.append(acc_log)\n",
    "        dogruluk.append(acc_svc)\n",
    "        dogruluk.append(acc_svc_tuned)\n",
    "        dogruluk.append(acc_rbf)\n",
    "        dogruluk.append(acc_rbf_tuned)\n",
    "        dogruluk.append(acc_mlpc)\n",
    "        dogruluk.append(acc_mlp_tuned)\n",
    "        dogruluk.append(acc_cart)\n",
    "        dogruluk.append(acc_cart_tuned)\n",
    "        dogruluk.append(acc_rf)\n",
    "        dogruluk.append(acc_rf_tuned)\n",
    "        dogruluk.append(acc_gbc)\n",
    "        dogruluk.append(acc_gbc_tuned)\n",
    "        dogruluk.append(acc_knn)\n",
    "        dogruluk.append(acc_knn_tuned)\n",
    "        \n",
    "        labels=[\"LOG\", \"SVC\", \"TUNED SVC\",\"RBF\", \"TUNED RBF\", \"MLP\",\"TUNED MLP\",\"CART\",\"TUNED CART\",\"RF\",\"TUNED RF\",\"GBC\",\"TUNED GBC\",\"KNN\",\"TUNED KNN\"]\n",
    "        import plotly as py\n",
    "        import plotly.graph_objs as go\n",
    "        import plotly.offline as pyo\n",
    "        import plotly.graph_objs as go\n",
    "        import plotly\n",
    "        from plotly.offline import iplot\n",
    "        # Set notebook mode to work in offline\n",
    "        pyo.init_notebook_mode()\n",
    "\n",
    "        %matplotlib inline\n",
    "        \n",
    "        trace1 = go.Scatter(\n",
    "            x = labels,\n",
    "            y = dogruluk,\n",
    "            mode = \"lines\",\n",
    "            name = \"Accuracy\",\n",
    "            marker = dict(color = 'rgba(255, 0, 0, 0.7)')\n",
    "        )\n",
    "        \n",
    "        trace2 =go.Scatter( \n",
    "            x = labels,\n",
    "            y = dogruluk,\n",
    "            mode = \"markers\",\n",
    "            name = \"Highlight Point\",\n",
    "            marker = dict(color = 'rgba(0, 255, 155, 1)')\n",
    "        )\n",
    "        \n",
    "        data = [trace1,trace2]\n",
    "        layout = dict(title = 'Algoritmaların Doğruluğu',\n",
    "                      xaxis= dict(title= 'Accuracy',ticklen= 10,zeroline= False),\n",
    "                      yaxis= dict(title= 'Result',ticklen= 10,zeroline= False)\n",
    "                     )\n",
    "        fig = dict(data = data, layout = layout)\n",
    "        iplot(data)\n",
    "        \n",
    "        \n",
    "    def confusion_matrix_comparision(self):\n",
    "        \n",
    "        import matplotlib as plt\n",
    "        import seaborn as sns\n",
    "        \n",
    "        \n",
    "        \n",
    "        ax1 = fig.add_subplot(3, 3, 1) # row, column, position\n",
    "        ax1.set_title('SUPPORT VECTOR CLASSIFICATION')\n",
    "        \n",
    "        ax2 = fig.add_subplot(3, 3, 2) # row, column, position\n",
    "        ax2.set_title('TUNED SVC CLASSIFICATION')\n",
    "        \n",
    "        ax3 = fig.add_subplot(3, 3, 3)\n",
    "        ax3.set_title('RBF CLASSIFICATION')\n",
    "        \n",
    "        ax4 = fig.add_subplot(3, 3, 4)\n",
    "        ax4.set_title('TUNED RBF CLASSIFICATION')\n",
    "        \n",
    "        ax5 = fig.add_subplot(3, 3, 5)\n",
    "        ax5.set_title('MULTILAYER PERCEPTRON')\n",
    "        \n",
    "        ax6 = fig.add_subplot(3, 3, 6)\n",
    "        ax6.set_title('TUNED MULTILAYER PERCEPTRON')\n",
    "        \n",
    "        ax7 = fig.add_subplot(3, 3, 7) # row, column, position\n",
    "        ax7.set_title('DECISION TREE')\n",
    "        \n",
    "        ax8 = fig.add_subplot(3, 3, 8) # row, column, position\n",
    "        ax8.set_title('TUNED DECISION TREE')\n",
    "        \n",
    "        ax9 = fig.add_subplot(3, 3, 9)\n",
    "        ax9.set_title('RANDOM FOREST')\n",
    "        \n",
    "        ax10 = fig.add_subplot(3, 3, 10)\n",
    "        ax10.set_title('TUNED RANDOM FOREST')\n",
    "        \n",
    "        ax11 = fig.add_subplot(3, 3, 11)\n",
    "        ax11.set_title('GRADIENT BOOSTING')\n",
    "        \n",
    "        ax12 = fig.add_subplot(3, 3, 12)\n",
    "        ax12.set_title('TUNED GRADIENT BOOSTING')\n",
    "        \n",
    "        ax13 = fig.add_subplot(3, 3, 13)\n",
    "        ax13.set_title('K-NEAREST NEIGHBOR')\n",
    "        \n",
    "        ax14 = fig.add_subplot(3, 3, 14)\n",
    "        ax14.set_title('TUNED K-NEAREST NEIGHBOR')\n",
    "        \n",
    "         \n",
    "        sns.heatmap(data=self.svm_cm, annot=True, linewidth=0.7, linecolor='cyan', fmt='.0f', ax=ax1, cmap='BrBG')\n",
    "        sns.heatmap(data=self.svm_tuned_cm, annot=True, linewidth=0.7, linecolor='cyan', fmt='.0f', ax=ax2, cmap='BrBG')   \n",
    "        sns.heatmap(data=self.rbf_cm, annot=True, linewidth=0.7, linecolor='cyan', fmt='.0f', ax=ax3, cmap='BrBG')\n",
    "        sns.heatmap(data=self.rbf_tuned_cm, annot=True, linewidth=0.7, linecolor='cyan', fmt='.0f', ax=ax4, cmap='BrBG')\n",
    "        sns.heatmap(data=self.mlpc_cm, annot=True, linewidth=0.7, linecolor='cyan', fmt='.0f', ax=ax5, cmap='BrBG')\n",
    "        sns.heatmap(data=self.mlp_tuned_cm, annot=True, linewidth=0.7, linecolor='cyan', fmt='.0f', ax=ax6, cmap='BrBG')\n",
    "        sns.heatmap(data=self.cart_cm, annot=True, linewidth=0.7, linecolor='cyan', fmt='.0f', ax=ax7, cmap='BrBG')\n",
    "        sns.heatmap(data=self.cart_tuned_cm, annot=True, linewidth=0.7, linecolor='cyan', fmt='.0f', ax=ax8, cmap='BrBG')   \n",
    "        sns.heatmap(data=self.rf_cm, annot=True, linewidth=0.7, linecolor='cyan', fmt='.0f', ax=ax9, cmap='BrBG')\n",
    "        sns.heatmap(data=self.rf_tuned_cm, annot=True, linewidth=0.7, linecolor='cyan', fmt='.0f', ax=ax10, cmap='BrBG')\n",
    "        sns.heatmap(data=self.gbc_cm, annot=True, linewidth=0.7, linecolor='cyan', fmt='.0f', ax=ax11, cmap='BrBG')\n",
    "        sns.heatmap(data=self.gbc_tuned_cm, annot=True, linewidth=0.7, linecolor='cyan', fmt='.0f', ax=ax12, cmap='BrBG')\n",
    "        sns.heatmap(data=self.knn_cm, annot=True, linewidth=0.7, linecolor='cyan', fmt='.0f', ax=ax13, cmap='BrBG')\n",
    "        sns.heatmap(data=self.knn_tuned_cm, annot=True, linewidth=0.7, linecolor='cyan', fmt='.0f', ax=ax14, cmap='BrBG')\n",
    "        \n",
    "        plt.figure(figsize=(15,15))\n",
    "        plt.show()"
   ]
  },
  {
   "cell_type": "markdown",
   "metadata": {},
   "source": [
    "# INFORMATION"
   ]
  },
  {
   "cell_type": "code",
   "execution_count": 31,
   "metadata": {},
   "outputs": [],
   "source": [
    "data = pd.read_csv('hmelq.csv')"
   ]
  },
  {
   "cell_type": "code",
   "execution_count": 32,
   "metadata": {},
   "outputs": [
    {
     "name": "stdout",
     "output_type": "stream",
     "text": [
      "<class 'pandas.core.frame.DataFrame'>\n",
      "RangeIndex: 3576 entries, 0 to 3575\n",
      "Data columns (total 13 columns):\n",
      "bad        3576 non-null int64\n",
      "loan       3576 non-null int64\n",
      "mortdue    3262 non-null float64\n",
      "value      3512 non-null float64\n",
      "reason     3429 non-null object\n",
      "job        3409 non-null object\n",
      "yoj        3264 non-null float64\n",
      "derog      3149 non-null float64\n",
      "delinq     3225 non-null float64\n",
      "clage      3397 non-null float64\n",
      "ninq       3273 non-null float64\n",
      "clno       3443 non-null float64\n",
      "debtinc    2809 non-null float64\n",
      "dtypes: float64(9), int64(2), object(2)\n",
      "memory usage: 363.3+ KB\n",
      "None\n"
     ]
    }
   ],
   "source": [
    "info = Information(data)\n",
    "info.info()"
   ]
  },
  {
   "cell_type": "code",
   "execution_count": 22,
   "metadata": {},
   "outputs": [
    {
     "name": "stdout",
     "output_type": "stream",
     "text": [
      "Risk barındırmayan müşterilerin yüzdesi : 80.06%\n",
      "Risk barındıran müşterilerin yüzdesi : 19.94%\n",
      "************************************\n",
      "bad                  0             1\n",
      "loan      18931.645127  16915.708275\n",
      "mortdue   75242.395117  69029.488140\n",
      "value    102394.448489  95308.460184\n",
      "yoj           9.031378      8.067533\n",
      "derog         0.140732      0.716012\n",
      "delinq        0.238263      1.174888\n",
      "clage       186.338950    153.497474\n",
      "ninq          1.032692      1.780089\n",
      "clno         21.552536     21.323572\n",
      "debtinc      33.179142     40.881416\n"
     ]
    }
   ],
   "source": [
    "info.hedef_degisken()"
   ]
  },
  {
   "cell_type": "code",
   "execution_count": 23,
   "metadata": {},
   "outputs": [],
   "source": [
    "info.copy()"
   ]
  },
  {
   "cell_type": "code",
   "execution_count": 24,
   "metadata": {},
   "outputs": [
    {
     "name": "stdout",
     "output_type": "stream",
     "text": [
      "**********************************\n",
      " Loan Değişkeninin incelenmesi\n",
      "Ortalama: 18529.697986577183\n",
      "Dolu Gözlem Sayısı: 3576\n",
      "Maksimum Değer: 89900\n",
      "Minimum Değer: 1100\n",
      "Medyan: 16200.0\n",
      "Standart Sapma: 11262.83406028882\n"
     ]
    },
    {
     "data": {
      "text/html": [
       "<div>\n",
       "<style scoped>\n",
       "    .dataframe tbody tr th:only-of-type {\n",
       "        vertical-align: middle;\n",
       "    }\n",
       "\n",
       "    .dataframe tbody tr th {\n",
       "        vertical-align: top;\n",
       "    }\n",
       "\n",
       "    .dataframe thead th {\n",
       "        text-align: right;\n",
       "    }\n",
       "</style>\n",
       "<table border=\"1\" class=\"dataframe\">\n",
       "  <thead>\n",
       "    <tr style=\"text-align: right;\">\n",
       "      <th></th>\n",
       "      <th>bad</th>\n",
       "      <th>loan</th>\n",
       "      <th>mortdue</th>\n",
       "      <th>value</th>\n",
       "      <th>yoj</th>\n",
       "      <th>derog</th>\n",
       "      <th>delinq</th>\n",
       "      <th>clage</th>\n",
       "      <th>ninq</th>\n",
       "      <th>clno</th>\n",
       "      <th>debtinc</th>\n",
       "    </tr>\n",
       "  </thead>\n",
       "  <tbody>\n",
       "    <tr>\n",
       "      <th>count</th>\n",
       "      <td>3576.000000</td>\n",
       "      <td>3576.000000</td>\n",
       "      <td>3262.000000</td>\n",
       "      <td>3512.000000</td>\n",
       "      <td>3264.000000</td>\n",
       "      <td>3149.000000</td>\n",
       "      <td>3225.000000</td>\n",
       "      <td>3397.000000</td>\n",
       "      <td>3273.000000</td>\n",
       "      <td>3443.000000</td>\n",
       "      <td>2809.000000</td>\n",
       "    </tr>\n",
       "    <tr>\n",
       "      <th>mean</th>\n",
       "      <td>0.199385</td>\n",
       "      <td>18529.697987</td>\n",
       "      <td>74013.907992</td>\n",
       "      <td>101076.922759</td>\n",
       "      <td>8.832644</td>\n",
       "      <td>0.261670</td>\n",
       "      <td>0.432558</td>\n",
       "      <td>179.832529</td>\n",
       "      <td>1.186373</td>\n",
       "      <td>21.507116</td>\n",
       "      <td>33.831737</td>\n",
       "    </tr>\n",
       "    <tr>\n",
       "      <th>std</th>\n",
       "      <td>0.399594</td>\n",
       "      <td>11262.834060</td>\n",
       "      <td>44016.833772</td>\n",
       "      <td>54865.275351</td>\n",
       "      <td>7.568046</td>\n",
       "      <td>0.865178</td>\n",
       "      <td>1.099230</td>\n",
       "      <td>87.066198</td>\n",
       "      <td>1.728723</td>\n",
       "      <td>10.167490</td>\n",
       "      <td>9.061837</td>\n",
       "    </tr>\n",
       "    <tr>\n",
       "      <th>min</th>\n",
       "      <td>0.000000</td>\n",
       "      <td>1100.000000</td>\n",
       "      <td>2619.000000</td>\n",
       "      <td>8800.000000</td>\n",
       "      <td>0.000000</td>\n",
       "      <td>0.000000</td>\n",
       "      <td>0.000000</td>\n",
       "      <td>0.490000</td>\n",
       "      <td>0.000000</td>\n",
       "      <td>0.000000</td>\n",
       "      <td>0.720000</td>\n",
       "    </tr>\n",
       "    <tr>\n",
       "      <th>25%</th>\n",
       "      <td>0.000000</td>\n",
       "      <td>11000.000000</td>\n",
       "      <td>46700.250000</td>\n",
       "      <td>65753.000000</td>\n",
       "      <td>3.000000</td>\n",
       "      <td>0.000000</td>\n",
       "      <td>0.000000</td>\n",
       "      <td>115.600000</td>\n",
       "      <td>0.000000</td>\n",
       "      <td>15.000000</td>\n",
       "      <td>29.140000</td>\n",
       "    </tr>\n",
       "    <tr>\n",
       "      <th>50%</th>\n",
       "      <td>0.000000</td>\n",
       "      <td>16200.000000</td>\n",
       "      <td>65858.000000</td>\n",
       "      <td>89183.000000</td>\n",
       "      <td>7.000000</td>\n",
       "      <td>0.000000</td>\n",
       "      <td>0.000000</td>\n",
       "      <td>173.640000</td>\n",
       "      <td>1.000000</td>\n",
       "      <td>20.000000</td>\n",
       "      <td>34.747000</td>\n",
       "    </tr>\n",
       "    <tr>\n",
       "      <th>75%</th>\n",
       "      <td>0.000000</td>\n",
       "      <td>23100.000000</td>\n",
       "      <td>91717.000000</td>\n",
       "      <td>118928.250000</td>\n",
       "      <td>13.000000</td>\n",
       "      <td>0.000000</td>\n",
       "      <td>0.000000</td>\n",
       "      <td>230.710000</td>\n",
       "      <td>2.000000</td>\n",
       "      <td>26.000000</td>\n",
       "      <td>38.940000</td>\n",
       "    </tr>\n",
       "    <tr>\n",
       "      <th>max</th>\n",
       "      <td>1.000000</td>\n",
       "      <td>89900.000000</td>\n",
       "      <td>399550.000000</td>\n",
       "      <td>850000.000000</td>\n",
       "      <td>41.000000</td>\n",
       "      <td>10.000000</td>\n",
       "      <td>15.000000</td>\n",
       "      <td>1168.230000</td>\n",
       "      <td>17.000000</td>\n",
       "      <td>71.000000</td>\n",
       "      <td>203.312000</td>\n",
       "    </tr>\n",
       "  </tbody>\n",
       "</table>\n",
       "</div>"
      ],
      "text/plain": [
       "               bad          loan        mortdue          value          yoj  \\\n",
       "count  3576.000000   3576.000000    3262.000000    3512.000000  3264.000000   \n",
       "mean      0.199385  18529.697987   74013.907992  101076.922759     8.832644   \n",
       "std       0.399594  11262.834060   44016.833772   54865.275351     7.568046   \n",
       "min       0.000000   1100.000000    2619.000000    8800.000000     0.000000   \n",
       "25%       0.000000  11000.000000   46700.250000   65753.000000     3.000000   \n",
       "50%       0.000000  16200.000000   65858.000000   89183.000000     7.000000   \n",
       "75%       0.000000  23100.000000   91717.000000  118928.250000    13.000000   \n",
       "max       1.000000  89900.000000  399550.000000  850000.000000    41.000000   \n",
       "\n",
       "             derog       delinq        clage         ninq         clno  \\\n",
       "count  3149.000000  3225.000000  3397.000000  3273.000000  3443.000000   \n",
       "mean      0.261670     0.432558   179.832529     1.186373    21.507116   \n",
       "std       0.865178     1.099230    87.066198     1.728723    10.167490   \n",
       "min       0.000000     0.000000     0.490000     0.000000     0.000000   \n",
       "25%       0.000000     0.000000   115.600000     0.000000    15.000000   \n",
       "50%       0.000000     0.000000   173.640000     1.000000    20.000000   \n",
       "75%       0.000000     0.000000   230.710000     2.000000    26.000000   \n",
       "max      10.000000    15.000000  1168.230000    17.000000    71.000000   \n",
       "\n",
       "           debtinc  \n",
       "count  2809.000000  \n",
       "mean     33.831737  \n",
       "std       9.061837  \n",
       "min       0.720000  \n",
       "25%      29.140000  \n",
       "50%      34.747000  \n",
       "75%      38.940000  \n",
       "max     203.312000  "
      ]
     },
     "execution_count": 24,
     "metadata": {},
     "output_type": "execute_result"
    }
   ],
   "source": [
    "info.describe()"
   ]
  },
  {
   "cell_type": "code",
   "execution_count": 27,
   "metadata": {},
   "outputs": [
    {
     "name": "stdout",
     "output_type": "stream",
     "text": [
      "[RangeIndex(start=0, stop=3576, step=1), Index(['bad', 'loan', 'mortdue', 'value', 'reason', 'job', 'yoj', 'derog',\n",
      "       'delinq', 'clage', 'ninq', 'clno', 'debtinc'],\n",
      "      dtype='object')]\n",
      " Veri şekli = (3576, 13)\n",
      " Veri büyüklüğü = 46488\n"
     ]
    }
   ],
   "source": [
    "info.shape()"
   ]
  },
  {
   "cell_type": "code",
   "execution_count": 33,
   "metadata": {},
   "outputs": [
    {
     "data": {
      "text/html": [
       "<div>\n",
       "<style scoped>\n",
       "    .dataframe tbody tr th:only-of-type {\n",
       "        vertical-align: middle;\n",
       "    }\n",
       "\n",
       "    .dataframe tbody tr th {\n",
       "        vertical-align: top;\n",
       "    }\n",
       "\n",
       "    .dataframe thead th {\n",
       "        text-align: right;\n",
       "    }\n",
       "</style>\n",
       "<table border=\"1\" class=\"dataframe\">\n",
       "  <thead>\n",
       "    <tr style=\"text-align: right;\">\n",
       "      <th></th>\n",
       "      <th>bad</th>\n",
       "      <th>loan</th>\n",
       "      <th>mortdue</th>\n",
       "      <th>value</th>\n",
       "      <th>reason</th>\n",
       "      <th>job</th>\n",
       "      <th>yoj</th>\n",
       "      <th>derog</th>\n",
       "      <th>delinq</th>\n",
       "      <th>clage</th>\n",
       "      <th>ninq</th>\n",
       "      <th>clno</th>\n",
       "      <th>debtinc</th>\n",
       "    </tr>\n",
       "  </thead>\n",
       "  <tbody>\n",
       "    <tr>\n",
       "      <th>0</th>\n",
       "      <td>0</td>\n",
       "      <td>81200</td>\n",
       "      <td>18834.0</td>\n",
       "      <td>108355.0</td>\n",
       "      <td>HomeImp</td>\n",
       "      <td>NaN</td>\n",
       "      <td>28.0</td>\n",
       "      <td>0.0</td>\n",
       "      <td>0.0</td>\n",
       "      <td>139.14</td>\n",
       "      <td>0.0</td>\n",
       "      <td>14.0</td>\n",
       "      <td>34.042</td>\n",
       "    </tr>\n",
       "    <tr>\n",
       "      <th>1</th>\n",
       "      <td>0</td>\n",
       "      <td>12600</td>\n",
       "      <td>103960.0</td>\n",
       "      <td>127384.0</td>\n",
       "      <td>DebtCon</td>\n",
       "      <td>NaN</td>\n",
       "      <td>2.0</td>\n",
       "      <td>0.0</td>\n",
       "      <td>0.0</td>\n",
       "      <td>129.02</td>\n",
       "      <td>0.0</td>\n",
       "      <td>25.0</td>\n",
       "      <td>34.479</td>\n",
       "    </tr>\n",
       "    <tr>\n",
       "      <th>2</th>\n",
       "      <td>0</td>\n",
       "      <td>18000</td>\n",
       "      <td>46865.0</td>\n",
       "      <td>61266.0</td>\n",
       "      <td>DebtCon</td>\n",
       "      <td>NaN</td>\n",
       "      <td>5.0</td>\n",
       "      <td>0.0</td>\n",
       "      <td>0.0</td>\n",
       "      <td>102.59</td>\n",
       "      <td>2.0</td>\n",
       "      <td>9.0</td>\n",
       "      <td>26.354</td>\n",
       "    </tr>\n",
       "    <tr>\n",
       "      <th>3</th>\n",
       "      <td>0</td>\n",
       "      <td>10300</td>\n",
       "      <td>57676.0</td>\n",
       "      <td>71027.0</td>\n",
       "      <td>DebtCon</td>\n",
       "      <td>NaN</td>\n",
       "      <td>19.0</td>\n",
       "      <td>0.0</td>\n",
       "      <td>0.0</td>\n",
       "      <td>157.52</td>\n",
       "      <td>1.0</td>\n",
       "      <td>11.0</td>\n",
       "      <td>33.992</td>\n",
       "    </tr>\n",
       "    <tr>\n",
       "      <th>4</th>\n",
       "      <td>0</td>\n",
       "      <td>9400</td>\n",
       "      <td>56508.0</td>\n",
       "      <td>78358.0</td>\n",
       "      <td>DebtCon</td>\n",
       "      <td>NaN</td>\n",
       "      <td>17.0</td>\n",
       "      <td>0.0</td>\n",
       "      <td>0.0</td>\n",
       "      <td>141.93</td>\n",
       "      <td>0.0</td>\n",
       "      <td>11.0</td>\n",
       "      <td>32.327</td>\n",
       "    </tr>\n",
       "  </tbody>\n",
       "</table>\n",
       "</div>"
      ],
      "text/plain": [
       "   bad   loan   mortdue     value   reason  job   yoj  derog  delinq   clage  \\\n",
       "0    0  81200   18834.0  108355.0  HomeImp  NaN  28.0    0.0     0.0  139.14   \n",
       "1    0  12600  103960.0  127384.0  DebtCon  NaN   2.0    0.0     0.0  129.02   \n",
       "2    0  18000   46865.0   61266.0  DebtCon  NaN   5.0    0.0     0.0  102.59   \n",
       "3    0  10300   57676.0   71027.0  DebtCon  NaN  19.0    0.0     0.0  157.52   \n",
       "4    0   9400   56508.0   78358.0  DebtCon  NaN  17.0    0.0     0.0  141.93   \n",
       "\n",
       "   ninq  clno  debtinc  \n",
       "0   0.0  14.0   34.042  \n",
       "1   0.0  25.0   34.479  \n",
       "2   2.0   9.0   26.354  \n",
       "3   1.0  11.0   33.992  \n",
       "4   0.0  11.0   32.327  "
      ]
     },
     "execution_count": 33,
     "metadata": {},
     "output_type": "execute_result"
    }
   ],
   "source": [
    "info.head()"
   ]
  },
  {
   "cell_type": "markdown",
   "metadata": {},
   "source": [
    "# Görselleştirme"
   ]
  },
  {
   "cell_type": "code",
   "execution_count": 34,
   "metadata": {},
   "outputs": [],
   "source": [
    "visual = Visualization(data)\n"
   ]
  },
  {
   "cell_type": "code",
   "execution_count": 35,
   "metadata": {},
   "outputs": [
    {
     "data": {
      "image/png": "[encoded data removed]",
      "text/plain": [
       "<Figure size 432x288 with 1 Axes>"
      ]
     },
     "metadata": {
      "needs_background": "light"
     },
     "output_type": "display_data"
    }
   ],
   "source": [
    "visual.countplot()"
   ]
  },
  {
   "cell_type": "code",
   "execution_count": 36,
   "metadata": {},
   "outputs": [
    {
     "data": {
      "image/png": "[encoded data removed]",
      "text/plain": [
       "<Figure size 432x288 with 1 Axes>"
      ]
     },
     "metadata": {
      "needs_background": "light"
     },
     "output_type": "display_data"
    }
   ],
   "source": [
    "visual.visual()"
   ]
  },
  {
   "cell_type": "code",
   "execution_count": 37,
   "metadata": {},
   "outputs": [
    {
     "name": "stderr",
     "output_type": "stream",
     "text": [
      "C:\\Users\\LENOVO\\Anaconda3\\lib\\site-packages\\scipy\\stats\\stats.py:1713: FutureWarning: Using a non-tuple sequence for multidimensional indexing is deprecated; use `arr[tuple(seq)]` instead of `arr[seq]`. In the future this will be interpreted as an array index, `arr[np.array(seq)]`, which will result either in an error or a different result.\n",
      "  return np.add.reduce(sorted[indexer] * weights, axis=axis) / sumval\n"
     ]
    },
    {
     "data": {
      "image/png": "[encoded data removed]",
      "text/plain": [
       "<Figure size 432x288 with 1 Axes>"
      ]
     },
     "metadata": {
      "needs_background": "light"
     },
     "output_type": "display_data"
    }
   ],
   "source": [
    "visual.distplot()"
   ]
  },
  {
   "cell_type": "code",
   "execution_count": 38,
   "metadata": {},
   "outputs": [
    {
     "data": {
      "image/png": "[encoded data removed]",
      "text/plain": [
       "<Figure size 1296x576 with 2 Axes>"
      ]
     },
     "metadata": {
      "needs_background": "light"
     },
     "output_type": "display_data"
    },
    {
     "data": {
      "image/png": "[encoded data removed]",
      "text/plain": [
       "<Figure size 360x360 with 1 Axes>"
      ]
     },
     "metadata": {
      "needs_background": "light"
     },
     "output_type": "display_data"
    }
   ],
   "source": [
    "visual.figure()"
   ]
  },
  {
   "cell_type": "code",
   "execution_count": 39,
   "metadata": {},
   "outputs": [
    {
     "name": "stdout",
     "output_type": "stream",
     "text": [
      "reason       DebtCon       HomeImp\n",
      "bad                               \n",
      "0       19973.226308  17029.975430\n",
      "1       19410.000000  12099.590164\n"
     ]
    }
   ],
   "source": [
    "visual.pivotTable()"
   ]
  },
  {
   "cell_type": "markdown",
   "metadata": {},
   "source": [
    "# Ön işleme ve Model"
   ]
  },
  {
   "cell_type": "code",
   "execution_count": 201,
   "metadata": {},
   "outputs": [],
   "source": [
    "pre = PreProcessing(data)"
   ]
  },
  {
   "cell_type": "code",
   "execution_count": 202,
   "metadata": {},
   "outputs": [],
   "source": [
    "pre.copy_data()"
   ]
  },
  {
   "cell_type": "markdown",
   "metadata": {},
   "source": [
    "### 1) Logistic Classification\n",
    "\n",
    "Bu notebook da solver olarak \"liblinear\" kullanılmıştır.\n",
    "\n",
    "\"loj_work.ipnyb\" notebook'unda solver olarak \"newton\" ve \"liblinear\" kullanılmış detaylı analiz yapılmıştır.\n"
   ]
  },
  {
   "cell_type": "markdown",
   "metadata": {},
   "source": [
    "## Kategorik değişkenler ve eksik gözlemler silinerek model kurma"
   ]
  },
  {
   "cell_type": "code",
   "execution_count": 203,
   "metadata": {},
   "outputs": [
    {
     "data": {
      "text/plain": [
       "bad        0\n",
       "loan       0\n",
       "mortdue    0\n",
       "value      0\n",
       "reason     0\n",
       "job        0\n",
       "yoj        0\n",
       "derog      0\n",
       "delinq     0\n",
       "clage      0\n",
       "ninq       0\n",
       "clno       0\n",
       "debtinc    0\n",
       "dtype: int64"
      ]
     },
     "execution_count": 203,
     "metadata": {},
     "output_type": "execute_result"
    }
   ],
   "source": [
    "pre.dropNa()"
   ]
  },
  {
   "cell_type": "code",
   "execution_count": 204,
   "metadata": {},
   "outputs": [
    {
     "data": {
      "text/html": [
       "<div>\n",
       "<style scoped>\n",
       "    .dataframe tbody tr th:only-of-type {\n",
       "        vertical-align: middle;\n",
       "    }\n",
       "\n",
       "    .dataframe tbody tr th {\n",
       "        vertical-align: top;\n",
       "    }\n",
       "\n",
       "    .dataframe thead th {\n",
       "        text-align: right;\n",
       "    }\n",
       "</style>\n",
       "<table border=\"1\" class=\"dataframe\">\n",
       "  <thead>\n",
       "    <tr style=\"text-align: right;\">\n",
       "      <th></th>\n",
       "      <th>loan</th>\n",
       "      <th>mortdue</th>\n",
       "      <th>value</th>\n",
       "      <th>yoj</th>\n",
       "      <th>derog</th>\n",
       "      <th>delinq</th>\n",
       "      <th>clage</th>\n",
       "      <th>ninq</th>\n",
       "      <th>clno</th>\n",
       "      <th>debtinc</th>\n",
       "    </tr>\n",
       "  </thead>\n",
       "  <tbody>\n",
       "    <tr>\n",
       "      <th>153</th>\n",
       "      <td>18200</td>\n",
       "      <td>94727.0</td>\n",
       "      <td>136877.0</td>\n",
       "      <td>15.0</td>\n",
       "      <td>0.0</td>\n",
       "      <td>0.0</td>\n",
       "      <td>168.96</td>\n",
       "      <td>2.0</td>\n",
       "      <td>26.0</td>\n",
       "      <td>36.056</td>\n",
       "    </tr>\n",
       "    <tr>\n",
       "      <th>154</th>\n",
       "      <td>21700</td>\n",
       "      <td>79240.0</td>\n",
       "      <td>96784.0</td>\n",
       "      <td>5.0</td>\n",
       "      <td>0.0</td>\n",
       "      <td>0.0</td>\n",
       "      <td>64.51</td>\n",
       "      <td>6.0</td>\n",
       "      <td>24.0</td>\n",
       "      <td>38.079</td>\n",
       "    </tr>\n",
       "    <tr>\n",
       "      <th>155</th>\n",
       "      <td>34100</td>\n",
       "      <td>241931.0</td>\n",
       "      <td>36486.0</td>\n",
       "      <td>1.0</td>\n",
       "      <td>0.0</td>\n",
       "      <td>2.0</td>\n",
       "      <td>196.01</td>\n",
       "      <td>3.0</td>\n",
       "      <td>50.0</td>\n",
       "      <td>42.459</td>\n",
       "    </tr>\n",
       "  </tbody>\n",
       "</table>\n",
       "</div>"
      ],
      "text/plain": [
       "      loan   mortdue     value   yoj  derog  delinq   clage  ninq  clno  \\\n",
       "153  18200   94727.0  136877.0  15.0    0.0     0.0  168.96   2.0  26.0   \n",
       "154  21700   79240.0   96784.0   5.0    0.0     0.0   64.51   6.0  24.0   \n",
       "155  34100  241931.0   36486.0   1.0    0.0     2.0  196.01   3.0  50.0   \n",
       "\n",
       "     debtinc  \n",
       "153   36.056  \n",
       "154   38.079  \n",
       "155   42.459  "
      ]
     },
     "execution_count": 204,
     "metadata": {},
     "output_type": "execute_result"
    }
   ],
   "source": [
    "pre.onhazirlik()"
   ]
  },
  {
   "cell_type": "code",
   "execution_count": 205,
   "metadata": {},
   "outputs": [
    {
     "name": "stdout",
     "output_type": "stream",
     "text": [
      "Optimization terminated successfully.\n",
      "         Current function value: 0.261768\n",
      "         Iterations 7\n"
     ]
    },
    {
     "data": {
      "text/html": [
       "<table class=\"simpletable\">\n",
       "<caption>Logit Regression Results</caption>\n",
       "<tr>\n",
       "  <th>Dep. Variable:</th>        <td>bad</td>       <th>  No. Observations:  </th>  <td>  2018</td>  \n",
       "</tr>\n",
       "<tr>\n",
       "  <th>Model:</th>               <td>Logit</td>      <th>  Df Residuals:      </th>  <td>  2008</td>  \n",
       "</tr>\n",
       "<tr>\n",
       "  <th>Method:</th>               <td>MLE</td>       <th>  Df Model:          </th>  <td>     9</td>  \n",
       "</tr>\n",
       "<tr>\n",
       "  <th>Date:</th>          <td>Sun, 23 Aug 2020</td> <th>  Pseudo R-squ.:     </th>  <td>0.1227</td>  \n",
       "</tr>\n",
       "<tr>\n",
       "  <th>Time:</th>              <td>17:00:21</td>     <th>  Log-Likelihood:    </th> <td> -528.25</td> \n",
       "</tr>\n",
       "<tr>\n",
       "  <th>converged:</th>           <td>True</td>       <th>  LL-Null:           </th> <td> -602.11</td> \n",
       "</tr>\n",
       "<tr>\n",
       "  <th> </th>                      <td> </td>        <th>  LLR p-value:       </th> <td>2.621e-27</td>\n",
       "</tr>\n",
       "</table>\n",
       "<table class=\"simpletable\">\n",
       "<tr>\n",
       "     <td></td>        <th>coef</th>     <th>std err</th>      <th>z</th>      <th>P>|z|</th>  <th>[0.025</th>    <th>0.975]</th>  \n",
       "</tr>\n",
       "<tr>\n",
       "  <th>loan</th>    <td>-2.706e-05</td> <td> 1.04e-05</td> <td>   -2.600</td> <td> 0.009</td> <td>-4.74e-05</td> <td>-6.66e-06</td>\n",
       "</tr>\n",
       "<tr>\n",
       "  <th>mortdue</th> <td>-3.409e-07</td> <td> 5.22e-06</td> <td>   -0.065</td> <td> 0.948</td> <td>-1.06e-05</td> <td>  9.9e-06</td>\n",
       "</tr>\n",
       "<tr>\n",
       "  <th>value</th>   <td>-3.173e-06</td> <td> 4.29e-06</td> <td>   -0.739</td> <td> 0.460</td> <td>-1.16e-05</td> <td> 5.24e-06</td>\n",
       "</tr>\n",
       "<tr>\n",
       "  <th>yoj</th>     <td>   -0.0342</td> <td>    0.013</td> <td>   -2.727</td> <td> 0.006</td> <td>   -0.059</td> <td>   -0.010</td>\n",
       "</tr>\n",
       "<tr>\n",
       "  <th>derog</th>   <td>    0.5800</td> <td>    0.122</td> <td>    4.758</td> <td> 0.000</td> <td>    0.341</td> <td>    0.819</td>\n",
       "</tr>\n",
       "<tr>\n",
       "  <th>delinq</th>  <td>    0.7398</td> <td>    0.086</td> <td>    8.610</td> <td> 0.000</td> <td>    0.571</td> <td>    0.908</td>\n",
       "</tr>\n",
       "<tr>\n",
       "  <th>clage</th>   <td>   -0.0084</td> <td>    0.001</td> <td>   -6.358</td> <td> 0.000</td> <td>   -0.011</td> <td>   -0.006</td>\n",
       "</tr>\n",
       "<tr>\n",
       "  <th>ninq</th>    <td>    0.0266</td> <td>    0.047</td> <td>    0.571</td> <td> 0.568</td> <td>   -0.065</td> <td>    0.118</td>\n",
       "</tr>\n",
       "<tr>\n",
       "  <th>clno</th>    <td>   -0.0505</td> <td>    0.011</td> <td>   -4.635</td> <td> 0.000</td> <td>   -0.072</td> <td>   -0.029</td>\n",
       "</tr>\n",
       "<tr>\n",
       "  <th>debtinc</th> <td>    0.0222</td> <td>    0.007</td> <td>    3.126</td> <td> 0.002</td> <td>    0.008</td> <td>    0.036</td>\n",
       "</tr>\n",
       "</table>"
      ],
      "text/plain": [
       "<class 'statsmodels.iolib.summary.Summary'>\n",
       "\"\"\"\n",
       "                           Logit Regression Results                           \n",
       "==============================================================================\n",
       "Dep. Variable:                    bad   No. Observations:                 2018\n",
       "Model:                          Logit   Df Residuals:                     2008\n",
       "Method:                           MLE   Df Model:                            9\n",
       "Date:                Sun, 23 Aug 2020   Pseudo R-squ.:                  0.1227\n",
       "Time:                        17:00:21   Log-Likelihood:                -528.25\n",
       "converged:                       True   LL-Null:                       -602.11\n",
       "                                        LLR p-value:                 2.621e-27\n",
       "==============================================================================\n",
       "                 coef    std err          z      P>|z|      [0.025      0.975]\n",
       "------------------------------------------------------------------------------\n",
       "loan       -2.706e-05   1.04e-05     -2.600      0.009   -4.74e-05   -6.66e-06\n",
       "mortdue    -3.409e-07   5.22e-06     -0.065      0.948   -1.06e-05     9.9e-06\n",
       "value      -3.173e-06   4.29e-06     -0.739      0.460   -1.16e-05    5.24e-06\n",
       "yoj           -0.0342      0.013     -2.727      0.006      -0.059      -0.010\n",
       "derog          0.5800      0.122      4.758      0.000       0.341       0.819\n",
       "delinq         0.7398      0.086      8.610      0.000       0.571       0.908\n",
       "clage         -0.0084      0.001     -6.358      0.000      -0.011      -0.006\n",
       "ninq           0.0266      0.047      0.571      0.568      -0.065       0.118\n",
       "clno          -0.0505      0.011     -4.635      0.000      -0.072      -0.029\n",
       "debtinc        0.0222      0.007      3.126      0.002       0.008       0.036\n",
       "==============================================================================\n",
       "\"\"\""
      ]
     },
     "execution_count": 205,
     "metadata": {},
     "output_type": "execute_result"
    }
   ],
   "source": [
    "# model \n",
    "\n",
    "pre.Log()"
   ]
  },
  {
   "cell_type": "markdown",
   "metadata": {},
   "source": [
    "*** R square değeri oldukça düşük. mortdue , value , ninq  değişkenleri anlamsız. loan ve yoj ise ufak bir farkla anlamsız gözüküyor."
   ]
  },
  {
   "cell_type": "code",
   "execution_count": 206,
   "metadata": {},
   "outputs": [],
   "source": [
    "# sklearn ile model\n",
    "\n",
    "pre.Sklearn_Log()"
   ]
  },
  {
   "cell_type": "code",
   "execution_count": 207,
   "metadata": {},
   "outputs": [],
   "source": [
    "pre.Log_predict()"
   ]
  },
  {
   "cell_type": "markdown",
   "metadata": {},
   "source": [
    "### *** Train ve test olarak ayrılmadan elde edilen doğruluk değeri"
   ]
  },
  {
   "cell_type": "code",
   "execution_count": 208,
   "metadata": {},
   "outputs": [
    {
     "name": "stdout",
     "output_type": "stream",
     "text": [
      "acc :0.9053518334985133\n"
     ]
    }
   ],
   "source": [
    "pre.acc()"
   ]
  },
  {
   "cell_type": "markdown",
   "metadata": {},
   "source": [
    "### **** Train ve Test diye ayırmadan elde edilen confusion matrix"
   ]
  },
  {
   "cell_type": "code",
   "execution_count": 209,
   "metadata": {},
   "outputs": [
    {
     "data": {
      "image/png": "[encoded data removed]",
      "text/plain": [
       "<Figure size 360x360 with 1 Axes>"
      ]
     },
     "metadata": {
      "needs_background": "light"
     },
     "output_type": "display_data"
    }
   ],
   "source": [
    "pre.confusion_matrix()"
   ]
  },
  {
   "cell_type": "markdown",
   "metadata": {},
   "source": [
    "### **** Train ve Test diye ayırmadan elde edilen classfication report"
   ]
  },
  {
   "cell_type": "code",
   "execution_count": 210,
   "metadata": {},
   "outputs": [
    {
     "name": "stdout",
     "output_type": "stream",
     "text": [
      "              precision    recall  f1-score   support\n",
      "\n",
      "           0       0.92      0.98      0.95      1840\n",
      "           1       0.39      0.12      0.19       178\n",
      "\n",
      "   micro avg       0.91      0.91      0.91      2018\n",
      "   macro avg       0.65      0.55      0.57      2018\n",
      "weighted avg       0.87      0.91      0.88      2018\n",
      "\n"
     ]
    }
   ],
   "source": [
    "pre.class_report()"
   ]
  },
  {
   "cell_type": "markdown",
   "metadata": {},
   "source": [
    "### **** Train ve Test diye ayırmadan elde edilen AUC-ROC"
   ]
  },
  {
   "cell_type": "code",
   "execution_count": 211,
   "metadata": {},
   "outputs": [
    {
     "data": {
      "image/png": "[encoded data removed]",
      "text/plain": [
       "<Figure size 432x288 with 1 Axes>"
      ]
     },
     "metadata": {
      "needs_background": "light"
     },
     "output_type": "display_data"
    }
   ],
   "source": [
    "pre.auc_roc()"
   ]
  },
  {
   "cell_type": "markdown",
   "metadata": {},
   "source": [
    "### Split ederek model"
   ]
  },
  {
   "cell_type": "code",
   "execution_count": 212,
   "metadata": {},
   "outputs": [],
   "source": [
    "pre.train_test_split()"
   ]
  },
  {
   "cell_type": "code",
   "execution_count": 213,
   "metadata": {},
   "outputs": [],
   "source": [
    "pre.Sklearn_Log_split()"
   ]
  },
  {
   "cell_type": "code",
   "execution_count": 214,
   "metadata": {},
   "outputs": [
    {
     "name": "stdout",
     "output_type": "stream",
     "text": [
      " test acc : 0.9158415841584159\n"
     ]
    }
   ],
   "source": [
    "pre.acc_split()"
   ]
  },
  {
   "cell_type": "code",
   "execution_count": 215,
   "metadata": {},
   "outputs": [
    {
     "data": {
      "image/png": "[encoded data removed]",
      "text/plain": [
       "<Figure size 360x360 with 1 Axes>"
      ]
     },
     "metadata": {
      "needs_background": "light"
     },
     "output_type": "display_data"
    }
   ],
   "source": [
    "pre.confusion_matrix_split_test()"
   ]
  },
  {
   "cell_type": "code",
   "execution_count": 216,
   "metadata": {},
   "outputs": [
    {
     "data": {
      "image/png": "[encoded data removed]",
      "text/plain": [
       "<Figure size 432x288 with 1 Axes>"
      ]
     },
     "metadata": {
      "needs_background": "light"
     },
     "output_type": "display_data"
    }
   ],
   "source": [
    "pre.auc_roc_split()"
   ]
  },
  {
   "cell_type": "code",
   "execution_count": 217,
   "metadata": {},
   "outputs": [
    {
     "name": "stdout",
     "output_type": "stream",
     "text": [
      "              precision    recall  f1-score   support\n",
      "\n",
      "           0       0.92      0.99      0.96       369\n",
      "           1       0.57      0.11      0.19        35\n",
      "\n",
      "   micro avg       0.92      0.92      0.92       404\n",
      "   macro avg       0.75      0.55      0.57       404\n",
      "weighted avg       0.89      0.92      0.89       404\n",
      "\n"
     ]
    }
   ],
   "source": [
    "pre.class_report_split()"
   ]
  },
  {
   "cell_type": "markdown",
   "metadata": {},
   "source": [
    "## Anlamsız çıkan değişkenlerin modelden çıkarılması"
   ]
  },
  {
   "cell_type": "code",
   "execution_count": 218,
   "metadata": {},
   "outputs": [
    {
     "data": {
      "text/html": [
       "<div>\n",
       "<style scoped>\n",
       "    .dataframe tbody tr th:only-of-type {\n",
       "        vertical-align: middle;\n",
       "    }\n",
       "\n",
       "    .dataframe tbody tr th {\n",
       "        vertical-align: top;\n",
       "    }\n",
       "\n",
       "    .dataframe thead th {\n",
       "        text-align: right;\n",
       "    }\n",
       "</style>\n",
       "<table border=\"1\" class=\"dataframe\">\n",
       "  <thead>\n",
       "    <tr style=\"text-align: right;\">\n",
       "      <th></th>\n",
       "      <th>loan</th>\n",
       "      <th>value</th>\n",
       "      <th>derog</th>\n",
       "      <th>delinq</th>\n",
       "      <th>clage</th>\n",
       "      <th>ninq</th>\n",
       "      <th>clno</th>\n",
       "      <th>debtinc</th>\n",
       "    </tr>\n",
       "  </thead>\n",
       "  <tbody>\n",
       "    <tr>\n",
       "      <th>153</th>\n",
       "      <td>18200</td>\n",
       "      <td>136877.0</td>\n",
       "      <td>0.0</td>\n",
       "      <td>0.0</td>\n",
       "      <td>168.96</td>\n",
       "      <td>2.0</td>\n",
       "      <td>26.0</td>\n",
       "      <td>36.056</td>\n",
       "    </tr>\n",
       "    <tr>\n",
       "      <th>154</th>\n",
       "      <td>21700</td>\n",
       "      <td>96784.0</td>\n",
       "      <td>0.0</td>\n",
       "      <td>0.0</td>\n",
       "      <td>64.51</td>\n",
       "      <td>6.0</td>\n",
       "      <td>24.0</td>\n",
       "      <td>38.079</td>\n",
       "    </tr>\n",
       "    <tr>\n",
       "      <th>155</th>\n",
       "      <td>34100</td>\n",
       "      <td>36486.0</td>\n",
       "      <td>0.0</td>\n",
       "      <td>2.0</td>\n",
       "      <td>196.01</td>\n",
       "      <td>3.0</td>\n",
       "      <td>50.0</td>\n",
       "      <td>42.459</td>\n",
       "    </tr>\n",
       "    <tr>\n",
       "      <th>156</th>\n",
       "      <td>8400</td>\n",
       "      <td>76718.0</td>\n",
       "      <td>0.0</td>\n",
       "      <td>2.0</td>\n",
       "      <td>131.47</td>\n",
       "      <td>0.0</td>\n",
       "      <td>22.0</td>\n",
       "      <td>29.200</td>\n",
       "    </tr>\n",
       "    <tr>\n",
       "      <th>157</th>\n",
       "      <td>17400</td>\n",
       "      <td>43684.0</td>\n",
       "      <td>1.0</td>\n",
       "      <td>0.0</td>\n",
       "      <td>95.36</td>\n",
       "      <td>1.0</td>\n",
       "      <td>17.0</td>\n",
       "      <td>27.108</td>\n",
       "    </tr>\n",
       "  </tbody>\n",
       "</table>\n",
       "</div>"
      ],
      "text/plain": [
       "      loan     value  derog  delinq   clage  ninq  clno  debtinc\n",
       "153  18200  136877.0    0.0     0.0  168.96   2.0  26.0   36.056\n",
       "154  21700   96784.0    0.0     0.0   64.51   6.0  24.0   38.079\n",
       "155  34100   36486.0    0.0     2.0  196.01   3.0  50.0   42.459\n",
       "156   8400   76718.0    0.0     2.0  131.47   0.0  22.0   29.200\n",
       "157  17400   43684.0    1.0     0.0   95.36   1.0  17.0   27.108"
      ]
     },
     "execution_count": 218,
     "metadata": {},
     "output_type": "execute_result"
    }
   ],
   "source": [
    "pre.drop() # drop fonksiyonu ile anlamsız değişkenler çıkarıldı."
   ]
  },
  {
   "cell_type": "code",
   "execution_count": 219,
   "metadata": {},
   "outputs": [
    {
     "name": "stdout",
     "output_type": "stream",
     "text": [
      "Optimization terminated successfully.\n",
      "         Current function value: 0.263730\n",
      "         Iterations 7\n"
     ]
    },
    {
     "data": {
      "text/html": [
       "<table class=\"simpletable\">\n",
       "<caption>Logit Regression Results</caption>\n",
       "<tr>\n",
       "  <th>Dep. Variable:</th>        <td>bad</td>       <th>  No. Observations:  </th>  <td>  2018</td>  \n",
       "</tr>\n",
       "<tr>\n",
       "  <th>Model:</th>               <td>Logit</td>      <th>  Df Residuals:      </th>  <td>  2010</td>  \n",
       "</tr>\n",
       "<tr>\n",
       "  <th>Method:</th>               <td>MLE</td>       <th>  Df Model:          </th>  <td>     7</td>  \n",
       "</tr>\n",
       "<tr>\n",
       "  <th>Date:</th>          <td>Sun, 23 Aug 2020</td> <th>  Pseudo R-squ.:     </th>  <td>0.1161</td>  \n",
       "</tr>\n",
       "<tr>\n",
       "  <th>Time:</th>              <td>17:00:26</td>     <th>  Log-Likelihood:    </th> <td> -532.21</td> \n",
       "</tr>\n",
       "<tr>\n",
       "  <th>converged:</th>           <td>True</td>       <th>  LL-Null:           </th> <td> -602.11</td> \n",
       "</tr>\n",
       "<tr>\n",
       "  <th> </th>                      <td> </td>        <th>  LLR p-value:       </th> <td>5.602e-27</td>\n",
       "</tr>\n",
       "</table>\n",
       "<table class=\"simpletable\">\n",
       "<tr>\n",
       "     <td></td>        <th>coef</th>     <th>std err</th>      <th>z</th>      <th>P>|z|</th>  <th>[0.025</th>    <th>0.975]</th>  \n",
       "</tr>\n",
       "<tr>\n",
       "  <th>loan</th>    <td>-3.133e-05</td> <td> 1.02e-05</td> <td>   -3.085</td> <td> 0.002</td> <td>-5.12e-05</td> <td>-1.14e-05</td>\n",
       "</tr>\n",
       "<tr>\n",
       "  <th>value</th>   <td>-3.259e-06</td> <td> 2.39e-06</td> <td>   -1.365</td> <td> 0.172</td> <td>-7.94e-06</td> <td> 1.42e-06</td>\n",
       "</tr>\n",
       "<tr>\n",
       "  <th>derog</th>   <td>    0.5895</td> <td>    0.121</td> <td>    4.873</td> <td> 0.000</td> <td>    0.352</td> <td>    0.827</td>\n",
       "</tr>\n",
       "<tr>\n",
       "  <th>delinq</th>  <td>    0.7195</td> <td>    0.084</td> <td>    8.545</td> <td> 0.000</td> <td>    0.555</td> <td>    0.885</td>\n",
       "</tr>\n",
       "<tr>\n",
       "  <th>clage</th>   <td>   -0.0094</td> <td>    0.001</td> <td>   -7.245</td> <td> 0.000</td> <td>   -0.012</td> <td>   -0.007</td>\n",
       "</tr>\n",
       "<tr>\n",
       "  <th>ninq</th>    <td>    0.0270</td> <td>    0.046</td> <td>    0.582</td> <td> 0.561</td> <td>   -0.064</td> <td>    0.118</td>\n",
       "</tr>\n",
       "<tr>\n",
       "  <th>clno</th>    <td>   -0.0514</td> <td>    0.011</td> <td>   -4.808</td> <td> 0.000</td> <td>   -0.072</td> <td>   -0.030</td>\n",
       "</tr>\n",
       "<tr>\n",
       "  <th>debtinc</th> <td>    0.0212</td> <td>    0.007</td> <td>    2.979</td> <td> 0.003</td> <td>    0.007</td> <td>    0.035</td>\n",
       "</tr>\n",
       "</table>"
      ],
      "text/plain": [
       "<class 'statsmodels.iolib.summary.Summary'>\n",
       "\"\"\"\n",
       "                           Logit Regression Results                           \n",
       "==============================================================================\n",
       "Dep. Variable:                    bad   No. Observations:                 2018\n",
       "Model:                          Logit   Df Residuals:                     2010\n",
       "Method:                           MLE   Df Model:                            7\n",
       "Date:                Sun, 23 Aug 2020   Pseudo R-squ.:                  0.1161\n",
       "Time:                        17:00:26   Log-Likelihood:                -532.21\n",
       "converged:                       True   LL-Null:                       -602.11\n",
       "                                        LLR p-value:                 5.602e-27\n",
       "==============================================================================\n",
       "                 coef    std err          z      P>|z|      [0.025      0.975]\n",
       "------------------------------------------------------------------------------\n",
       "loan       -3.133e-05   1.02e-05     -3.085      0.002   -5.12e-05   -1.14e-05\n",
       "value      -3.259e-06   2.39e-06     -1.365      0.172   -7.94e-06    1.42e-06\n",
       "derog          0.5895      0.121      4.873      0.000       0.352       0.827\n",
       "delinq         0.7195      0.084      8.545      0.000       0.555       0.885\n",
       "clage         -0.0094      0.001     -7.245      0.000      -0.012      -0.007\n",
       "ninq           0.0270      0.046      0.582      0.561      -0.064       0.118\n",
       "clno          -0.0514      0.011     -4.808      0.000      -0.072      -0.030\n",
       "debtinc        0.0212      0.007      2.979      0.003       0.007       0.035\n",
       "==============================================================================\n",
       "\"\"\""
      ]
     },
     "execution_count": 219,
     "metadata": {},
     "output_type": "execute_result"
    }
   ],
   "source": [
    "pre.Log()"
   ]
  },
  {
   "cell_type": "code",
   "execution_count": 220,
   "metadata": {},
   "outputs": [],
   "source": [
    "pre.Sklearn_Log()"
   ]
  },
  {
   "cell_type": "code",
   "execution_count": 221,
   "metadata": {},
   "outputs": [],
   "source": [
    "pre.Log_predict()"
   ]
  },
  {
   "cell_type": "code",
   "execution_count": 222,
   "metadata": {},
   "outputs": [
    {
     "name": "stdout",
     "output_type": "stream",
     "text": [
      "acc :0.8984142715559961\n"
     ]
    }
   ],
   "source": [
    "pre.acc() "
   ]
  },
  {
   "cell_type": "code",
   "execution_count": 223,
   "metadata": {},
   "outputs": [
    {
     "data": {
      "image/png": "[encoded data removed]",
      "text/plain": [
       "<Figure size 360x360 with 1 Axes>"
      ]
     },
     "metadata": {
      "needs_background": "light"
     },
     "output_type": "display_data"
    }
   ],
   "source": [
    "pre.confusion_matrix()"
   ]
  },
  {
   "cell_type": "code",
   "execution_count": 224,
   "metadata": {},
   "outputs": [
    {
     "name": "stdout",
     "output_type": "stream",
     "text": [
      "              precision    recall  f1-score   support\n",
      "\n",
      "           0       0.92      0.97      0.95      1840\n",
      "           1       0.33      0.15      0.20       178\n",
      "\n",
      "   micro avg       0.90      0.90      0.90      2018\n",
      "   macro avg       0.63      0.56      0.57      2018\n",
      "weighted avg       0.87      0.90      0.88      2018\n",
      "\n"
     ]
    }
   ],
   "source": [
    "pre.class_report()"
   ]
  },
  {
   "cell_type": "markdown",
   "metadata": {},
   "source": [
    "## Diğer anlamsız değişkenlerin de çıkarılması"
   ]
  },
  {
   "cell_type": "code",
   "execution_count": 225,
   "metadata": {},
   "outputs": [
    {
     "data": {
      "text/html": [
       "<div>\n",
       "<style scoped>\n",
       "    .dataframe tbody tr th:only-of-type {\n",
       "        vertical-align: middle;\n",
       "    }\n",
       "\n",
       "    .dataframe tbody tr th {\n",
       "        vertical-align: top;\n",
       "    }\n",
       "\n",
       "    .dataframe thead th {\n",
       "        text-align: right;\n",
       "    }\n",
       "</style>\n",
       "<table border=\"1\" class=\"dataframe\">\n",
       "  <thead>\n",
       "    <tr style=\"text-align: right;\">\n",
       "      <th></th>\n",
       "      <th>loan</th>\n",
       "      <th>derog</th>\n",
       "      <th>delinq</th>\n",
       "      <th>clage</th>\n",
       "      <th>clno</th>\n",
       "      <th>debtinc</th>\n",
       "    </tr>\n",
       "  </thead>\n",
       "  <tbody>\n",
       "    <tr>\n",
       "      <th>153</th>\n",
       "      <td>18200</td>\n",
       "      <td>0.0</td>\n",
       "      <td>0.0</td>\n",
       "      <td>168.96</td>\n",
       "      <td>26.0</td>\n",
       "      <td>36.056</td>\n",
       "    </tr>\n",
       "    <tr>\n",
       "      <th>154</th>\n",
       "      <td>21700</td>\n",
       "      <td>0.0</td>\n",
       "      <td>0.0</td>\n",
       "      <td>64.51</td>\n",
       "      <td>24.0</td>\n",
       "      <td>38.079</td>\n",
       "    </tr>\n",
       "    <tr>\n",
       "      <th>155</th>\n",
       "      <td>34100</td>\n",
       "      <td>0.0</td>\n",
       "      <td>2.0</td>\n",
       "      <td>196.01</td>\n",
       "      <td>50.0</td>\n",
       "      <td>42.459</td>\n",
       "    </tr>\n",
       "    <tr>\n",
       "      <th>156</th>\n",
       "      <td>8400</td>\n",
       "      <td>0.0</td>\n",
       "      <td>2.0</td>\n",
       "      <td>131.47</td>\n",
       "      <td>22.0</td>\n",
       "      <td>29.200</td>\n",
       "    </tr>\n",
       "    <tr>\n",
       "      <th>157</th>\n",
       "      <td>17400</td>\n",
       "      <td>1.0</td>\n",
       "      <td>0.0</td>\n",
       "      <td>95.36</td>\n",
       "      <td>17.0</td>\n",
       "      <td>27.108</td>\n",
       "    </tr>\n",
       "  </tbody>\n",
       "</table>\n",
       "</div>"
      ],
      "text/plain": [
       "      loan  derog  delinq   clage  clno  debtinc\n",
       "153  18200    0.0     0.0  168.96  26.0   36.056\n",
       "154  21700    0.0     0.0   64.51  24.0   38.079\n",
       "155  34100    0.0     2.0  196.01  50.0   42.459\n",
       "156   8400    0.0     2.0  131.47  22.0   29.200\n",
       "157  17400    1.0     0.0   95.36  17.0   27.108"
      ]
     },
     "execution_count": 225,
     "metadata": {},
     "output_type": "execute_result"
    }
   ],
   "source": [
    "pre.drop2()"
   ]
  },
  {
   "cell_type": "code",
   "execution_count": 226,
   "metadata": {},
   "outputs": [
    {
     "name": "stdout",
     "output_type": "stream",
     "text": [
      "Optimization terminated successfully.\n",
      "         Current function value: 0.264312\n",
      "         Iterations 7\n"
     ]
    },
    {
     "data": {
      "text/html": [
       "<table class=\"simpletable\">\n",
       "<caption>Logit Regression Results</caption>\n",
       "<tr>\n",
       "  <th>Dep. Variable:</th>        <td>bad</td>       <th>  No. Observations:  </th>  <td>  2018</td>  \n",
       "</tr>\n",
       "<tr>\n",
       "  <th>Model:</th>               <td>Logit</td>      <th>  Df Residuals:      </th>  <td>  2012</td>  \n",
       "</tr>\n",
       "<tr>\n",
       "  <th>Method:</th>               <td>MLE</td>       <th>  Df Model:          </th>  <td>     5</td>  \n",
       "</tr>\n",
       "<tr>\n",
       "  <th>Date:</th>          <td>Sun, 23 Aug 2020</td> <th>  Pseudo R-squ.:     </th>  <td>0.1141</td>  \n",
       "</tr>\n",
       "<tr>\n",
       "  <th>Time:</th>              <td>17:00:29</td>     <th>  Log-Likelihood:    </th> <td> -533.38</td> \n",
       "</tr>\n",
       "<tr>\n",
       "  <th>converged:</th>           <td>True</td>       <th>  LL-Null:           </th> <td> -602.11</td> \n",
       "</tr>\n",
       "<tr>\n",
       "  <th> </th>                      <td> </td>        <th>  LLR p-value:       </th> <td>6.230e-28</td>\n",
       "</tr>\n",
       "</table>\n",
       "<table class=\"simpletable\">\n",
       "<tr>\n",
       "     <td></td>        <th>coef</th>     <th>std err</th>      <th>z</th>      <th>P>|z|</th>  <th>[0.025</th>    <th>0.975]</th>  \n",
       "</tr>\n",
       "<tr>\n",
       "  <th>loan</th>    <td>-3.589e-05</td> <td>  9.7e-06</td> <td>   -3.699</td> <td> 0.000</td> <td>-5.49e-05</td> <td>-1.69e-05</td>\n",
       "</tr>\n",
       "<tr>\n",
       "  <th>derog</th>   <td>    0.6152</td> <td>    0.120</td> <td>    5.114</td> <td> 0.000</td> <td>    0.379</td> <td>    0.851</td>\n",
       "</tr>\n",
       "<tr>\n",
       "  <th>delinq</th>  <td>    0.7334</td> <td>    0.084</td> <td>    8.746</td> <td> 0.000</td> <td>    0.569</td> <td>    0.898</td>\n",
       "</tr>\n",
       "<tr>\n",
       "  <th>clage</th>   <td>   -0.0099</td> <td>    0.001</td> <td>   -7.883</td> <td> 0.000</td> <td>   -0.012</td> <td>   -0.007</td>\n",
       "</tr>\n",
       "<tr>\n",
       "  <th>clno</th>    <td>   -0.0546</td> <td>    0.010</td> <td>   -5.230</td> <td> 0.000</td> <td>   -0.075</td> <td>   -0.034</td>\n",
       "</tr>\n",
       "<tr>\n",
       "  <th>debtinc</th> <td>    0.0192</td> <td>    0.007</td> <td>    2.932</td> <td> 0.003</td> <td>    0.006</td> <td>    0.032</td>\n",
       "</tr>\n",
       "</table>"
      ],
      "text/plain": [
       "<class 'statsmodels.iolib.summary.Summary'>\n",
       "\"\"\"\n",
       "                           Logit Regression Results                           \n",
       "==============================================================================\n",
       "Dep. Variable:                    bad   No. Observations:                 2018\n",
       "Model:                          Logit   Df Residuals:                     2012\n",
       "Method:                           MLE   Df Model:                            5\n",
       "Date:                Sun, 23 Aug 2020   Pseudo R-squ.:                  0.1141\n",
       "Time:                        17:00:29   Log-Likelihood:                -533.38\n",
       "converged:                       True   LL-Null:                       -602.11\n",
       "                                        LLR p-value:                 6.230e-28\n",
       "==============================================================================\n",
       "                 coef    std err          z      P>|z|      [0.025      0.975]\n",
       "------------------------------------------------------------------------------\n",
       "loan       -3.589e-05    9.7e-06     -3.699      0.000   -5.49e-05   -1.69e-05\n",
       "derog          0.6152      0.120      5.114      0.000       0.379       0.851\n",
       "delinq         0.7334      0.084      8.746      0.000       0.569       0.898\n",
       "clage         -0.0099      0.001     -7.883      0.000      -0.012      -0.007\n",
       "clno          -0.0546      0.010     -5.230      0.000      -0.075      -0.034\n",
       "debtinc        0.0192      0.007      2.932      0.003       0.006       0.032\n",
       "==============================================================================\n",
       "\"\"\""
      ]
     },
     "execution_count": 226,
     "metadata": {},
     "output_type": "execute_result"
    }
   ],
   "source": [
    "pre.Log()"
   ]
  },
  {
   "cell_type": "code",
   "execution_count": 227,
   "metadata": {},
   "outputs": [
    {
     "name": "stdout",
     "output_type": "stream",
     "text": [
      "acc :0.8984142715559961\n"
     ]
    }
   ],
   "source": [
    "pre.acc()"
   ]
  },
  {
   "cell_type": "markdown",
   "metadata": {},
   "source": [
    "## Anlamsız değişkenlerin çıkarılarak gözlemlerin train ve test diye ayrılması ile model"
   ]
  },
  {
   "cell_type": "code",
   "execution_count": 228,
   "metadata": {},
   "outputs": [],
   "source": [
    "pre.train_test_split()"
   ]
  },
  {
   "cell_type": "code",
   "execution_count": 229,
   "metadata": {},
   "outputs": [],
   "source": [
    "pre.Sklearn_Log_split()"
   ]
  },
  {
   "cell_type": "code",
   "execution_count": 230,
   "metadata": {},
   "outputs": [
    {
     "name": "stdout",
     "output_type": "stream",
     "text": [
      " test acc : 0.9108910891089109\n"
     ]
    }
   ],
   "source": [
    "pre.acc_split()"
   ]
  },
  {
   "cell_type": "code",
   "execution_count": 231,
   "metadata": {},
   "outputs": [
    {
     "data": {
      "image/png": "[encoded data removed]",
      "text/plain": [
       "<Figure size 360x360 with 1 Axes>"
      ]
     },
     "metadata": {
      "needs_background": "light"
     },
     "output_type": "display_data"
    }
   ],
   "source": [
    "pre.confusion_matrix_split_test()"
   ]
  },
  {
   "cell_type": "code",
   "execution_count": 232,
   "metadata": {},
   "outputs": [
    {
     "data": {
      "image/png": "[encoded data removed]",
      "text/plain": [
       "<Figure size 432x288 with 1 Axes>"
      ]
     },
     "metadata": {
      "needs_background": "light"
     },
     "output_type": "display_data"
    }
   ],
   "source": [
    "pre.auc_roc_split()"
   ]
  },
  {
   "cell_type": "code",
   "execution_count": 233,
   "metadata": {},
   "outputs": [
    {
     "name": "stdout",
     "output_type": "stream",
     "text": [
      "              precision    recall  f1-score   support\n",
      "\n",
      "           0       0.94      0.97      0.95       369\n",
      "           1       0.48      0.31      0.38        35\n",
      "\n",
      "   micro avg       0.91      0.91      0.91       404\n",
      "   macro avg       0.71      0.64      0.67       404\n",
      "weighted avg       0.90      0.91      0.90       404\n",
      "\n"
     ]
    }
   ],
   "source": [
    "pre.class_report_split()"
   ]
  },
  {
   "cell_type": "markdown",
   "metadata": {},
   "source": [
    "# Eksik değerlerden kategorik olanları mod ve sürekli değişkenlerden eksik olanları mean ile doldurmak \n",
    "\n",
    "# Kategorik değişkenlere dummy yapılması.\n",
    "\n",
    "# Normalizasyon"
   ]
  },
  {
   "cell_type": "code",
   "execution_count": 234,
   "metadata": {},
   "outputs": [],
   "source": [
    "data = pd.read_csv('hmelq.csv')"
   ]
  },
  {
   "cell_type": "markdown",
   "metadata": {},
   "source": [
    "### mortdue , value gibi yüksek değerli değişkenlerin clno gibi değişkenleri baskılamaması için normalizasyon yapacağız."
   ]
  },
  {
   "cell_type": "code",
   "execution_count": 235,
   "metadata": {},
   "outputs": [],
   "source": [
    "pre = PreProcessing(data)"
   ]
  },
  {
   "cell_type": "markdown",
   "metadata": {},
   "source": [
    "### Kategorik ve sürekli değişkenlerden eksik olanları doldurma işlemi"
   ]
  },
  {
   "cell_type": "code",
   "execution_count": 236,
   "metadata": {},
   "outputs": [
    {
     "name": "stdout",
     "output_type": "stream",
     "text": [
      " En sık tekrarlanan sebep:DebtCon\n",
      " En sık tekrarlanan iş:Other\n"
     ]
    },
    {
     "data": {
      "text/plain": [
       "bad        0\n",
       "loan       0\n",
       "mortdue    0\n",
       "value      0\n",
       "reason     0\n",
       "job        0\n",
       "yoj        0\n",
       "derog      0\n",
       "delinq     0\n",
       "clage      0\n",
       "ninq       0\n",
       "clno       0\n",
       "debtinc    0\n",
       "dtype: int64"
      ]
     },
     "execution_count": 236,
     "metadata": {},
     "output_type": "execute_result"
    }
   ],
   "source": [
    "pre.fillna()"
   ]
  },
  {
   "cell_type": "markdown",
   "metadata": {},
   "source": [
    "### Dummies değişkene dönüştürme"
   ]
  },
  {
   "cell_type": "code",
   "execution_count": 237,
   "metadata": {},
   "outputs": [
    {
     "data": {
      "text/html": [
       "<div>\n",
       "<style scoped>\n",
       "    .dataframe tbody tr th:only-of-type {\n",
       "        vertical-align: middle;\n",
       "    }\n",
       "\n",
       "    .dataframe tbody tr th {\n",
       "        vertical-align: top;\n",
       "    }\n",
       "\n",
       "    .dataframe thead th {\n",
       "        text-align: right;\n",
       "    }\n",
       "</style>\n",
       "<table border=\"1\" class=\"dataframe\">\n",
       "  <thead>\n",
       "    <tr style=\"text-align: right;\">\n",
       "      <th></th>\n",
       "      <th>loan</th>\n",
       "      <th>mortdue</th>\n",
       "      <th>value</th>\n",
       "      <th>yoj</th>\n",
       "      <th>derog</th>\n",
       "      <th>delinq</th>\n",
       "      <th>clage</th>\n",
       "      <th>ninq</th>\n",
       "      <th>clno</th>\n",
       "      <th>debtinc</th>\n",
       "      <th>reason_DebtCon</th>\n",
       "      <th>reason_HomeImp</th>\n",
       "      <th>job_Mgr</th>\n",
       "      <th>job_Office</th>\n",
       "      <th>job_Other</th>\n",
       "      <th>job_ProfEx</th>\n",
       "      <th>job_Sales</th>\n",
       "      <th>job_Self</th>\n",
       "    </tr>\n",
       "  </thead>\n",
       "  <tbody>\n",
       "    <tr>\n",
       "      <th>0</th>\n",
       "      <td>81200.0</td>\n",
       "      <td>18834.0</td>\n",
       "      <td>108355.0</td>\n",
       "      <td>28.0</td>\n",
       "      <td>0.0</td>\n",
       "      <td>0.0</td>\n",
       "      <td>139.14</td>\n",
       "      <td>0.0</td>\n",
       "      <td>14.0</td>\n",
       "      <td>34.042</td>\n",
       "      <td>0</td>\n",
       "      <td>1</td>\n",
       "      <td>0</td>\n",
       "      <td>0</td>\n",
       "      <td>1</td>\n",
       "      <td>0</td>\n",
       "      <td>0</td>\n",
       "      <td>0</td>\n",
       "    </tr>\n",
       "    <tr>\n",
       "      <th>1</th>\n",
       "      <td>12600.0</td>\n",
       "      <td>103960.0</td>\n",
       "      <td>127384.0</td>\n",
       "      <td>2.0</td>\n",
       "      <td>0.0</td>\n",
       "      <td>0.0</td>\n",
       "      <td>129.02</td>\n",
       "      <td>0.0</td>\n",
       "      <td>25.0</td>\n",
       "      <td>34.479</td>\n",
       "      <td>1</td>\n",
       "      <td>0</td>\n",
       "      <td>0</td>\n",
       "      <td>0</td>\n",
       "      <td>1</td>\n",
       "      <td>0</td>\n",
       "      <td>0</td>\n",
       "      <td>0</td>\n",
       "    </tr>\n",
       "    <tr>\n",
       "      <th>2</th>\n",
       "      <td>18000.0</td>\n",
       "      <td>46865.0</td>\n",
       "      <td>61266.0</td>\n",
       "      <td>5.0</td>\n",
       "      <td>0.0</td>\n",
       "      <td>0.0</td>\n",
       "      <td>102.59</td>\n",
       "      <td>2.0</td>\n",
       "      <td>9.0</td>\n",
       "      <td>26.354</td>\n",
       "      <td>1</td>\n",
       "      <td>0</td>\n",
       "      <td>0</td>\n",
       "      <td>0</td>\n",
       "      <td>1</td>\n",
       "      <td>0</td>\n",
       "      <td>0</td>\n",
       "      <td>0</td>\n",
       "    </tr>\n",
       "  </tbody>\n",
       "</table>\n",
       "</div>"
      ],
      "text/plain": [
       "      loan   mortdue     value   yoj  derog  delinq   clage  ninq  clno  \\\n",
       "0  81200.0   18834.0  108355.0  28.0    0.0     0.0  139.14   0.0  14.0   \n",
       "1  12600.0  103960.0  127384.0   2.0    0.0     0.0  129.02   0.0  25.0   \n",
       "2  18000.0   46865.0   61266.0   5.0    0.0     0.0  102.59   2.0   9.0   \n",
       "\n",
       "   debtinc  reason_DebtCon  reason_HomeImp  job_Mgr  job_Office  job_Other  \\\n",
       "0   34.042               0               1        0           0          1   \n",
       "1   34.479               1               0        0           0          1   \n",
       "2   26.354               1               0        0           0          1   \n",
       "\n",
       "   job_ProfEx  job_Sales  job_Self  \n",
       "0           0          0         0  \n",
       "1           0          0         0  \n",
       "2           0          0         0  "
      ]
     },
     "execution_count": 237,
     "metadata": {},
     "output_type": "execute_result"
    }
   ],
   "source": [
    "pre.dummies()"
   ]
  },
  {
   "cell_type": "markdown",
   "metadata": {},
   "source": [
    "### Normalizasyon"
   ]
  },
  {
   "cell_type": "code",
   "execution_count": 238,
   "metadata": {},
   "outputs": [],
   "source": [
    "pre.normalize()"
   ]
  },
  {
   "cell_type": "code",
   "execution_count": 239,
   "metadata": {},
   "outputs": [],
   "source": [
    "pre.train_test_split()"
   ]
  },
  {
   "cell_type": "code",
   "execution_count": 240,
   "metadata": {},
   "outputs": [
    {
     "name": "stdout",
     "output_type": "stream",
     "text": [
      "Optimization terminated successfully.\n",
      "         Current function value: 0.395744\n",
      "         Iterations 8\n"
     ]
    },
    {
     "name": "stderr",
     "output_type": "stream",
     "text": [
      "C:\\Users\\LENOVO\\Anaconda3\\lib\\site-packages\\statsmodels\\base\\model.py:1092: RuntimeWarning: invalid value encountered in sqrt\n",
      "  bse_ = np.sqrt(np.diag(self.cov_params()))\n"
     ]
    },
    {
     "data": {
      "text/html": [
       "<table class=\"simpletable\">\n",
       "<caption>Logit Regression Results</caption>\n",
       "<tr>\n",
       "  <th>Dep. Variable:</th>        <td>bad</td>       <th>  No. Observations:  </th>   <td>  3576</td>  \n",
       "</tr>\n",
       "<tr>\n",
       "  <th>Model:</th>               <td>Logit</td>      <th>  Df Residuals:      </th>   <td>  3559</td>  \n",
       "</tr>\n",
       "<tr>\n",
       "  <th>Method:</th>               <td>MLE</td>       <th>  Df Model:          </th>   <td>    16</td>  \n",
       "</tr>\n",
       "<tr>\n",
       "  <th>Date:</th>          <td>Sun, 23 Aug 2020</td> <th>  Pseudo R-squ.:     </th>   <td>0.2078</td>  \n",
       "</tr>\n",
       "<tr>\n",
       "  <th>Time:</th>              <td>17:00:36</td>     <th>  Log-Likelihood:    </th>  <td> -1415.2</td> \n",
       "</tr>\n",
       "<tr>\n",
       "  <th>converged:</th>           <td>True</td>       <th>  LL-Null:           </th>  <td> -1786.4</td> \n",
       "</tr>\n",
       "<tr>\n",
       "  <th> </th>                      <td> </td>        <th>  LLR p-value:       </th> <td>1.204e-147</td>\n",
       "</tr>\n",
       "</table>\n",
       "<table class=\"simpletable\">\n",
       "<tr>\n",
       "         <td></td>           <th>coef</th>     <th>std err</th>      <th>z</th>      <th>P>|z|</th>  <th>[0.025</th>    <th>0.975]</th>  \n",
       "</tr>\n",
       "<tr>\n",
       "  <th>loan</th>           <td>-1.753e-05</td> <td> 5.14e-06</td> <td>   -3.411</td> <td> 0.001</td> <td>-2.76e-05</td> <td>-7.46e-06</td>\n",
       "</tr>\n",
       "<tr>\n",
       "  <th>mortdue</th>        <td>-5.287e-06</td> <td> 1.95e-06</td> <td>   -2.716</td> <td> 0.007</td> <td> -9.1e-06</td> <td>-1.47e-06</td>\n",
       "</tr>\n",
       "<tr>\n",
       "  <th>value</th>          <td> 3.036e-06</td> <td> 1.49e-06</td> <td>    2.033</td> <td> 0.042</td> <td> 1.09e-07</td> <td> 5.96e-06</td>\n",
       "</tr>\n",
       "<tr>\n",
       "  <th>yoj</th>            <td>   -0.0115</td> <td>    0.007</td> <td>   -1.553</td> <td> 0.121</td> <td>   -0.026</td> <td>    0.003</td>\n",
       "</tr>\n",
       "<tr>\n",
       "  <th>derog</th>          <td>    0.4965</td> <td>    0.060</td> <td>    8.235</td> <td> 0.000</td> <td>    0.378</td> <td>    0.615</td>\n",
       "</tr>\n",
       "<tr>\n",
       "  <th>delinq</th>         <td>    0.7567</td> <td>    0.050</td> <td>   15.068</td> <td> 0.000</td> <td>    0.658</td> <td>    0.855</td>\n",
       "</tr>\n",
       "<tr>\n",
       "  <th>clage</th>          <td>   -0.0051</td> <td>    0.001</td> <td>   -7.353</td> <td> 0.000</td> <td>   -0.006</td> <td>   -0.004</td>\n",
       "</tr>\n",
       "<tr>\n",
       "  <th>ninq</th>           <td>    0.1660</td> <td>    0.026</td> <td>    6.321</td> <td> 0.000</td> <td>    0.115</td> <td>    0.218</td>\n",
       "</tr>\n",
       "<tr>\n",
       "  <th>clno</th>           <td>   -0.0127</td> <td>    0.005</td> <td>   -2.331</td> <td> 0.020</td> <td>   -0.023</td> <td>   -0.002</td>\n",
       "</tr>\n",
       "<tr>\n",
       "  <th>debtinc</th>        <td>    0.0602</td> <td>    0.008</td> <td>    7.591</td> <td> 0.000</td> <td>    0.045</td> <td>    0.076</td>\n",
       "</tr>\n",
       "<tr>\n",
       "  <th>reason_DebtCon</th> <td>   -1.9541</td> <td>      nan</td> <td>      nan</td> <td>   nan</td> <td>      nan</td> <td>      nan</td>\n",
       "</tr>\n",
       "<tr>\n",
       "  <th>reason_HomeImp</th> <td>   -1.6066</td> <td>      nan</td> <td>      nan</td> <td>   nan</td> <td>      nan</td> <td>      nan</td>\n",
       "</tr>\n",
       "<tr>\n",
       "  <th>job_Mgr</th>        <td>   -0.7501</td> <td>      nan</td> <td>      nan</td> <td>   nan</td> <td>      nan</td> <td>      nan</td>\n",
       "</tr>\n",
       "<tr>\n",
       "  <th>job_Office</th>     <td>   -1.4008</td> <td>      nan</td> <td>      nan</td> <td>   nan</td> <td>      nan</td> <td>      nan</td>\n",
       "</tr>\n",
       "<tr>\n",
       "  <th>job_Other</th>      <td>   -0.7609</td> <td>      nan</td> <td>      nan</td> <td>   nan</td> <td>      nan</td> <td>      nan</td>\n",
       "</tr>\n",
       "<tr>\n",
       "  <th>job_ProfEx</th>     <td>   -0.7497</td> <td>      nan</td> <td>      nan</td> <td>   nan</td> <td>      nan</td> <td>      nan</td>\n",
       "</tr>\n",
       "<tr>\n",
       "  <th>job_Sales</th>      <td>    0.2836</td> <td>      nan</td> <td>      nan</td> <td>   nan</td> <td>      nan</td> <td>      nan</td>\n",
       "</tr>\n",
       "<tr>\n",
       "  <th>job_Self</th>       <td>   -0.1828</td> <td>      nan</td> <td>      nan</td> <td>   nan</td> <td>      nan</td> <td>      nan</td>\n",
       "</tr>\n",
       "</table>"
      ],
      "text/plain": [
       "<class 'statsmodels.iolib.summary.Summary'>\n",
       "\"\"\"\n",
       "                           Logit Regression Results                           \n",
       "==============================================================================\n",
       "Dep. Variable:                    bad   No. Observations:                 3576\n",
       "Model:                          Logit   Df Residuals:                     3559\n",
       "Method:                           MLE   Df Model:                           16\n",
       "Date:                Sun, 23 Aug 2020   Pseudo R-squ.:                  0.2078\n",
       "Time:                        17:00:36   Log-Likelihood:                -1415.2\n",
       "converged:                       True   LL-Null:                       -1786.4\n",
       "                                        LLR p-value:                1.204e-147\n",
       "==================================================================================\n",
       "                     coef    std err          z      P>|z|      [0.025      0.975]\n",
       "----------------------------------------------------------------------------------\n",
       "loan           -1.753e-05   5.14e-06     -3.411      0.001   -2.76e-05   -7.46e-06\n",
       "mortdue        -5.287e-06   1.95e-06     -2.716      0.007    -9.1e-06   -1.47e-06\n",
       "value           3.036e-06   1.49e-06      2.033      0.042    1.09e-07    5.96e-06\n",
       "yoj               -0.0115      0.007     -1.553      0.121      -0.026       0.003\n",
       "derog              0.4965      0.060      8.235      0.000       0.378       0.615\n",
       "delinq             0.7567      0.050     15.068      0.000       0.658       0.855\n",
       "clage             -0.0051      0.001     -7.353      0.000      -0.006      -0.004\n",
       "ninq               0.1660      0.026      6.321      0.000       0.115       0.218\n",
       "clno              -0.0127      0.005     -2.331      0.020      -0.023      -0.002\n",
       "debtinc            0.0602      0.008      7.591      0.000       0.045       0.076\n",
       "reason_DebtCon    -1.9541        nan        nan        nan         nan         nan\n",
       "reason_HomeImp    -1.6066        nan        nan        nan         nan         nan\n",
       "job_Mgr           -0.7501        nan        nan        nan         nan         nan\n",
       "job_Office        -1.4008        nan        nan        nan         nan         nan\n",
       "job_Other         -0.7609        nan        nan        nan         nan         nan\n",
       "job_ProfEx        -0.7497        nan        nan        nan         nan         nan\n",
       "job_Sales          0.2836        nan        nan        nan         nan         nan\n",
       "job_Self          -0.1828        nan        nan        nan         nan         nan\n",
       "==================================================================================\n",
       "\"\"\""
      ]
     },
     "execution_count": 240,
     "metadata": {},
     "output_type": "execute_result"
    }
   ],
   "source": [
    "pre.Log()"
   ]
  },
  {
   "cell_type": "code",
   "execution_count": 241,
   "metadata": {},
   "outputs": [],
   "source": [
    "pre.Sklearn_Log_split()"
   ]
  },
  {
   "cell_type": "code",
   "execution_count": 242,
   "metadata": {},
   "outputs": [
    {
     "name": "stdout",
     "output_type": "stream",
     "text": [
      " test acc : 0.7863128491620112\n"
     ]
    }
   ],
   "source": [
    "pre.acc_split()"
   ]
  },
  {
   "cell_type": "code",
   "execution_count": 243,
   "metadata": {},
   "outputs": [
    {
     "data": {
      "image/png": "[encoded data removed]",
      "text/plain": [
       "<Figure size 360x360 with 1 Axes>"
      ]
     },
     "metadata": {
      "needs_background": "light"
     },
     "output_type": "display_data"
    }
   ],
   "source": [
    "pre.confusion_matrix_split_test()"
   ]
  },
  {
   "cell_type": "code",
   "execution_count": 244,
   "metadata": {},
   "outputs": [
    {
     "data": {
      "image/png": "[encoded data removed]",
      "text/plain": [
       "<Figure size 432x288 with 1 Axes>"
      ]
     },
     "metadata": {
      "needs_background": "light"
     },
     "output_type": "display_data"
    }
   ],
   "source": [
    "pre.auc_roc_split()"
   ]
  },
  {
   "cell_type": "markdown",
   "metadata": {},
   "source": [
    "# Sadece kategorik değişkenlerin dummy değişkene dönüştürülmesi ve eksik değerlerin çıkarılması"
   ]
  },
  {
   "cell_type": "code",
   "execution_count": 245,
   "metadata": {},
   "outputs": [],
   "source": [
    "data = pd.read_csv('hmelq.csv')"
   ]
  },
  {
   "cell_type": "code",
   "execution_count": 246,
   "metadata": {},
   "outputs": [],
   "source": [
    "pre = PreProcessing(data)"
   ]
  },
  {
   "cell_type": "code",
   "execution_count": 247,
   "metadata": {},
   "outputs": [
    {
     "data": {
      "text/plain": [
       "bad        0\n",
       "loan       0\n",
       "mortdue    0\n",
       "value      0\n",
       "reason     0\n",
       "job        0\n",
       "yoj        0\n",
       "derog      0\n",
       "delinq     0\n",
       "clage      0\n",
       "ninq       0\n",
       "clno       0\n",
       "debtinc    0\n",
       "dtype: int64"
      ]
     },
     "execution_count": 247,
     "metadata": {},
     "output_type": "execute_result"
    }
   ],
   "source": [
    "pre.dropNa()"
   ]
  },
  {
   "cell_type": "code",
   "execution_count": 248,
   "metadata": {},
   "outputs": [
    {
     "data": {
      "text/html": [
       "<div>\n",
       "<style scoped>\n",
       "    .dataframe tbody tr th:only-of-type {\n",
       "        vertical-align: middle;\n",
       "    }\n",
       "\n",
       "    .dataframe tbody tr th {\n",
       "        vertical-align: top;\n",
       "    }\n",
       "\n",
       "    .dataframe thead th {\n",
       "        text-align: right;\n",
       "    }\n",
       "</style>\n",
       "<table border=\"1\" class=\"dataframe\">\n",
       "  <thead>\n",
       "    <tr style=\"text-align: right;\">\n",
       "      <th></th>\n",
       "      <th>loan</th>\n",
       "      <th>mortdue</th>\n",
       "      <th>value</th>\n",
       "      <th>yoj</th>\n",
       "      <th>derog</th>\n",
       "      <th>delinq</th>\n",
       "      <th>clage</th>\n",
       "      <th>ninq</th>\n",
       "      <th>clno</th>\n",
       "      <th>debtinc</th>\n",
       "      <th>reason_DebtCon</th>\n",
       "      <th>reason_HomeImp</th>\n",
       "      <th>job_Mgr</th>\n",
       "      <th>job_Office</th>\n",
       "      <th>job_Other</th>\n",
       "      <th>job_ProfEx</th>\n",
       "      <th>job_Sales</th>\n",
       "      <th>job_Self</th>\n",
       "    </tr>\n",
       "  </thead>\n",
       "  <tbody>\n",
       "    <tr>\n",
       "      <th>153</th>\n",
       "      <td>18200.0</td>\n",
       "      <td>94727.0</td>\n",
       "      <td>136877.0</td>\n",
       "      <td>15.0</td>\n",
       "      <td>0.0</td>\n",
       "      <td>0.0</td>\n",
       "      <td>168.96</td>\n",
       "      <td>2.0</td>\n",
       "      <td>26.0</td>\n",
       "      <td>36.056</td>\n",
       "      <td>1</td>\n",
       "      <td>0</td>\n",
       "      <td>1</td>\n",
       "      <td>0</td>\n",
       "      <td>0</td>\n",
       "      <td>0</td>\n",
       "      <td>0</td>\n",
       "      <td>0</td>\n",
       "    </tr>\n",
       "    <tr>\n",
       "      <th>154</th>\n",
       "      <td>21700.0</td>\n",
       "      <td>79240.0</td>\n",
       "      <td>96784.0</td>\n",
       "      <td>5.0</td>\n",
       "      <td>0.0</td>\n",
       "      <td>0.0</td>\n",
       "      <td>64.51</td>\n",
       "      <td>6.0</td>\n",
       "      <td>24.0</td>\n",
       "      <td>38.079</td>\n",
       "      <td>1</td>\n",
       "      <td>0</td>\n",
       "      <td>1</td>\n",
       "      <td>0</td>\n",
       "      <td>0</td>\n",
       "      <td>0</td>\n",
       "      <td>0</td>\n",
       "      <td>0</td>\n",
       "    </tr>\n",
       "    <tr>\n",
       "      <th>155</th>\n",
       "      <td>34100.0</td>\n",
       "      <td>241931.0</td>\n",
       "      <td>36486.0</td>\n",
       "      <td>1.0</td>\n",
       "      <td>0.0</td>\n",
       "      <td>2.0</td>\n",
       "      <td>196.01</td>\n",
       "      <td>3.0</td>\n",
       "      <td>50.0</td>\n",
       "      <td>42.459</td>\n",
       "      <td>1</td>\n",
       "      <td>0</td>\n",
       "      <td>1</td>\n",
       "      <td>0</td>\n",
       "      <td>0</td>\n",
       "      <td>0</td>\n",
       "      <td>0</td>\n",
       "      <td>0</td>\n",
       "    </tr>\n",
       "  </tbody>\n",
       "</table>\n",
       "</div>"
      ],
      "text/plain": [
       "        loan   mortdue     value   yoj  derog  delinq   clage  ninq  clno  \\\n",
       "153  18200.0   94727.0  136877.0  15.0    0.0     0.0  168.96   2.0  26.0   \n",
       "154  21700.0   79240.0   96784.0   5.0    0.0     0.0   64.51   6.0  24.0   \n",
       "155  34100.0  241931.0   36486.0   1.0    0.0     2.0  196.01   3.0  50.0   \n",
       "\n",
       "     debtinc  reason_DebtCon  reason_HomeImp  job_Mgr  job_Office  job_Other  \\\n",
       "153   36.056               1               0        1           0          0   \n",
       "154   38.079               1               0        1           0          0   \n",
       "155   42.459               1               0        1           0          0   \n",
       "\n",
       "     job_ProfEx  job_Sales  job_Self  \n",
       "153           0          0         0  \n",
       "154           0          0         0  \n",
       "155           0          0         0  "
      ]
     },
     "execution_count": 248,
     "metadata": {},
     "output_type": "execute_result"
    }
   ],
   "source": [
    "pre.dummies()"
   ]
  },
  {
   "cell_type": "code",
   "execution_count": 249,
   "metadata": {},
   "outputs": [],
   "source": [
    "pre.train_test_split()"
   ]
  },
  {
   "cell_type": "code",
   "execution_count": 250,
   "metadata": {},
   "outputs": [
    {
     "name": "stdout",
     "output_type": "stream",
     "text": [
      "Optimization terminated successfully.\n",
      "         Current function value: 0.228362\n",
      "         Iterations 9\n"
     ]
    },
    {
     "name": "stderr",
     "output_type": "stream",
     "text": [
      "C:\\Users\\LENOVO\\Anaconda3\\lib\\site-packages\\statsmodels\\base\\model.py:1092: RuntimeWarning: invalid value encountered in sqrt\n",
      "  bse_ = np.sqrt(np.diag(self.cov_params()))\n"
     ]
    },
    {
     "data": {
      "text/html": [
       "<table class=\"simpletable\">\n",
       "<caption>Logit Regression Results</caption>\n",
       "<tr>\n",
       "  <th>Dep. Variable:</th>        <td>bad</td>       <th>  No. Observations:  </th>  <td>  2018</td>  \n",
       "</tr>\n",
       "<tr>\n",
       "  <th>Model:</th>               <td>Logit</td>      <th>  Df Residuals:      </th>  <td>  2001</td>  \n",
       "</tr>\n",
       "<tr>\n",
       "  <th>Method:</th>               <td>MLE</td>       <th>  Df Model:          </th>  <td>    16</td>  \n",
       "</tr>\n",
       "<tr>\n",
       "  <th>Date:</th>          <td>Sun, 23 Aug 2020</td> <th>  Pseudo R-squ.:     </th>  <td>0.2346</td>  \n",
       "</tr>\n",
       "<tr>\n",
       "  <th>Time:</th>              <td>17:00:40</td>     <th>  Log-Likelihood:    </th> <td> -460.84</td> \n",
       "</tr>\n",
       "<tr>\n",
       "  <th>converged:</th>           <td>True</td>       <th>  LL-Null:           </th> <td> -602.11</td> \n",
       "</tr>\n",
       "<tr>\n",
       "  <th> </th>                      <td> </td>        <th>  LLR p-value:       </th> <td>1.039e-50</td>\n",
       "</tr>\n",
       "</table>\n",
       "<table class=\"simpletable\">\n",
       "<tr>\n",
       "         <td></td>           <th>coef</th>     <th>std err</th>      <th>z</th>      <th>P>|z|</th>  <th>[0.025</th>    <th>0.975]</th>  \n",
       "</tr>\n",
       "<tr>\n",
       "  <th>loan</th>           <td> -1.73e-05</td> <td> 1.05e-05</td> <td>   -1.640</td> <td> 0.101</td> <td> -3.8e-05</td> <td> 3.37e-06</td>\n",
       "</tr>\n",
       "<tr>\n",
       "  <th>mortdue</th>        <td>-4.777e-06</td> <td> 4.76e-06</td> <td>   -1.004</td> <td> 0.315</td> <td>-1.41e-05</td> <td> 4.55e-06</td>\n",
       "</tr>\n",
       "<tr>\n",
       "  <th>value</th>          <td> 4.089e-06</td> <td> 4.06e-06</td> <td>    1.006</td> <td> 0.314</td> <td>-3.87e-06</td> <td> 1.21e-05</td>\n",
       "</tr>\n",
       "<tr>\n",
       "  <th>yoj</th>            <td>   -0.0109</td> <td>    0.013</td> <td>   -0.854</td> <td> 0.393</td> <td>   -0.036</td> <td>    0.014</td>\n",
       "</tr>\n",
       "<tr>\n",
       "  <th>derog</th>          <td>    0.5708</td> <td>    0.130</td> <td>    4.382</td> <td> 0.000</td> <td>    0.315</td> <td>    0.826</td>\n",
       "</tr>\n",
       "<tr>\n",
       "  <th>delinq</th>         <td>    0.7985</td> <td>    0.095</td> <td>    8.448</td> <td> 0.000</td> <td>    0.613</td> <td>    0.984</td>\n",
       "</tr>\n",
       "<tr>\n",
       "  <th>clage</th>          <td>   -0.0046</td> <td>    0.001</td> <td>   -3.354</td> <td> 0.001</td> <td>   -0.007</td> <td>   -0.002</td>\n",
       "</tr>\n",
       "<tr>\n",
       "  <th>ninq</th>           <td>    0.1119</td> <td>    0.049</td> <td>    2.303</td> <td> 0.021</td> <td>    0.017</td> <td>    0.207</td>\n",
       "</tr>\n",
       "<tr>\n",
       "  <th>clno</th>           <td>   -0.0286</td> <td>    0.011</td> <td>   -2.627</td> <td> 0.009</td> <td>   -0.050</td> <td>   -0.007</td>\n",
       "</tr>\n",
       "<tr>\n",
       "  <th>debtinc</th>        <td>    0.1143</td> <td>    0.014</td> <td>    8.222</td> <td> 0.000</td> <td>    0.087</td> <td>    0.142</td>\n",
       "</tr>\n",
       "<tr>\n",
       "  <th>reason_DebtCon</th> <td>   -3.7938</td> <td>      nan</td> <td>      nan</td> <td>   nan</td> <td>      nan</td> <td>      nan</td>\n",
       "</tr>\n",
       "<tr>\n",
       "  <th>reason_HomeImp</th> <td>   -3.8593</td> <td>      nan</td> <td>      nan</td> <td>   nan</td> <td>      nan</td> <td>      nan</td>\n",
       "</tr>\n",
       "<tr>\n",
       "  <th>job_Mgr</th>        <td>   -1.4722</td> <td>      nan</td> <td>      nan</td> <td>   nan</td> <td>      nan</td> <td>      nan</td>\n",
       "</tr>\n",
       "<tr>\n",
       "  <th>job_Office</th>     <td>   -2.0716</td> <td>      nan</td> <td>      nan</td> <td>   nan</td> <td>      nan</td> <td>      nan</td>\n",
       "</tr>\n",
       "<tr>\n",
       "  <th>job_Other</th>      <td>   -1.5260</td> <td>      nan</td> <td>      nan</td> <td>   nan</td> <td>      nan</td> <td>      nan</td>\n",
       "</tr>\n",
       "<tr>\n",
       "  <th>job_ProfEx</th>     <td>   -1.5377</td> <td>      nan</td> <td>      nan</td> <td>   nan</td> <td>      nan</td> <td>      nan</td>\n",
       "</tr>\n",
       "<tr>\n",
       "  <th>job_Sales</th>      <td>   -0.2487</td> <td>      nan</td> <td>      nan</td> <td>   nan</td> <td>      nan</td> <td>      nan</td>\n",
       "</tr>\n",
       "<tr>\n",
       "  <th>job_Self</th>       <td>   -0.7970</td> <td>      nan</td> <td>      nan</td> <td>   nan</td> <td>      nan</td> <td>      nan</td>\n",
       "</tr>\n",
       "</table>"
      ],
      "text/plain": [
       "<class 'statsmodels.iolib.summary.Summary'>\n",
       "\"\"\"\n",
       "                           Logit Regression Results                           \n",
       "==============================================================================\n",
       "Dep. Variable:                    bad   No. Observations:                 2018\n",
       "Model:                          Logit   Df Residuals:                     2001\n",
       "Method:                           MLE   Df Model:                           16\n",
       "Date:                Sun, 23 Aug 2020   Pseudo R-squ.:                  0.2346\n",
       "Time:                        17:00:40   Log-Likelihood:                -460.84\n",
       "converged:                       True   LL-Null:                       -602.11\n",
       "                                        LLR p-value:                 1.039e-50\n",
       "==================================================================================\n",
       "                     coef    std err          z      P>|z|      [0.025      0.975]\n",
       "----------------------------------------------------------------------------------\n",
       "loan            -1.73e-05   1.05e-05     -1.640      0.101    -3.8e-05    3.37e-06\n",
       "mortdue        -4.777e-06   4.76e-06     -1.004      0.315   -1.41e-05    4.55e-06\n",
       "value           4.089e-06   4.06e-06      1.006      0.314   -3.87e-06    1.21e-05\n",
       "yoj               -0.0109      0.013     -0.854      0.393      -0.036       0.014\n",
       "derog              0.5708      0.130      4.382      0.000       0.315       0.826\n",
       "delinq             0.7985      0.095      8.448      0.000       0.613       0.984\n",
       "clage             -0.0046      0.001     -3.354      0.001      -0.007      -0.002\n",
       "ninq               0.1119      0.049      2.303      0.021       0.017       0.207\n",
       "clno              -0.0286      0.011     -2.627      0.009      -0.050      -0.007\n",
       "debtinc            0.1143      0.014      8.222      0.000       0.087       0.142\n",
       "reason_DebtCon    -3.7938        nan        nan        nan         nan         nan\n",
       "reason_HomeImp    -3.8593        nan        nan        nan         nan         nan\n",
       "job_Mgr           -1.4722        nan        nan        nan         nan         nan\n",
       "job_Office        -2.0716        nan        nan        nan         nan         nan\n",
       "job_Other         -1.5260        nan        nan        nan         nan         nan\n",
       "job_ProfEx        -1.5377        nan        nan        nan         nan         nan\n",
       "job_Sales         -0.2487        nan        nan        nan         nan         nan\n",
       "job_Self          -0.7970        nan        nan        nan         nan         nan\n",
       "==================================================================================\n",
       "\"\"\""
      ]
     },
     "execution_count": 250,
     "metadata": {},
     "output_type": "execute_result"
    }
   ],
   "source": [
    "pre.Log()"
   ]
  },
  {
   "cell_type": "code",
   "execution_count": 251,
   "metadata": {},
   "outputs": [],
   "source": [
    "pre.Sklearn_Log_split()"
   ]
  },
  {
   "cell_type": "code",
   "execution_count": 252,
   "metadata": {},
   "outputs": [
    {
     "name": "stdout",
     "output_type": "stream",
     "text": [
      " test acc : 0.9158415841584159\n"
     ]
    }
   ],
   "source": [
    "pre.acc_split()"
   ]
  },
  {
   "cell_type": "code",
   "execution_count": 253,
   "metadata": {},
   "outputs": [
    {
     "data": {
      "image/png": "[encoded data removed]",
      "text/plain": [
       "<Figure size 432x288 with 1 Axes>"
      ]
     },
     "metadata": {
      "needs_background": "light"
     },
     "output_type": "display_data"
    }
   ],
   "source": [
    "pre.auc_roc_split()"
   ]
  },
  {
   "cell_type": "code",
   "execution_count": 254,
   "metadata": {},
   "outputs": [
    {
     "data": {
      "image/png": "[encoded data removed]",
      "text/plain": [
       "<Figure size 360x360 with 1 Axes>"
      ]
     },
     "metadata": {
      "needs_background": "light"
     },
     "output_type": "display_data"
    }
   ],
   "source": [
    "pre.confusion_matrix_split_test()"
   ]
  },
  {
   "cell_type": "markdown",
   "metadata": {},
   "source": [
    "# 2) SVC"
   ]
  },
  {
   "cell_type": "code",
   "execution_count": 255,
   "metadata": {},
   "outputs": [],
   "source": [
    "data = pd.read_csv(\"hmelq.csv\")"
   ]
  },
  {
   "cell_type": "code",
   "execution_count": 256,
   "metadata": {},
   "outputs": [],
   "source": [
    "pre = PreProcessing(\"data\")"
   ]
  },
  {
   "cell_type": "markdown",
   "metadata": {},
   "source": [
    "### Eksik değerleri silerek kategorik değişkenleri dummy değişkene dönüştürmek"
   ]
  },
  {
   "cell_type": "code",
   "execution_count": 257,
   "metadata": {},
   "outputs": [
    {
     "data": {
      "text/plain": [
       "bad        0\n",
       "loan       0\n",
       "mortdue    0\n",
       "value      0\n",
       "reason     0\n",
       "job        0\n",
       "yoj        0\n",
       "derog      0\n",
       "delinq     0\n",
       "clage      0\n",
       "ninq       0\n",
       "clno       0\n",
       "debtinc    0\n",
       "dtype: int64"
      ]
     },
     "execution_count": 257,
     "metadata": {},
     "output_type": "execute_result"
    }
   ],
   "source": [
    "pre.dropNa()"
   ]
  },
  {
   "cell_type": "code",
   "execution_count": 258,
   "metadata": {},
   "outputs": [
    {
     "data": {
      "text/html": [
       "<div>\n",
       "<style scoped>\n",
       "    .dataframe tbody tr th:only-of-type {\n",
       "        vertical-align: middle;\n",
       "    }\n",
       "\n",
       "    .dataframe tbody tr th {\n",
       "        vertical-align: top;\n",
       "    }\n",
       "\n",
       "    .dataframe thead th {\n",
       "        text-align: right;\n",
       "    }\n",
       "</style>\n",
       "<table border=\"1\" class=\"dataframe\">\n",
       "  <thead>\n",
       "    <tr style=\"text-align: right;\">\n",
       "      <th></th>\n",
       "      <th>loan</th>\n",
       "      <th>mortdue</th>\n",
       "      <th>value</th>\n",
       "      <th>yoj</th>\n",
       "      <th>derog</th>\n",
       "      <th>delinq</th>\n",
       "      <th>clage</th>\n",
       "      <th>ninq</th>\n",
       "      <th>clno</th>\n",
       "      <th>debtinc</th>\n",
       "      <th>reason_DebtCon</th>\n",
       "      <th>reason_HomeImp</th>\n",
       "      <th>job_Mgr</th>\n",
       "      <th>job_Office</th>\n",
       "      <th>job_Other</th>\n",
       "      <th>job_ProfEx</th>\n",
       "      <th>job_Sales</th>\n",
       "      <th>job_Self</th>\n",
       "    </tr>\n",
       "  </thead>\n",
       "  <tbody>\n",
       "    <tr>\n",
       "      <th>153</th>\n",
       "      <td>18200.0</td>\n",
       "      <td>94727.0</td>\n",
       "      <td>136877.0</td>\n",
       "      <td>15.0</td>\n",
       "      <td>0.0</td>\n",
       "      <td>0.0</td>\n",
       "      <td>168.96</td>\n",
       "      <td>2.0</td>\n",
       "      <td>26.0</td>\n",
       "      <td>36.056</td>\n",
       "      <td>1</td>\n",
       "      <td>0</td>\n",
       "      <td>1</td>\n",
       "      <td>0</td>\n",
       "      <td>0</td>\n",
       "      <td>0</td>\n",
       "      <td>0</td>\n",
       "      <td>0</td>\n",
       "    </tr>\n",
       "    <tr>\n",
       "      <th>154</th>\n",
       "      <td>21700.0</td>\n",
       "      <td>79240.0</td>\n",
       "      <td>96784.0</td>\n",
       "      <td>5.0</td>\n",
       "      <td>0.0</td>\n",
       "      <td>0.0</td>\n",
       "      <td>64.51</td>\n",
       "      <td>6.0</td>\n",
       "      <td>24.0</td>\n",
       "      <td>38.079</td>\n",
       "      <td>1</td>\n",
       "      <td>0</td>\n",
       "      <td>1</td>\n",
       "      <td>0</td>\n",
       "      <td>0</td>\n",
       "      <td>0</td>\n",
       "      <td>0</td>\n",
       "      <td>0</td>\n",
       "    </tr>\n",
       "    <tr>\n",
       "      <th>155</th>\n",
       "      <td>34100.0</td>\n",
       "      <td>241931.0</td>\n",
       "      <td>36486.0</td>\n",
       "      <td>1.0</td>\n",
       "      <td>0.0</td>\n",
       "      <td>2.0</td>\n",
       "      <td>196.01</td>\n",
       "      <td>3.0</td>\n",
       "      <td>50.0</td>\n",
       "      <td>42.459</td>\n",
       "      <td>1</td>\n",
       "      <td>0</td>\n",
       "      <td>1</td>\n",
       "      <td>0</td>\n",
       "      <td>0</td>\n",
       "      <td>0</td>\n",
       "      <td>0</td>\n",
       "      <td>0</td>\n",
       "    </tr>\n",
       "  </tbody>\n",
       "</table>\n",
       "</div>"
      ],
      "text/plain": [
       "        loan   mortdue     value   yoj  derog  delinq   clage  ninq  clno  \\\n",
       "153  18200.0   94727.0  136877.0  15.0    0.0     0.0  168.96   2.0  26.0   \n",
       "154  21700.0   79240.0   96784.0   5.0    0.0     0.0   64.51   6.0  24.0   \n",
       "155  34100.0  241931.0   36486.0   1.0    0.0     2.0  196.01   3.0  50.0   \n",
       "\n",
       "     debtinc  reason_DebtCon  reason_HomeImp  job_Mgr  job_Office  job_Other  \\\n",
       "153   36.056               1               0        1           0          0   \n",
       "154   38.079               1               0        1           0          0   \n",
       "155   42.459               1               0        1           0          0   \n",
       "\n",
       "     job_ProfEx  job_Sales  job_Self  \n",
       "153           0          0         0  \n",
       "154           0          0         0  \n",
       "155           0          0         0  "
      ]
     },
     "execution_count": 258,
     "metadata": {},
     "output_type": "execute_result"
    }
   ],
   "source": [
    "pre.dummies()"
   ]
  },
  {
   "cell_type": "code",
   "execution_count": 259,
   "metadata": {},
   "outputs": [],
   "source": [
    "pre.train_test_split()"
   ]
  },
  {
   "cell_type": "code",
   "execution_count": 260,
   "metadata": {},
   "outputs": [],
   "source": [
    "pre.SupportVector()"
   ]
  },
  {
   "cell_type": "code",
   "execution_count": 261,
   "metadata": {},
   "outputs": [
    {
     "name": "stdout",
     "output_type": "stream",
     "text": [
      " test acc : 0.9158415841584159\n"
     ]
    }
   ],
   "source": [
    "pre.acc_split()"
   ]
  },
  {
   "cell_type": "code",
   "execution_count": 262,
   "metadata": {},
   "outputs": [
    {
     "name": "stdout",
     "output_type": "stream",
     "text": [
      "              precision    recall  f1-score   support\n",
      "\n",
      "           0       0.92      1.00      0.96       369\n",
      "           1       1.00      0.03      0.06        35\n",
      "\n",
      "   micro avg       0.92      0.92      0.92       404\n",
      "   macro avg       0.96      0.51      0.51       404\n",
      "weighted avg       0.92      0.92      0.88       404\n",
      "\n"
     ]
    }
   ],
   "source": [
    "pre.class_report_split()"
   ]
  },
  {
   "cell_type": "code",
   "execution_count": 263,
   "metadata": {},
   "outputs": [
    {
     "data": {
      "image/png": "[encoded data removed]",
      "text/plain": [
       "<Figure size 360x360 with 1 Axes>"
      ]
     },
     "metadata": {
      "needs_background": "light"
     },
     "output_type": "display_data"
    }
   ],
   "source": [
    "pre.confusion_matrix_split_test()"
   ]
  },
  {
   "cell_type": "code",
   "execution_count": 264,
   "metadata": {},
   "outputs": [
    {
     "data": {
      "image/png": "[encoded data removed]",
      "text/plain": [
       "<Figure size 432x288 with 1 Axes>"
      ]
     },
     "metadata": {
      "needs_background": "light"
     },
     "output_type": "display_data"
    }
   ],
   "source": [
    "pre.auc_roc_split_SVC()"
   ]
  },
  {
   "cell_type": "code",
   "execution_count": 265,
   "metadata": {},
   "outputs": [
    {
     "name": "stdout",
     "output_type": "stream",
     "text": [
      "Fitting 3 folds for each of 4 candidates, totalling 12 fits\n"
     ]
    },
    {
     "name": "stderr",
     "output_type": "stream",
     "text": [
      "[Parallel(n_jobs=-1)]: Using backend LokyBackend with 4 concurrent workers.\n",
      "[Parallel(n_jobs=-1)]: Done  12 out of  12 | elapsed: 23.7min remaining:    0.0s\n",
      "[Parallel(n_jobs=-1)]: Done  12 out of  12 | elapsed: 23.7min finished\n"
     ]
    },
    {
     "name": "stdout",
     "output_type": "stream",
     "text": [
      "En iyi parametreler: {'C': 10}\n",
      "SVC tuned acc : 0.9183168316831684\n"
     ]
    }
   ],
   "source": [
    "pre.ModelTuning_SVC()"
   ]
  },
  {
   "cell_type": "code",
   "execution_count": 266,
   "metadata": {},
   "outputs": [
    {
     "name": "stdout",
     "output_type": "stream",
     "text": [
      "              precision    recall  f1-score   support\n",
      "\n",
      "           0       0.92      1.00      0.96       369\n",
      "           1       1.00      0.06      0.11        35\n",
      "\n",
      "   micro avg       0.92      0.92      0.92       404\n",
      "   macro avg       0.96      0.53      0.53       404\n",
      "weighted avg       0.93      0.92      0.88       404\n",
      "\n"
     ]
    }
   ],
   "source": [
    "pre.class_report_split()"
   ]
  },
  {
   "cell_type": "markdown",
   "metadata": {},
   "source": [
    "# 3) MLP"
   ]
  },
  {
   "cell_type": "code",
   "execution_count": 267,
   "metadata": {},
   "outputs": [],
   "source": [
    "data = pd.read_csv('hmelq.csv')\n",
    "pre = PreProcessing(data)"
   ]
  },
  {
   "cell_type": "code",
   "execution_count": 268,
   "metadata": {},
   "outputs": [
    {
     "data": {
      "text/plain": [
       "bad        0\n",
       "loan       0\n",
       "mortdue    0\n",
       "value      0\n",
       "reason     0\n",
       "job        0\n",
       "yoj        0\n",
       "derog      0\n",
       "delinq     0\n",
       "clage      0\n",
       "ninq       0\n",
       "clno       0\n",
       "debtinc    0\n",
       "dtype: int64"
      ]
     },
     "execution_count": 268,
     "metadata": {},
     "output_type": "execute_result"
    }
   ],
   "source": [
    "pre.dropNa()"
   ]
  },
  {
   "cell_type": "code",
   "execution_count": 269,
   "metadata": {},
   "outputs": [
    {
     "data": {
      "text/html": [
       "<div>\n",
       "<style scoped>\n",
       "    .dataframe tbody tr th:only-of-type {\n",
       "        vertical-align: middle;\n",
       "    }\n",
       "\n",
       "    .dataframe tbody tr th {\n",
       "        vertical-align: top;\n",
       "    }\n",
       "\n",
       "    .dataframe thead th {\n",
       "        text-align: right;\n",
       "    }\n",
       "</style>\n",
       "<table border=\"1\" class=\"dataframe\">\n",
       "  <thead>\n",
       "    <tr style=\"text-align: right;\">\n",
       "      <th></th>\n",
       "      <th>loan</th>\n",
       "      <th>mortdue</th>\n",
       "      <th>value</th>\n",
       "      <th>yoj</th>\n",
       "      <th>derog</th>\n",
       "      <th>delinq</th>\n",
       "      <th>clage</th>\n",
       "      <th>ninq</th>\n",
       "      <th>clno</th>\n",
       "      <th>debtinc</th>\n",
       "      <th>reason_DebtCon</th>\n",
       "      <th>reason_HomeImp</th>\n",
       "      <th>job_Mgr</th>\n",
       "      <th>job_Office</th>\n",
       "      <th>job_Other</th>\n",
       "      <th>job_ProfEx</th>\n",
       "      <th>job_Sales</th>\n",
       "      <th>job_Self</th>\n",
       "    </tr>\n",
       "  </thead>\n",
       "  <tbody>\n",
       "    <tr>\n",
       "      <th>153</th>\n",
       "      <td>18200.0</td>\n",
       "      <td>94727.0</td>\n",
       "      <td>136877.0</td>\n",
       "      <td>15.0</td>\n",
       "      <td>0.0</td>\n",
       "      <td>0.0</td>\n",
       "      <td>168.96</td>\n",
       "      <td>2.0</td>\n",
       "      <td>26.0</td>\n",
       "      <td>36.056</td>\n",
       "      <td>1</td>\n",
       "      <td>0</td>\n",
       "      <td>1</td>\n",
       "      <td>0</td>\n",
       "      <td>0</td>\n",
       "      <td>0</td>\n",
       "      <td>0</td>\n",
       "      <td>0</td>\n",
       "    </tr>\n",
       "    <tr>\n",
       "      <th>154</th>\n",
       "      <td>21700.0</td>\n",
       "      <td>79240.0</td>\n",
       "      <td>96784.0</td>\n",
       "      <td>5.0</td>\n",
       "      <td>0.0</td>\n",
       "      <td>0.0</td>\n",
       "      <td>64.51</td>\n",
       "      <td>6.0</td>\n",
       "      <td>24.0</td>\n",
       "      <td>38.079</td>\n",
       "      <td>1</td>\n",
       "      <td>0</td>\n",
       "      <td>1</td>\n",
       "      <td>0</td>\n",
       "      <td>0</td>\n",
       "      <td>0</td>\n",
       "      <td>0</td>\n",
       "      <td>0</td>\n",
       "    </tr>\n",
       "    <tr>\n",
       "      <th>155</th>\n",
       "      <td>34100.0</td>\n",
       "      <td>241931.0</td>\n",
       "      <td>36486.0</td>\n",
       "      <td>1.0</td>\n",
       "      <td>0.0</td>\n",
       "      <td>2.0</td>\n",
       "      <td>196.01</td>\n",
       "      <td>3.0</td>\n",
       "      <td>50.0</td>\n",
       "      <td>42.459</td>\n",
       "      <td>1</td>\n",
       "      <td>0</td>\n",
       "      <td>1</td>\n",
       "      <td>0</td>\n",
       "      <td>0</td>\n",
       "      <td>0</td>\n",
       "      <td>0</td>\n",
       "      <td>0</td>\n",
       "    </tr>\n",
       "  </tbody>\n",
       "</table>\n",
       "</div>"
      ],
      "text/plain": [
       "        loan   mortdue     value   yoj  derog  delinq   clage  ninq  clno  \\\n",
       "153  18200.0   94727.0  136877.0  15.0    0.0     0.0  168.96   2.0  26.0   \n",
       "154  21700.0   79240.0   96784.0   5.0    0.0     0.0   64.51   6.0  24.0   \n",
       "155  34100.0  241931.0   36486.0   1.0    0.0     2.0  196.01   3.0  50.0   \n",
       "\n",
       "     debtinc  reason_DebtCon  reason_HomeImp  job_Mgr  job_Office  job_Other  \\\n",
       "153   36.056               1               0        1           0          0   \n",
       "154   38.079               1               0        1           0          0   \n",
       "155   42.459               1               0        1           0          0   \n",
       "\n",
       "     job_ProfEx  job_Sales  job_Self  \n",
       "153           0          0         0  \n",
       "154           0          0         0  \n",
       "155           0          0         0  "
      ]
     },
     "execution_count": 269,
     "metadata": {},
     "output_type": "execute_result"
    }
   ],
   "source": [
    "pre.dummies()"
   ]
  },
  {
   "cell_type": "code",
   "execution_count": 270,
   "metadata": {},
   "outputs": [],
   "source": [
    "pre.train_test_split()"
   ]
  },
  {
   "cell_type": "code",
   "execution_count": 271,
   "metadata": {},
   "outputs": [
    {
     "name": "stderr",
     "output_type": "stream",
     "text": [
      "C:\\Users\\LENOVO\\Anaconda3\\lib\\site-packages\\sklearn\\preprocessing\\data.py:625: DataConversionWarning: Data with input dtype uint8, float64 were all converted to float64 by StandardScaler.\n",
      "  return self.partial_fit(X, y)\n",
      "C:\\Users\\LENOVO\\Anaconda3\\lib\\site-packages\\ipykernel_launcher.py:66: DataConversionWarning: Data with input dtype uint8, float64 were all converted to float64 by StandardScaler.\n",
      "C:\\Users\\LENOVO\\Anaconda3\\lib\\site-packages\\ipykernel_launcher.py:67: DataConversionWarning: Data with input dtype uint8, float64 were all converted to float64 by StandardScaler.\n"
     ]
    }
   ],
   "source": [
    "pre.scale()"
   ]
  },
  {
   "cell_type": "code",
   "execution_count": 272,
   "metadata": {},
   "outputs": [
    {
     "name": "stderr",
     "output_type": "stream",
     "text": [
      "C:\\Users\\LENOVO\\Anaconda3\\lib\\site-packages\\sklearn\\neural_network\\multilayer_perceptron.py:562: ConvergenceWarning: Stochastic Optimizer: Maximum iterations (200) reached and the optimization hasn't converged yet.\n",
      "  % self.max_iter, ConvergenceWarning)\n"
     ]
    }
   ],
   "source": [
    "pre.MLPC()"
   ]
  },
  {
   "cell_type": "code",
   "execution_count": 273,
   "metadata": {},
   "outputs": [
    {
     "name": "stdout",
     "output_type": "stream",
     "text": [
      " test acc : 0.948019801980198\n"
     ]
    }
   ],
   "source": [
    "pre.acc_split() # MLP test acc score"
   ]
  },
  {
   "cell_type": "code",
   "execution_count": 274,
   "metadata": {},
   "outputs": [
    {
     "name": "stdout",
     "output_type": "stream",
     "text": [
      "              precision    recall  f1-score   support\n",
      "\n",
      "           0       0.95      0.99      0.97       369\n",
      "           1       0.89      0.46      0.60        35\n",
      "\n",
      "   micro avg       0.95      0.95      0.95       404\n",
      "   macro avg       0.92      0.73      0.79       404\n",
      "weighted avg       0.95      0.95      0.94       404\n",
      "\n"
     ]
    }
   ],
   "source": [
    "pre.class_report_split()"
   ]
  },
  {
   "cell_type": "code",
   "execution_count": 275,
   "metadata": {},
   "outputs": [
    {
     "data": {
      "image/png": "[encoded data removed]",
      "text/plain": [
       "<Figure size 360x360 with 1 Axes>"
      ]
     },
     "metadata": {
      "needs_background": "light"
     },
     "output_type": "display_data"
    }
   ],
   "source": [
    "pre.confusion_matrix_split_test()"
   ]
  },
  {
   "cell_type": "code",
   "execution_count": 276,
   "metadata": {},
   "outputs": [
    {
     "name": "stdout",
     "output_type": "stream",
     "text": [
      "Fitting 3 folds for each of 36 candidates, totalling 108 fits\n"
     ]
    },
    {
     "name": "stderr",
     "output_type": "stream",
     "text": [
      "[Parallel(n_jobs=-1)]: Using backend LokyBackend with 4 concurrent workers.\n",
      "[Parallel(n_jobs=-1)]: Done  33 tasks      | elapsed:  1.8min\n",
      "[Parallel(n_jobs=-1)]: Done 108 out of 108 | elapsed:  3.5min finished\n",
      "C:\\Users\\LENOVO\\Anaconda3\\lib\\site-packages\\sklearn\\neural_network\\multilayer_perceptron.py:562: ConvergenceWarning: Stochastic Optimizer: Maximum iterations (200) reached and the optimization hasn't converged yet.\n",
      "  % self.max_iter, ConvergenceWarning)\n"
     ]
    },
    {
     "name": "stdout",
     "output_type": "stream",
     "text": [
      "En iyi parametreler: {'activation': 'relu', 'alpha': 0.01, 'hidden_layer_sizes': (100, 100), 'solver': 'adam'}\n",
      "MLPC tuned acc : 0.948019801980198\n"
     ]
    },
    {
     "name": "stderr",
     "output_type": "stream",
     "text": [
      "C:\\Users\\LENOVO\\Anaconda3\\lib\\site-packages\\sklearn\\neural_network\\multilayer_perceptron.py:562: ConvergenceWarning: Stochastic Optimizer: Maximum iterations (200) reached and the optimization hasn't converged yet.\n",
      "  % self.max_iter, ConvergenceWarning)\n"
     ]
    }
   ],
   "source": [
    "pre.ModelTuning_MLPC()"
   ]
  },
  {
   "cell_type": "code",
   "execution_count": 277,
   "metadata": {},
   "outputs": [
    {
     "name": "stdout",
     "output_type": "stream",
     "text": [
      "              precision    recall  f1-score   support\n",
      "\n",
      "           0       0.95      0.99      0.97       369\n",
      "           1       0.85      0.49      0.62        35\n",
      "\n",
      "   micro avg       0.95      0.95      0.95       404\n",
      "   macro avg       0.90      0.74      0.80       404\n",
      "weighted avg       0.94      0.95      0.94       404\n",
      "\n"
     ]
    }
   ],
   "source": [
    "pre.class_report_split()"
   ]
  },
  {
   "cell_type": "code",
   "execution_count": 278,
   "metadata": {},
   "outputs": [
    {
     "data": {
      "image/png": "[encoded data removed]",
      "text/plain": [
       "<Figure size 360x360 with 1 Axes>"
      ]
     },
     "metadata": {
      "needs_background": "light"
     },
     "output_type": "display_data"
    }
   ],
   "source": [
    "pre.confusion_matrix_split_test()"
   ]
  },
  {
   "cell_type": "markdown",
   "metadata": {},
   "source": [
    "# 4) CART"
   ]
  },
  {
   "cell_type": "code",
   "execution_count": 279,
   "metadata": {},
   "outputs": [],
   "source": [
    "data = pd.read_csv('hmelq.csv')\n",
    "pre = PreProcessing(data)"
   ]
  },
  {
   "cell_type": "code",
   "execution_count": 280,
   "metadata": {},
   "outputs": [
    {
     "data": {
      "text/plain": [
       "bad        0\n",
       "loan       0\n",
       "mortdue    0\n",
       "value      0\n",
       "reason     0\n",
       "job        0\n",
       "yoj        0\n",
       "derog      0\n",
       "delinq     0\n",
       "clage      0\n",
       "ninq       0\n",
       "clno       0\n",
       "debtinc    0\n",
       "dtype: int64"
      ]
     },
     "execution_count": 280,
     "metadata": {},
     "output_type": "execute_result"
    }
   ],
   "source": [
    "pre.dropNa()"
   ]
  },
  {
   "cell_type": "code",
   "execution_count": 281,
   "metadata": {},
   "outputs": [
    {
     "data": {
      "text/html": [
       "<div>\n",
       "<style scoped>\n",
       "    .dataframe tbody tr th:only-of-type {\n",
       "        vertical-align: middle;\n",
       "    }\n",
       "\n",
       "    .dataframe tbody tr th {\n",
       "        vertical-align: top;\n",
       "    }\n",
       "\n",
       "    .dataframe thead th {\n",
       "        text-align: right;\n",
       "    }\n",
       "</style>\n",
       "<table border=\"1\" class=\"dataframe\">\n",
       "  <thead>\n",
       "    <tr style=\"text-align: right;\">\n",
       "      <th></th>\n",
       "      <th>loan</th>\n",
       "      <th>mortdue</th>\n",
       "      <th>value</th>\n",
       "      <th>yoj</th>\n",
       "      <th>derog</th>\n",
       "      <th>delinq</th>\n",
       "      <th>clage</th>\n",
       "      <th>ninq</th>\n",
       "      <th>clno</th>\n",
       "      <th>debtinc</th>\n",
       "      <th>reason_DebtCon</th>\n",
       "      <th>reason_HomeImp</th>\n",
       "      <th>job_Mgr</th>\n",
       "      <th>job_Office</th>\n",
       "      <th>job_Other</th>\n",
       "      <th>job_ProfEx</th>\n",
       "      <th>job_Sales</th>\n",
       "      <th>job_Self</th>\n",
       "    </tr>\n",
       "  </thead>\n",
       "  <tbody>\n",
       "    <tr>\n",
       "      <th>153</th>\n",
       "      <td>18200.0</td>\n",
       "      <td>94727.0</td>\n",
       "      <td>136877.0</td>\n",
       "      <td>15.0</td>\n",
       "      <td>0.0</td>\n",
       "      <td>0.0</td>\n",
       "      <td>168.96</td>\n",
       "      <td>2.0</td>\n",
       "      <td>26.0</td>\n",
       "      <td>36.056</td>\n",
       "      <td>1</td>\n",
       "      <td>0</td>\n",
       "      <td>1</td>\n",
       "      <td>0</td>\n",
       "      <td>0</td>\n",
       "      <td>0</td>\n",
       "      <td>0</td>\n",
       "      <td>0</td>\n",
       "    </tr>\n",
       "    <tr>\n",
       "      <th>154</th>\n",
       "      <td>21700.0</td>\n",
       "      <td>79240.0</td>\n",
       "      <td>96784.0</td>\n",
       "      <td>5.0</td>\n",
       "      <td>0.0</td>\n",
       "      <td>0.0</td>\n",
       "      <td>64.51</td>\n",
       "      <td>6.0</td>\n",
       "      <td>24.0</td>\n",
       "      <td>38.079</td>\n",
       "      <td>1</td>\n",
       "      <td>0</td>\n",
       "      <td>1</td>\n",
       "      <td>0</td>\n",
       "      <td>0</td>\n",
       "      <td>0</td>\n",
       "      <td>0</td>\n",
       "      <td>0</td>\n",
       "    </tr>\n",
       "    <tr>\n",
       "      <th>155</th>\n",
       "      <td>34100.0</td>\n",
       "      <td>241931.0</td>\n",
       "      <td>36486.0</td>\n",
       "      <td>1.0</td>\n",
       "      <td>0.0</td>\n",
       "      <td>2.0</td>\n",
       "      <td>196.01</td>\n",
       "      <td>3.0</td>\n",
       "      <td>50.0</td>\n",
       "      <td>42.459</td>\n",
       "      <td>1</td>\n",
       "      <td>0</td>\n",
       "      <td>1</td>\n",
       "      <td>0</td>\n",
       "      <td>0</td>\n",
       "      <td>0</td>\n",
       "      <td>0</td>\n",
       "      <td>0</td>\n",
       "    </tr>\n",
       "  </tbody>\n",
       "</table>\n",
       "</div>"
      ],
      "text/plain": [
       "        loan   mortdue     value   yoj  derog  delinq   clage  ninq  clno  \\\n",
       "153  18200.0   94727.0  136877.0  15.0    0.0     0.0  168.96   2.0  26.0   \n",
       "154  21700.0   79240.0   96784.0   5.0    0.0     0.0   64.51   6.0  24.0   \n",
       "155  34100.0  241931.0   36486.0   1.0    0.0     2.0  196.01   3.0  50.0   \n",
       "\n",
       "     debtinc  reason_DebtCon  reason_HomeImp  job_Mgr  job_Office  job_Other  \\\n",
       "153   36.056               1               0        1           0          0   \n",
       "154   38.079               1               0        1           0          0   \n",
       "155   42.459               1               0        1           0          0   \n",
       "\n",
       "     job_ProfEx  job_Sales  job_Self  \n",
       "153           0          0         0  \n",
       "154           0          0         0  \n",
       "155           0          0         0  "
      ]
     },
     "execution_count": 281,
     "metadata": {},
     "output_type": "execute_result"
    }
   ],
   "source": [
    "pre.dummies()"
   ]
  },
  {
   "cell_type": "code",
   "execution_count": 282,
   "metadata": {},
   "outputs": [],
   "source": [
    "pre.train_test_split()"
   ]
  },
  {
   "cell_type": "code",
   "execution_count": 283,
   "metadata": {},
   "outputs": [],
   "source": [
    "pre.CART()"
   ]
  },
  {
   "cell_type": "code",
   "execution_count": 284,
   "metadata": {},
   "outputs": [
    {
     "name": "stdout",
     "output_type": "stream",
     "text": [
      " test acc : 0.9331683168316832\n"
     ]
    }
   ],
   "source": [
    "pre.acc_split()"
   ]
  },
  {
   "cell_type": "code",
   "execution_count": 285,
   "metadata": {},
   "outputs": [
    {
     "name": "stdout",
     "output_type": "stream",
     "text": [
      "              precision    recall  f1-score   support\n",
      "\n",
      "           0       0.95      0.98      0.96       369\n",
      "           1       0.67      0.46      0.54        35\n",
      "\n",
      "   micro avg       0.93      0.93      0.93       404\n",
      "   macro avg       0.81      0.72      0.75       404\n",
      "weighted avg       0.93      0.93      0.93       404\n",
      "\n"
     ]
    }
   ],
   "source": [
    "pre.class_report_split()"
   ]
  },
  {
   "cell_type": "code",
   "execution_count": 286,
   "metadata": {},
   "outputs": [
    {
     "data": {
      "image/png": "[encoded data removed]",
      "text/plain": [
       "<Figure size 360x360 with 1 Axes>"
      ]
     },
     "metadata": {
      "needs_background": "light"
     },
     "output_type": "display_data"
    }
   ],
   "source": [
    "pre.confusion_matrix_split_test()"
   ]
  },
  {
   "cell_type": "code",
   "execution_count": 287,
   "metadata": {},
   "outputs": [
    {
     "name": "stdout",
     "output_type": "stream",
     "text": [
      "Fitting 3 folds for each of 9 candidates, totalling 27 fits\n"
     ]
    },
    {
     "name": "stderr",
     "output_type": "stream",
     "text": [
      "[Parallel(n_jobs=-1)]: Using backend LokyBackend with 4 concurrent workers.\n"
     ]
    },
    {
     "name": "stdout",
     "output_type": "stream",
     "text": [
      "En iyi parametreler: {'max_depth': 5, 'min_samples_split': 2}\n",
      "CART tuned acc : 0.9405940594059405\n"
     ]
    },
    {
     "name": "stderr",
     "output_type": "stream",
     "text": [
      "[Parallel(n_jobs=-1)]: Done  27 out of  27 | elapsed:    2.3s finished\n"
     ]
    }
   ],
   "source": [
    "pre.ModelTuning_CART()"
   ]
  },
  {
   "cell_type": "code",
   "execution_count": 288,
   "metadata": {},
   "outputs": [
    {
     "name": "stdout",
     "output_type": "stream",
     "text": [
      "              precision    recall  f1-score   support\n",
      "\n",
      "           0       0.94      1.00      0.97       369\n",
      "           1       0.92      0.34      0.50        35\n",
      "\n",
      "   micro avg       0.94      0.94      0.94       404\n",
      "   macro avg       0.93      0.67      0.73       404\n",
      "weighted avg       0.94      0.94      0.93       404\n",
      "\n"
     ]
    }
   ],
   "source": [
    "pre.class_report_split()"
   ]
  },
  {
   "cell_type": "code",
   "execution_count": 289,
   "metadata": {},
   "outputs": [
    {
     "data": {
      "image/png": "[encoded data removed]",
      "text/plain": [
       "<Figure size 360x360 with 1 Axes>"
      ]
     },
     "metadata": {
      "needs_background": "light"
     },
     "output_type": "display_data"
    }
   ],
   "source": [
    "pre.confusion_matrix_split_test()"
   ]
  },
  {
   "cell_type": "markdown",
   "metadata": {},
   "source": [
    "# 5) RANDOM FORESTS"
   ]
  },
  {
   "cell_type": "code",
   "execution_count": 290,
   "metadata": {},
   "outputs": [],
   "source": [
    "data = pd.read_csv('hmelq.csv')\n",
    "pre = PreProcessing(data)"
   ]
  },
  {
   "cell_type": "code",
   "execution_count": 291,
   "metadata": {},
   "outputs": [
    {
     "data": {
      "text/plain": [
       "bad        0\n",
       "loan       0\n",
       "mortdue    0\n",
       "value      0\n",
       "reason     0\n",
       "job        0\n",
       "yoj        0\n",
       "derog      0\n",
       "delinq     0\n",
       "clage      0\n",
       "ninq       0\n",
       "clno       0\n",
       "debtinc    0\n",
       "dtype: int64"
      ]
     },
     "execution_count": 291,
     "metadata": {},
     "output_type": "execute_result"
    }
   ],
   "source": [
    "pre.dropNa()"
   ]
  },
  {
   "cell_type": "code",
   "execution_count": 292,
   "metadata": {},
   "outputs": [
    {
     "data": {
      "text/html": [
       "<div>\n",
       "<style scoped>\n",
       "    .dataframe tbody tr th:only-of-type {\n",
       "        vertical-align: middle;\n",
       "    }\n",
       "\n",
       "    .dataframe tbody tr th {\n",
       "        vertical-align: top;\n",
       "    }\n",
       "\n",
       "    .dataframe thead th {\n",
       "        text-align: right;\n",
       "    }\n",
       "</style>\n",
       "<table border=\"1\" class=\"dataframe\">\n",
       "  <thead>\n",
       "    <tr style=\"text-align: right;\">\n",
       "      <th></th>\n",
       "      <th>loan</th>\n",
       "      <th>mortdue</th>\n",
       "      <th>value</th>\n",
       "      <th>yoj</th>\n",
       "      <th>derog</th>\n",
       "      <th>delinq</th>\n",
       "      <th>clage</th>\n",
       "      <th>ninq</th>\n",
       "      <th>clno</th>\n",
       "      <th>debtinc</th>\n",
       "      <th>reason_DebtCon</th>\n",
       "      <th>reason_HomeImp</th>\n",
       "      <th>job_Mgr</th>\n",
       "      <th>job_Office</th>\n",
       "      <th>job_Other</th>\n",
       "      <th>job_ProfEx</th>\n",
       "      <th>job_Sales</th>\n",
       "      <th>job_Self</th>\n",
       "    </tr>\n",
       "  </thead>\n",
       "  <tbody>\n",
       "    <tr>\n",
       "      <th>153</th>\n",
       "      <td>18200.0</td>\n",
       "      <td>94727.0</td>\n",
       "      <td>136877.0</td>\n",
       "      <td>15.0</td>\n",
       "      <td>0.0</td>\n",
       "      <td>0.0</td>\n",
       "      <td>168.96</td>\n",
       "      <td>2.0</td>\n",
       "      <td>26.0</td>\n",
       "      <td>36.056</td>\n",
       "      <td>1</td>\n",
       "      <td>0</td>\n",
       "      <td>1</td>\n",
       "      <td>0</td>\n",
       "      <td>0</td>\n",
       "      <td>0</td>\n",
       "      <td>0</td>\n",
       "      <td>0</td>\n",
       "    </tr>\n",
       "    <tr>\n",
       "      <th>154</th>\n",
       "      <td>21700.0</td>\n",
       "      <td>79240.0</td>\n",
       "      <td>96784.0</td>\n",
       "      <td>5.0</td>\n",
       "      <td>0.0</td>\n",
       "      <td>0.0</td>\n",
       "      <td>64.51</td>\n",
       "      <td>6.0</td>\n",
       "      <td>24.0</td>\n",
       "      <td>38.079</td>\n",
       "      <td>1</td>\n",
       "      <td>0</td>\n",
       "      <td>1</td>\n",
       "      <td>0</td>\n",
       "      <td>0</td>\n",
       "      <td>0</td>\n",
       "      <td>0</td>\n",
       "      <td>0</td>\n",
       "    </tr>\n",
       "    <tr>\n",
       "      <th>155</th>\n",
       "      <td>34100.0</td>\n",
       "      <td>241931.0</td>\n",
       "      <td>36486.0</td>\n",
       "      <td>1.0</td>\n",
       "      <td>0.0</td>\n",
       "      <td>2.0</td>\n",
       "      <td>196.01</td>\n",
       "      <td>3.0</td>\n",
       "      <td>50.0</td>\n",
       "      <td>42.459</td>\n",
       "      <td>1</td>\n",
       "      <td>0</td>\n",
       "      <td>1</td>\n",
       "      <td>0</td>\n",
       "      <td>0</td>\n",
       "      <td>0</td>\n",
       "      <td>0</td>\n",
       "      <td>0</td>\n",
       "    </tr>\n",
       "  </tbody>\n",
       "</table>\n",
       "</div>"
      ],
      "text/plain": [
       "        loan   mortdue     value   yoj  derog  delinq   clage  ninq  clno  \\\n",
       "153  18200.0   94727.0  136877.0  15.0    0.0     0.0  168.96   2.0  26.0   \n",
       "154  21700.0   79240.0   96784.0   5.0    0.0     0.0   64.51   6.0  24.0   \n",
       "155  34100.0  241931.0   36486.0   1.0    0.0     2.0  196.01   3.0  50.0   \n",
       "\n",
       "     debtinc  reason_DebtCon  reason_HomeImp  job_Mgr  job_Office  job_Other  \\\n",
       "153   36.056               1               0        1           0          0   \n",
       "154   38.079               1               0        1           0          0   \n",
       "155   42.459               1               0        1           0          0   \n",
       "\n",
       "     job_ProfEx  job_Sales  job_Self  \n",
       "153           0          0         0  \n",
       "154           0          0         0  \n",
       "155           0          0         0  "
      ]
     },
     "execution_count": 292,
     "metadata": {},
     "output_type": "execute_result"
    }
   ],
   "source": [
    "pre.dummies()"
   ]
  },
  {
   "cell_type": "code",
   "execution_count": 293,
   "metadata": {},
   "outputs": [],
   "source": [
    "pre.train_test_split()"
   ]
  },
  {
   "cell_type": "code",
   "execution_count": 294,
   "metadata": {},
   "outputs": [
    {
     "name": "stderr",
     "output_type": "stream",
     "text": [
      "C:\\Users\\LENOVO\\Anaconda3\\lib\\site-packages\\sklearn\\ensemble\\forest.py:246: FutureWarning: The default value of n_estimators will change from 10 in version 0.20 to 100 in 0.22.\n",
      "  \"10 in version 0.20 to 100 in 0.22.\", FutureWarning)\n"
     ]
    }
   ],
   "source": [
    "pre.RF()"
   ]
  },
  {
   "cell_type": "code",
   "execution_count": 295,
   "metadata": {},
   "outputs": [
    {
     "name": "stdout",
     "output_type": "stream",
     "text": [
      " test acc : 0.943069306930693\n"
     ]
    }
   ],
   "source": [
    "pre.acc_split()"
   ]
  },
  {
   "cell_type": "code",
   "execution_count": 296,
   "metadata": {},
   "outputs": [
    {
     "name": "stdout",
     "output_type": "stream",
     "text": [
      "              precision    recall  f1-score   support\n",
      "\n",
      "           0       0.94      1.00      0.97       369\n",
      "           1       1.00      0.34      0.51        35\n",
      "\n",
      "   micro avg       0.94      0.94      0.94       404\n",
      "   macro avg       0.97      0.67      0.74       404\n",
      "weighted avg       0.95      0.94      0.93       404\n",
      "\n"
     ]
    }
   ],
   "source": [
    "pre.class_report_split()"
   ]
  },
  {
   "cell_type": "code",
   "execution_count": 297,
   "metadata": {},
   "outputs": [
    {
     "data": {
      "image/png": "[encoded data removed]",
      "text/plain": [
       "<Figure size 360x360 with 1 Axes>"
      ]
     },
     "metadata": {
      "needs_background": "light"
     },
     "output_type": "display_data"
    }
   ],
   "source": [
    "pre.confusion_matrix_split_test()"
   ]
  },
  {
   "cell_type": "code",
   "execution_count": 298,
   "metadata": {},
   "outputs": [
    {
     "name": "stdout",
     "output_type": "stream",
     "text": [
      "Fitting 3 folds for each of 108 candidates, totalling 324 fits\n"
     ]
    },
    {
     "name": "stderr",
     "output_type": "stream",
     "text": [
      "[Parallel(n_jobs=-1)]: Using backend LokyBackend with 4 concurrent workers.\n",
      "[Parallel(n_jobs=-1)]: Done  33 tasks      | elapsed:    5.3s\n",
      "[Parallel(n_jobs=-1)]: Done 154 tasks      | elapsed:   28.9s\n",
      "[Parallel(n_jobs=-1)]: Done 324 out of 324 | elapsed:  1.2min finished\n"
     ]
    },
    {
     "name": "stdout",
     "output_type": "stream",
     "text": [
      "En iyi parametreler: {'max_depth': 8, 'max_features': 5, 'min_samples_split': 10, 'n_estimators': 10}\n",
      "RF tuned acc : 0.9405940594059405\n"
     ]
    },
    {
     "data": {
      "image/png": "[encoded data removed]",
      "text/plain": [
       "<Figure size 432x288 with 1 Axes>"
      ]
     },
     "metadata": {
      "needs_background": "light"
     },
     "output_type": "display_data"
    }
   ],
   "source": [
    "pre.ModelTuning_RF()"
   ]
  },
  {
   "cell_type": "markdown",
   "metadata": {},
   "source": [
    "### Grafikten önemli olduğu anlaşılan değişkenler daha sonra kurulacak modeller de kullanılabilir."
   ]
  },
  {
   "cell_type": "code",
   "execution_count": 299,
   "metadata": {},
   "outputs": [
    {
     "data": {
      "image/png": "[encoded data removed]",
      "text/plain": [
       "<Figure size 360x360 with 1 Axes>"
      ]
     },
     "metadata": {
      "needs_background": "light"
     },
     "output_type": "display_data"
    }
   ],
   "source": [
    "pre.confusion_matrix_split_test()"
   ]
  },
  {
   "cell_type": "code",
   "execution_count": 300,
   "metadata": {},
   "outputs": [
    {
     "name": "stdout",
     "output_type": "stream",
     "text": [
      "              precision    recall  f1-score   support\n",
      "\n",
      "           0       0.94      1.00      0.97       369\n",
      "           1       1.00      0.31      0.48        35\n",
      "\n",
      "   micro avg       0.94      0.94      0.94       404\n",
      "   macro avg       0.97      0.66      0.72       404\n",
      "weighted avg       0.94      0.94      0.93       404\n",
      "\n"
     ]
    }
   ],
   "source": [
    "pre.class_report_split()"
   ]
  },
  {
   "cell_type": "markdown",
   "metadata": {},
   "source": [
    "# 6) GRADIENT BOOST"
   ]
  },
  {
   "cell_type": "code",
   "execution_count": 301,
   "metadata": {},
   "outputs": [],
   "source": [
    "data = pd.read_csv('hmelq.csv')\n",
    "pre = PreProcessing(data)"
   ]
  },
  {
   "cell_type": "code",
   "execution_count": 302,
   "metadata": {},
   "outputs": [
    {
     "data": {
      "text/plain": [
       "bad        0\n",
       "loan       0\n",
       "mortdue    0\n",
       "value      0\n",
       "reason     0\n",
       "job        0\n",
       "yoj        0\n",
       "derog      0\n",
       "delinq     0\n",
       "clage      0\n",
       "ninq       0\n",
       "clno       0\n",
       "debtinc    0\n",
       "dtype: int64"
      ]
     },
     "execution_count": 302,
     "metadata": {},
     "output_type": "execute_result"
    }
   ],
   "source": [
    "pre.dropNa()"
   ]
  },
  {
   "cell_type": "code",
   "execution_count": 303,
   "metadata": {},
   "outputs": [
    {
     "data": {
      "text/html": [
       "<div>\n",
       "<style scoped>\n",
       "    .dataframe tbody tr th:only-of-type {\n",
       "        vertical-align: middle;\n",
       "    }\n",
       "\n",
       "    .dataframe tbody tr th {\n",
       "        vertical-align: top;\n",
       "    }\n",
       "\n",
       "    .dataframe thead th {\n",
       "        text-align: right;\n",
       "    }\n",
       "</style>\n",
       "<table border=\"1\" class=\"dataframe\">\n",
       "  <thead>\n",
       "    <tr style=\"text-align: right;\">\n",
       "      <th></th>\n",
       "      <th>loan</th>\n",
       "      <th>mortdue</th>\n",
       "      <th>value</th>\n",
       "      <th>yoj</th>\n",
       "      <th>derog</th>\n",
       "      <th>delinq</th>\n",
       "      <th>clage</th>\n",
       "      <th>ninq</th>\n",
       "      <th>clno</th>\n",
       "      <th>debtinc</th>\n",
       "      <th>reason_DebtCon</th>\n",
       "      <th>reason_HomeImp</th>\n",
       "      <th>job_Mgr</th>\n",
       "      <th>job_Office</th>\n",
       "      <th>job_Other</th>\n",
       "      <th>job_ProfEx</th>\n",
       "      <th>job_Sales</th>\n",
       "      <th>job_Self</th>\n",
       "    </tr>\n",
       "  </thead>\n",
       "  <tbody>\n",
       "    <tr>\n",
       "      <th>153</th>\n",
       "      <td>18200.0</td>\n",
       "      <td>94727.0</td>\n",
       "      <td>136877.0</td>\n",
       "      <td>15.0</td>\n",
       "      <td>0.0</td>\n",
       "      <td>0.0</td>\n",
       "      <td>168.96</td>\n",
       "      <td>2.0</td>\n",
       "      <td>26.0</td>\n",
       "      <td>36.056</td>\n",
       "      <td>1</td>\n",
       "      <td>0</td>\n",
       "      <td>1</td>\n",
       "      <td>0</td>\n",
       "      <td>0</td>\n",
       "      <td>0</td>\n",
       "      <td>0</td>\n",
       "      <td>0</td>\n",
       "    </tr>\n",
       "    <tr>\n",
       "      <th>154</th>\n",
       "      <td>21700.0</td>\n",
       "      <td>79240.0</td>\n",
       "      <td>96784.0</td>\n",
       "      <td>5.0</td>\n",
       "      <td>0.0</td>\n",
       "      <td>0.0</td>\n",
       "      <td>64.51</td>\n",
       "      <td>6.0</td>\n",
       "      <td>24.0</td>\n",
       "      <td>38.079</td>\n",
       "      <td>1</td>\n",
       "      <td>0</td>\n",
       "      <td>1</td>\n",
       "      <td>0</td>\n",
       "      <td>0</td>\n",
       "      <td>0</td>\n",
       "      <td>0</td>\n",
       "      <td>0</td>\n",
       "    </tr>\n",
       "    <tr>\n",
       "      <th>155</th>\n",
       "      <td>34100.0</td>\n",
       "      <td>241931.0</td>\n",
       "      <td>36486.0</td>\n",
       "      <td>1.0</td>\n",
       "      <td>0.0</td>\n",
       "      <td>2.0</td>\n",
       "      <td>196.01</td>\n",
       "      <td>3.0</td>\n",
       "      <td>50.0</td>\n",
       "      <td>42.459</td>\n",
       "      <td>1</td>\n",
       "      <td>0</td>\n",
       "      <td>1</td>\n",
       "      <td>0</td>\n",
       "      <td>0</td>\n",
       "      <td>0</td>\n",
       "      <td>0</td>\n",
       "      <td>0</td>\n",
       "    </tr>\n",
       "  </tbody>\n",
       "</table>\n",
       "</div>"
      ],
      "text/plain": [
       "        loan   mortdue     value   yoj  derog  delinq   clage  ninq  clno  \\\n",
       "153  18200.0   94727.0  136877.0  15.0    0.0     0.0  168.96   2.0  26.0   \n",
       "154  21700.0   79240.0   96784.0   5.0    0.0     0.0   64.51   6.0  24.0   \n",
       "155  34100.0  241931.0   36486.0   1.0    0.0     2.0  196.01   3.0  50.0   \n",
       "\n",
       "     debtinc  reason_DebtCon  reason_HomeImp  job_Mgr  job_Office  job_Other  \\\n",
       "153   36.056               1               0        1           0          0   \n",
       "154   38.079               1               0        1           0          0   \n",
       "155   42.459               1               0        1           0          0   \n",
       "\n",
       "     job_ProfEx  job_Sales  job_Self  \n",
       "153           0          0         0  \n",
       "154           0          0         0  \n",
       "155           0          0         0  "
      ]
     },
     "execution_count": 303,
     "metadata": {},
     "output_type": "execute_result"
    }
   ],
   "source": [
    "pre.dummies()"
   ]
  },
  {
   "cell_type": "code",
   "execution_count": 304,
   "metadata": {},
   "outputs": [],
   "source": [
    "pre.train_test_split()"
   ]
  },
  {
   "cell_type": "code",
   "execution_count": 305,
   "metadata": {},
   "outputs": [],
   "source": [
    "pre.gradientboost()"
   ]
  },
  {
   "cell_type": "code",
   "execution_count": 306,
   "metadata": {},
   "outputs": [
    {
     "name": "stdout",
     "output_type": "stream",
     "text": [
      " test acc : 0.9455445544554455\n"
     ]
    }
   ],
   "source": [
    "pre.acc_split()"
   ]
  },
  {
   "cell_type": "code",
   "execution_count": 307,
   "metadata": {},
   "outputs": [
    {
     "name": "stdout",
     "output_type": "stream",
     "text": [
      "              precision    recall  f1-score   support\n",
      "\n",
      "           0       0.95      1.00      0.97       369\n",
      "           1       0.93      0.40      0.56        35\n",
      "\n",
      "   micro avg       0.95      0.95      0.95       404\n",
      "   macro avg       0.94      0.70      0.77       404\n",
      "weighted avg       0.94      0.95      0.94       404\n",
      "\n"
     ]
    }
   ],
   "source": [
    "pre.class_report_split()"
   ]
  },
  {
   "cell_type": "code",
   "execution_count": 308,
   "metadata": {},
   "outputs": [
    {
     "data": {
      "image/png": "[encoded data removed]",
      "text/plain": [
       "<Figure size 360x360 with 1 Axes>"
      ]
     },
     "metadata": {
      "needs_background": "light"
     },
     "output_type": "display_data"
    }
   ],
   "source": [
    "pre.confusion_matrix_split_test()"
   ]
  },
  {
   "cell_type": "code",
   "execution_count": 309,
   "metadata": {},
   "outputs": [
    {
     "name": "stdout",
     "output_type": "stream",
     "text": [
      "Fitting 3 folds for each of 81 candidates, totalling 243 fits\n"
     ]
    },
    {
     "name": "stderr",
     "output_type": "stream",
     "text": [
      "[Parallel(n_jobs=-1)]: Using backend LokyBackend with 4 concurrent workers.\n",
      "[Parallel(n_jobs=-1)]: Done  33 tasks      | elapsed:    5.9s\n",
      "[Parallel(n_jobs=-1)]: Done 154 tasks      | elapsed:   56.0s\n",
      "[Parallel(n_jobs=-1)]: Done 243 out of 243 | elapsed:  1.5min finished\n"
     ]
    },
    {
     "name": "stdout",
     "output_type": "stream",
     "text": [
      "GBM tuned acc : 0.9529702970297029\n"
     ]
    }
   ],
   "source": [
    "pre.ModelTuning_gradientboost()"
   ]
  },
  {
   "cell_type": "code",
   "execution_count": 310,
   "metadata": {},
   "outputs": [
    {
     "data": {
      "image/png": "[encoded data removed]",
      "text/plain": [
       "<Figure size 360x360 with 1 Axes>"
      ]
     },
     "metadata": {
      "needs_background": "light"
     },
     "output_type": "display_data"
    }
   ],
   "source": [
    "pre.confusion_matrix_split_test()"
   ]
  },
  {
   "cell_type": "code",
   "execution_count": 311,
   "metadata": {},
   "outputs": [
    {
     "name": "stdout",
     "output_type": "stream",
     "text": [
      "              precision    recall  f1-score   support\n",
      "\n",
      "           0       0.95      1.00      0.97       369\n",
      "           1       0.94      0.49      0.64        35\n",
      "\n",
      "   micro avg       0.95      0.95      0.95       404\n",
      "   macro avg       0.95      0.74      0.81       404\n",
      "weighted avg       0.95      0.95      0.95       404\n",
      "\n"
     ]
    }
   ],
   "source": [
    "pre.class_report_split()"
   ]
  },
  {
   "cell_type": "markdown",
   "metadata": {},
   "source": [
    "# 7) KNN"
   ]
  },
  {
   "cell_type": "code",
   "execution_count": 312,
   "metadata": {},
   "outputs": [],
   "source": [
    "data = pd.read_csv('hmelq.csv')\n",
    "pre = PreProcessing(data)"
   ]
  },
  {
   "cell_type": "code",
   "execution_count": 313,
   "metadata": {},
   "outputs": [
    {
     "data": {
      "text/plain": [
       "bad        0\n",
       "loan       0\n",
       "mortdue    0\n",
       "value      0\n",
       "reason     0\n",
       "job        0\n",
       "yoj        0\n",
       "derog      0\n",
       "delinq     0\n",
       "clage      0\n",
       "ninq       0\n",
       "clno       0\n",
       "debtinc    0\n",
       "dtype: int64"
      ]
     },
     "execution_count": 313,
     "metadata": {},
     "output_type": "execute_result"
    }
   ],
   "source": [
    "pre.dropNa()"
   ]
  },
  {
   "cell_type": "code",
   "execution_count": 314,
   "metadata": {},
   "outputs": [
    {
     "data": {
      "text/html": [
       "<div>\n",
       "<style scoped>\n",
       "    .dataframe tbody tr th:only-of-type {\n",
       "        vertical-align: middle;\n",
       "    }\n",
       "\n",
       "    .dataframe tbody tr th {\n",
       "        vertical-align: top;\n",
       "    }\n",
       "\n",
       "    .dataframe thead th {\n",
       "        text-align: right;\n",
       "    }\n",
       "</style>\n",
       "<table border=\"1\" class=\"dataframe\">\n",
       "  <thead>\n",
       "    <tr style=\"text-align: right;\">\n",
       "      <th></th>\n",
       "      <th>loan</th>\n",
       "      <th>mortdue</th>\n",
       "      <th>value</th>\n",
       "      <th>yoj</th>\n",
       "      <th>derog</th>\n",
       "      <th>delinq</th>\n",
       "      <th>clage</th>\n",
       "      <th>ninq</th>\n",
       "      <th>clno</th>\n",
       "      <th>debtinc</th>\n",
       "      <th>reason_DebtCon</th>\n",
       "      <th>reason_HomeImp</th>\n",
       "      <th>job_Mgr</th>\n",
       "      <th>job_Office</th>\n",
       "      <th>job_Other</th>\n",
       "      <th>job_ProfEx</th>\n",
       "      <th>job_Sales</th>\n",
       "      <th>job_Self</th>\n",
       "    </tr>\n",
       "  </thead>\n",
       "  <tbody>\n",
       "    <tr>\n",
       "      <th>153</th>\n",
       "      <td>18200.0</td>\n",
       "      <td>94727.0</td>\n",
       "      <td>136877.0</td>\n",
       "      <td>15.0</td>\n",
       "      <td>0.0</td>\n",
       "      <td>0.0</td>\n",
       "      <td>168.96</td>\n",
       "      <td>2.0</td>\n",
       "      <td>26.0</td>\n",
       "      <td>36.056</td>\n",
       "      <td>1</td>\n",
       "      <td>0</td>\n",
       "      <td>1</td>\n",
       "      <td>0</td>\n",
       "      <td>0</td>\n",
       "      <td>0</td>\n",
       "      <td>0</td>\n",
       "      <td>0</td>\n",
       "    </tr>\n",
       "    <tr>\n",
       "      <th>154</th>\n",
       "      <td>21700.0</td>\n",
       "      <td>79240.0</td>\n",
       "      <td>96784.0</td>\n",
       "      <td>5.0</td>\n",
       "      <td>0.0</td>\n",
       "      <td>0.0</td>\n",
       "      <td>64.51</td>\n",
       "      <td>6.0</td>\n",
       "      <td>24.0</td>\n",
       "      <td>38.079</td>\n",
       "      <td>1</td>\n",
       "      <td>0</td>\n",
       "      <td>1</td>\n",
       "      <td>0</td>\n",
       "      <td>0</td>\n",
       "      <td>0</td>\n",
       "      <td>0</td>\n",
       "      <td>0</td>\n",
       "    </tr>\n",
       "    <tr>\n",
       "      <th>155</th>\n",
       "      <td>34100.0</td>\n",
       "      <td>241931.0</td>\n",
       "      <td>36486.0</td>\n",
       "      <td>1.0</td>\n",
       "      <td>0.0</td>\n",
       "      <td>2.0</td>\n",
       "      <td>196.01</td>\n",
       "      <td>3.0</td>\n",
       "      <td>50.0</td>\n",
       "      <td>42.459</td>\n",
       "      <td>1</td>\n",
       "      <td>0</td>\n",
       "      <td>1</td>\n",
       "      <td>0</td>\n",
       "      <td>0</td>\n",
       "      <td>0</td>\n",
       "      <td>0</td>\n",
       "      <td>0</td>\n",
       "    </tr>\n",
       "  </tbody>\n",
       "</table>\n",
       "</div>"
      ],
      "text/plain": [
       "        loan   mortdue     value   yoj  derog  delinq   clage  ninq  clno  \\\n",
       "153  18200.0   94727.0  136877.0  15.0    0.0     0.0  168.96   2.0  26.0   \n",
       "154  21700.0   79240.0   96784.0   5.0    0.0     0.0   64.51   6.0  24.0   \n",
       "155  34100.0  241931.0   36486.0   1.0    0.0     2.0  196.01   3.0  50.0   \n",
       "\n",
       "     debtinc  reason_DebtCon  reason_HomeImp  job_Mgr  job_Office  job_Other  \\\n",
       "153   36.056               1               0        1           0          0   \n",
       "154   38.079               1               0        1           0          0   \n",
       "155   42.459               1               0        1           0          0   \n",
       "\n",
       "     job_ProfEx  job_Sales  job_Self  \n",
       "153           0          0         0  \n",
       "154           0          0         0  \n",
       "155           0          0         0  "
      ]
     },
     "execution_count": 314,
     "metadata": {},
     "output_type": "execute_result"
    }
   ],
   "source": [
    "pre.dummies()"
   ]
  },
  {
   "cell_type": "code",
   "execution_count": 315,
   "metadata": {},
   "outputs": [],
   "source": [
    "pre.train_test_split()"
   ]
  },
  {
   "cell_type": "code",
   "execution_count": 316,
   "metadata": {},
   "outputs": [],
   "source": [
    "pre.KNN()"
   ]
  },
  {
   "cell_type": "code",
   "execution_count": 317,
   "metadata": {},
   "outputs": [
    {
     "name": "stdout",
     "output_type": "stream",
     "text": [
      " test acc : 0.9158415841584159\n"
     ]
    }
   ],
   "source": [
    "pre.acc_split()"
   ]
  },
  {
   "cell_type": "code",
   "execution_count": 318,
   "metadata": {},
   "outputs": [
    {
     "name": "stdout",
     "output_type": "stream",
     "text": [
      "              precision    recall  f1-score   support\n",
      "\n",
      "           0       0.92      0.99      0.96       369\n",
      "           1       0.57      0.11      0.19        35\n",
      "\n",
      "   micro avg       0.92      0.92      0.92       404\n",
      "   macro avg       0.75      0.55      0.57       404\n",
      "weighted avg       0.89      0.92      0.89       404\n",
      "\n"
     ]
    }
   ],
   "source": [
    "pre.class_report_split()"
   ]
  },
  {
   "cell_type": "code",
   "execution_count": 319,
   "metadata": {},
   "outputs": [
    {
     "data": {
      "image/png": "[encoded data removed]",
      "text/plain": [
       "<Figure size 360x360 with 1 Axes>"
      ]
     },
     "metadata": {
      "needs_background": "light"
     },
     "output_type": "display_data"
    }
   ],
   "source": [
    "pre.confusion_matrix_split_test()"
   ]
  },
  {
   "cell_type": "code",
   "execution_count": 320,
   "metadata": {},
   "outputs": [
    {
     "data": {
      "image/png": "[encoded data removed]",
      "text/plain": [
       "<Figure size 432x288 with 1 Axes>"
      ]
     },
     "metadata": {
      "needs_background": "light"
     },
     "output_type": "display_data"
    },
    {
     "name": "stdout",
     "output_type": "stream",
     "text": [
      "Maximum KNN Score is 92.33%\n",
      "En iyi skor:0.9138785625774474\n",
      "En iyi parametreler: {'n_neighbors': 14}\n",
      "KNN tuned acc : 0.9183168316831684\n"
     ]
    }
   ],
   "source": [
    "pre.ModelTuning_KNN()"
   ]
  },
  {
   "cell_type": "code",
   "execution_count": 321,
   "metadata": {},
   "outputs": [
    {
     "data": {
      "image/png": "[encoded data removed]",
      "text/plain": [
       "<Figure size 360x360 with 1 Axes>"
      ]
     },
     "metadata": {
      "needs_background": "light"
     },
     "output_type": "display_data"
    }
   ],
   "source": [
    "pre.confusion_matrix_split_test()"
   ]
  },
  {
   "cell_type": "code",
   "execution_count": 322,
   "metadata": {},
   "outputs": [
    {
     "name": "stdout",
     "output_type": "stream",
     "text": [
      "              precision    recall  f1-score   support\n",
      "\n",
      "           0       0.92      1.00      0.96       369\n",
      "           1       1.00      0.06      0.11        35\n",
      "\n",
      "   micro avg       0.92      0.92      0.92       404\n",
      "   macro avg       0.96      0.53      0.53       404\n",
      "weighted avg       0.93      0.92      0.88       404\n",
      "\n"
     ]
    }
   ],
   "source": [
    "pre.class_report_split()"
   ]
  }
 ],
 "metadata": {
  "kernelspec": {
   "display_name": "Python 3",
   "language": "python",
   "name": "python3"
  },
  "language_info": {
   "codemirror_mode": {
    "name": "ipython",
    "version": 3
   },
   "file_extension": ".py",
   "mimetype": "text/x-python",
   "name": "python",
   "nbconvert_exporter": "python",
   "pygments_lexer": "ipython3",
   "version": "3.7.1"
  }
 },
 "nbformat": 4,
 "nbformat_minor": 2
}
